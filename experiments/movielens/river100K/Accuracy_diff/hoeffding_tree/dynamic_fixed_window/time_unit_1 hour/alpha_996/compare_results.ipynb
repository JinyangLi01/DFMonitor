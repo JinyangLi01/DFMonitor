{
 "cells": [
  {
   "cell_type": "code",
   "id": "initial_id",
   "metadata": {
    "collapsed": true,
    "ExecuteTime": {
     "end_time": "2024-10-10T21:13:31.253492Z",
     "start_time": "2024-10-10T21:13:31.250358Z"
    }
   },
   "source": [
    "import pandas as pd\n",
    "import numpy as np\n",
    "import matplotlib.pyplot as plt\n",
    "import seaborn as sns\n",
    "import os\n",
    "import sys\n",
    "import json\n",
    "import re\n",
    "import math\n",
    "\n",
    "\n",
    "def get_integer(alpha):\n",
    "    while not math.isclose(alpha, round(alpha), rel_tol=1e-9):  # Use a small tolerance\n",
    "        alpha *= 10\n",
    "    return int(alpha)\n",
    "\n"
   ],
   "outputs": [],
   "execution_count": 16
  },
  {
   "metadata": {
    "ExecuteTime": {
     "end_time": "2024-10-10T21:13:32.872459Z",
     "start_time": "2024-10-10T21:13:32.870595Z"
    }
   },
   "cell_type": "code",
   "source": "",
   "id": "4a6bf45215a4e82",
   "outputs": [],
   "execution_count": null
  },
  {
   "metadata": {},
   "cell_type": "markdown",
   "source": "# get_accuracy file and plot",
   "id": "4e0d3f27205730cb"
  },
  {
   "metadata": {
    "ExecuteTime": {
     "end_time": "2024-10-10T21:13:45.627683Z",
     "start_time": "2024-10-10T21:13:45.442174Z"
    }
   },
   "cell_type": "code",
   "source": [
    "import colorsys\n",
    "import csv\n",
    "import math\n",
    "from tabnanny import check\n",
    "import numpy as np\n",
    "import pandas as pd\n",
    "import matplotlib.pyplot as plt\n",
    "from joblib.parallel import method\n",
    "from numpy import dtype\n",
    "\n",
    "from algorithm.dynamic_window import Accuracy_workload as workload_dynamic\n",
    "from algorithm.fixed_window import Accuracy_workload as workload_fixed\n",
    "import seaborn as sns\n",
    "\n",
    "# sns.set_style(\"whitegrid\")\n",
    "sns.set_palette(\"Paired\")\n",
    "sns.set_context(\"paper\", font_scale=2)\n",
    "\n",
    "# Set the font size for labels, legends, and titles\n",
    "\n",
    "plt.figure(figsize=(3.5, 2))\n",
    "plt.rcParams['font.size'] = 20\n",
    "\n",
    "\n",
    "def get_integer(alpha):\n",
    "    while not math.isclose(alpha, round(alpha), rel_tol=1e-9):  # Use a small tolerance\n",
    "        alpha *= 10\n",
    "    return int(alpha)\n",
    "\n",
    "\n",
    "def scale_lightness(rgb, scale_l):\n",
    "    # convert rgb to hls\n",
    "    h, l, s = colorsys.rgb_to_hls(*rgb)\n",
    "    # manipulate h, l, s values and return as rgb\n",
    "    return colorsys.hls_to_rgb(h, min(1, l * scale_l), s=s)\n",
    "\n",
    "\n",
    "#  all time:\n",
    "method_name = \"hoeffding_classifier\"\n",
    "data = pd.read_csv('../../../../../../result_' + method_name + '.csv', dtype={\"zip_code\": str})\n",
    "print(data[\"gender\"].unique())\n",
    "date_column = \"datetime\"\n",
    "# get distribution of compas_screening_date\n",
    "data[date_column] = pd.to_datetime(data[date_column])\n",
    "print(data[date_column].min(), data[date_column].max())\n",
    "date_time_format = True\n",
    "\n",
    "\n",
    "monitored_groups = [{\"gender\": 'M'}, {\"gender\": 'F'}]\n",
    "print(data[:5])\n",
    "alpha = 0.996\n",
    "threshold = 0.3\n",
    "label_prediction = \"prediction\"\n",
    "label_ground_truth = \"rating\"\n",
    "correctness_column = \"diff_binary_correctness\"\n",
    "use_two_counters = True\n",
    "\n",
    "\n",
    "def get_accuracy(T_b, T_in, checking_interval = \"1 hour\", time_unit = \"1 hour\", alpha = 0.996):\n",
    "    import csv \n",
    "    print(\"====================== dynamic workload ==================\")\n",
    "    print(\"T_b = {}, T_in = {}\".format(T_b, T_in))\n",
    "    (DFMonitor_bit_dynamic, DFMonitor_counter_dynamic, uf_list_dynamic, accuracy_list_dynamic,\n",
    "     counter_list_correct_dynamic, counter_list_incorrect_dynamic, window_reset_times, check_points) \\\n",
    "    = workload_dynamic.traverse_data_DFMonitor_and_baseline(data, date_column, date_time_format,\n",
    "                                                    monitored_groups,  threshold, alpha,\n",
    "                                                    time_unit, checking_interval, label_prediction,\n",
    "                                                    label_ground_truth, correctness_column, T_b, T_in, use_two_counters)\n",
    "    \n",
    "    print(len(uf_list_dynamic))\n",
    "    \n",
    "    print(accuracy_list_dynamic[:5])\n",
    "    \n",
    "    # save the result to a file\n",
    "    male_time_decay_dynamic = [x[0] for x in accuracy_list_dynamic]\n",
    "    # male_time_decay_fixed = [x[0] for x in accuracy_list_fixed]\n",
    "    female_time_decay_dynamic = [x[1] for x in accuracy_list_dynamic]\n",
    "    # female_time_decay_fixed = [x[1] for x in accuracy_list_fixed]\n",
    "    \n",
    "    filename = f\"movielens_compare_Accuracy_{method_name}_gender_dynamic_Tb_{T_b}_Tin_{T_in}_alpha_{str(get_integer(alpha))}_time_unit_{time_unit}_check_interval_{checking_interval}.csv\"\n",
    "    with open(filename, \"w\", newline='') as csvfile:\n",
    "        writer = csv.writer(csvfile, delimiter=',')\n",
    "        writer.writerow([\"male_time_decay_dynamic\", \"female_time_decay_dynamic\"])\n",
    "        for i in range(len(female_time_decay_dynamic)):\n",
    "            writer.writerow([accuracy_list_dynamic[i][0], accuracy_list_dynamic[i][1]])\n",
    "    \n",
    "    \n",
    "    \n",
    "    filename = f\"movielens_dynamic_window_reset_time_Tb_{T_b}_Tin_{T_in}_time_unit_{time_unit}.csv\"\n",
    "    with open(filename, \"w\", newline='') as csvfile:\n",
    "        writer = csv.writer(csvfile, delimiter=',')\n",
    "        writer.writerow([\"dynamic_window_reset_time\"])\n",
    "        for i in range(len(window_reset_times)):\n",
    "            writer.writerow([window_reset_times[i]])\n",
    "    \n",
    "    \n",
    "    # ################################################## draw the plot #####################################################\n",
    "    import csv\n",
    "    \n",
    "    import matplotlib\n",
    "    import pandas as pd\n",
    "    import numpy as np\n",
    "    import matplotlib.pyplot as plt\n",
    "    from algorithm.fixed_window import FNR_workload as workload\n",
    "    import seaborn as sns\n",
    "    import colorsys\n",
    "    import colormaps as cmaps\n",
    "    \n",
    "    sns.set_palette(\"Paired\")\n",
    "    sns.set_context(\"paper\", font_scale=2)\n",
    "    \n",
    "    plt.figure(figsize=(3.5, 2))\n",
    "    plt.rcParams['font.size'] = 20\n",
    "    \n",
    "    def scale_lightness(rgb, scale_l):\n",
    "        h, l, s = colorsys.rgb_to_hls(*rgb)\n",
    "        return colorsys.hls_to_rgb(h, min(1, l * scale_l), s=s)\n",
    "    \n",
    "    \n",
    "    df = pd.read_csv(f\"movielens_compare_Accuracy_hoeffding_classifier_gender_dynamic_Tb_{T_b}_Tin_{T_in}_alpha_{str(get_integer(alpha))}_time_unit_{time_unit}_check_interval_{checking_interval}.csv\")\n",
    "    print(df)\n",
    "    \n",
    "    x_list = np.arange(0, len(df))\n",
    "    male_time_decay = df[\"male_time_decay_dynamic\"].tolist()\n",
    "    female_time_decay = df[\"female_time_decay_dynamic\"].tolist()\n",
    "    pair_colors = [\"blue\", \"darkorange\"]\n",
    "    \n",
    "    fig, ax = plt.subplots(figsize=(3.5, 2))\n",
    "    plt.subplots_adjust(left=0.1, right=0.9, top=0.8, bottom=0.1)\n",
    "    \n",
    "    \n",
    "    ax.plot(x_list, male_time_decay, linewidth=1, markersize=1, label='Male', linestyle='-', marker='o', color=pair_colors[0])\n",
    "    ax.plot(x_list, female_time_decay, linewidth=1, markersize=1, label='Female', linestyle='-', marker='o', color=pair_colors[1])\n",
    "    \n",
    "    \n",
    "    plt.xticks([], [], rotation=0, fontsize=20)\n",
    "    plt.ylabel('Accuracy', fontsize=14, labelpad=-1)\n",
    "    plt.grid(True, axis='y')\n",
    "    plt.yticks(fontsize=12)\n",
    "    plt.ylim(0.4, 1.0)\n",
    "    plt.yticks([0.4, 0.6, 0.8, 1.0], [\"0.4\", \"0.6\", \"0.8\", \"1.0\"], fontsize=12)\n",
    "    plt.tight_layout()\n",
    "    plt.legend(loc='upper left', bbox_to_anchor=(-0.1, 1.3), fontsize=12,\n",
    "                   ncol=2, labelspacing=0.2, handletextpad=0.2, markerscale=1.5,\n",
    "                   columnspacing=0.2, borderpad=0.2, frameon=True)\n",
    "    plt.savefig(f\"Acc_hoeffding_time_decay_gender_dynamic_Tb_{T_b}_Tin_{T_in}_alpha_{str(get_integer(alpha))}_time_unit_{time_unit}_check_interval_{checking_interval}.png\", bbox_inches='tight')\n",
    "    plt.show()"
   ],
   "id": "27a2955d708d8d0d",
   "outputs": [
    {
     "name": "stdout",
     "output_type": "stream",
     "text": [
      "['M' 'F']\n",
      "1997-09-20 05:05:10 1998-04-23 01:10:38\n",
      "   user  item           timestamp                            title  \\\n",
      "0   259   255  874731910000000000  My Best Friend's Wedding (1997)   \n",
      "1   259   286  874731927000000000      English Patient, The (1996)   \n",
      "2   259   298  874731954000000000                  Face/Off (1997)   \n",
      "3   259   185  874731981000000000                    Psycho (1960)   \n",
      "4   259   173  874732043000000000       Princess Bride, The (1987)   \n",
      "\n",
      "         release_date                              genres   age age_2groups  \\\n",
      "0  866764800000000000                     comedy, romance  21.0        7-30   \n",
      "1  848016000000000000                 drama, romance, war  21.0        7-30   \n",
      "2  867369600000000000            action, sci_fi, thriller  21.0        7-30   \n",
      "3 -315619200000000000           horror, romance, thriller  21.0        7-30   \n",
      "4  536457600000000000  action, adventure, comedy, romance  21.0        7-30   \n",
      "\n",
      "  age_4groups gender occupation zip_code  rating  prediction  \\\n",
      "0        7-24      M    student    48823     4.0         NaN   \n",
      "1        7-24      M    student    48823     4.0         4.0   \n",
      "2        7-24      M    student    48823     4.0         4.0   \n",
      "3        7-24      M    student    48823     4.0         4.0   \n",
      "4        7-24      M    student    48823     4.0         4.0   \n",
      "\n",
      "             datetime  rating_binary  prediction_binary  diff  \\\n",
      "0 1997-09-20 05:05:10              1                NaN   4.0   \n",
      "1 1997-09-20 05:05:27              1                1.0   0.0   \n",
      "2 1997-09-20 05:05:54              1                1.0   0.0   \n",
      "3 1997-09-20 05:06:21              1                1.0   0.0   \n",
      "4 1997-09-20 05:07:23              1                1.0   0.0   \n",
      "\n",
      "   diff_binary_correctness  \n",
      "0                        0  \n",
      "1                        1  \n",
      "2                        1  \n",
      "3                        1  \n",
      "4                        1  \n"
     ]
    },
    {
     "data": {
      "text/plain": [
       "<Figure size 350x200 with 0 Axes>"
      ]
     },
     "metadata": {},
     "output_type": "display_data"
    }
   ],
   "execution_count": 19
  },
  {
   "metadata": {
    "ExecuteTime": {
     "end_time": "2024-10-10T21:13:46.911184Z",
     "start_time": "2024-10-10T21:13:46.909416Z"
    }
   },
   "cell_type": "code",
   "source": [
    "\n",
    "\n",
    "# time_unit = \"1 hour\"\n",
    "# T_b = 72\n",
    "# T_in = 8\n",
    "# checking_interval = \"1 hour\"\n",
    "\n",
    "\n"
   ],
   "id": "2a92070d160b6e79",
   "outputs": [],
   "execution_count": 20
  },
  {
   "metadata": {
    "ExecuteTime": {
     "end_time": "2024-10-10T21:13:47.680472Z",
     "start_time": "2024-10-10T21:13:47.678973Z"
    }
   },
   "cell_type": "code",
   "source": "",
   "id": "aa1ab1aa2830b7bd",
   "outputs": [],
   "execution_count": null
  },
  {
   "metadata": {},
   "cell_type": "markdown",
   "source": "# 1 hour time unit, alter fixed window size, compare results",
   "id": "a1fcd25f0b875593"
  },
  {
   "metadata": {
    "ExecuteTime": {
     "end_time": "2024-10-10T21:13:48.831171Z",
     "start_time": "2024-10-10T21:13:48.828194Z"
    }
   },
   "cell_type": "code",
   "source": [
    "\n",
    "def aggregated_mae(lists):\n",
    "    total_mae = 0\n",
    "    pair_count = 0\n",
    "    num_lists = len(lists)\n",
    "    for i in range(num_lists):\n",
    "        for j in range(i + 1, num_lists):\n",
    "            mae = np.mean(np.abs(np.array(lists[i]) - np.array(lists[j])))\n",
    "            total_mae += mae\n",
    "            pair_count += 1\n",
    "    if pair_count > 0:\n",
    "        average_mae = total_mae / pair_count\n",
    "        print(f\"Average MAE across all pairs: {average_mae}\")\n",
    "        return average_mae\n",
    "    else:\n",
    "        return 0\n",
    "\n"
   ],
   "id": "75e9b9a62213648d",
   "outputs": [],
   "execution_count": 21
  },
  {
   "metadata": {
    "ExecuteTime": {
     "end_time": "2024-10-10T21:18:28.744803Z",
     "start_time": "2024-10-10T21:18:28.543960Z"
    }
   },
   "cell_type": "code",
   "source": [
    "def change_window_size(window_size_unit_list):\n",
    "        \n",
    "    time_unit = \"1 hour\"\n",
    "    alpha = 0.996\n",
    "    checking_interval = \"1 hour\"\n",
    "    method_name = \"hoeffding_classifier\"\n",
    "    data = pd.read_csv('../../../../../../result_' + method_name + '.csv', dtype={\"zip_code\": str})\n",
    "    print(data[\"gender\"].unique())\n",
    "    date_column = \"datetime\"\n",
    "    female_lists = []\n",
    "    male_lists = []\n",
    "    idx = 0\n",
    "    \n",
    "    for window_size_units in window_size_unit_list:\n",
    "        filename = f\"movielens_compare_Accuracy_hoeffding_classifier_gender_per_item_alpha_{str(get_integer(alpha))}_time_unit_{time_unit}*{window_size_units}_check_interval_{checking_interval}.csv\"\n",
    "        df = pd.read_csv(filename)\n",
    "        male_time_decay = df[\"male_time_decay\"].tolist()\n",
    "        female_time_decay = df[\"female_time_decay\"].tolist()\n",
    "        female_lists.append(female_time_decay)\n",
    "        male_lists.append(male_time_decay)\n",
    "    avg_mae_male = aggregated_mae(male_lists)\n",
    "    avg_mae_female = aggregated_mae(female_lists)\n",
    "    print(f\"Average MAE: male {avg_mae_male}, female {avg_mae_female}\\n\")\n",
    "    return avg_mae_male, avg_mae_female\n",
    "\n",
    "\n",
    "window_size_unit_list = ['1', '6', '12', '24', '24*3', '24*7', '24*7*2', '24*30', \"24*30*2\", '24*30*3']\n",
    "avg_male_list = []\n",
    "avg_female_list = []\n",
    "\n",
    "m, f = change_window_size(window_size_unit_list)\n",
    "print(m, f)\n",
    "\n",
    "# print(np.mean(avg_male_list))\n",
    "# print(np.mean(avg_female_list))\n",
    "\n",
    "# change_Tb_fix_Tin(2, Tb_list)\n",
    "# \n",
    "# change_Tb_fix_Tin(4, Tb_list)\n",
    "# change_Tb_fix_Tin(8, Tb_list)\n",
    "# change_Tb_fix_Tin(12, Tb_list)\n",
    "# change_Tb_fix_Tin(24, Tb_list)\n",
    "# change_Tb_fix_Tin(48, Tb_list)  \n",
    "# change_Tb_fix_Tin(72, Tb_list)\n",
    "# change_Tb_fix_Tin(96, Tb_list)\n",
    "# change_Tb_fix_Tin(120, Tb_list)\n",
    "# change_Tb_fix_Tin(144, Tb_list)\n",
    "# change_Tb_fix_Tin(168, Tb_list)"
   ],
   "id": "884cb269fade447c",
   "outputs": [
    {
     "name": "stdout",
     "output_type": "stream",
     "text": [
      "['M' 'F']\n",
      "Average MAE across all pairs: 0.006284418850017413\n",
      "Average MAE across all pairs: 0.012505857544087538\n",
      "Average MAE: male 0.006284418850017413, female 0.012505857544087538\n",
      "\n",
      "0.006284418850017413 0.012505857544087538\n"
     ]
    }
   ],
   "execution_count": 23
  },
  {
   "metadata": {
    "ExecuteTime": {
     "end_time": "2024-10-08T22:49:58.657189Z",
     "start_time": "2024-10-08T22:49:58.653842Z"
    }
   },
   "cell_type": "code",
   "source": [
    "\n",
    "print(\"done\")\n"
   ],
   "id": "919f3d5e3ac7cdff",
   "outputs": [
    {
     "name": "stdout",
     "output_type": "stream",
     "text": [
      "done\n"
     ]
    }
   ],
   "execution_count": 36
  },
  {
   "metadata": {},
   "cell_type": "code",
   "outputs": [],
   "execution_count": null,
   "source": [
    "def change_Tin_fix_Tb(T_b, Tin_list):\n",
    "        \n",
    "    time_unit = \"1 hour\"\n",
    "    alpha = 0.996\n",
    "    checking_interval = \"1 hour\"\n",
    "    method_name = \"hoeffding_classifier\"\n",
    "    data = pd.read_csv('../../../../../result_' + method_name + '.csv', dtype={\"zip_code\": str})\n",
    "    print(data[\"gender\"].unique())\n",
    "    date_column = \"datetime\"\n",
    "\n",
    "    idx = 0\n",
    "    \n",
    "    for T_in in Tin_list:\n",
    "        df = pd.read_csv(f\"movielens_compare_Accuracy_{method_name}_gender_dynamic_Tb_{T_b}_Tin_{T_in}_alpha_{str(get_integer(alpha))}_time_unit_{time_unit}_check_interval_{checking_interval}.csv\")\n",
    "        x_list = np.arange(0, len(df))\n",
    "        male_time_decay = df[\"male_time_decay_dynamic\"].tolist()\n",
    "        female_time_decay = df[\"female_time_decay_dynamic\"].tolist()\n",
    "        mae = np.mean(np.abs(np.array(female_time_decay) - np.array(male_time_decay)))\n",
    "        print(mae)\n",
    "        idx += 1\n",
    "\n",
    "\n",
    "\n",
    "Tb_list = [2, 4, 6, 8, 12, 24, 48, 72]\n",
    "T_in = 1\n",
    "change_Tb_fix_Tin(1, Tb_list)\n",
    "change_Tb_fix_Tin(2, Tb_list)\n",
    "change_Tb_fix_Tin(4, Tb_list)"
   ],
   "id": "346a4d85e129e32e"
  }
 ],
 "metadata": {
  "kernelspec": {
   "display_name": "venv",
   "language": "python",
   "name": "venv"
  },
  "language_info": {
   "codemirror_mode": {
    "name": "ipython",
    "version": 2
   },
   "file_extension": ".py",
   "mimetype": "text/x-python",
   "name": "python",
   "nbconvert_exporter": "python",
   "pygments_lexer": "ipython2",
   "version": "2.7.6"
  }
 },
 "nbformat": 4,
 "nbformat_minor": 5
}
