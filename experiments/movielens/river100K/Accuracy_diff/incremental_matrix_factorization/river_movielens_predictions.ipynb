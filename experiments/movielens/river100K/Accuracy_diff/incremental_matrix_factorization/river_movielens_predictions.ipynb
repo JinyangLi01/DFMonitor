{
 "cells": [
  {
   "cell_type": "code",
   "execution_count": null,
   "id": "initial_id",
   "metadata": {
    "collapsed": true
   },
   "outputs": [],
   "source": [
    ""
   ]
  },
  {
   "metadata": {},
   "cell_type": "markdown",
   "source": "# explore the dataset",
   "id": "a05c3bde50e7c4cb"
  },
  {
   "metadata": {
    "ExecuteTime": {
     "end_time": "2024-09-17T22:55:09.638002Z",
     "start_time": "2024-09-17T22:55:06.881149Z"
    }
   },
   "cell_type": "code",
   "source": [
    "\n",
    "import pandas as pd\n",
    "from river import datasets\n",
    "import numpy as np\n",
    "\n",
    "dataset = datasets.MovieLens100K()\n",
    "# Initialize last item variable\n",
    "last_item = None\n",
    "# Inspect the first few examples\n",
    "first_item = None\n",
    "ratings = set()\n",
    "for i, (x, y) in enumerate(dataset):\n",
    "    ratings.add(y)\n",
    "    if i == 0:\n",
    "        first_item = (x, y)\n",
    "    # print(f\"Example {i+1}\")\n",
    "    # print(\"Features:\", x)\n",
    "    datetime = pd.to_datetime(x[\"timestamp\"], unit='ns')\n",
    "    # print(datetime)\n",
    "    # print(\"Rating:\", y)\n",
    "    # print()  # Blank line for readability\n",
    "    last_item = (x, y)\n",
    "\n",
    "print(ratings)\n"
   ],
   "id": "c9e94d63686e92fa",
   "outputs": [
    {
     "name": "stdout",
     "output_type": "stream",
     "text": [
      "{1.0, 2.0, 3.0, 4.0, 5.0}\n"
     ]
    }
   ],
   "execution_count": 20
  },
  {
   "metadata": {
    "ExecuteTime": {
     "end_time": "2024-09-17T22:55:09.712998Z",
     "start_time": "2024-09-17T22:55:09.710406Z"
    }
   },
   "cell_type": "code",
   "source": [
    "\n",
    "datetime_first = pd.to_datetime(first_item[0][\"timestamp\"], unit='ns')\n",
    "datetime_last = pd.to_datetime(last_item[0][\"timestamp\"], unit='ns')\n",
    "print(\"first item datetime = \", datetime_first, \"last item datetime = \", datetime_last)"
   ],
   "id": "8c80b94154e9455d",
   "outputs": [
    {
     "name": "stdout",
     "output_type": "stream",
     "text": [
      "first item datetime =  1997-09-20 05:05:10 last item datetime =  1998-04-23 01:10:38\n"
     ]
    }
   ],
   "execution_count": 21
  },
  {
   "metadata": {
    "ExecuteTime": {
     "end_time": "2024-09-17T22:08:24.297134Z",
     "start_time": "2024-09-17T22:08:24.292989Z"
    }
   },
   "cell_type": "code",
   "source": [
    "# how many days apart\n",
    "datetime_last - datetime_first"
   ],
   "id": "f7c26f0e64682718",
   "outputs": [
    {
     "data": {
      "text/plain": [
       "Timedelta('214 days 20:05:28')"
      ]
     },
     "execution_count": 3,
     "metadata": {},
     "output_type": "execute_result"
    }
   ],
   "execution_count": 3
  },
  {
   "metadata": {},
   "cell_type": "code",
   "outputs": [],
   "execution_count": null,
   "source": "",
   "id": "c57dc713c49aacd9"
  },
  {
   "metadata": {},
   "cell_type": "code",
   "outputs": [],
   "execution_count": null,
   "source": "",
   "id": "47907a62ce1838d5"
  },
  {
   "metadata": {},
   "cell_type": "code",
   "outputs": [],
   "execution_count": null,
   "source": "",
   "id": "6a744b5421424aa2"
  },
  {
   "metadata": {},
   "cell_type": "markdown",
   "source": "# matrix factorization",
   "id": "8647c285be810356"
  },
  {
   "metadata": {
    "ExecuteTime": {
     "end_time": "2024-09-17T22:58:41.165140Z",
     "start_time": "2024-09-17T22:58:35.773722Z"
    }
   },
   "cell_type": "code",
   "source": [
    "import csv\n",
    "import pandas as pd\n",
    "import numpy as np\n",
    "from river import reco, optim, datasets, metrics\n",
    "\n",
    "# Initialize the model\n",
    "model = reco.BiasedMF(\n",
    "    n_factors=10,\n",
    "    bias_optimizer=optim.SGD(0.01),\n",
    "    latent_optimizer=optim.SGD(0.01),\n",
    "    loss=optim.losses.Squared(),  # Using 'Squared' loss\n",
    "    l2_bias=0.1,\n",
    "    l2_latent=0.1,\n",
    "    weight_initializer=optim.initializers.Zeros(),  # Initialize biases to zero\n",
    "    latent_initializer=optim.initializers.Normal(mu=0., sigma=0.1, seed=42),  # Initialize latent factors\n",
    "    seed=42\n",
    ")\n",
    "\n",
    "# Initialize regression metrics\n",
    "mae = metrics.MAE()\n",
    "rmse = metrics.RMSE()\n",
    "\n",
    "# Load the dataset\n",
    "dataset = datasets.MovieLens100K()\n",
    "\n",
    "headers = [\"user\", \"item\", \"timestamp\", \"title\", \"release_date\", \"genres\",\n",
    "           \"age\", \"age_2groups\", \"age_4groups\", \"gender\", \"occupation\", \"zip_code\",\n",
    "           \"rating\", \"prediction\", \"prediction_float\", \"datetime\", \"rating_binary\", \"prediction_binary\",\n",
    "           \"diff\", \"diff_binary_correctness\"]\n",
    "\n",
    "# Set the decay rate (lambda) for exponential decay\n",
    "decay_rate = 0.001  # Adjust this value as needed\n",
    "decay_factor = np.exp(-decay_rate)\n",
    "\n",
    "def get_integer(x):\n",
    "    if x < 1.5:\n",
    "        return 1\n",
    "    elif x < 2.5:\n",
    "        return 2\n",
    "    elif x < 3.5:\n",
    "        return 3\n",
    "    elif x < 4.5:\n",
    "        return 4\n",
    "    else:\n",
    "        return 5\n",
    "\n",
    "# Open the CSV file for writing and write the header\n",
    "with open(\"result_incremental_mf_time_decay_2.csv\", \"w\", newline='') as csvfile:\n",
    "    writer = csv.DictWriter(csvfile, fieldnames=headers)\n",
    "    writer.writeheader()\n",
    "\n",
    "    for x, y in dataset:\n",
    "        user_id = x['user']\n",
    "        item_id = x['item']\n",
    "        interaction_time = x['timestamp']\n",
    "\n",
    "        # Apply exponential time decay to user and item factors\n",
    "        # Decay existing user factors\n",
    "        if user_id in model.u_latents:\n",
    "            model.u_latents[user_id] *= decay_factor\n",
    "\n",
    "        # Decay existing item factors\n",
    "        if item_id in model.i_latents:\n",
    "            model.i_latents[item_id] *= decay_factor\n",
    "\n",
    "        # Calculate time decay weight for the current interaction\n",
    "        # Since we process data sequentially, we can consider the time difference\n",
    "        # between the current interaction and a reference time (e.g., the first timestamp)\n",
    "        if 'initial_time' not in locals():\n",
    "            initial_time = interaction_time  # Set the reference time to the first timestamp\n",
    "\n",
    "        time_difference = interaction_time - initial_time\n",
    "        time_decay_weight = np.exp(-decay_rate * time_difference)\n",
    "\n",
    "        # Get the prediction from the model\n",
    "        pred = model.predict_one(user=x[\"user\"], item=x[\"item\"])\n",
    "\n",
    "        # Update the model with time decay weight\n",
    "        model.learn_one(user=x[\"user\"], item=x[\"item\"], y=y)\n",
    "\n",
    "        # Add the actual rating and the prediction to the dictionary\n",
    "        x['rating'] = y\n",
    "        x['prediction_float'] = pred if pred is not None else 3.0  # Default to average rating if None\n",
    "        x[\"prediction\"] = get_integer(x[\"prediction_float\"])  # Apply time decay to the prediction\n",
    "        \n",
    "        preds = x['prediction']\n",
    "\n",
    "        x[\"rating_binary\"] = int(y >= 4)\n",
    "        x[\"prediction_binary\"] = int(preds >= 4) if preds is not None else None\n",
    "        x[\"diff\"] = abs(y - preds)\n",
    "        x[\"diff_binary_correctness\"] = int(abs(y - preds) <= 1)\n",
    "        x[\"datetime\"] = pd.to_datetime(x['timestamp'], unit='ns').strftime('%Y-%m-%d')\n",
    "\n",
    "        # Age groupings\n",
    "        if x[\"age\"] <= 30:\n",
    "            x[\"age_2groups\"] = \"7-30\"\n",
    "        else:\n",
    "            x[\"age_2groups\"] = \"31-73\"\n",
    "\n",
    "        if x[\"age\"] <= 24:\n",
    "            x[\"age_4groups\"] = \"7-24\"\n",
    "        elif x[\"age\"] <= 30:\n",
    "            x[\"age_4groups\"] = \"25-30\"\n",
    "        elif x[\"age\"] <= 40:\n",
    "            x[\"age_4groups\"] = \"31-40\"\n",
    "        else:\n",
    "            x[\"age_4groups\"] = \"41-73\"\n",
    "\n",
    "        writer.writerow(x)\n",
    "\n",
    "        # Update regression metrics\n",
    "        if pred is not None:\n",
    "            mae.update(y, pred)\n",
    "            rmse.update(y, pred)\n",
    "\n",
    "# Output the final results\n",
    "print(f\"MAE: {mae.get():.4f}\")\n",
    "print(f\"RMSE: {rmse.get():.4f}\")\n"
   ],
   "id": "cdf8aad6412de3f4",
   "outputs": [
    {
     "name": "stdout",
     "output_type": "stream",
     "text": [
      "MAE: 0.7793\n",
      "RMSE: 0.9751\n"
     ]
    }
   ],
   "execution_count": 23
  },
  {
   "metadata": {},
   "cell_type": "code",
   "outputs": [],
   "execution_count": null,
   "source": "",
   "id": "7ec643478faf5386"
  }
 ],
 "metadata": {
  "kernelspec": {
   "display_name": "venv",
   "language": "python",
   "name": "venv"
  },
  "language_info": {
   "codemirror_mode": {
    "name": "ipython",
    "version": 2
   },
   "file_extension": ".py",
   "mimetype": "text/x-python",
   "name": "python",
   "nbconvert_exporter": "python",
   "pygments_lexer": "ipython2",
   "version": "2.7.6"
  }
 },
 "nbformat": 4,
 "nbformat_minor": 5
}
