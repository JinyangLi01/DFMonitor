{
 "cells": [
  {
   "cell_type": "code",
   "id": "initial_id",
   "metadata": {
    "collapsed": true,
    "ExecuteTime": {
     "end_time": "2025-02-02T23:08:41.320571Z",
     "start_time": "2025-02-02T23:08:41.318128Z"
    }
   },
   "source": [
    "import pandas as pd\n",
    "import numpy as np\n",
    "import sys\n",
    "import math\n"
   ],
   "outputs": [],
   "execution_count": 2
  },
  {
   "metadata": {
    "ExecuteTime": {
     "end_time": "2025-02-02T23:08:41.843757Z",
     "start_time": "2025-02-02T23:08:41.800587Z"
    }
   },
   "cell_type": "code",
   "source": [
    "\n",
    "def get_integer(alpha):\n",
    "    while not math.isclose(alpha, round(alpha), rel_tol=1e-9):  # Use a small tolerance\n",
    "        alpha *= 10\n",
    "    return int(alpha)\n",
    "\n",
    "\n",
    "window_size= 10\n",
    "decay_function = \"expo_decay\"\n",
    "drift_indicator = \"drift_detection\"\n",
    "decay_rate = 0.99995\n",
    "prediction_result = pd.read_csv(f\"prediction_result_end2end_HAT_window_10_remove_stocks_w_expo_decay.csv\")\n",
    "\n",
    "\n",
    "correctness_column = \"prediction_binary_correctness\"\n",
    "label_prediction = \"predicted_direction\"\n",
    "label_ground_truth = \"next_price_direction\"\n",
    "\n",
    "prediction_result[correctness_column] = prediction_result[label_prediction] == prediction_result[label_ground_truth]\n",
    "\n",
    "\n",
    "\n",
    "# correct prediction\n",
    "correct_prediction = prediction_result[prediction_result[correctness_column] == True]\n",
    "print(\"correct prediction\", len(correct_prediction))\n",
    "print(\"correct prediction percentage\", len(correct_prediction)/len(prediction_result))\n",
    "\n",
    "\n"
   ],
   "id": "b9f3d81688f67da1",
   "outputs": [
    {
     "name": "stdout",
     "output_type": "stream",
     "text": [
      "correct prediction 8000\n",
      "correct prediction percentage 0.44991845228052413\n"
     ]
    }
   ],
   "execution_count": 3
  },
  {
   "metadata": {
    "ExecuteTime": {
     "end_time": "2025-01-31T21:38:34.301616Z",
     "start_time": "2025-01-31T21:38:34.298004Z"
    }
   },
   "cell_type": "code",
   "source": "",
   "id": "36398e59365d10e4",
   "outputs": [],
   "execution_count": 4
  },
  {
   "metadata": {
    "ExecuteTime": {
     "end_time": "2025-02-01T02:31:44.500988Z",
     "start_time": "2025-02-01T02:31:44.499245Z"
    }
   },
   "cell_type": "code",
   "source": "",
   "id": "a0f20ccfe3d7563b",
   "outputs": [],
   "execution_count": null
  },
  {
   "metadata": {},
   "cell_type": "code",
   "outputs": [],
   "execution_count": null,
   "source": "",
   "id": "c048ea9c48626c39"
  }
 ],
 "metadata": {
  "kernelspec": {
   "display_name": "Python 3",
   "language": "python",
   "name": "python3"
  },
  "language_info": {
   "codemirror_mode": {
    "name": "ipython",
    "version": 2
   },
   "file_extension": ".py",
   "mimetype": "text/x-python",
   "name": "python",
   "nbconvert_exporter": "python",
   "pygments_lexer": "ipython2",
   "version": "2.7.6"
  }
 },
 "nbformat": 4,
 "nbformat_minor": 5
}
