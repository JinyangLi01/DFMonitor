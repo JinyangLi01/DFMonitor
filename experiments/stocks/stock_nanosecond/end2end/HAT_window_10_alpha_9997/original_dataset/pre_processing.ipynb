{
 "cells": [
  {
   "cell_type": "code",
   "id": "initial_id",
   "metadata": {
    "collapsed": true,
    "ExecuteTime": {
     "end_time": "2025-02-05T19:46:56.474491Z",
     "start_time": "2025-02-05T19:46:56.470825Z"
    }
   },
   "source": [
    "import pandas as pd\n",
    "import numpy as np"
   ],
   "outputs": [],
   "execution_count": 7
  },
  {
   "metadata": {
    "ExecuteTime": {
     "end_time": "2025-02-05T19:47:03.548225Z",
     "start_time": "2025-02-05T19:46:56.797957Z"
    }
   },
   "cell_type": "code",
   "source": [
    "\n",
    "\n",
    "# Load your data (replace 'your_data.csv' with your actual file)\n",
    "time_period = \"14-00--14-10\"\n",
    "date = \"20241015\"\n",
    "data_file_name = f\"xnas-itch-{date}_{time_period}\"\n",
    "data_stream = pd.read_csv(f'../../../../../data/stocks_nanosecond/{data_file_name}.csv')\n",
    "\n",
    "print(data_stream.groupby([\"sector\"]).size())\n",
    "\n",
    "date_column = 'ts_event'\n",
    "\n",
    "time_delta = 0\n",
    "batch_results = []\n",
    "data_stream[date_column] = pd.to_datetime(data_stream[date_column])\n",
    "previous_event_timestamp = data_stream[date_column].iloc[0]\n",
    "previous_check_timestamp = data_stream[date_column].iloc[0]\n",
    "\n",
    "\n",
    "\n",
    "\n",
    "time_start = pd.Timestamp('2024-10-15 14:00:08.00', tz='UTC')\n",
    "time_end = pd.Timestamp('2024-10-15 14:00:11.00', tz='UTC')\n",
    "\n",
    "\n",
    "data_stream[date_column] = pd.to_datetime(data_stream[date_column])\n",
    "# get data between time_start and time_end\n",
    "data_stream = data_stream[(data_stream[date_column] >= time_start) & (data_stream[date_column] <= time_end)]\n",
    "\n",
    "\n"
   ],
   "id": "42fd4f92cb97324e",
   "outputs": [
    {
     "name": "stdout",
     "output_type": "stream",
     "text": [
      "sector\n",
      "Basic Materials              3598\n",
      "Communication Services     413290\n",
      "Consumer Cyclical          589540\n",
      "Consumer Defensive         199084\n",
      "Energy                     148997\n",
      "Financial Services         119199\n",
      "Healthcare                 175482\n",
      "Industrials                  5771\n",
      "Technology                1210127\n",
      "dtype: int64\n"
     ]
    }
   ],
   "execution_count": 8
  },
  {
   "metadata": {
    "ExecuteTime": {
     "end_time": "2025-02-05T19:47:03.558496Z",
     "start_time": "2025-02-05T19:47:03.554045Z"
    }
   },
   "cell_type": "code",
   "source": "data_stream.groupby(\"sector\").size()",
   "id": "2e2dd458c60913d1",
   "outputs": [
    {
     "data": {
      "text/plain": [
       "sector\n",
       "Basic Materials            119\n",
       "Communication Services    4172\n",
       "Consumer Cyclical         3312\n",
       "Consumer Defensive         969\n",
       "Energy                    1084\n",
       "Financial Services         574\n",
       "Healthcare                1391\n",
       "Industrials                125\n",
       "Technology                8426\n",
       "dtype: int64"
      ]
     },
     "execution_count": 9,
     "metadata": {},
     "output_type": "execute_result"
    }
   ],
   "execution_count": 9
  },
  {
   "metadata": {
    "ExecuteTime": {
     "end_time": "2025-02-05T19:47:03.717841Z",
     "start_time": "2025-02-05T19:47:03.566970Z"
    }
   },
   "cell_type": "code",
   "source": "data_stream.to_csv(f'original_dataset.csv', index=False)",
   "id": "384f08c3600691c7",
   "outputs": [],
   "execution_count": 10
  },
  {
   "metadata": {},
   "cell_type": "code",
   "outputs": [],
   "execution_count": null,
   "source": "",
   "id": "19b1d8a76de38ce2"
  }
 ],
 "metadata": {
  "kernelspec": {
   "display_name": "Python 3",
   "language": "python",
   "name": "python3"
  },
  "language_info": {
   "codemirror_mode": {
    "name": "ipython",
    "version": 2
   },
   "file_extension": ".py",
   "mimetype": "text/x-python",
   "name": "python",
   "nbconvert_exporter": "python",
   "pygments_lexer": "ipython2",
   "version": "2.7.6"
  }
 },
 "nbformat": 4,
 "nbformat_minor": 5
}
