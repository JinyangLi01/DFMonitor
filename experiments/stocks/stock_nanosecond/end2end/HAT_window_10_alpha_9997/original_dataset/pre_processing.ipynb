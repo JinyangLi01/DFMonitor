{
 "cells": [
  {
   "cell_type": "code",
   "id": "initial_id",
   "metadata": {
    "collapsed": true,
    "ExecuteTime": {
     "end_time": "2025-02-05T23:34:35.498342Z",
     "start_time": "2025-02-05T23:34:35.495718Z"
    }
   },
   "source": [
    "import pandas as pd\n",
    "import numpy as np"
   ],
   "outputs": [],
   "execution_count": 6
  },
  {
   "metadata": {
    "ExecuteTime": {
     "end_time": "2025-02-05T23:34:44.748323Z",
     "start_time": "2025-02-05T23:34:35.770486Z"
    }
   },
   "cell_type": "code",
   "source": [
    "\n",
    "\n",
    "# Load your data (replace 'your_data.csv' with your actual file)\n",
    "time_period = \"14-00--14-15\"\n",
    "date = \"20241015\"\n",
    "data_file_name = f\"xnas-itch-{date}_{time_period}\"\n",
    "data_stream = pd.read_csv(f'../../../../../../data/stocks_nanosecond/{data_file_name}.csv')\n",
    "\n",
    "print(data_stream.groupby([\"sector\"]).size())\n",
    "\n",
    "date_column = 'ts_event'\n",
    "\n",
    "time_delta = 0\n",
    "batch_results = []\n",
    "data_stream[date_column] = pd.to_datetime(data_stream[date_column])\n",
    "previous_event_timestamp = data_stream[date_column].iloc[0]\n",
    "previous_check_timestamp = data_stream[date_column].iloc[0]\n",
    "\n",
    "\n",
    "\n",
    "\n",
    "time_start = pd.Timestamp('2024-10-15 14:00:00.00', tz='UTC')\n",
    "time_end = pd.Timestamp('2024-10-15 14:00:18.00', tz='UTC')\n",
    "\n",
    "\n",
    "data_stream[date_column] = pd.to_datetime(data_stream[date_column])\n",
    "# get data between time_start and time_end\n",
    "data_stream = data_stream[(data_stream[date_column] >= time_start) & (data_stream[date_column] <= time_end)]\n",
    "\n",
    "\n"
   ],
   "id": "42fd4f92cb97324e",
   "outputs": [
    {
     "name": "stdout",
     "output_type": "stream",
     "text": [
      "sector\n",
      "Basic Materials              6424\n",
      "Communication Services     709795\n",
      "Consumer Cyclical          901870\n",
      "Consumer Defensive         324650\n",
      "Energy                     224675\n",
      "Financial Services         190653\n",
      "Healthcare                 259202\n",
      "Industrials                  9759\n",
      "Technology                2168461\n",
      "dtype: int64\n"
     ]
    }
   ],
   "execution_count": 7
  },
  {
   "metadata": {
    "ExecuteTime": {
     "end_time": "2025-02-05T23:34:44.818108Z",
     "start_time": "2025-02-05T23:34:44.809688Z"
    }
   },
   "cell_type": "code",
   "source": "data_stream.groupby(\"sector\").size()",
   "id": "2e2dd458c60913d1",
   "outputs": [
    {
     "data": {
      "text/plain": [
       "sector\n",
       "Basic Materials             473\n",
       "Communication Services    20580\n",
       "Consumer Cyclical         19331\n",
       "Consumer Defensive         7994\n",
       "Energy                     6701\n",
       "Financial Services         4471\n",
       "Healthcare                 6580\n",
       "Industrials                 255\n",
       "Technology                59229\n",
       "dtype: int64"
      ]
     },
     "execution_count": 8,
     "metadata": {},
     "output_type": "execute_result"
    }
   ],
   "execution_count": 8
  },
  {
   "metadata": {
    "ExecuteTime": {
     "end_time": "2025-02-05T23:34:44.849982Z",
     "start_time": "2025-02-05T23:34:44.847182Z"
    }
   },
   "cell_type": "code",
   "source": "data_stream[date_column].min()",
   "id": "146b8d77d710eedf",
   "outputs": [
    {
     "data": {
      "text/plain": [
       "Timestamp('2024-10-15 14:00:00.000258375+0000', tz='UTC')"
      ]
     },
     "execution_count": 9,
     "metadata": {},
     "output_type": "execute_result"
    }
   ],
   "execution_count": 9
  },
  {
   "metadata": {
    "ExecuteTime": {
     "end_time": "2025-02-05T23:34:44.936401Z",
     "start_time": "2025-02-05T23:34:44.933258Z"
    }
   },
   "cell_type": "code",
   "source": "data_stream[date_column].max()",
   "id": "17c1f2b4c26a9390",
   "outputs": [
    {
     "data": {
      "text/plain": [
       "Timestamp('2024-10-15 14:00:17.998485995+0000', tz='UTC')"
      ]
     },
     "execution_count": 10,
     "metadata": {},
     "output_type": "execute_result"
    }
   ],
   "execution_count": 10
  },
  {
   "metadata": {
    "ExecuteTime": {
     "end_time": "2025-02-05T23:34:45.732327Z",
     "start_time": "2025-02-05T23:34:45.002924Z"
    }
   },
   "cell_type": "code",
   "source": "data_stream.to_csv(f'original_dataset.csv', index=False)",
   "id": "384f08c3600691c7",
   "outputs": [],
   "execution_count": 11
  },
  {
   "metadata": {
    "ExecuteTime": {
     "end_time": "2025-02-05T23:34:45.741993Z",
     "start_time": "2025-02-05T23:34:45.739416Z"
    }
   },
   "cell_type": "code",
   "source": [
    "import os\n",
    "\n",
    "os.getcwd()"
   ],
   "id": "19b1d8a76de38ce2",
   "outputs": [
    {
     "data": {
      "text/plain": [
       "'/Users/jinyangli/OngoingProjects/dynamic_fairness/DFMonitor/experiments/stocks/stock_nanosecond/end2end/HAT_window_10_alpha_9997/original_dataset'"
      ]
     },
     "execution_count": 12,
     "metadata": {},
     "output_type": "execute_result"
    }
   ],
   "execution_count": 12
  },
  {
   "metadata": {},
   "cell_type": "code",
   "outputs": [],
   "execution_count": null,
   "source": "",
   "id": "a68c28588d06b437"
  }
 ],
 "metadata": {
  "kernelspec": {
   "display_name": "venv",
   "language": "python",
   "name": "venv"
  },
  "language_info": {
   "codemirror_mode": {
    "name": "ipython",
    "version": 2
   },
   "file_extension": ".py",
   "mimetype": "text/x-python",
   "name": "python",
   "nbconvert_exporter": "python",
   "pygments_lexer": "ipython2",
   "version": "2.7.6"
  }
 },
 "nbformat": 4,
 "nbformat_minor": 5
}
