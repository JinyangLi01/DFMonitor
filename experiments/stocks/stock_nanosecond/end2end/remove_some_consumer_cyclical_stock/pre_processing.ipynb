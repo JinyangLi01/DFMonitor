{
 "cells": [
  {
   "cell_type": "code",
   "id": "initial_id",
   "metadata": {
    "collapsed": true,
    "ExecuteTime": {
     "end_time": "2025-02-03T19:57:40.794408Z",
     "start_time": "2025-02-03T19:57:40.446711Z"
    }
   },
   "source": [
    "import pandas as pd\n",
    "import numpy as np\n",
    "import sys\n"
   ],
   "outputs": [],
   "execution_count": 1
  },
  {
   "metadata": {
    "ExecuteTime": {
     "end_time": "2025-02-03T19:57:46.762647Z",
     "start_time": "2025-02-03T19:57:40.799684Z"
    }
   },
   "cell_type": "code",
   "source": [
    "\n",
    "\n",
    "# Load your data (replace 'your_data.csv' with your actual file)\n",
    "time_period = \"14-00--14-10\"\n",
    "date = \"20241015\"\n",
    "data_file_name = f\"xnas-itch-{date}_{time_period}\"\n",
    "data_stream = pd.read_csv(f'../../../../../data/stocks_nanosecond/{data_file_name}.csv')\n",
    "\n",
    "print(data_stream.groupby([\"sector\"]).size())\n",
    "\n",
    "date_column = 'ts_event'\n",
    "\n",
    "time_delta = 0\n",
    "batch_results = []\n",
    "data_stream[date_column] = pd.to_datetime(data_stream[date_column])\n",
    "previous_event_timestamp = data_stream[date_column].iloc[0]\n",
    "previous_check_timestamp = data_stream[date_column].iloc[0]\n",
    "\n",
    "\n",
    "\n",
    "\n",
    "time_start = pd.Timestamp('2024-10-15 14:00:10.00', tz='UTC')\n",
    "time_end = pd.Timestamp('2024-10-15 14:00:11.00', tz='UTC')\n",
    "\n",
    "\n",
    "data_stream[date_column] = pd.to_datetime(data_stream[date_column])\n",
    "# get data between time_start and time_end\n",
    "data_stream = data_stream[(data_stream[date_column] >= time_start) & (data_stream[date_column] <= time_end)]\n",
    "\n",
    "\n"
   ],
   "id": "373c047c7e5de9c7",
   "outputs": [
    {
     "name": "stdout",
     "output_type": "stream",
     "text": [
      "sector\n",
      "Basic Materials              3598\n",
      "Communication Services     413290\n",
      "Consumer Cyclical          589540\n",
      "Consumer Defensive         199084\n",
      "Energy                     148997\n",
      "Financial Services         119199\n",
      "Healthcare                 175482\n",
      "Industrials                  5771\n",
      "Technology                1210127\n",
      "dtype: int64\n"
     ]
    }
   ],
   "execution_count": 2
  },
  {
   "metadata": {
    "ExecuteTime": {
     "end_time": "2025-02-03T19:57:46.810818Z",
     "start_time": "2025-02-03T19:57:46.807020Z"
    }
   },
   "cell_type": "code",
   "source": [
    "\n",
    "print(len(data_stream))\n",
    "\n",
    "# check ts_event column\n",
    "print(data_stream[date_column].head())\n",
    "print(data_stream[date_column].tail())\n",
    "print(data_stream[date_column].min())\n",
    "print(data_stream[date_column].max())\n"
   ],
   "id": "b17702e8ae9540a2",
   "outputs": [
    {
     "name": "stdout",
     "output_type": "stream",
     "text": [
      "10244\n",
      "74010   2024-10-15 14:00:10.000005390+00:00\n",
      "74011   2024-10-15 14:00:10.000014516+00:00\n",
      "74012   2024-10-15 14:00:10.000037823+00:00\n",
      "74013   2024-10-15 14:00:10.000050011+00:00\n",
      "74014   2024-10-15 14:00:10.000050508+00:00\n",
      "Name: ts_event, dtype: datetime64[ns, UTC]\n",
      "84249   2024-10-15 14:00:10.999595611+00:00\n",
      "84250   2024-10-15 14:00:10.999595611+00:00\n",
      "84251   2024-10-15 14:00:10.999595892+00:00\n",
      "84252   2024-10-15 14:00:10.999595892+00:00\n",
      "84253   2024-10-15 14:00:10.999628058+00:00\n",
      "Name: ts_event, dtype: datetime64[ns, UTC]\n",
      "2024-10-15 14:00:10.000005390+00:00\n",
      "2024-10-15 14:00:10.999628058+00:00\n"
     ]
    }
   ],
   "execution_count": 3
  },
  {
   "metadata": {
    "ExecuteTime": {
     "end_time": "2025-02-03T19:57:46.822939Z",
     "start_time": "2025-02-03T19:57:46.819530Z"
    }
   },
   "cell_type": "code",
   "source": "print(data_stream.groupby(\"sector\").size())",
   "id": "23827425824fce0e",
   "outputs": [
    {
     "name": "stdout",
     "output_type": "stream",
     "text": [
      "sector\n",
      "Basic Materials            108\n",
      "Communication Services    2443\n",
      "Consumer Cyclical         1925\n",
      "Consumer Defensive         618\n",
      "Energy                     492\n",
      "Financial Services         248\n",
      "Healthcare                 655\n",
      "Industrials                 36\n",
      "Technology                3719\n",
      "dtype: int64\n"
     ]
    }
   ],
   "execution_count": 4
  },
  {
   "metadata": {
    "ExecuteTime": {
     "end_time": "2025-02-03T20:08:34.502424Z",
     "start_time": "2025-02-03T20:08:24.263590Z"
    }
   },
   "cell_type": "code",
   "source": [
    "import pandas as pd\n",
    "import numpy as np\n",
    "\n",
    "\n",
    "time_period = \"14-00--14-10\"\n",
    "date = \"20241015\"\n",
    "data_file_name = f\"xnas-itch-{date}_{time_period}\"\n",
    "pre_data_stream = pd.read_csv(f'../../../../../data/stocks_nanosecond/{data_file_name}.csv')\n",
    "\n",
    "time_start = pd.Timestamp('2024-10-15 14:00:10.30', tz='UTC')\n",
    "time_end = pd.Timestamp('2024-10-15 14:00:11.00', tz='UTC')\n",
    "\n",
    "\n",
    "pre_data_stream[date_column] = pd.to_datetime(pre_data_stream[date_column])\n",
    "# get data between time_start and time_end\n",
    "pre_data_stream = pre_data_stream[ (pre_data_stream[date_column] <= time_start)]\n",
    "\n",
    "print(\"len predatastream: \", len(pre_data_stream))\n",
    "print(pre_data_stream.groupby(\"sector\").size())\n",
    "\n",
    "\n",
    "\n",
    "time_period = \"14-00--14-10\"\n",
    "date = \"20241015\"\n",
    "data_file_name = f\"xnas-itch-{date}_{time_period}\"\n",
    "data_stream = pd.read_csv(f'../../../../../data/stocks_nanosecond/{data_file_name}.csv')\n",
    "\n",
    "\n",
    "\n",
    "data_stream[date_column] = pd.to_datetime(data_stream[date_column])\n",
    "# get data between time_start and time_end\n",
    "data_stream = data_stream[(data_stream[date_column] >= time_start) & (data_stream[date_column] <= time_end)]\n",
    "\n",
    "print(\"len of data stream start to end:\", len(data_stream))\n",
    "\n",
    "date_column = 'ts_event'\n"
   ],
   "id": "710384f559b0e986",
   "outputs": [
    {
     "name": "stdout",
     "output_type": "stream",
     "text": [
      "len predatastream:  76601\n",
      "sector\n",
      "Basic Materials             289\n",
      "Communication Services    11694\n",
      "Consumer Cyclical          8868\n",
      "Consumer Defensive         4889\n",
      "Energy                     3514\n",
      "Financial Services         2944\n",
      "Healthcare                 4461\n",
      "Industrials                 132\n",
      "Technology                39810\n",
      "dtype: int64\n",
      "len of data stream start to end: 7653\n"
     ]
    }
   ],
   "execution_count": 30
  },
  {
   "metadata": {
    "ExecuteTime": {
     "end_time": "2025-02-03T20:08:34.715791Z",
     "start_time": "2025-02-03T20:08:34.507054Z"
    }
   },
   "cell_type": "code",
   "source": [
    "\n",
    "#\n",
    "# # Sort by timestamp (if not already sorted)\n",
    "# data_stream = data_stream.sort_values(date_column).reset_index(drop=True)\n",
    "remove_stock_fraction = 0.1\n",
    "\n",
    "# Function to downsample technology stocks\n",
    "def downsample_tech_stocks(row):\n",
    "    if row['ts_event'] >= time_start and row['sector'] == 'Consumer Cyclical':\n",
    "        if np.random.rand() > remove_stock_fraction:  # Randomly exclude some tech stocks\n",
    "            return None  # Exclude this row\n",
    "    return row\n",
    "# Apply the downsampling\n",
    "modified_data = data_stream.apply(downsample_tech_stocks, axis=1).dropna()\n",
    "\n",
    "print(\"len of modified_data:\", len(modified_data))\n",
    "\n",
    "\n",
    "result_data =  pd.concat([pre_data_stream, modified_data])\n",
    "print(\"len of result_data: \", len(result_data))\n",
    "# Verify the result\n",
    "print(result_data.groupby(\"sector\").size())\n"
   ],
   "id": "62a5cbbd3efc2a32",
   "outputs": [
    {
     "name": "stdout",
     "output_type": "stream",
     "text": [
      "len of modified_data: 6161\n",
      "len of result_data:  82762\n",
      "sector\n",
      "Basic Materials             397\n",
      "Communication Services    13471\n",
      "Consumer Cyclical          9005\n",
      "Consumer Defensive         5255\n",
      "Energy                     3817\n",
      "Financial Services         3070\n",
      "Healthcare                 4950\n",
      "Industrials                 151\n",
      "Technology                42646\n",
      "dtype: int64\n"
     ]
    }
   ],
   "execution_count": 31
  },
  {
   "metadata": {
    "ExecuteTime": {
     "end_time": "2025-02-03T20:08:34.733838Z",
     "start_time": "2025-02-03T20:08:34.730828Z"
    }
   },
   "cell_type": "code",
   "source": "result_data[date_column].min()",
   "id": "243ef190ddeefab7",
   "outputs": [
    {
     "data": {
      "text/plain": [
       "Timestamp('2024-10-15 14:00:00.000258375+0000', tz='UTC')"
      ]
     },
     "execution_count": 32,
     "metadata": {},
     "output_type": "execute_result"
    }
   ],
   "execution_count": 32
  },
  {
   "metadata": {
    "ExecuteTime": {
     "end_time": "2025-02-03T20:08:34.750795Z",
     "start_time": "2025-02-03T20:08:34.747777Z"
    }
   },
   "cell_type": "code",
   "source": "result_data[date_column].max()",
   "id": "56fc13cfed78aae",
   "outputs": [
    {
     "data": {
      "text/plain": [
       "Timestamp('2024-10-15 14:00:10.999628058+0000', tz='UTC')"
      ]
     },
     "execution_count": 33,
     "metadata": {},
     "output_type": "execute_result"
    }
   ],
   "execution_count": 33
  },
  {
   "metadata": {
    "ExecuteTime": {
     "end_time": "2025-02-03T20:08:34.822830Z",
     "start_time": "2025-02-03T20:08:34.810354Z"
    }
   },
   "cell_type": "code",
   "source": [
    "time_start1 = pd.Timestamp('2024-10-15 14:00:08.00', tz='UTC')\n",
    "\n",
    "result_data = result_data[(result_data[date_column] >= time_start1)]\n",
    "print(\"len of result data: \", len(result_data))\n",
    "print(result_data.groupby(\"sector\").size())\n"
   ],
   "id": "be639f18f11fb924",
   "outputs": [
    {
     "name": "stdout",
     "output_type": "stream",
     "text": [
      "len of result data:  18680\n",
      "sector\n",
      "Basic Materials            119\n",
      "Communication Services    4172\n",
      "Consumer Cyclical         1820\n",
      "Consumer Defensive         969\n",
      "Energy                    1084\n",
      "Financial Services         574\n",
      "Healthcare                1391\n",
      "Industrials                125\n",
      "Technology                8426\n",
      "dtype: int64\n"
     ]
    }
   ],
   "execution_count": 34
  },
  {
   "metadata": {
    "ExecuteTime": {
     "end_time": "2025-02-03T20:08:35.074739Z",
     "start_time": "2025-02-03T20:08:34.885194Z"
    }
   },
   "cell_type": "code",
   "source": "result_data.to_csv(f\"random_filtered_data_fraction_{int(remove_stock_fraction*10)}.csv\", index=False)",
   "id": "8061c8d4210b3392",
   "outputs": [],
   "execution_count": 35
  },
  {
   "metadata": {
    "ExecuteTime": {
     "end_time": "2025-01-30T23:51:37.304034Z",
     "start_time": "2025-01-30T23:51:37.302653Z"
    }
   },
   "cell_type": "code",
   "source": "",
   "id": "bea9958612e4db2d",
   "outputs": [],
   "execution_count": null
  },
  {
   "metadata": {},
   "cell_type": "code",
   "outputs": [],
   "execution_count": null,
   "source": "",
   "id": "94ec943ebb9b4392"
  }
 ],
 "metadata": {
  "kernelspec": {
   "display_name": "Python 3",
   "language": "python",
   "name": "python3"
  },
  "language_info": {
   "codemirror_mode": {
    "name": "ipython",
    "version": 2
   },
   "file_extension": ".py",
   "mimetype": "text/x-python",
   "name": "python",
   "nbconvert_exporter": "python",
   "pygments_lexer": "ipython2",
   "version": "2.7.6"
  }
 },
 "nbformat": 4,
 "nbformat_minor": 5
}
