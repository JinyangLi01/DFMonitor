{
 "cells": [
  {
   "cell_type": "code",
   "id": "initial_id",
   "metadata": {
    "collapsed": true,
    "ExecuteTime": {
     "end_time": "2025-02-06T18:23:18.247700Z",
     "start_time": "2025-02-06T18:23:18.243060Z"
    }
   },
   "source": [
    "import pandas as pd\n",
    "import numpy as np\n",
    "import sys\n"
   ],
   "outputs": [],
   "execution_count": 63
  },
  {
   "metadata": {
    "ExecuteTime": {
     "end_time": "2025-02-06T19:03:30.573755Z",
     "start_time": "2025-02-06T19:03:21.568691Z"
    }
   },
   "cell_type": "code",
   "source": [
    "\n",
    "\n",
    "# Load your data (replace 'your_data.csv' with your actual file)\n",
    "time_period = \"14-00--14-15\"\n",
    "date = \"20241015\"\n",
    "data_file_name = f\"xnas-itch-{date}_{time_period}\"\n",
    "data_stream = pd.read_csv(f'../../../../../data/stocks_nanosecond/{data_file_name}.csv')\n",
    "\n",
    "print(data_stream.groupby([\"sector\"]).size())\n",
    "\n",
    "date_column = 'ts_event'\n",
    "\n",
    "time_delta = 0\n",
    "batch_results = []\n",
    "data_stream[date_column] = pd.to_datetime(data_stream[date_column])\n",
    "previous_event_timestamp = data_stream[date_column].iloc[0]\n",
    "previous_check_timestamp = data_stream[date_column].iloc[0]\n",
    "\n",
    "\n",
    "\n",
    "\n",
    "time_start = pd.Timestamp('2024-10-15 14:00:00.00', tz='UTC')\n",
    "time_end = pd.Timestamp('2024-10-15 14:00:18.00', tz='UTC')\n",
    "\n",
    "\n",
    "data_stream[date_column] = pd.to_datetime(data_stream[date_column])\n",
    "# get data between time_start and time_end\n",
    "data_stream = data_stream[(data_stream[date_column] >= time_start) & (data_stream[date_column] <= time_end)]\n",
    "\n",
    "\n"
   ],
   "id": "373c047c7e5de9c7",
   "outputs": [
    {
     "name": "stdout",
     "output_type": "stream",
     "text": [
      "sector\n",
      "Basic Materials              6424\n",
      "Communication Services     709795\n",
      "Consumer Cyclical          901870\n",
      "Consumer Defensive         324650\n",
      "Energy                     224675\n",
      "Financial Services         190653\n",
      "Healthcare                 259202\n",
      "Industrials                  9759\n",
      "Technology                2168461\n",
      "dtype: int64\n"
     ]
    }
   ],
   "execution_count": 121
  },
  {
   "metadata": {
    "ExecuteTime": {
     "end_time": "2025-02-06T19:03:30.593883Z",
     "start_time": "2025-02-06T19:03:30.589014Z"
    }
   },
   "cell_type": "code",
   "source": [
    "\n",
    "print(len(data_stream))\n",
    "\n",
    "# check ts_event column\n",
    "print(data_stream[date_column].head())\n",
    "print(data_stream[date_column].tail())\n",
    "print(data_stream[date_column].min())\n",
    "print(data_stream[date_column].max())\n"
   ],
   "id": "b17702e8ae9540a2",
   "outputs": [
    {
     "name": "stdout",
     "output_type": "stream",
     "text": [
      "125614\n",
      "0   2024-10-15 14:00:00.000258375+00:00\n",
      "1   2024-10-15 14:00:00.000260411+00:00\n",
      "2   2024-10-15 14:00:00.000261986+00:00\n",
      "3   2024-10-15 14:00:00.000265033+00:00\n",
      "4   2024-10-15 14:00:00.001097942+00:00\n",
      "Name: ts_event, dtype: datetime64[ns, UTC]\n",
      "125609   2024-10-15 14:00:17.997628275+00:00\n",
      "125610   2024-10-15 14:00:17.997628552+00:00\n",
      "125611   2024-10-15 14:00:17.998302084+00:00\n",
      "125612   2024-10-15 14:00:17.998422011+00:00\n",
      "125613   2024-10-15 14:00:17.998485995+00:00\n",
      "Name: ts_event, dtype: datetime64[ns, UTC]\n",
      "2024-10-15 14:00:00.000258375+00:00\n",
      "2024-10-15 14:00:17.998485995+00:00\n"
     ]
    }
   ],
   "execution_count": 122
  },
  {
   "metadata": {
    "ExecuteTime": {
     "end_time": "2025-02-06T19:03:30.617362Z",
     "start_time": "2025-02-06T19:03:30.609433Z"
    }
   },
   "cell_type": "code",
   "source": "print(data_stream.groupby(\"sector\").size())",
   "id": "23827425824fce0e",
   "outputs": [
    {
     "name": "stdout",
     "output_type": "stream",
     "text": [
      "sector\n",
      "Basic Materials             473\n",
      "Communication Services    20580\n",
      "Consumer Cyclical         19331\n",
      "Consumer Defensive         7994\n",
      "Energy                     6701\n",
      "Financial Services         4471\n",
      "Healthcare                 6580\n",
      "Industrials                 255\n",
      "Technology                59229\n",
      "dtype: int64\n"
     ]
    }
   ],
   "execution_count": 123
  },
  {
   "metadata": {
    "ExecuteTime": {
     "end_time": "2025-02-06T19:03:39.460596Z",
     "start_time": "2025-02-06T19:03:30.633008Z"
    }
   },
   "cell_type": "code",
   "source": [
    "import pandas as pd\n",
    "import numpy as np\n",
    "\n",
    "\n",
    "date = \"20241015\"\n",
    "data_file_name = f\"xnas-itch-{date}_{time_period}\"\n",
    "pre_data_stream = pd.read_csv(f'../../../../../data/stocks_nanosecond/{data_file_name}.csv')\n",
    "\n",
    "time_start = pd.Timestamp('2024-10-15 14:00:10.00', tz='UTC')\n",
    "time_end = pd.Timestamp('2024-10-15 14:00:18.00', tz='UTC')\n",
    "\n",
    "\n",
    "pre_data_stream[date_column] = pd.to_datetime(pre_data_stream[date_column])\n",
    "# get data between time_start and time_end\n",
    "pre_data_stream = pre_data_stream[ (pre_data_stream[date_column] <= time_start)]\n",
    "\n",
    "print(\"len predatastream: \", len(pre_data_stream))\n",
    "print(pre_data_stream.groupby(\"sector\").size())\n",
    "\n",
    "\n"
   ],
   "id": "710384f559b0e986",
   "outputs": [
    {
     "name": "stdout",
     "output_type": "stream",
     "text": [
      "len predatastream:  74010\n",
      "sector\n",
      "Basic Materials             289\n",
      "Communication Services    11028\n",
      "Consumer Cyclical          8572\n",
      "Consumer Defensive         4637\n",
      "Energy                     3325\n",
      "Financial Services         2822\n",
      "Healthcare                 4295\n",
      "Industrials                 115\n",
      "Technology                38927\n",
      "dtype: int64\n"
     ]
    }
   ],
   "execution_count": 124
  },
  {
   "metadata": {
    "jupyter": {
     "is_executing": true
    },
    "ExecuteTime": {
     "start_time": "2025-02-06T19:03:39.474932Z"
    }
   },
   "cell_type": "code",
   "source": [
    "import secrets\n",
    "import random\n",
    "\n",
    "\n",
    "date = \"20241015\"\n",
    "data_file_name = f\"xnas-itch-{date}_{time_period}\"\n",
    "data_stream = pd.read_csv(f'../../../../../data/stocks_nanosecond/{data_file_name}.csv')\n",
    "\n",
    "\n",
    "\n",
    "data_stream[date_column] = pd.to_datetime(data_stream[date_column])\n",
    "# get data between time_start and time_end\n",
    "data_stream = data_stream[(data_stream[date_column] >= time_start) & (data_stream[date_column] <= time_end)]\n",
    "\n",
    "print(\"len of data stream start to end:\", len(data_stream))\n",
    "\n",
    "date_column = 'ts_event'\n",
    "\n",
    "# # Sort by timestamp (if not already sorted)\n",
    "# data_stream = data_stream.sort_values(date_column).reset_index(drop=True)\n",
    "remove_stock_fraction = 0.1\n",
    "num_excluded = 0\n",
    "num_total = 0\n",
    "# Function to downsample technology stocks\n",
    "def downsample_tech_stocks(row):\n",
    "    global num_excluded, num_total\n",
    "    if row['ts_event'] >= time_start and row['sector'] == 'Consumer Cyclical':\n",
    "        m = secrets.SystemRandom().random()\n",
    "        print(\"random number: \", m)\n",
    "        if m < remove_stock_fraction:  # Randomly exclude some tech stocks\n",
    "            num_excluded += 1\n",
    "            num_total += 1\n",
    "            return None  # Exclude this row\n",
    "        num_total += 1\n",
    "    return row\n",
    "# Apply the downsampling\n",
    "modified_data = data_stream.apply(downsample_tech_stocks, axis=1).dropna()\n",
    "\n",
    "print(\"num_excluded: \", num_excluded, \"num_total: \", num_total, \"fraction: \", num_excluded/num_total)\n",
    "\n",
    "print(\"len of modified_data:\", len(modified_data))\n",
    "\n",
    "\n",
    "result_data =  pd.concat([pre_data_stream, modified_data])\n",
    "print(\"len of result_data: \", len(result_data))\n",
    "# Verify the result\n",
    "print(result_data.groupby(\"sector\").size())\n"
   ],
   "id": "62a5cbbd3efc2a32",
   "outputs": [],
   "execution_count": null
  },
  {
   "metadata": {
    "ExecuteTime": {
     "end_time": "2025-02-06T18:30:22.741572Z",
     "start_time": "2025-02-06T18:30:22.738310Z"
    }
   },
   "cell_type": "code",
   "source": "result_data[date_column].min()",
   "id": "243ef190ddeefab7",
   "outputs": [
    {
     "data": {
      "text/plain": [
       "Timestamp('2024-10-15 14:00:00.000258375+0000', tz='UTC')"
      ]
     },
     "execution_count": 117,
     "metadata": {},
     "output_type": "execute_result"
    }
   ],
   "execution_count": 117
  },
  {
   "metadata": {
    "ExecuteTime": {
     "end_time": "2025-02-06T18:30:22.763190Z",
     "start_time": "2025-02-06T18:30:22.759242Z"
    }
   },
   "cell_type": "code",
   "source": "result_data[date_column].max()",
   "id": "56fc13cfed78aae",
   "outputs": [
    {
     "data": {
      "text/plain": [
       "Timestamp('2024-10-15 14:00:17.998485995+0000', tz='UTC')"
      ]
     },
     "execution_count": 118,
     "metadata": {},
     "output_type": "execute_result"
    }
   ],
   "execution_count": 118
  },
  {
   "metadata": {
    "ExecuteTime": {
     "end_time": "2025-02-06T18:30:22.933083Z",
     "start_time": "2025-02-06T18:30:22.909361Z"
    }
   },
   "cell_type": "code",
   "source": [
    "time_start1 = pd.Timestamp('2024-10-15 14:00:00.00', tz='UTC')\n",
    "\n",
    "result_data = result_data[(result_data[date_column] >= time_start1)]\n",
    "print(\"len of result data: \", len(result_data))\n",
    "print(result_data.groupby(\"sector\").size())\n"
   ],
   "id": "be639f18f11fb924",
   "outputs": [
    {
     "name": "stdout",
     "output_type": "stream",
     "text": [
      "len of result data:  120309\n",
      "sector\n",
      "Basic Materials             473\n",
      "Communication Services    20580\n",
      "Consumer Cyclical         14026\n",
      "Consumer Defensive         7994\n",
      "Energy                     6701\n",
      "Financial Services         4471\n",
      "Healthcare                 6580\n",
      "Industrials                 255\n",
      "Technology                59229\n",
      "dtype: int64\n"
     ]
    }
   ],
   "execution_count": 119
  },
  {
   "metadata": {
    "ExecuteTime": {
     "end_time": "2025-02-06T18:30:24.202891Z",
     "start_time": "2025-02-06T18:30:22.996390Z"
    }
   },
   "cell_type": "code",
   "source": "result_data.to_csv(f\"random_filtered_data_fraction_{int(remove_stock_fraction*10)}.csv\", index=False)",
   "id": "8061c8d4210b3392",
   "outputs": [],
   "execution_count": 120
  },
  {
   "metadata": {
    "ExecuteTime": {
     "end_time": "2025-01-30T23:51:37.304034Z",
     "start_time": "2025-01-30T23:51:37.302653Z"
    }
   },
   "cell_type": "code",
   "source": "",
   "id": "bea9958612e4db2d",
   "outputs": [],
   "execution_count": null
  },
  {
   "metadata": {},
   "cell_type": "code",
   "outputs": [],
   "execution_count": null,
   "source": "",
   "id": "94ec943ebb9b4392"
  }
 ],
 "metadata": {
  "kernelspec": {
   "display_name": "Python 3",
   "language": "python",
   "name": "python3"
  },
  "language_info": {
   "codemirror_mode": {
    "name": "ipython",
    "version": 2
   },
   "file_extension": ".py",
   "mimetype": "text/x-python",
   "name": "python",
   "nbconvert_exporter": "python",
   "pygments_lexer": "ipython2",
   "version": "2.7.6"
  }
 },
 "nbformat": 4,
 "nbformat_minor": 5
}
