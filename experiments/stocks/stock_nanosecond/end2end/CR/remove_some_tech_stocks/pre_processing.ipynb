{
 "cells": [
  {
   "cell_type": "code",
   "id": "initial_id",
   "metadata": {
    "collapsed": true,
    "ExecuteTime": {
     "end_time": "2025-01-27T22:40:30.509841Z",
     "start_time": "2025-01-27T22:40:30.507811Z"
    }
   },
   "source": [
    "import pandas as pd\n",
    "import numpy as np\n",
    "import sys\n"
   ],
   "outputs": [],
   "execution_count": 1
  },
  {
   "metadata": {
    "ExecuteTime": {
     "end_time": "2025-01-27T22:54:29.137984Z",
     "start_time": "2025-01-27T22:54:23.625982Z"
    }
   },
   "cell_type": "code",
   "source": [
    "\n",
    "\n",
    "# Load your data (replace 'your_data.csv' with your actual file)\n",
    "time_period = \"14-00--14-10\"\n",
    "date = \"20241015\"\n",
    "data_file_name = f\"xnas-itch-{date}_{time_period}\"\n",
    "data_stream = pd.read_csv(f'../../../../../../data/stocks_nanosecond/{data_file_name}.csv')\n",
    "\n",
    "\n",
    "\n",
    "date_column = 'ts_event'\n",
    "\n",
    "time_delta = 0\n",
    "batch_results = []\n",
    "data_stream[date_column] = pd.to_datetime(data_stream[date_column])\n",
    "previous_event_timestamp = data_stream[date_column].iloc[0]\n",
    "previous_check_timestamp = data_stream[date_column].iloc[0]\n",
    "\n",
    "\n",
    "\n",
    "\n",
    "time_start = pd.Timestamp('2024-10-15 14:00:05.00', tz='UTC')\n",
    "time_end = pd.Timestamp('2024-10-15 14:00:18.00', tz='UTC')\n",
    "\n",
    "\n",
    "data_stream[date_column] = pd.to_datetime(data_stream[date_column])\n",
    "# get data between time_start and time_end\n",
    "data_stream = data_stream[(data_stream[date_column] >= time_start) & (data_stream[date_column] <= time_end)]\n",
    "\n",
    "\n"
   ],
   "id": "373c047c7e5de9c7",
   "outputs": [],
   "execution_count": 10
  },
  {
   "metadata": {
    "ExecuteTime": {
     "end_time": "2025-01-27T22:54:29.148892Z",
     "start_time": "2025-01-27T22:54:29.144375Z"
    }
   },
   "cell_type": "code",
   "source": [
    "\n",
    "print(len(data_stream))\n",
    "\n",
    "# check ts_event column\n",
    "print(data_stream[date_column].head())\n",
    "print(data_stream[date_column].tail())\n",
    "print(data_stream[date_column].min())\n",
    "print(data_stream[date_column].max())\n"
   ],
   "id": "b17702e8ae9540a2",
   "outputs": [
    {
     "name": "stdout",
     "output_type": "stream",
     "text": [
      "81782\n",
      "43832   2024-10-15 14:00:05.000695593+00:00\n",
      "43833   2024-10-15 14:00:05.000695593+00:00\n",
      "43834   2024-10-15 14:00:05.000696673+00:00\n",
      "43835   2024-10-15 14:00:05.000696673+00:00\n",
      "43836   2024-10-15 14:00:05.000697767+00:00\n",
      "Name: ts_event, dtype: datetime64[ns, UTC]\n",
      "125609   2024-10-15 14:00:17.997628275+00:00\n",
      "125610   2024-10-15 14:00:17.997628552+00:00\n",
      "125611   2024-10-15 14:00:17.998302084+00:00\n",
      "125612   2024-10-15 14:00:17.998422011+00:00\n",
      "125613   2024-10-15 14:00:17.998485995+00:00\n",
      "Name: ts_event, dtype: datetime64[ns, UTC]\n",
      "2024-10-15 14:00:05.000695593+00:00\n",
      "2024-10-15 14:00:17.998485995+00:00\n"
     ]
    }
   ],
   "execution_count": 11
  },
  {
   "metadata": {},
   "cell_type": "code",
   "outputs": [],
   "execution_count": null,
   "source": "",
   "id": "23827425824fce0e"
  }
 ],
 "metadata": {
  "kernelspec": {
   "display_name": "Python 3",
   "language": "python",
   "name": "python3"
  },
  "language_info": {
   "codemirror_mode": {
    "name": "ipython",
    "version": 2
   },
   "file_extension": ".py",
   "mimetype": "text/x-python",
   "name": "python",
   "nbconvert_exporter": "python",
   "pygments_lexer": "ipython2",
   "version": "2.7.6"
  }
 },
 "nbformat": 4,
 "nbformat_minor": 5
}
