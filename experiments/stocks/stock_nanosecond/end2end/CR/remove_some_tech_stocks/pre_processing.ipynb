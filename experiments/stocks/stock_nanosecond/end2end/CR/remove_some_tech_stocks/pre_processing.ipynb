{
 "cells": [
  {
   "cell_type": "code",
   "id": "initial_id",
   "metadata": {
    "collapsed": true,
    "ExecuteTime": {
     "end_time": "2025-01-27T22:40:30.509841Z",
     "start_time": "2025-01-27T22:40:30.507811Z"
    }
   },
   "source": [
    "import pandas as pd\n",
    "import numpy as np\n",
    "import sys\n"
   ],
   "outputs": [],
   "execution_count": 1
  },
  {
   "metadata": {
    "ExecuteTime": {
     "end_time": "2025-01-29T19:09:31.801787Z",
     "start_time": "2025-01-29T19:09:26.365809Z"
    }
   },
   "cell_type": "code",
   "source": [
    "\n",
    "\n",
    "# Load your data (replace 'your_data.csv' with your actual file)\n",
    "time_period = \"14-00--14-10\"\n",
    "date = \"20241015\"\n",
    "data_file_name = f\"xnas-itch-{date}_{time_period}\"\n",
    "data_stream = pd.read_csv(f'../../../../../../data/stocks_nanosecond/{data_file_name}.csv')\n",
    "\n",
    "\n",
    "\n",
    "date_column = 'ts_event'\n",
    "\n",
    "time_delta = 0\n",
    "batch_results = []\n",
    "data_stream[date_column] = pd.to_datetime(data_stream[date_column])\n",
    "previous_event_timestamp = data_stream[date_column].iloc[0]\n",
    "previous_check_timestamp = data_stream[date_column].iloc[0]\n",
    "\n",
    "\n",
    "\n",
    "\n",
    "time_start = pd.Timestamp('2024-10-15 14:00:10.00', tz='UTC')\n",
    "time_end = pd.Timestamp('2024-10-15 14:00:11.00', tz='UTC')\n",
    "\n",
    "\n",
    "data_stream[date_column] = pd.to_datetime(data_stream[date_column])\n",
    "# get data between time_start and time_end\n",
    "data_stream = data_stream[(data_stream[date_column] >= time_start) & (data_stream[date_column] <= time_end)]\n",
    "\n",
    "\n"
   ],
   "id": "373c047c7e5de9c7",
   "outputs": [],
   "execution_count": 12
  },
  {
   "metadata": {
    "ExecuteTime": {
     "end_time": "2025-01-29T19:09:35.375679Z",
     "start_time": "2025-01-29T19:09:35.368578Z"
    }
   },
   "cell_type": "code",
   "source": [
    "\n",
    "print(len(data_stream))\n",
    "\n",
    "# check ts_event column\n",
    "print(data_stream[date_column].head())\n",
    "print(data_stream[date_column].tail())\n",
    "print(data_stream[date_column].min())\n",
    "print(data_stream[date_column].max())\n"
   ],
   "id": "b17702e8ae9540a2",
   "outputs": [
    {
     "name": "stdout",
     "output_type": "stream",
     "text": [
      "10244\n",
      "74010   2024-10-15 14:00:10.000005390+00:00\n",
      "74011   2024-10-15 14:00:10.000014516+00:00\n",
      "74012   2024-10-15 14:00:10.000037823+00:00\n",
      "74013   2024-10-15 14:00:10.000050011+00:00\n",
      "74014   2024-10-15 14:00:10.000050508+00:00\n",
      "Name: ts_event, dtype: datetime64[ns, UTC]\n",
      "84249   2024-10-15 14:00:10.999595611+00:00\n",
      "84250   2024-10-15 14:00:10.999595611+00:00\n",
      "84251   2024-10-15 14:00:10.999595892+00:00\n",
      "84252   2024-10-15 14:00:10.999595892+00:00\n",
      "84253   2024-10-15 14:00:10.999628058+00:00\n",
      "Name: ts_event, dtype: datetime64[ns, UTC]\n",
      "2024-10-15 14:00:10.000005390+00:00\n",
      "2024-10-15 14:00:10.999628058+00:00\n"
     ]
    }
   ],
   "execution_count": 13
  },
  {
   "metadata": {
    "ExecuteTime": {
     "end_time": "2025-01-29T19:10:02.146765Z",
     "start_time": "2025-01-29T19:10:02.141048Z"
    }
   },
   "cell_type": "code",
   "source": "print(data_stream.groupby(\"sector\").size())",
   "id": "23827425824fce0e",
   "outputs": [
    {
     "name": "stdout",
     "output_type": "stream",
     "text": [
      "sector\n",
      "Basic Materials            108\n",
      "Communication Services    2443\n",
      "Consumer Cyclical         1925\n",
      "Consumer Defensive         618\n",
      "Energy                     492\n",
      "Financial Services         248\n",
      "Healthcare                 655\n",
      "Industrials                 36\n",
      "Technology                3719\n",
      "dtype: int64\n"
     ]
    }
   ],
   "execution_count": 15
  },
  {
   "metadata": {
    "jupyter": {
     "is_executing": true
    },
    "ExecuteTime": {
     "start_time": "2025-01-29T19:31:28.293177Z"
    }
   },
   "cell_type": "code",
   "source": [
    "import pandas as pd\n",
    "import numpy as np\n",
    "\n",
    "time_period = \"14-00--14-10\"\n",
    "date = \"20241015\"\n",
    "data_file_name = f\"xnas-itch-{date}_{time_period}\"\n",
    "data_stream = pd.read_csv(f'../../../../../../data/stocks_nanosecond/{data_file_name}.csv')\n",
    "\n",
    "\n",
    "\n",
    "time_start = pd.Timestamp('2024-10-15 14:00:10.00', tz='UTC')\n",
    "time_end = pd.Timestamp('2024-10-15 14:00:11.00', tz='UTC')\n",
    "\n",
    "\n",
    "data_stream[date_column] = pd.to_datetime(data_stream[date_column])\n",
    "# get data between time_start and time_end\n",
    "data_stream = data_stream[(data_stream[date_column] >= time_start) & (data_stream[date_column] <= time_end)]\n",
    "\n",
    "\n",
    "date_column = 'ts_event'\n",
    "\n",
    "\n",
    "# Sort by timestamp (if not already sorted)\n",
    "data_stream = data_stream.sort_values(date_column).reset_index(drop=True)\n",
    "\n",
    "# Identify indices of technology items\n",
    "tech_indices = data_stream[data_stream[\"sector\"] == \"Technology\"].index\n",
    "\n",
    "# Define a decay function (e.g., linear decay)\n",
    "def decay_function(index, total_items, decay_rate=0.5):\n",
    "    \"\"\"Returns the probability of removing an item based on its position.\"\"\"\n",
    "    return decay_rate * (index / total_items)\n",
    "\n",
    "\n",
    "# # Define a decay function (e.g., exponential decay)\n",
    "# def decay_function(index, total_items, decay_rate=0.8):\n",
    "#     \"\"\"Exponential decay: Probability increases exponentially with position.\"\"\"\n",
    "#     return decay_rate * (np.exp(index / total_items) - 1)\n",
    "\n",
    "\n",
    "\n",
    "# Set decay rate (adjust as needed)\n",
    "decay_rate = 0.8\n",
    "\n",
    "# Randomly remove technology items based on the decay function\n",
    "np.random.seed(42)  # For reproducibility\n",
    "remove_mask = np.random.rand(len(tech_indices)) < decay_function(tech_indices, len(data_stream), decay_rate)\n",
    "indices_to_remove = tech_indices[remove_mask]\n",
    "\n",
    "# Remove the selected items\n",
    "filtered_data_stream = data_stream.drop(indices_to_remove).reset_index(drop=True)\n",
    "\n",
    "# Verify the result\n",
    "print(filtered_data_stream.groupby(\"sector\").size())\n"
   ],
   "id": "710384f559b0e986",
   "outputs": [],
   "execution_count": null
  },
  {
   "metadata": {
    "ExecuteTime": {
     "end_time": "2025-01-29T19:29:33.031036Z",
     "start_time": "2025-01-29T19:29:32.959452Z"
    }
   },
   "cell_type": "code",
   "source": "filtered_data_stream.to_csv(\"linear_decay_filtered_data_decay_rate_8.csv\", index=False)",
   "id": "8061c8d4210b3392",
   "outputs": [],
   "execution_count": 35
  },
  {
   "metadata": {
    "ExecuteTime": {
     "end_time": "2025-01-29T19:21:36.999041Z",
     "start_time": "2025-01-29T19:21:36.997285Z"
    }
   },
   "cell_type": "code",
   "source": "",
   "id": "bea9958612e4db2d",
   "outputs": [],
   "execution_count": null
  },
  {
   "metadata": {},
   "cell_type": "code",
   "outputs": [],
   "execution_count": null,
   "source": "",
   "id": "94ec943ebb9b4392"
  }
 ],
 "metadata": {
  "kernelspec": {
   "display_name": "Python 3",
   "language": "python",
   "name": "python3"
  },
  "language_info": {
   "codemirror_mode": {
    "name": "ipython",
    "version": 2
   },
   "file_extension": ".py",
   "mimetype": "text/x-python",
   "name": "python",
   "nbconvert_exporter": "python",
   "pygments_lexer": "ipython2",
   "version": "2.7.6"
  }
 },
 "nbformat": 4,
 "nbformat_minor": 5
}
