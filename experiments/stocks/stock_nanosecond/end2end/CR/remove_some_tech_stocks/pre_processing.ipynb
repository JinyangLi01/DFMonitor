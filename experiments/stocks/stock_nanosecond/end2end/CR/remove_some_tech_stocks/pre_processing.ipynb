{
 "cells": [
  {
   "cell_type": "code",
   "id": "initial_id",
   "metadata": {
    "collapsed": true,
    "ExecuteTime": {
     "end_time": "2025-01-27T22:40:30.509841Z",
     "start_time": "2025-01-27T22:40:30.507811Z"
    }
   },
   "source": [
    "import pandas as pd\n",
    "import numpy as np\n",
    "import sys\n"
   ],
   "outputs": [],
   "execution_count": 1
  },
  {
   "metadata": {
    "ExecuteTime": {
     "end_time": "2025-01-29T19:09:31.801787Z",
     "start_time": "2025-01-29T19:09:26.365809Z"
    }
   },
   "cell_type": "code",
   "source": [
    "\n",
    "\n",
    "# Load your data (replace 'your_data.csv' with your actual file)\n",
    "time_period = \"14-00--14-10\"\n",
    "date = \"20241015\"\n",
    "data_file_name = f\"xnas-itch-{date}_{time_period}\"\n",
    "data_stream = pd.read_csv(f'../../../../../../data/stocks_nanosecond/{data_file_name}.csv')\n",
    "\n",
    "\n",
    "\n",
    "date_column = 'ts_event'\n",
    "\n",
    "time_delta = 0\n",
    "batch_results = []\n",
    "data_stream[date_column] = pd.to_datetime(data_stream[date_column])\n",
    "previous_event_timestamp = data_stream[date_column].iloc[0]\n",
    "previous_check_timestamp = data_stream[date_column].iloc[0]\n",
    "\n",
    "\n",
    "\n",
    "\n",
    "time_start = pd.Timestamp('2024-10-15 14:00:10.00', tz='UTC')\n",
    "time_end = pd.Timestamp('2024-10-15 14:00:11.00', tz='UTC')\n",
    "\n",
    "\n",
    "data_stream[date_column] = pd.to_datetime(data_stream[date_column])\n",
    "# get data between time_start and time_end\n",
    "data_stream = data_stream[(data_stream[date_column] >= time_start) & (data_stream[date_column] <= time_end)]\n",
    "\n",
    "\n"
   ],
   "id": "373c047c7e5de9c7",
   "outputs": [],
   "execution_count": 12
  },
  {
   "metadata": {
    "ExecuteTime": {
     "end_time": "2025-01-29T19:09:35.375679Z",
     "start_time": "2025-01-29T19:09:35.368578Z"
    }
   },
   "cell_type": "code",
   "source": [
    "\n",
    "print(len(data_stream))\n",
    "\n",
    "# check ts_event column\n",
    "print(data_stream[date_column].head())\n",
    "print(data_stream[date_column].tail())\n",
    "print(data_stream[date_column].min())\n",
    "print(data_stream[date_column].max())\n"
   ],
   "id": "b17702e8ae9540a2",
   "outputs": [
    {
     "name": "stdout",
     "output_type": "stream",
     "text": [
      "10244\n",
      "74010   2024-10-15 14:00:10.000005390+00:00\n",
      "74011   2024-10-15 14:00:10.000014516+00:00\n",
      "74012   2024-10-15 14:00:10.000037823+00:00\n",
      "74013   2024-10-15 14:00:10.000050011+00:00\n",
      "74014   2024-10-15 14:00:10.000050508+00:00\n",
      "Name: ts_event, dtype: datetime64[ns, UTC]\n",
      "84249   2024-10-15 14:00:10.999595611+00:00\n",
      "84250   2024-10-15 14:00:10.999595611+00:00\n",
      "84251   2024-10-15 14:00:10.999595892+00:00\n",
      "84252   2024-10-15 14:00:10.999595892+00:00\n",
      "84253   2024-10-15 14:00:10.999628058+00:00\n",
      "Name: ts_event, dtype: datetime64[ns, UTC]\n",
      "2024-10-15 14:00:10.000005390+00:00\n",
      "2024-10-15 14:00:10.999628058+00:00\n"
     ]
    }
   ],
   "execution_count": 13
  },
  {
   "metadata": {
    "ExecuteTime": {
     "end_time": "2025-01-29T19:10:02.146765Z",
     "start_time": "2025-01-29T19:10:02.141048Z"
    }
   },
   "cell_type": "code",
   "source": "print(data_stream.groupby(\"sector\").size())",
   "id": "23827425824fce0e",
   "outputs": [
    {
     "name": "stdout",
     "output_type": "stream",
     "text": [
      "sector\n",
      "Basic Materials            108\n",
      "Communication Services    2443\n",
      "Consumer Cyclical         1925\n",
      "Consumer Defensive         618\n",
      "Energy                     492\n",
      "Financial Services         248\n",
      "Healthcare                 655\n",
      "Industrials                 36\n",
      "Technology                3719\n",
      "dtype: int64\n"
     ]
    }
   ],
   "execution_count": 15
  },
  {
   "metadata": {
    "ExecuteTime": {
     "end_time": "2025-01-29T22:46:28.146616Z",
     "start_time": "2025-01-29T22:46:17.186453Z"
    }
   },
   "cell_type": "code",
   "source": [
    "import pandas as pd\n",
    "import numpy as np\n",
    "\n",
    "\n",
    "time_period = \"14-00--14-10\"\n",
    "date = \"20241015\"\n",
    "data_file_name = f\"xnas-itch-{date}_{time_period}\"\n",
    "pre_data_stream = pd.read_csv(f'../../../../../../data/stocks_nanosecond/{data_file_name}.csv')\n",
    "\n",
    "time_end = pd.Timestamp('2024-10-15 14:00:10.00', tz='UTC')\n",
    "\n",
    "pre_data_stream[date_column] = pd.to_datetime(pre_data_stream[date_column])\n",
    "# get data between time_start and time_end\n",
    "pre_data_stream = pre_data_stream[ (pre_data_stream[date_column] <= time_end)]\n",
    "\n",
    "\n",
    "\n",
    "\n",
    "\n",
    "\n",
    "time_period = \"14-00--14-10\"\n",
    "date = \"20241015\"\n",
    "data_file_name = f\"xnas-itch-{date}_{time_period}\"\n",
    "data_stream = pd.read_csv(f'../../../../../../data/stocks_nanosecond/{data_file_name}.csv')\n",
    "\n",
    "\n",
    "\n",
    "time_start = pd.Timestamp('2024-10-15 14:00:10.20', tz='UTC')\n",
    "time_end = pd.Timestamp('2024-10-15 14:00:11.00', tz='UTC')\n",
    "\n",
    "\n",
    "data_stream[date_column] = pd.to_datetime(data_stream[date_column])\n",
    "# get data between time_start and time_end\n",
    "data_stream = data_stream[(data_stream[date_column] >= time_start) & (data_stream[date_column] <= time_end)]\n",
    "\n",
    "\n",
    "date_column = 'ts_event'\n",
    "\n",
    "\n",
    "# Sort by timestamp (if not already sorted)\n",
    "data_stream = data_stream.sort_values(date_column).reset_index(drop=True)\n",
    "\n",
    "# Identify indices of technology items\n",
    "tech_indices = data_stream[data_stream[\"sector\"] == \"Technology\"].index\n",
    "\n",
    "# Define a decay function (e.g., linear decay)\n",
    "def decay_function(index, total_items, decay_rate=0.5):\n",
    "    \"\"\"Returns the probability of removing an item based on its position.\"\"\"\n",
    "    return decay_rate * (index / total_items)\n",
    "\n",
    "\n",
    "# # Define a decay function (e.g., exponential decay)\n",
    "# def decay_function(index, total_items, decay_rate=0.8):\n",
    "#     \"\"\"Exponential decay: Probability increases exponentially with position.\"\"\"\n",
    "#     return decay_rate * (np.exp(index / total_items) - 1)\n",
    "\n",
    "\n",
    "\n",
    "# Set decay rate (adjust as needed)\n",
    "decay_rate = 0.8\n",
    "\n",
    "# Randomly remove technology items based on the decay function\n",
    "np.random.seed(42)  # For reproducibility\n",
    "remove_mask = np.random.rand(len(tech_indices)) < decay_function(tech_indices, len(data_stream), decay_rate)\n",
    "indices_to_remove = tech_indices[remove_mask]\n",
    "\n",
    "# Remove the selected items\n",
    "filtered_data_stream = data_stream.drop(indices_to_remove).reset_index(drop=True)\n",
    "\n",
    "filtered_data_stream = pre_data_stream + filtered_data_stream\n",
    "\n",
    "# Verify the result\n",
    "print(filtered_data_stream.groupby(\"sector\").size())\n"
   ],
   "id": "710384f559b0e986",
   "outputs": [
    {
     "ename": "TypeError",
     "evalue": "cannot add DatetimeArray and DatetimeArray",
     "output_type": "error",
     "traceback": [
      "\u001B[0;31m---------------------------------------------------------------------------\u001B[0m",
      "\u001B[0;31mTypeError\u001B[0m                                 Traceback (most recent call last)",
      "\u001B[0;32m/var/folders/sy/m1107g5j24x3w6mcyb9njvyw0000gn/T/ipykernel_76337/1157382791.py\u001B[0m in \u001B[0;36m<module>\u001B[0;34m\u001B[0m\n\u001B[1;32m     68\u001B[0m \u001B[0mfiltered_data_stream\u001B[0m \u001B[0;34m=\u001B[0m \u001B[0mdata_stream\u001B[0m\u001B[0;34m.\u001B[0m\u001B[0mdrop\u001B[0m\u001B[0;34m(\u001B[0m\u001B[0mindices_to_remove\u001B[0m\u001B[0;34m)\u001B[0m\u001B[0;34m.\u001B[0m\u001B[0mreset_index\u001B[0m\u001B[0;34m(\u001B[0m\u001B[0mdrop\u001B[0m\u001B[0;34m=\u001B[0m\u001B[0;32mTrue\u001B[0m\u001B[0;34m)\u001B[0m\u001B[0;34m\u001B[0m\u001B[0;34m\u001B[0m\u001B[0m\n\u001B[1;32m     69\u001B[0m \u001B[0;34m\u001B[0m\u001B[0m\n\u001B[0;32m---> 70\u001B[0;31m \u001B[0mfiltered_data_stream\u001B[0m \u001B[0;34m=\u001B[0m \u001B[0mpre_data_stream\u001B[0m \u001B[0;34m+\u001B[0m \u001B[0mfiltered_data_stream\u001B[0m\u001B[0;34m\u001B[0m\u001B[0;34m\u001B[0m\u001B[0m\n\u001B[0m\u001B[1;32m     71\u001B[0m \u001B[0;34m\u001B[0m\u001B[0m\n\u001B[1;32m     72\u001B[0m \u001B[0;31m# Verify the result\u001B[0m\u001B[0;34m\u001B[0m\u001B[0;34m\u001B[0m\u001B[0m\n",
      "\u001B[0;32m~/opt/anaconda3/lib/python3.9/site-packages/pandas/core/ops/common.py\u001B[0m in \u001B[0;36mnew_method\u001B[0;34m(self, other)\u001B[0m\n\u001B[1;32m     68\u001B[0m         \u001B[0mother\u001B[0m \u001B[0;34m=\u001B[0m \u001B[0mitem_from_zerodim\u001B[0m\u001B[0;34m(\u001B[0m\u001B[0mother\u001B[0m\u001B[0;34m)\u001B[0m\u001B[0;34m\u001B[0m\u001B[0;34m\u001B[0m\u001B[0m\n\u001B[1;32m     69\u001B[0m \u001B[0;34m\u001B[0m\u001B[0m\n\u001B[0;32m---> 70\u001B[0;31m         \u001B[0;32mreturn\u001B[0m \u001B[0mmethod\u001B[0m\u001B[0;34m(\u001B[0m\u001B[0mself\u001B[0m\u001B[0;34m,\u001B[0m \u001B[0mother\u001B[0m\u001B[0;34m)\u001B[0m\u001B[0;34m\u001B[0m\u001B[0;34m\u001B[0m\u001B[0m\n\u001B[0m\u001B[1;32m     71\u001B[0m \u001B[0;34m\u001B[0m\u001B[0m\n\u001B[1;32m     72\u001B[0m     \u001B[0;32mreturn\u001B[0m \u001B[0mnew_method\u001B[0m\u001B[0;34m\u001B[0m\u001B[0;34m\u001B[0m\u001B[0m\n",
      "\u001B[0;32m~/opt/anaconda3/lib/python3.9/site-packages/pandas/core/arraylike.py\u001B[0m in \u001B[0;36m__add__\u001B[0;34m(self, other)\u001B[0m\n\u001B[1;32m     98\u001B[0m     \u001B[0;34m@\u001B[0m\u001B[0munpack_zerodim_and_defer\u001B[0m\u001B[0;34m(\u001B[0m\u001B[0;34m\"__add__\"\u001B[0m\u001B[0;34m)\u001B[0m\u001B[0;34m\u001B[0m\u001B[0;34m\u001B[0m\u001B[0m\n\u001B[1;32m     99\u001B[0m     \u001B[0;32mdef\u001B[0m \u001B[0m__add__\u001B[0m\u001B[0;34m(\u001B[0m\u001B[0mself\u001B[0m\u001B[0;34m,\u001B[0m \u001B[0mother\u001B[0m\u001B[0;34m)\u001B[0m\u001B[0;34m:\u001B[0m\u001B[0;34m\u001B[0m\u001B[0;34m\u001B[0m\u001B[0m\n\u001B[0;32m--> 100\u001B[0;31m         \u001B[0;32mreturn\u001B[0m \u001B[0mself\u001B[0m\u001B[0;34m.\u001B[0m\u001B[0m_arith_method\u001B[0m\u001B[0;34m(\u001B[0m\u001B[0mother\u001B[0m\u001B[0;34m,\u001B[0m \u001B[0moperator\u001B[0m\u001B[0;34m.\u001B[0m\u001B[0madd\u001B[0m\u001B[0;34m)\u001B[0m\u001B[0;34m\u001B[0m\u001B[0;34m\u001B[0m\u001B[0m\n\u001B[0m\u001B[1;32m    101\u001B[0m \u001B[0;34m\u001B[0m\u001B[0m\n\u001B[1;32m    102\u001B[0m     \u001B[0;34m@\u001B[0m\u001B[0munpack_zerodim_and_defer\u001B[0m\u001B[0;34m(\u001B[0m\u001B[0;34m\"__radd__\"\u001B[0m\u001B[0;34m)\u001B[0m\u001B[0;34m\u001B[0m\u001B[0;34m\u001B[0m\u001B[0m\n",
      "\u001B[0;32m~/opt/anaconda3/lib/python3.9/site-packages/pandas/core/frame.py\u001B[0m in \u001B[0;36m_arith_method\u001B[0;34m(self, other, op)\u001B[0m\n\u001B[1;32m   6953\u001B[0m         \u001B[0mself\u001B[0m\u001B[0;34m,\u001B[0m \u001B[0mother\u001B[0m \u001B[0;34m=\u001B[0m \u001B[0mops\u001B[0m\u001B[0;34m.\u001B[0m\u001B[0malign_method_FRAME\u001B[0m\u001B[0;34m(\u001B[0m\u001B[0mself\u001B[0m\u001B[0;34m,\u001B[0m \u001B[0mother\u001B[0m\u001B[0;34m,\u001B[0m \u001B[0maxis\u001B[0m\u001B[0;34m,\u001B[0m \u001B[0mflex\u001B[0m\u001B[0;34m=\u001B[0m\u001B[0;32mTrue\u001B[0m\u001B[0;34m,\u001B[0m \u001B[0mlevel\u001B[0m\u001B[0;34m=\u001B[0m\u001B[0;32mNone\u001B[0m\u001B[0;34m)\u001B[0m\u001B[0;34m\u001B[0m\u001B[0;34m\u001B[0m\u001B[0m\n\u001B[1;32m   6954\u001B[0m \u001B[0;34m\u001B[0m\u001B[0m\n\u001B[0;32m-> 6955\u001B[0;31m         \u001B[0mnew_data\u001B[0m \u001B[0;34m=\u001B[0m \u001B[0mself\u001B[0m\u001B[0;34m.\u001B[0m\u001B[0m_dispatch_frame_op\u001B[0m\u001B[0;34m(\u001B[0m\u001B[0mother\u001B[0m\u001B[0;34m,\u001B[0m \u001B[0mop\u001B[0m\u001B[0;34m,\u001B[0m \u001B[0maxis\u001B[0m\u001B[0;34m=\u001B[0m\u001B[0maxis\u001B[0m\u001B[0;34m)\u001B[0m\u001B[0;34m\u001B[0m\u001B[0;34m\u001B[0m\u001B[0m\n\u001B[0m\u001B[1;32m   6956\u001B[0m         \u001B[0;32mreturn\u001B[0m \u001B[0mself\u001B[0m\u001B[0;34m.\u001B[0m\u001B[0m_construct_result\u001B[0m\u001B[0;34m(\u001B[0m\u001B[0mnew_data\u001B[0m\u001B[0;34m)\u001B[0m\u001B[0;34m\u001B[0m\u001B[0;34m\u001B[0m\u001B[0m\n\u001B[1;32m   6957\u001B[0m \u001B[0;34m\u001B[0m\u001B[0m\n",
      "\u001B[0;32m~/opt/anaconda3/lib/python3.9/site-packages/pandas/core/frame.py\u001B[0m in \u001B[0;36m_dispatch_frame_op\u001B[0;34m(self, right, func, axis)\u001B[0m\n\u001B[1;32m   6992\u001B[0m             \u001B[0;31m# TODO operate_blockwise expects a manager of the same type\u001B[0m\u001B[0;34m\u001B[0m\u001B[0;34m\u001B[0m\u001B[0m\n\u001B[1;32m   6993\u001B[0m             \u001B[0;32mwith\u001B[0m \u001B[0mnp\u001B[0m\u001B[0;34m.\u001B[0m\u001B[0merrstate\u001B[0m\u001B[0;34m(\u001B[0m\u001B[0mall\u001B[0m\u001B[0;34m=\u001B[0m\u001B[0;34m\"ignore\"\u001B[0m\u001B[0;34m)\u001B[0m\u001B[0;34m:\u001B[0m\u001B[0;34m\u001B[0m\u001B[0;34m\u001B[0m\u001B[0m\n\u001B[0;32m-> 6994\u001B[0;31m                 bm = self._mgr.operate_blockwise(\n\u001B[0m\u001B[1;32m   6995\u001B[0m                     \u001B[0;31m# error: Argument 1 to \"operate_blockwise\" of \"ArrayManager\" has\u001B[0m\u001B[0;34m\u001B[0m\u001B[0;34m\u001B[0m\u001B[0m\n\u001B[1;32m   6996\u001B[0m                     \u001B[0;31m# incompatible type \"Union[ArrayManager, BlockManager]\"; expected\u001B[0m\u001B[0;34m\u001B[0m\u001B[0;34m\u001B[0m\u001B[0m\n",
      "\u001B[0;32m~/opt/anaconda3/lib/python3.9/site-packages/pandas/core/internals/managers.py\u001B[0m in \u001B[0;36moperate_blockwise\u001B[0;34m(self, other, array_op)\u001B[0m\n\u001B[1;32m   1417\u001B[0m         \u001B[0mApply\u001B[0m \u001B[0marray_op\u001B[0m \u001B[0mblockwise\u001B[0m \u001B[0;32mwith\u001B[0m \u001B[0manother\u001B[0m \u001B[0;34m(\u001B[0m\u001B[0maligned\u001B[0m\u001B[0;34m)\u001B[0m \u001B[0mBlockManager\u001B[0m\u001B[0;34m.\u001B[0m\u001B[0;34m\u001B[0m\u001B[0;34m\u001B[0m\u001B[0m\n\u001B[1;32m   1418\u001B[0m         \"\"\"\n\u001B[0;32m-> 1419\u001B[0;31m         \u001B[0;32mreturn\u001B[0m \u001B[0moperate_blockwise\u001B[0m\u001B[0;34m(\u001B[0m\u001B[0mself\u001B[0m\u001B[0;34m,\u001B[0m \u001B[0mother\u001B[0m\u001B[0;34m,\u001B[0m \u001B[0marray_op\u001B[0m\u001B[0;34m)\u001B[0m\u001B[0;34m\u001B[0m\u001B[0;34m\u001B[0m\u001B[0m\n\u001B[0m\u001B[1;32m   1420\u001B[0m \u001B[0;34m\u001B[0m\u001B[0m\n\u001B[1;32m   1421\u001B[0m     \u001B[0;32mdef\u001B[0m \u001B[0m_equal_values\u001B[0m\u001B[0;34m(\u001B[0m\u001B[0mself\u001B[0m\u001B[0;34m:\u001B[0m \u001B[0mBlockManager\u001B[0m\u001B[0;34m,\u001B[0m \u001B[0mother\u001B[0m\u001B[0;34m:\u001B[0m \u001B[0mBlockManager\u001B[0m\u001B[0;34m)\u001B[0m \u001B[0;34m->\u001B[0m \u001B[0mbool\u001B[0m\u001B[0;34m:\u001B[0m\u001B[0;34m\u001B[0m\u001B[0;34m\u001B[0m\u001B[0m\n",
      "\u001B[0;32m~/opt/anaconda3/lib/python3.9/site-packages/pandas/core/internals/ops.py\u001B[0m in \u001B[0;36moperate_blockwise\u001B[0;34m(left, right, array_op)\u001B[0m\n\u001B[1;32m     61\u001B[0m     \u001B[0mres_blks\u001B[0m\u001B[0;34m:\u001B[0m \u001B[0mlist\u001B[0m\u001B[0;34m[\u001B[0m\u001B[0mBlock\u001B[0m\u001B[0;34m]\u001B[0m \u001B[0;34m=\u001B[0m \u001B[0;34m[\u001B[0m\u001B[0;34m]\u001B[0m\u001B[0;34m\u001B[0m\u001B[0;34m\u001B[0m\u001B[0m\n\u001B[1;32m     62\u001B[0m     \u001B[0;32mfor\u001B[0m \u001B[0mlvals\u001B[0m\u001B[0;34m,\u001B[0m \u001B[0mrvals\u001B[0m\u001B[0;34m,\u001B[0m \u001B[0mlocs\u001B[0m\u001B[0;34m,\u001B[0m \u001B[0mleft_ea\u001B[0m\u001B[0;34m,\u001B[0m \u001B[0mright_ea\u001B[0m\u001B[0;34m,\u001B[0m \u001B[0mrblk\u001B[0m \u001B[0;32min\u001B[0m \u001B[0m_iter_block_pairs\u001B[0m\u001B[0;34m(\u001B[0m\u001B[0mleft\u001B[0m\u001B[0;34m,\u001B[0m \u001B[0mright\u001B[0m\u001B[0;34m)\u001B[0m\u001B[0;34m:\u001B[0m\u001B[0;34m\u001B[0m\u001B[0;34m\u001B[0m\u001B[0m\n\u001B[0;32m---> 63\u001B[0;31m         \u001B[0mres_values\u001B[0m \u001B[0;34m=\u001B[0m \u001B[0marray_op\u001B[0m\u001B[0;34m(\u001B[0m\u001B[0mlvals\u001B[0m\u001B[0;34m,\u001B[0m \u001B[0mrvals\u001B[0m\u001B[0;34m)\u001B[0m\u001B[0;34m\u001B[0m\u001B[0;34m\u001B[0m\u001B[0m\n\u001B[0m\u001B[1;32m     64\u001B[0m         \u001B[0;32mif\u001B[0m \u001B[0mleft_ea\u001B[0m \u001B[0;32mand\u001B[0m \u001B[0;32mnot\u001B[0m \u001B[0mright_ea\u001B[0m \u001B[0;32mand\u001B[0m \u001B[0mhasattr\u001B[0m\u001B[0;34m(\u001B[0m\u001B[0mres_values\u001B[0m\u001B[0;34m,\u001B[0m \u001B[0;34m\"reshape\"\u001B[0m\u001B[0;34m)\u001B[0m\u001B[0;34m:\u001B[0m\u001B[0;34m\u001B[0m\u001B[0;34m\u001B[0m\u001B[0m\n\u001B[1;32m     65\u001B[0m             \u001B[0mres_values\u001B[0m \u001B[0;34m=\u001B[0m \u001B[0mres_values\u001B[0m\u001B[0;34m.\u001B[0m\u001B[0mreshape\u001B[0m\u001B[0;34m(\u001B[0m\u001B[0;36m1\u001B[0m\u001B[0;34m,\u001B[0m \u001B[0;34m-\u001B[0m\u001B[0;36m1\u001B[0m\u001B[0;34m)\u001B[0m\u001B[0;34m\u001B[0m\u001B[0;34m\u001B[0m\u001B[0m\n",
      "\u001B[0;32m~/opt/anaconda3/lib/python3.9/site-packages/pandas/core/ops/array_ops.py\u001B[0m in \u001B[0;36marithmetic_op\u001B[0;34m(left, right, op)\u001B[0m\n\u001B[1;32m    214\u001B[0m         \u001B[0;31m# Timedelta/Timestamp and other custom scalars are included in the check\u001B[0m\u001B[0;34m\u001B[0m\u001B[0;34m\u001B[0m\u001B[0m\n\u001B[1;32m    215\u001B[0m         \u001B[0;31m# because numexpr will fail on it, see GH#31457\u001B[0m\u001B[0;34m\u001B[0m\u001B[0;34m\u001B[0m\u001B[0m\n\u001B[0;32m--> 216\u001B[0;31m         \u001B[0mres_values\u001B[0m \u001B[0;34m=\u001B[0m \u001B[0mop\u001B[0m\u001B[0;34m(\u001B[0m\u001B[0mleft\u001B[0m\u001B[0;34m,\u001B[0m \u001B[0mright\u001B[0m\u001B[0;34m)\u001B[0m\u001B[0;34m\u001B[0m\u001B[0;34m\u001B[0m\u001B[0m\n\u001B[0m\u001B[1;32m    217\u001B[0m     \u001B[0;32melse\u001B[0m\u001B[0;34m:\u001B[0m\u001B[0;34m\u001B[0m\u001B[0;34m\u001B[0m\u001B[0m\n\u001B[1;32m    218\u001B[0m         \u001B[0;31m# TODO we should handle EAs consistently and move this check before the if/else\u001B[0m\u001B[0;34m\u001B[0m\u001B[0;34m\u001B[0m\u001B[0m\n",
      "\u001B[0;32m~/opt/anaconda3/lib/python3.9/site-packages/pandas/core/ops/common.py\u001B[0m in \u001B[0;36mnew_method\u001B[0;34m(self, other)\u001B[0m\n\u001B[1;32m     68\u001B[0m         \u001B[0mother\u001B[0m \u001B[0;34m=\u001B[0m \u001B[0mitem_from_zerodim\u001B[0m\u001B[0;34m(\u001B[0m\u001B[0mother\u001B[0m\u001B[0;34m)\u001B[0m\u001B[0;34m\u001B[0m\u001B[0;34m\u001B[0m\u001B[0m\n\u001B[1;32m     69\u001B[0m \u001B[0;34m\u001B[0m\u001B[0m\n\u001B[0;32m---> 70\u001B[0;31m         \u001B[0;32mreturn\u001B[0m \u001B[0mmethod\u001B[0m\u001B[0;34m(\u001B[0m\u001B[0mself\u001B[0m\u001B[0;34m,\u001B[0m \u001B[0mother\u001B[0m\u001B[0;34m)\u001B[0m\u001B[0;34m\u001B[0m\u001B[0;34m\u001B[0m\u001B[0m\n\u001B[0m\u001B[1;32m     71\u001B[0m \u001B[0;34m\u001B[0m\u001B[0m\n\u001B[1;32m     72\u001B[0m     \u001B[0;32mreturn\u001B[0m \u001B[0mnew_method\u001B[0m\u001B[0;34m\u001B[0m\u001B[0;34m\u001B[0m\u001B[0m\n",
      "\u001B[0;32m~/opt/anaconda3/lib/python3.9/site-packages/pandas/core/arrays/datetimelike.py\u001B[0m in \u001B[0;36m__add__\u001B[0;34m(self, other)\u001B[0m\n\u001B[1;32m   1281\u001B[0m         \u001B[0;32melif\u001B[0m \u001B[0mis_datetime64_dtype\u001B[0m\u001B[0;34m(\u001B[0m\u001B[0mother_dtype\u001B[0m\u001B[0;34m)\u001B[0m \u001B[0;32mor\u001B[0m \u001B[0mis_datetime64tz_dtype\u001B[0m\u001B[0;34m(\u001B[0m\u001B[0mother_dtype\u001B[0m\u001B[0;34m)\u001B[0m\u001B[0;34m:\u001B[0m\u001B[0;34m\u001B[0m\u001B[0;34m\u001B[0m\u001B[0m\n\u001B[1;32m   1282\u001B[0m             \u001B[0;31m# DatetimeIndex, ndarray[datetime64]\u001B[0m\u001B[0;34m\u001B[0m\u001B[0;34m\u001B[0m\u001B[0m\n\u001B[0;32m-> 1283\u001B[0;31m             \u001B[0;32mreturn\u001B[0m \u001B[0mself\u001B[0m\u001B[0;34m.\u001B[0m\u001B[0m_add_datetime_arraylike\u001B[0m\u001B[0;34m(\u001B[0m\u001B[0mother\u001B[0m\u001B[0;34m)\u001B[0m\u001B[0;34m\u001B[0m\u001B[0;34m\u001B[0m\u001B[0m\n\u001B[0m\u001B[1;32m   1284\u001B[0m         \u001B[0;32melif\u001B[0m \u001B[0mis_integer_dtype\u001B[0m\u001B[0;34m(\u001B[0m\u001B[0mother_dtype\u001B[0m\u001B[0;34m)\u001B[0m\u001B[0;34m:\u001B[0m\u001B[0;34m\u001B[0m\u001B[0;34m\u001B[0m\u001B[0m\n\u001B[1;32m   1285\u001B[0m             \u001B[0;32mif\u001B[0m \u001B[0;32mnot\u001B[0m \u001B[0mis_period_dtype\u001B[0m\u001B[0;34m(\u001B[0m\u001B[0mself\u001B[0m\u001B[0;34m.\u001B[0m\u001B[0mdtype\u001B[0m\u001B[0;34m)\u001B[0m\u001B[0;34m:\u001B[0m\u001B[0;34m\u001B[0m\u001B[0;34m\u001B[0m\u001B[0m\n",
      "\u001B[0;32m~/opt/anaconda3/lib/python3.9/site-packages/pandas/core/arrays/datetimelike.py\u001B[0m in \u001B[0;36m_add_datetimelike_scalar\u001B[0;34m(self, other)\u001B[0m\n\u001B[1;32m   1050\u001B[0m     \u001B[0;32mdef\u001B[0m \u001B[0m_add_datetimelike_scalar\u001B[0m\u001B[0;34m(\u001B[0m\u001B[0mself\u001B[0m\u001B[0;34m,\u001B[0m \u001B[0mother\u001B[0m\u001B[0;34m)\u001B[0m\u001B[0;34m:\u001B[0m\u001B[0;34m\u001B[0m\u001B[0;34m\u001B[0m\u001B[0m\n\u001B[1;32m   1051\u001B[0m         \u001B[0;31m# Overridden by TimedeltaArray\u001B[0m\u001B[0;34m\u001B[0m\u001B[0;34m\u001B[0m\u001B[0m\n\u001B[0;32m-> 1052\u001B[0;31m         \u001B[0;32mraise\u001B[0m \u001B[0mTypeError\u001B[0m\u001B[0;34m(\u001B[0m\u001B[0;34mf\"cannot add {type(self).__name__} and {type(other).__name__}\"\u001B[0m\u001B[0;34m)\u001B[0m\u001B[0;34m\u001B[0m\u001B[0;34m\u001B[0m\u001B[0m\n\u001B[0m\u001B[1;32m   1053\u001B[0m \u001B[0;34m\u001B[0m\u001B[0m\n\u001B[1;32m   1054\u001B[0m     \u001B[0m_add_datetime_arraylike\u001B[0m \u001B[0;34m=\u001B[0m \u001B[0m_add_datetimelike_scalar\u001B[0m\u001B[0;34m\u001B[0m\u001B[0;34m\u001B[0m\u001B[0m\n",
      "\u001B[0;31mTypeError\u001B[0m: cannot add DatetimeArray and DatetimeArray"
     ]
    }
   ],
   "execution_count": 38
  },
  {
   "metadata": {
    "ExecuteTime": {
     "end_time": "2025-01-29T22:46:28.208614Z",
     "start_time": "2025-01-29T19:31:33.704424Z"
    }
   },
   "cell_type": "code",
   "source": "filtered_data_stream.to_csv(\"linear_decay_filtered_data_decay_rate_8.csv\", index=False)",
   "id": "8061c8d4210b3392",
   "outputs": [],
   "execution_count": 37
  },
  {
   "metadata": {
    "ExecuteTime": {
     "end_time": "2025-01-29T19:21:36.999041Z",
     "start_time": "2025-01-29T19:21:36.997285Z"
    }
   },
   "cell_type": "code",
   "source": "",
   "id": "bea9958612e4db2d",
   "outputs": [],
   "execution_count": null
  },
  {
   "metadata": {},
   "cell_type": "code",
   "outputs": [],
   "execution_count": null,
   "source": "",
   "id": "94ec943ebb9b4392"
  }
 ],
 "metadata": {
  "kernelspec": {
   "display_name": "Python 3",
   "language": "python",
   "name": "python3"
  },
  "language_info": {
   "codemirror_mode": {
    "name": "ipython",
    "version": 2
   },
   "file_extension": ".py",
   "mimetype": "text/x-python",
   "name": "python",
   "nbconvert_exporter": "python",
   "pygments_lexer": "ipython2",
   "version": "2.7.6"
  }
 },
 "nbformat": 4,
 "nbformat_minor": 5
}
