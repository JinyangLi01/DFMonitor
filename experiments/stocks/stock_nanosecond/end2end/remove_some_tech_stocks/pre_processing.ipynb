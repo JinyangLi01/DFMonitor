{
 "cells": [
  {
   "cell_type": "code",
   "id": "initial_id",
   "metadata": {
    "collapsed": true,
    "ExecuteTime": {
     "end_time": "2025-01-30T23:49:19.647609Z",
     "start_time": "2025-01-30T23:49:19.644305Z"
    }
   },
   "source": [
    "import pandas as pd\n",
    "import numpy as np\n",
    "import sys\n"
   ],
   "outputs": [],
   "execution_count": 2
  },
  {
   "metadata": {
    "ExecuteTime": {
     "end_time": "2025-01-30T23:49:28.960307Z",
     "start_time": "2025-01-30T23:49:22.832266Z"
    }
   },
   "cell_type": "code",
   "source": [
    "\n",
    "\n",
    "# Load your data (replace 'your_data.csv' with your actual file)\n",
    "time_period = \"14-00--14-10\"\n",
    "date = \"20241015\"\n",
    "data_file_name = f\"xnas-itch-{date}_{time_period}\"\n",
    "data_stream = pd.read_csv(f'../../../../../data/stocks_nanosecond/{data_file_name}.csv')\n",
    "\n",
    "\n",
    "\n",
    "date_column = 'ts_event'\n",
    "\n",
    "time_delta = 0\n",
    "batch_results = []\n",
    "data_stream[date_column] = pd.to_datetime(data_stream[date_column])\n",
    "previous_event_timestamp = data_stream[date_column].iloc[0]\n",
    "previous_check_timestamp = data_stream[date_column].iloc[0]\n",
    "\n",
    "\n",
    "\n",
    "\n",
    "time_start = pd.Timestamp('2024-10-15 14:00:10.00', tz='UTC')\n",
    "time_end = pd.Timestamp('2024-10-15 14:00:11.00', tz='UTC')\n",
    "\n",
    "\n",
    "data_stream[date_column] = pd.to_datetime(data_stream[date_column])\n",
    "# get data between time_start and time_end\n",
    "data_stream = data_stream[(data_stream[date_column] >= time_start) & (data_stream[date_column] <= time_end)]\n",
    "\n",
    "\n"
   ],
   "id": "373c047c7e5de9c7",
   "outputs": [],
   "execution_count": 3
  },
  {
   "metadata": {
    "ExecuteTime": {
     "end_time": "2025-01-30T23:49:28.970535Z",
     "start_time": "2025-01-30T23:49:28.966182Z"
    }
   },
   "cell_type": "code",
   "source": [
    "\n",
    "print(len(data_stream))\n",
    "\n",
    "# check ts_event column\n",
    "print(data_stream[date_column].head())\n",
    "print(data_stream[date_column].tail())\n",
    "print(data_stream[date_column].min())\n",
    "print(data_stream[date_column].max())\n"
   ],
   "id": "b17702e8ae9540a2",
   "outputs": [
    {
     "name": "stdout",
     "output_type": "stream",
     "text": [
      "10244\n",
      "74010   2024-10-15 14:00:10.000005390+00:00\n",
      "74011   2024-10-15 14:00:10.000014516+00:00\n",
      "74012   2024-10-15 14:00:10.000037823+00:00\n",
      "74013   2024-10-15 14:00:10.000050011+00:00\n",
      "74014   2024-10-15 14:00:10.000050508+00:00\n",
      "Name: ts_event, dtype: datetime64[ns, UTC]\n",
      "84249   2024-10-15 14:00:10.999595611+00:00\n",
      "84250   2024-10-15 14:00:10.999595611+00:00\n",
      "84251   2024-10-15 14:00:10.999595892+00:00\n",
      "84252   2024-10-15 14:00:10.999595892+00:00\n",
      "84253   2024-10-15 14:00:10.999628058+00:00\n",
      "Name: ts_event, dtype: datetime64[ns, UTC]\n",
      "2024-10-15 14:00:10.000005390+00:00\n",
      "2024-10-15 14:00:10.999628058+00:00\n"
     ]
    }
   ],
   "execution_count": 4
  },
  {
   "metadata": {
    "ExecuteTime": {
     "end_time": "2025-01-30T23:49:30.422726Z",
     "start_time": "2025-01-30T23:49:30.416139Z"
    }
   },
   "cell_type": "code",
   "source": "print(data_stream.groupby(\"sector\").size())",
   "id": "23827425824fce0e",
   "outputs": [
    {
     "name": "stdout",
     "output_type": "stream",
     "text": [
      "sector\n",
      "Basic Materials            108\n",
      "Communication Services    2443\n",
      "Consumer Cyclical         1925\n",
      "Consumer Defensive         618\n",
      "Energy                     492\n",
      "Financial Services         248\n",
      "Healthcare                 655\n",
      "Industrials                 36\n",
      "Technology                3719\n",
      "dtype: int64\n"
     ]
    }
   ],
   "execution_count": 5
  },
  {
   "metadata": {
    "ExecuteTime": {
     "end_time": "2025-01-31T20:44:55.382868Z",
     "start_time": "2025-01-31T20:44:44.609683Z"
    }
   },
   "cell_type": "code",
   "source": [
    "import pandas as pd\n",
    "import numpy as np\n",
    "\n",
    "\n",
    "time_period = \"14-00--14-10\"\n",
    "date = \"20241015\"\n",
    "data_file_name = f\"xnas-itch-{date}_{time_period}\"\n",
    "pre_data_stream = pd.read_csv(f'../../../../../data/stocks_nanosecond/{data_file_name}.csv')\n",
    "\n",
    "time_start = pd.Timestamp('2024-10-15 14:00:10.30', tz='UTC')\n",
    "\n",
    "time_end = pd.Timestamp('2024-10-15 14:00:11.00', tz='UTC')\n",
    "\n",
    "\n",
    "pre_data_stream[date_column] = pd.to_datetime(pre_data_stream[date_column])\n",
    "# get data between time_start and time_end\n",
    "pre_data_stream = pre_data_stream[ (pre_data_stream[date_column] <= time_start)]\n",
    "\n",
    "print(\"len predatastream: \", len(pre_data_stream))\n",
    "\n",
    "\n",
    "\n",
    "\n",
    "time_period = \"14-00--14-10\"\n",
    "date = \"20241015\"\n",
    "data_file_name = f\"xnas-itch-{date}_{time_period}\"\n",
    "data_stream = pd.read_csv(f'../../../../../data/stocks_nanosecond/{data_file_name}.csv')\n",
    "\n",
    "\n",
    "\n",
    "data_stream[date_column] = pd.to_datetime(data_stream[date_column])\n",
    "# get data between time_start and time_end\n",
    "data_stream = data_stream[(data_stream[date_column] >= time_start) & (data_stream[date_column] <= time_end)]\n",
    "\n",
    "print(\"len of data stream start to end:\", len(data_stream))\n",
    "\n",
    "date_column = 'ts_event'\n",
    "\n",
    "\n",
    "# Sort by timestamp (if not already sorted)\n",
    "data_stream = data_stream.sort_values(date_column).reset_index(drop=True)\n",
    "\n",
    "# Identify indices of technology items\n",
    "tech_indices = data_stream[data_stream[\"sector\"] == \"Technology\"].index\n",
    "\n",
    "# Define a decay function (e.g., linear decay)\n",
    "def decay_function(index, total_items, decay_rate=0.5):\n",
    "    \"\"\"Returns the probability of removing an item based on its position.\"\"\"\n",
    "    return decay_rate * (index / total_items)\n",
    "\n",
    "\n",
    "# # Define a decay function (e.g., exponential decay)\n",
    "# def decay_function(index, total_items, decay_rate=0.8):\n",
    "#     \"\"\"Exponential decay: Probability increases exponentially with position.\"\"\"\n",
    "#     return decay_rate * (np.exp(index / total_items) - 1)\n",
    "\n",
    "\n",
    "\n",
    "# Set decay rate (adjust as needed)\n",
    "decay_rate = 0.7\n",
    "\n",
    "# Randomly remove technology items based on the decay function\n",
    "np.random.seed(42)  # For reproducibility\n",
    "remove_mask = np.random.rand(len(tech_indices)) < decay_function(tech_indices, len(data_stream), decay_rate)\n",
    "indices_to_remove = tech_indices[remove_mask]\n",
    "\n",
    "# Remove the selected items\n",
    "filtered_data_stream = data_stream.drop(indices_to_remove).reset_index(drop=True)\n",
    "\n",
    "print(\"len of filtered_data_stream:\", len(filtered_data_stream))\n",
    "\n",
    "\n",
    "result_data =  pd.concat([pre_data_stream, filtered_data_stream])\n",
    "print(\"len of removed_data: \", len(result_data))\n",
    "# Verify the result\n",
    "print(result_data.groupby(\"sector\").size())\n"
   ],
   "id": "710384f559b0e986",
   "outputs": [
    {
     "name": "stdout",
     "output_type": "stream",
     "text": [
      "len predatastream:  76601\n",
      "len of data stream start to end: 7653\n",
      "len of filtered_data_stream: 6726\n",
      "len of removed_data:  83327\n",
      "sector\n",
      "Basic Materials             397\n",
      "Communication Services    13471\n",
      "Consumer Cyclical         10497\n",
      "Consumer Defensive         5255\n",
      "Energy                     3817\n",
      "Financial Services         3070\n",
      "Healthcare                 4950\n",
      "Industrials                 151\n",
      "Technology                41719\n",
      "dtype: int64\n"
     ]
    }
   ],
   "execution_count": 55
  },
  {
   "metadata": {
    "ExecuteTime": {
     "end_time": "2025-01-31T20:44:55.407496Z",
     "start_time": "2025-01-31T20:44:55.404275Z"
    }
   },
   "cell_type": "code",
   "source": "result_data[date_column].min()",
   "id": "243ef190ddeefab7",
   "outputs": [
    {
     "data": {
      "text/plain": [
       "Timestamp('2024-10-15 14:00:00.000258375+0000', tz='UTC')"
      ]
     },
     "execution_count": 56,
     "metadata": {},
     "output_type": "execute_result"
    }
   ],
   "execution_count": 56
  },
  {
   "metadata": {
    "ExecuteTime": {
     "end_time": "2025-01-31T20:44:55.471984Z",
     "start_time": "2025-01-31T20:44:55.468270Z"
    }
   },
   "cell_type": "code",
   "source": "result_data[date_column].max()",
   "id": "56fc13cfed78aae",
   "outputs": [
    {
     "data": {
      "text/plain": [
       "Timestamp('2024-10-15 14:00:10.999628058+0000', tz='UTC')"
      ]
     },
     "execution_count": 57,
     "metadata": {},
     "output_type": "execute_result"
    }
   ],
   "execution_count": 57
  },
  {
   "metadata": {
    "ExecuteTime": {
     "end_time": "2025-01-31T20:44:55.557765Z",
     "start_time": "2025-01-31T20:44:55.548126Z"
    }
   },
   "cell_type": "code",
   "source": [
    "time_start = pd.Timestamp('2024-10-15 14:00:08.00', tz='UTC')\n",
    "\n",
    "result_data = result_data[(result_data[date_column] >= time_start)]\n",
    "print(\"len of result data: \", len(result_data))"
   ],
   "id": "be639f18f11fb924",
   "outputs": [
    {
     "name": "stdout",
     "output_type": "stream",
     "text": [
      "len of result data:  19245\n"
     ]
    }
   ],
   "execution_count": 58
  },
  {
   "metadata": {
    "ExecuteTime": {
     "end_time": "2025-01-31T20:44:55.733814Z",
     "start_time": "2025-01-31T20:44:55.592310Z"
    }
   },
   "cell_type": "code",
   "source": "result_data.to_csv(f\"linear_decay_filtered_data_decay_rate_{int(decay_rate*10)}.csv\", index=False)",
   "id": "8061c8d4210b3392",
   "outputs": [],
   "execution_count": 59
  },
  {
   "metadata": {
    "ExecuteTime": {
     "end_time": "2025-01-30T23:51:37.304034Z",
     "start_time": "2025-01-30T23:51:37.302653Z"
    }
   },
   "cell_type": "code",
   "source": "",
   "id": "bea9958612e4db2d",
   "outputs": [],
   "execution_count": null
  },
  {
   "metadata": {},
   "cell_type": "code",
   "outputs": [],
   "execution_count": null,
   "source": "",
   "id": "94ec943ebb9b4392"
  }
 ],
 "metadata": {
  "kernelspec": {
   "display_name": "Python 3",
   "language": "python",
   "name": "python3"
  },
  "language_info": {
   "codemirror_mode": {
    "name": "ipython",
    "version": 2
   },
   "file_extension": ".py",
   "mimetype": "text/x-python",
   "name": "python",
   "nbconvert_exporter": "python",
   "pygments_lexer": "ipython2",
   "version": "2.7.6"
  }
 },
 "nbformat": 4,
 "nbformat_minor": 5
}
