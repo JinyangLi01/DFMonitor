{
 "cells": [
  {
   "cell_type": "code",
   "id": "initial_id",
   "metadata": {
    "collapsed": true,
    "ExecuteTime": {
     "end_time": "2025-02-20T03:00:47.539548Z",
     "start_time": "2025-02-20T03:00:47.537066Z"
    }
   },
   "source": [
    "import pandas as pd\n",
    "import numpy as np\n",
    "import matplotlib.pyplot as plt\n",
    "import seaborn as sns"
   ],
   "outputs": [],
   "execution_count": 13
  },
  {
   "metadata": {
    "ExecuteTime": {
     "end_time": "2025-02-20T03:00:48.010262Z",
     "start_time": "2025-02-20T03:00:47.999474Z"
    }
   },
   "cell_type": "code",
   "source": "data = pd.read_csv(\"prediction_result_xnas-itch-20241015_14-00--14-10_chunk_size_1_v3.csv\")",
   "id": "2b661e9bc534aba7",
   "outputs": [],
   "execution_count": 14
  },
  {
   "metadata": {
    "ExecuteTime": {
     "end_time": "2025-02-20T03:00:48.544841Z",
     "start_time": "2025-02-20T03:00:48.541985Z"
    }
   },
   "cell_type": "code",
   "source": "print(len(data))",
   "id": "65a6a7f1a0925232",
   "outputs": [
    {
     "name": "stdout",
     "output_type": "stream",
     "text": [
      "4000\n"
     ]
    }
   ],
   "execution_count": 15
  },
  {
   "metadata": {
    "ExecuteTime": {
     "end_time": "2025-02-20T03:00:49.366019Z",
     "start_time": "2025-02-20T03:00:49.360790Z"
    }
   },
   "cell_type": "code",
   "source": "print(data[:2])",
   "id": "aa1f2b29627985c4",
   "outputs": [
    {
     "name": "stdout",
     "output_type": "stream",
     "text": [
      "                          ts_recv                             ts_event  rtype  \\\n",
      "0  2024-10-15T14:00:03.000436900Z  2024-10-15 14:00:03.000266507+00:00    160   \n",
      "1  2024-10-15T14:00:03.000450264Z  2024-10-15 14:00:03.000282520+00:00    160   \n",
      "\n",
      "   publisher_id  instrument_id action side   price  size  channel_id  \\\n",
      "0             2             38      A    B  236.71    10           0   \n",
      "1             2          16244      A    B  221.52   100           0   \n",
      "\n",
      "    order_id  flags  ts_in_delta  sequence symbol             sector  \\\n",
      "0   97487701    128       170393  86128012   AAPL         Technology   \n",
      "1  166990840    130       167744  86128020   TSLA  Consumer Cyclical   \n",
      "\n",
      "   ts_event_datetime  next_price_direction  predicted_direction  \\\n",
      "0                  0                 False                    1   \n",
      "1                  0                 False                    1   \n",
      "\n",
      "   prediction_binary_correctness  \n",
      "0                            NaN  \n",
      "1                            NaN  \n"
     ]
    }
   ],
   "execution_count": 16
  },
  {
   "metadata": {
    "ExecuteTime": {
     "end_time": "2025-02-20T03:00:49.996424Z",
     "start_time": "2025-02-20T03:00:49.989230Z"
    }
   },
   "cell_type": "code",
   "source": [
    "currect = len(data[data[\"prediction_binary_correctness\"] == 1])\n",
    "incorrect = len(data[data[\"prediction_binary_correctness\"] == 0])\n",
    "accuracy = currect / (currect + incorrect)\n",
    "print(\"accuracy\", accuracy)"
   ],
   "id": "c03c39d57c82f622",
   "outputs": [
    {
     "ename": "ZeroDivisionError",
     "evalue": "division by zero",
     "output_type": "error",
     "traceback": [
      "\u001B[0;31m---------------------------------------------------------------------------\u001B[0m",
      "\u001B[0;31mZeroDivisionError\u001B[0m                         Traceback (most recent call last)",
      "\u001B[0;32m/var/folders/sy/m1107g5j24x3w6mcyb9njvyw0000gn/T/ipykernel_60729/2639254298.py\u001B[0m in \u001B[0;36m<module>\u001B[0;34m\u001B[0m\n\u001B[1;32m      1\u001B[0m \u001B[0mcurrect\u001B[0m \u001B[0;34m=\u001B[0m \u001B[0mlen\u001B[0m\u001B[0;34m(\u001B[0m\u001B[0mdata\u001B[0m\u001B[0;34m[\u001B[0m\u001B[0mdata\u001B[0m\u001B[0;34m[\u001B[0m\u001B[0;34m\"prediction_binary_correctness\"\u001B[0m\u001B[0;34m]\u001B[0m \u001B[0;34m==\u001B[0m \u001B[0;36m1\u001B[0m\u001B[0;34m]\u001B[0m\u001B[0;34m)\u001B[0m\u001B[0;34m\u001B[0m\u001B[0;34m\u001B[0m\u001B[0m\n\u001B[1;32m      2\u001B[0m \u001B[0mincorrect\u001B[0m \u001B[0;34m=\u001B[0m \u001B[0mlen\u001B[0m\u001B[0;34m(\u001B[0m\u001B[0mdata\u001B[0m\u001B[0;34m[\u001B[0m\u001B[0mdata\u001B[0m\u001B[0;34m[\u001B[0m\u001B[0;34m\"prediction_binary_correctness\"\u001B[0m\u001B[0;34m]\u001B[0m \u001B[0;34m==\u001B[0m \u001B[0;36m0\u001B[0m\u001B[0;34m]\u001B[0m\u001B[0;34m)\u001B[0m\u001B[0;34m\u001B[0m\u001B[0;34m\u001B[0m\u001B[0m\n\u001B[0;32m----> 3\u001B[0;31m \u001B[0maccuracy\u001B[0m \u001B[0;34m=\u001B[0m \u001B[0mcurrect\u001B[0m \u001B[0;34m/\u001B[0m \u001B[0;34m(\u001B[0m\u001B[0mcurrect\u001B[0m \u001B[0;34m+\u001B[0m \u001B[0mincorrect\u001B[0m\u001B[0;34m)\u001B[0m\u001B[0;34m\u001B[0m\u001B[0;34m\u001B[0m\u001B[0m\n\u001B[0m\u001B[1;32m      4\u001B[0m \u001B[0mprint\u001B[0m\u001B[0;34m(\u001B[0m\u001B[0;34m\"accuracy\"\u001B[0m\u001B[0;34m,\u001B[0m \u001B[0maccuracy\u001B[0m\u001B[0;34m)\u001B[0m\u001B[0;34m\u001B[0m\u001B[0;34m\u001B[0m\u001B[0m\n",
      "\u001B[0;31mZeroDivisionError\u001B[0m: division by zero"
     ]
    }
   ],
   "execution_count": 17
  },
  {
   "metadata": {
    "ExecuteTime": {
     "end_time": "2025-02-20T02:59:26.857712Z",
     "start_time": "2025-02-20T02:59:26.854797Z"
    }
   },
   "cell_type": "code",
   "source": "",
   "id": "15e7eae395e935aa",
   "outputs": [
    {
     "name": "stdout",
     "output_type": "stream",
     "text": [
      "accuracy 0.43575\n"
     ]
    }
   ],
   "execution_count": 6
  },
  {
   "metadata": {
    "ExecuteTime": {
     "end_time": "2025-02-18T18:04:31.430320Z",
     "start_time": "2025-02-18T18:04:31.428510Z"
    }
   },
   "cell_type": "code",
   "source": "",
   "id": "31737096a3abbba8",
   "outputs": [],
   "execution_count": null
  },
  {
   "metadata": {},
   "cell_type": "code",
   "outputs": [],
   "execution_count": null,
   "source": "",
   "id": "5eb62d16e36f7a6c"
  }
 ],
 "metadata": {
  "kernelspec": {
   "display_name": "Python 3",
   "language": "python",
   "name": "python3"
  },
  "language_info": {
   "codemirror_mode": {
    "name": "ipython",
    "version": 2
   },
   "file_extension": ".py",
   "mimetype": "text/x-python",
   "name": "python",
   "nbconvert_exporter": "python",
   "pygments_lexer": "ipython2",
   "version": "2.7.6"
  }
 },
 "nbformat": 4,
 "nbformat_minor": 5
}
