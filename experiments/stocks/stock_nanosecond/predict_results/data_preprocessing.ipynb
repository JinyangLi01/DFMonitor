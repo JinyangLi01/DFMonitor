{
 "cells": [
  {
   "cell_type": "code",
   "id": "initial_id",
   "metadata": {
    "collapsed": true,
    "ExecuteTime": {
     "end_time": "2025-02-18T17:59:34.861749Z",
     "start_time": "2025-02-18T17:59:34.859502Z"
    }
   },
   "source": [
    "import pandas as pd\n",
    "import numpy as np\n",
    "import matplotlib.pyplot as plt\n",
    "import seaborn as sns"
   ],
   "outputs": [],
   "execution_count": 1
  },
  {
   "metadata": {
    "ExecuteTime": {
     "end_time": "2025-02-18T18:04:28.516549Z",
     "start_time": "2025-02-18T18:04:28.325190Z"
    }
   },
   "cell_type": "code",
   "source": "data = pd.read_csv(\"prediction_result_xnas-itch-20241015_14-00--14-10_chunk_size_1_v3.csv\")",
   "id": "2b661e9bc534aba7",
   "outputs": [],
   "execution_count": 5
  },
  {
   "metadata": {
    "ExecuteTime": {
     "end_time": "2025-02-18T18:04:28.624741Z",
     "start_time": "2025-02-18T18:04:28.621804Z"
    }
   },
   "cell_type": "code",
   "source": "print(len(data))",
   "id": "65a6a7f1a0925232",
   "outputs": [
    {
     "name": "stdout",
     "output_type": "stream",
     "text": [
      "100586\n"
     ]
    }
   ],
   "execution_count": 6
  },
  {
   "metadata": {
    "ExecuteTime": {
     "end_time": "2025-02-18T18:04:28.951311Z",
     "start_time": "2025-02-18T18:04:28.945940Z"
    }
   },
   "cell_type": "code",
   "source": "print(data[:2])",
   "id": "aa1f2b29627985c4",
   "outputs": [
    {
     "name": "stdout",
     "output_type": "stream",
     "text": [
      "                          ts_recv                             ts_event  rtype  \\\n",
      "0  2024-10-15T14:00:03.000436900Z  2024-10-15 14:00:03.000266507+00:00    160   \n",
      "1  2024-10-15T14:00:03.000450264Z  2024-10-15 14:00:03.000282520+00:00    160   \n",
      "\n",
      "   publisher_id  instrument_id action side   price  size  channel_id  \\\n",
      "0             2             38      A    B  236.71    10           0   \n",
      "1             2          16244      A    B  221.52   100           0   \n",
      "\n",
      "    order_id  flags  ts_in_delta  sequence symbol             sector  \\\n",
      "0   97487701    128       170393  86128012   AAPL         Technology   \n",
      "1  166990840    130       167744  86128020   TSLA  Consumer Cyclical   \n",
      "\n",
      "   ts_event_datetime  next_price_direction  predicted_direction  \\\n",
      "0                  0                 False                    1   \n",
      "1                  0                 False                    1   \n",
      "\n",
      "   prediction_binary_correctness  \n",
      "0                            NaN  \n",
      "1                            NaN  \n"
     ]
    }
   ],
   "execution_count": 7
  },
  {
   "metadata": {
    "ExecuteTime": {
     "end_time": "2025-02-18T18:04:29.897474Z",
     "start_time": "2025-02-18T18:04:29.891816Z"
    }
   },
   "cell_type": "code",
   "source": "data[\"prediction_binary_correctness\"] = data[\"next_price_direction\"] == data[\"predicted_direction\"]",
   "id": "c03c39d57c82f622",
   "outputs": [],
   "execution_count": 8
  },
  {
   "metadata": {
    "ExecuteTime": {
     "end_time": "2025-02-18T18:06:53.178649Z",
     "start_time": "2025-02-18T18:06:53.175909Z"
    }
   },
   "cell_type": "code",
   "source": [
    "# accuracy:\n",
    "accuracy = data[\"prediction_binary_correctness\"].mean()\n",
    "print(\"accuracy\", accuracy)"
   ],
   "id": "15e7eae395e935aa",
   "outputs": [
    {
     "name": "stdout",
     "output_type": "stream",
     "text": [
      "accuracy 0.4402203089893226\n"
     ]
    }
   ],
   "execution_count": 10
  },
  {
   "metadata": {
    "ExecuteTime": {
     "end_time": "2025-02-18T18:04:31.430320Z",
     "start_time": "2025-02-18T18:04:31.428510Z"
    }
   },
   "cell_type": "code",
   "source": "",
   "id": "31737096a3abbba8",
   "outputs": [],
   "execution_count": null
  },
  {
   "metadata": {},
   "cell_type": "code",
   "outputs": [],
   "execution_count": null,
   "source": "",
   "id": "5eb62d16e36f7a6c"
  }
 ],
 "metadata": {
  "kernelspec": {
   "display_name": "Python 3",
   "language": "python",
   "name": "python3"
  },
  "language_info": {
   "codemirror_mode": {
    "name": "ipython",
    "version": 2
   },
   "file_extension": ".py",
   "mimetype": "text/x-python",
   "name": "python",
   "nbconvert_exporter": "python",
   "pygments_lexer": "ipython2",
   "version": "2.7.6"
  }
 },
 "nbformat": 4,
 "nbformat_minor": 5
}
