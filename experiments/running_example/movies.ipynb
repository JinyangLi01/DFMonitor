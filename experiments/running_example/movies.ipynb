{
 "cells": [
  {
   "cell_type": "code",
   "execution_count": 1,
   "id": "initial_id",
   "metadata": {
    "collapsed": true,
    "ExecuteTime": {
     "end_time": "2024-04-17T17:26:35.949957Z",
     "start_time": "2024-04-17T17:26:33.776267Z"
    }
   },
   "outputs": [],
   "source": [
    "import csv\n",
    "\n",
    "import matplotlib\n",
    "import pandas as pd\n",
    "import numpy as np\n",
    "from algorithm import FPR_workload as workload\n",
    "import colorsys\n",
    "import sys\n",
    "sys.path.append(\"..\")\n"
   ]
  },
  {
   "cell_type": "code",
   "outputs": [
    {
     "name": "stdout",
     "output_type": "stream",
     "text": [
      "[9] [10]\n",
      "here:  9.0 10.0\n",
      "[9, 10] [10, 10]\n",
      "here:  14.5 15.0\n",
      "[9, 10, 10] [10, 10, 10]\n",
      "here:  17.25 17.5\n",
      "[9, 10, 10, 9] [10, 10, 10, 10]\n",
      "here:  17.625 18.75\n",
      "[9, 10, 10, 9, 9] [10, 10, 10, 10, 10]\n",
      "here:  17.8125 19.375\n",
      "[9, 10, 10, 9, 9, 7] [10, 10, 10, 10, 10, 10]\n",
      "here:  15.90625 19.6875\n",
      "[9, 10, 10, 9, 9, 7, 7] [10, 10, 10, 10, 10, 10, 10]\n",
      "here:  14.953125 19.84375\n"
     ]
    }
   ],
   "source": [
    "\n",
    "0.9\n",
    "num_correct_female = [9, 10, 10, 9, 9, 7, 7]\n",
    "num_time_window = 7\n",
    "num_all_female = [10] * num_time_window\n",
    "\n",
    "time_decay = 0.5\n",
    "\n",
    "\n",
    "def time_decay_and_average(num_correct, num_all, num_time_window, time_decay=0.5):\n",
    "    num_correct = num_correct[:num_time_window]\n",
    "    num_all = num_all[:num_time_window]\n",
    "    print(num_correct, num_all)\n",
    "    # get the average accuracy\n",
    "    average_accuracy = sum(num_correct) / sum(num_all)\n",
    "    \n",
    "    # get the time decay number of correct\n",
    "    time_decay_num_correct_aggregate  = 0\n",
    "    for i in range(num_time_window):\n",
    "        time_decay_num_correct_aggregate = time_decay_num_correct_aggregate * time_decay + num_correct[i] \n",
    "\n",
    "    \n",
    "    # get the time decay total number\n",
    "    time_decay_num_all = 0\n",
    "    for i in range(num_time_window):\n",
    "        time_decay_num_all = time_decay_num_all * time_decay + num_all[i] \n",
    "    \n",
    "    print(\"here: \", time_decay_num_correct_aggregate, time_decay_num_all)\n",
    "    # get the time decay accuracy\n",
    "    time_decay_accuracy = time_decay_num_correct_aggregate / time_decay_num_all\n",
    "    # print(average_accuracy, time_decay_accuracy)\n",
    "    return average_accuracy, time_decay_accuracy\n",
    "    \n",
    "\n",
    "# average_accuracy, time_decay_accuracy = time_decay_and_average(accuracy_female, num_correct_female, num_all_female, num_time_window, time_decay)\n",
    "# print the average accuracy and time decay accuracy of each month\n",
    "for i in range(1, num_time_window+1):\n",
    "    average_accuracy, time_decay_accuracy = time_decay_and_average(num_correct_female, num_all_female, i, time_decay)\n",
    "    # print(f\"average accuracy of {i} month: {average_accuracy}, time decay accuracy of {i} month: {time_decay_accuracy}\")\n",
    "    # \n",
    "    \n",
    "    "
   ],
   "metadata": {
    "collapsed": false,
    "ExecuteTime": {
     "end_time": "2024-04-17T22:15:03.233554Z",
     "start_time": "2024-04-17T22:15:03.227898Z"
    }
   },
   "id": "5e906e8b95a21994",
   "execution_count": 94
  },
  {
   "cell_type": "code",
   "outputs": [
    {
     "name": "stdout",
     "output_type": "stream",
     "text": [
      "[9] [10]\n",
      "average accuracy of 1 month: 0.9, time decay accuracy of 1 month: 0.9\n",
      "[9, 10] [10, 10]\n",
      "average accuracy of 2 month: 0.95, time decay accuracy of 2 month: 0.9666666666666667\n",
      "[9, 10, 9] [10, 10, 10]\n",
      "average accuracy of 3 month: 0.9333333333333333, time decay accuracy of 3 month: 0.9285714285714286\n",
      "[9, 10, 9, 10] [10, 10, 10, 10]\n",
      "average accuracy of 4 month: 0.95, time decay accuracy of 4 month: 0.9666666666666667\n",
      "[9, 10, 9, 10, 7] [10, 10, 10, 10, 10]\n",
      "average accuracy of 5 month: 0.9, time decay accuracy of 5 month: 0.8290322580645161\n",
      "[9, 10, 9, 10, 7, 10] [10, 10, 10, 10, 10, 10]\n",
      "average accuracy of 6 month: 0.9166666666666666, time decay accuracy of 6 month: 0.9158730158730158\n",
      "[9, 10, 9, 10, 7, 10, 9] [10, 10, 10, 10, 10, 10, 10]\n",
      "average accuracy of 7 month: 0.9142857142857143, time decay accuracy of 7 month: 0.9078740157480315\n"
     ]
    }
   ],
   "source": [
    "# male\n",
    "num_correct = [9, 10, 9, 10, 7, 10, 9]\n",
    "\n",
    "\n",
    "num_all = [10] * num_time_window\n",
    "num_time_window = 7  \n",
    "time_decay = 0.5\n",
    "\n",
    "\n",
    "for i in range(1, num_time_window+1):\n",
    "    average_accuracy, time_decay_accuracy = time_decay_and_average(num_correct, num_all, i, time_decay)\n",
    "    print(f\"average accuracy of {i} month: {average_accuracy}, time decay accuracy of {i} month: {time_decay_accuracy}\")\n",
    "    \n",
    "\n"
   ],
   "metadata": {
    "collapsed": false,
    "ExecuteTime": {
     "end_time": "2024-04-17T21:18:09.032687Z",
     "start_time": "2024-04-17T21:18:09.029299Z"
    }
   },
   "id": "aa3a62aff446293c",
   "execution_count": 79
  },
  {
   "cell_type": "code",
   "outputs": [
    {
     "name": "stdout",
     "output_type": "stream",
     "text": [
      "average accuracy:  0.8333333333333334\n",
      "0.9571428571428572\n"
     ]
    }
   ],
   "source": [
    "\n",
    "num_window = 3\n",
    "\n",
    "sum_correct = 9+9+7\n",
    "sum_all = 10+10+10\n",
    "ave_acc = sum_correct / sum_all\n",
    "print(\"average accuracy: \", ave_acc)\n",
    "\n",
    "time_decay_sum_correct = 9 * (time_decay ** (num_window - 1)) + 9 * (time_decay ** (num_window - 2)) + 10 * (time_decay ** (num_window - 3))\n",
    "time_decay_sum_all = 10 * (time_decay ** (num_window - 1)) + 10 * (time_decay ** (num_window - 2)) + 10 * (time_decay ** (num_window - 3))\n",
    "time_decay_acc = time_decay_sum_correct / time_decay_sum_all\n",
    "print(time_decay_acc)\n",
    "\n",
    "\n",
    "\n"
   ],
   "metadata": {
    "collapsed": false,
    "ExecuteTime": {
     "end_time": "2024-04-17T21:42:39.776408Z",
     "start_time": "2024-04-17T21:42:39.771184Z"
    }
   },
   "id": "b6b60988941ee55f",
   "execution_count": 91
  },
  {
   "cell_type": "code",
   "outputs": [],
   "source": [
    "\n",
    "\n",
    "\n"
   ],
   "metadata": {
    "collapsed": false
   },
   "id": "be03df748853a18d"
  }
 ],
 "metadata": {
  "kernelspec": {
   "display_name": "Python 3",
   "language": "python",
   "name": "python3"
  },
  "language_info": {
   "codemirror_mode": {
    "name": "ipython",
    "version": 2
   },
   "file_extension": ".py",
   "mimetype": "text/x-python",
   "name": "python",
   "nbconvert_exporter": "python",
   "pygments_lexer": "ipython2",
   "version": "2.7.6"
  }
 },
 "nbformat": 4,
 "nbformat_minor": 5
}
