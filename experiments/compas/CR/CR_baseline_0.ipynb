{
 "cells": [
  {
   "cell_type": "markdown",
   "source": [
    "use file cox-parsed_7214rows_with_labels.csv\n",
    "It contains predicted and ground truth used in propublica\n",
    "compute the fairness metrics by compas_screening_date"
   ],
   "metadata": {
    "collapsed": false
   },
   "id": "19a27a3e63b82ae8"
  },
  {
   "cell_type": "markdown",
   "source": [
    "# get all time stamps"
   ],
   "metadata": {
    "collapsed": false
   },
   "id": "3449e5a10e4b1d7e"
  },
  {
   "cell_type": "code",
   "execution_count": 6,
   "id": "initial_id",
   "metadata": {
    "collapsed": true,
    "ExecuteTime": {
     "end_time": "2024-01-23T19:03:38.601434Z",
     "start_time": "2024-01-23T19:03:38.582113Z"
    }
   },
   "outputs": [
    {
     "name": "stdout",
     "output_type": "stream",
     "text": [
      "The autoreload extension is already loaded. To reload it, use:\n",
      "  %reload_ext autoreload\n"
     ]
    }
   ],
   "source": [
    "# First, install the autoreload extension\n",
    "%load_ext autoreload\n",
    "# Set autoreload to automatically reload modules\n",
    "%autoreload 2\n",
    "import pandas as pd\n",
    "import numpy as np\n",
    "import matplotlib.pyplot as plt\n",
    "from algorithm import CR_0_20240118 as CR\n",
    "from algorithm import CR_baseline_0_20240118 as CR_baseline\n",
    "\n"
   ]
  },
  {
   "cell_type": "markdown",
   "source": [
    "# read data"
   ],
   "metadata": {
    "collapsed": false
   },
   "id": "9c6611aef57d63ac"
  },
  {
   "cell_type": "code",
   "outputs": [],
   "source": [
    "data = pd.read_csv('../../data/compas/preprocessed/cox-parsed_7214rows_with_labels_sorted_by_dates.csv')"
   ],
   "metadata": {
    "collapsed": false,
    "ExecuteTime": {
     "end_time": "2024-01-23T19:03:39.300741Z",
     "start_time": "2024-01-23T19:03:39.243045Z"
    }
   },
   "id": "4ea34b45dd663708",
   "execution_count": 7
  },
  {
   "cell_type": "code",
   "outputs": [
    {
     "data": {
      "text/plain": "      id             name     first      last compas_screening_date     sex  \\\n0  10686  martin martinez    martin  martinez            2013-01-01    Male   \n1   5084    regina battle    regina    battle            2013-01-01  Female   \n2    604   devaughn brown  devaughn     brown            2013-01-01    Male   \n3     16  kortney coleman   kortney   coleman            2013-01-01  Female   \n\n          dob  age       age_cat              race  ...  v_score_text  \\\n0  1980-01-06   36       25 - 45         Caucasian  ...           Low   \n1  1988-06-28   27       25 - 45  African-American  ...           Low   \n2  1993-07-25   22  Less than 25  African-American  ...        Medium   \n3  1978-08-22   37       25 - 45         Caucasian  ...           Low   \n\n   v_screening_date  in_custody  out_custody  priors_count.1  start   end  \\\n0        2013-01-01  2013-01-01   2013-02-06               0     36  1186   \n1        2013-01-01         NaN          NaN               0      0  1186   \n2        2013-01-01  2013-12-30   2014-01-10               0     21   363   \n3        2013-01-01  2013-01-01   2013-01-02               0      1  1186   \n\n  event predicted ground_truth  \n0     0         0            0  \n1     0         0            0  \n2     0         1            1  \n3     0         0            0  \n\n[4 rows x 54 columns]",
      "text/html": "<div>\n<style scoped>\n    .dataframe tbody tr th:only-of-type {\n        vertical-align: middle;\n    }\n\n    .dataframe tbody tr th {\n        vertical-align: top;\n    }\n\n    .dataframe thead th {\n        text-align: right;\n    }\n</style>\n<table border=\"1\" class=\"dataframe\">\n  <thead>\n    <tr style=\"text-align: right;\">\n      <th></th>\n      <th>id</th>\n      <th>name</th>\n      <th>first</th>\n      <th>last</th>\n      <th>compas_screening_date</th>\n      <th>sex</th>\n      <th>dob</th>\n      <th>age</th>\n      <th>age_cat</th>\n      <th>race</th>\n      <th>...</th>\n      <th>v_score_text</th>\n      <th>v_screening_date</th>\n      <th>in_custody</th>\n      <th>out_custody</th>\n      <th>priors_count.1</th>\n      <th>start</th>\n      <th>end</th>\n      <th>event</th>\n      <th>predicted</th>\n      <th>ground_truth</th>\n    </tr>\n  </thead>\n  <tbody>\n    <tr>\n      <th>0</th>\n      <td>10686</td>\n      <td>martin martinez</td>\n      <td>martin</td>\n      <td>martinez</td>\n      <td>2013-01-01</td>\n      <td>Male</td>\n      <td>1980-01-06</td>\n      <td>36</td>\n      <td>25 - 45</td>\n      <td>Caucasian</td>\n      <td>...</td>\n      <td>Low</td>\n      <td>2013-01-01</td>\n      <td>2013-01-01</td>\n      <td>2013-02-06</td>\n      <td>0</td>\n      <td>36</td>\n      <td>1186</td>\n      <td>0</td>\n      <td>0</td>\n      <td>0</td>\n    </tr>\n    <tr>\n      <th>1</th>\n      <td>5084</td>\n      <td>regina battle</td>\n      <td>regina</td>\n      <td>battle</td>\n      <td>2013-01-01</td>\n      <td>Female</td>\n      <td>1988-06-28</td>\n      <td>27</td>\n      <td>25 - 45</td>\n      <td>African-American</td>\n      <td>...</td>\n      <td>Low</td>\n      <td>2013-01-01</td>\n      <td>NaN</td>\n      <td>NaN</td>\n      <td>0</td>\n      <td>0</td>\n      <td>1186</td>\n      <td>0</td>\n      <td>0</td>\n      <td>0</td>\n    </tr>\n    <tr>\n      <th>2</th>\n      <td>604</td>\n      <td>devaughn brown</td>\n      <td>devaughn</td>\n      <td>brown</td>\n      <td>2013-01-01</td>\n      <td>Male</td>\n      <td>1993-07-25</td>\n      <td>22</td>\n      <td>Less than 25</td>\n      <td>African-American</td>\n      <td>...</td>\n      <td>Medium</td>\n      <td>2013-01-01</td>\n      <td>2013-12-30</td>\n      <td>2014-01-10</td>\n      <td>0</td>\n      <td>21</td>\n      <td>363</td>\n      <td>0</td>\n      <td>1</td>\n      <td>1</td>\n    </tr>\n    <tr>\n      <th>3</th>\n      <td>16</td>\n      <td>kortney coleman</td>\n      <td>kortney</td>\n      <td>coleman</td>\n      <td>2013-01-01</td>\n      <td>Female</td>\n      <td>1978-08-22</td>\n      <td>37</td>\n      <td>25 - 45</td>\n      <td>Caucasian</td>\n      <td>...</td>\n      <td>Low</td>\n      <td>2013-01-01</td>\n      <td>2013-01-01</td>\n      <td>2013-01-02</td>\n      <td>0</td>\n      <td>1</td>\n      <td>1186</td>\n      <td>0</td>\n      <td>0</td>\n      <td>0</td>\n    </tr>\n  </tbody>\n</table>\n<p>4 rows × 54 columns</p>\n</div>"
     },
     "execution_count": 8,
     "metadata": {},
     "output_type": "execute_result"
    }
   ],
   "source": [
    "data[:4]"
   ],
   "metadata": {
    "collapsed": false,
    "ExecuteTime": {
     "end_time": "2024-01-23T19:03:39.647053Z",
     "start_time": "2024-01-23T19:03:39.629872Z"
    }
   },
   "id": "47f447b9e328705",
   "execution_count": 8
  },
  {
   "cell_type": "code",
   "outputs": [
    {
     "data": {
      "text/plain": "<Axes: >"
     },
     "execution_count": 9,
     "metadata": {},
     "output_type": "execute_result"
    },
    {
     "data": {
      "text/plain": "<Figure size 640x480 with 1 Axes>",
      "image/png": "[encoded data removed]"
     },
     "metadata": {},
     "output_type": "display_data"
    }
   ],
   "source": [
    "# get distribution of compas_screening_date\n",
    "data['compas_screening_date'] = pd.to_datetime(data['compas_screening_date'])\n",
    "data['compas_screening_date'].hist()"
   ],
   "metadata": {
    "collapsed": false,
    "ExecuteTime": {
     "end_time": "2024-01-23T19:03:40.184471Z",
     "start_time": "2024-01-23T19:03:40.067125Z"
    }
   },
   "id": "9e60eedd6ee78700",
   "execution_count": 9
  },
  {
   "cell_type": "code",
   "outputs": [],
   "source": [
    "# # get the month and year of the date\n",
    "# data['month'] = data['compas_screening_date'].apply(lambda x: x.month)\n",
    "# data['year'] = data['compas_screening_date'].apply(lambda x: x.year)\n",
    "# print(data['month'][:4])"
   ],
   "metadata": {
    "collapsed": false,
    "ExecuteTime": {
     "end_time": "2024-01-23T19:03:40.735978Z",
     "start_time": "2024-01-23T19:03:40.721381Z"
    }
   },
   "id": "85887a629e510306",
   "execution_count": 10
  },
  {
   "cell_type": "code",
   "outputs": [],
   "source": [],
   "metadata": {
    "collapsed": false,
    "ExecuteTime": {
     "end_time": "2024-01-23T19:03:41.555587Z",
     "start_time": "2024-01-23T19:03:41.549978Z"
    }
   },
   "id": "2db52ceabaa0ff9a",
   "execution_count": 10
  },
  {
   "cell_type": "code",
   "outputs": [],
   "source": [
    "# # get data with in the first month\n",
    "# data_first_month = data[data['compas_screening_date'] < '2013-08-01']"
   ],
   "metadata": {
    "collapsed": false,
    "ExecuteTime": {
     "end_time": "2024-01-23T19:03:41.981815Z",
     "start_time": "2024-01-23T19:03:41.969189Z"
    }
   },
   "id": "ddd73c319b5621fd",
   "execution_count": 11
  },
  {
   "cell_type": "markdown",
   "source": [
    "# process time series"
   ],
   "metadata": {
    "collapsed": false
   },
   "id": "4182fb9eb9ec1cbd"
  },
  {
   "cell_type": "code",
   "outputs": [],
   "source": [
    "# use CR to monitor tpr of different races over time\n",
    "# a time window is a month\n",
    "\n",
    "# Function to compute the time window key (e.g., year-month for 'month' windows)\n",
    "def compute_time_window_key(row, window_type):\n",
    "    if window_type == 'year':\n",
    "        return row.year\n",
    "    elif window_type == 'month':\n",
    "        return f\"{row.year}-{row.month}\"\n",
    "    elif window_type == 'week':\n",
    "        return f\"{row.year}-{row.week}\"\n",
    "    elif window_type == 'day':\n",
    "        return f\"{row.year}-{row.month}-{row.day}\"\n",
    "\n",
    "def belong_to_group(row, group):\n",
    "    for key in group.keys():\n",
    "        if row[key] != group[key]:\n",
    "            return False\n",
    "    return True\n",
    "\n",
    "def monitorCR_baseline(timed_data, date_column, time_window_str, monitored_groups, threshold, alpha):\n",
    "    number, unit = time_window_str.split()\n",
    "    \n",
    "    # Apply the function to compute the window key for each row\n",
    "    timed_data['window_key'] = timed_data[date_column].apply(compute_time_window_key, args=(unit,))\n",
    "    # Determine the start of a new window\n",
    "    timed_data['new_window'] = timed_data['window_key'] != timed_data['window_key'].shift(1)\n",
    "    \n",
    "    DFMonitor = CR_baseline.CR_baseline(monitored_groups, alpha, threshold)\n",
    "    DFMonitor.print()\n",
    "\n",
    "    def process_each_tuple(row, DFMonitor):\n",
    "        if row['new_window']:  # new window\n",
    "            print(\"new window, row={}, {}\".format(row['id'], row['compas_screening_date']))\n",
    "            DFMonitor.print()\n",
    "            DFMonitor.new_window()\n",
    "        DFMonitor.insert(row)\n",
    "        return \n",
    "    \n",
    "    timed_data.apply(process_each_tuple, axis=1, args=(DFMonitor,))\n",
    "    \n"
   ],
   "metadata": {
    "collapsed": false,
    "ExecuteTime": {
     "end_time": "2024-01-23T20:19:23.117059Z",
     "start_time": "2024-01-23T20:19:23.108117Z"
    }
   },
   "id": "deb7b9edd66eccfb",
   "execution_count": 26
  },
  {
   "cell_type": "code",
   "outputs": [
    {
     "name": "stdout",
     "output_type": "stream",
     "text": [
      "uf [False, False]\n",
      "counters [0, 0]\n",
      "counter_total 0\n",
      "new window, row=10686, 2013-01-01 00:00:00\n",
      "uf [False, False]\n",
      "counters [0, 0]\n",
      "counter_total 0\n",
      "new window, row=9460, 2013-02-01 00:00:00\n",
      "uf [True, True]\n",
      "counters [325.0, 199.0]\n",
      "counter_total 600.0\n",
      "new window, row=4774, 2013-03-01 00:00:00\n",
      "uf [True, True]\n",
      "counters [470.5, 259.5]\n",
      "counter_total 860.0\n",
      "new window, row=7945, 2013-04-01 00:00:00\n",
      "uf [True, True]\n",
      "counters [529.25, 321.75]\n",
      "counter_total 992.0\n",
      "new window, row=5531, 2013-05-01 00:00:00\n",
      "uf [True, True]\n",
      "counters [558.625, 356.875]\n",
      "counter_total 1068.0\n",
      "new window, row=10243, 2013-06-03 00:00:00\n",
      "uf [True, True]\n",
      "counters [520.3125, 337.4375]\n",
      "counter_total 1007.0\n",
      "new window, row=3404, 2013-07-01 00:00:00\n",
      "uf [True, True]\n",
      "counters [295.15625, 197.71875]\n",
      "counter_total 592.5\n",
      "new window, row=6894, 2013-08-01 00:00:00\n",
      "uf [True, True]\n",
      "counters [187.578125, 157.859375]\n",
      "counter_total 413.25\n",
      "new window, row=8656, 2013-09-03 00:00:00\n",
      "uf [True, True]\n",
      "counters [331.7890625, 235.9296875]\n",
      "counter_total 679.625\n",
      "new window, row=750, 2013-10-01 00:00:00\n",
      "uf [True, True]\n",
      "counters [387.89453125, 267.96484375]\n",
      "counter_total 786.8125\n",
      "new window, row=9346, 2013-11-01 00:00:00\n",
      "uf [True, True]\n",
      "counters [428.947265625, 274.982421875]\n",
      "counter_total 834.40625\n",
      "new window, row=459, 2013-12-01 00:00:00\n",
      "uf [True, True]\n",
      "counters [382.4736328125, 258.4912109375]\n",
      "counter_total 755.203125\n",
      "new window, row=10071, 2014-01-01 00:00:00\n",
      "uf [True, True]\n",
      "counters [383.23681640625, 309.24560546875]\n",
      "counter_total 816.6015625\n",
      "new window, row=4390, 2014-02-01 00:00:00\n",
      "uf [True, True]\n",
      "counters [383.618408203125, 300.622802734375]\n",
      "counter_total 799.30078125\n",
      "new window, row=4014, 2014-03-01 00:00:00\n",
      "uf [True, True]\n",
      "counters [380.8092041015625, 270.3114013671875]\n",
      "counter_total 764.650390625\n",
      "new window, row=10606, 2014-04-01 00:00:00\n",
      "uf [True, True]\n",
      "counters [351.40460205078125, 256.15570068359375]\n",
      "counter_total 722.3251953125\n",
      "new window, row=10828, 2014-05-01 00:00:00\n",
      "uf [True, True]\n",
      "counters [233.70230102539062, 161.07785034179688]\n",
      "counter_total 464.16259765625\n",
      "new window, row=4205, 2014-06-01 00:00:00\n",
      "uf [True, True]\n",
      "counters [169.8511505126953, 121.53892517089844]\n",
      "counter_total 341.081298828125\n",
      "new window, row=10760, 2014-07-01 00:00:00\n",
      "uf [True, True]\n",
      "counters [151.92557525634766, 82.76946258544922]\n",
      "counter_total 276.5406494140625\n",
      "new window, row=2883, 2014-08-01 00:00:00\n",
      "uf [True, True]\n",
      "counters [139.96278762817383, 77.38473129272461]\n",
      "counter_total 252.27032470703125\n",
      "new window, row=3144, 2014-09-03 00:00:00\n",
      "uf [True, True]\n",
      "counters [130.9813938140869, 68.6923656463623]\n",
      "counter_total 230.13516235351562\n",
      "new window, row=3214, 2014-10-01 00:00:00\n",
      "uf [True, True]\n",
      "counters [119.49069690704346, 55.34618282318115]\n",
      "counter_total 202.0675811767578\n",
      "new window, row=9072, 2014-11-01 00:00:00\n",
      "uf [True, True]\n",
      "counters [140.74534845352173, 73.67309141159058]\n",
      "counter_total 240.0337905883789\n",
      "new window, row=9404, 2014-12-02 00:00:00\n",
      "uf [True, True]\n",
      "counters [141.37267422676086, 87.83654570579529]\n",
      "counter_total 256.01689529418945\n"
     ]
    }
   ],
   "source": [
    "\n",
    "monitored_groups = [{\"race\": 'African-American'}, {\"race\": 'Caucasian'}]\n",
    "alpha = 0.5\n",
    "threshold = 0.1\n",
    "monitorCR_baseline(data, \"compas_screening_date\", \"1 month\", monitored_groups, threshold, alpha)\n",
    "\n"
   ],
   "metadata": {
    "collapsed": false,
    "ExecuteTime": {
     "end_time": "2024-01-23T20:19:23.560886Z",
     "start_time": "2024-01-23T20:19:23.456226Z"
    }
   },
   "id": "febb49dc48bf42fc",
   "execution_count": 27
  },
  {
   "cell_type": "code",
   "outputs": [],
   "source": [],
   "metadata": {
    "collapsed": false,
    "ExecuteTime": {
     "end_time": "2024-01-23T19:15:58.375731Z",
     "start_time": "2024-01-23T19:15:58.372652Z"
    }
   },
   "id": "ba040edd990f330f",
   "execution_count": 13
  },
  {
   "cell_type": "code",
   "outputs": [],
   "source": [],
   "metadata": {
    "collapsed": false
   },
   "id": "fbb8fc96eb536d97"
  }
 ],
 "metadata": {
  "kernelspec": {
   "name": "venv",
   "language": "python",
   "display_name": "venv"
  },
  "language_info": {
   "codemirror_mode": {
    "name": "ipython",
    "version": 2
   },
   "file_extension": ".py",
   "mimetype": "text/x-python",
   "name": "python",
   "nbconvert_exporter": "python",
   "pygments_lexer": "ipython2",
   "version": "2.7.6"
  }
 },
 "nbformat": 4,
 "nbformat_minor": 5
}
