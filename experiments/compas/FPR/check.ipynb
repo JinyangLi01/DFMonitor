{
 "cells": [
  {
   "cell_type": "code",
   "execution_count": 1,
   "id": "initial_id",
   "metadata": {
    "collapsed": true,
    "ExecuteTime": {
     "end_time": "2024-02-01T22:43:10.214925Z",
     "start_time": "2024-02-01T22:43:09.479738Z"
    }
   },
   "outputs": [],
   "source": [
    "# First, install the autoreload extension\n",
    "%load_ext autoreload\n",
    "# Set autoreload to automatically reload modules\n",
    "%autoreload 2\n",
    "import pandas as pd\n",
    "import numpy as np\n",
    "import matplotlib.pyplot as plt\n",
    "from algorithm import CR_0_20240118 as CR\n",
    "from algorithm import CR_baseline_0_20240118 as CR_baseline\n",
    "\n"
   ]
  },
  {
   "cell_type": "code",
   "outputs": [],
   "source": [
    "timed_data = pd.read_csv('../../../data/compas/preprocessed/cox-parsed_7214rows_with_labels_sorted_by_dates.csv')\n",
    "# get distribution of compas_screening_date\n",
    "timed_data['compas_screening_date'] = pd.to_datetime(timed_data['compas_screening_date'])\n",
    "alpha = 0.5\n",
    "threshold = 0.3"
   ],
   "metadata": {
    "collapsed": false,
    "ExecuteTime": {
     "end_time": "2024-02-01T22:43:58.530692Z",
     "start_time": "2024-02-01T22:43:58.453761Z"
    }
   },
   "id": "80f95b7f21c5727f",
   "execution_count": 4
  },
  {
   "cell_type": "code",
   "outputs": [
    {
     "name": "stdout",
     "output_type": "stream",
     "text": [
      "97 79\n",
      "41 96\n",
      "0.2971014492753623 0.5485714285714286\n"
     ]
    }
   ],
   "source": [
    "########################################### 0 - 599\n",
    "sub = timed_data[:600]\n",
    "# FPR for caucasian:\n",
    "FP_Cau = 0\n",
    "TN_Cau = 0\n",
    "def func_White(row):\n",
    "    global FP_Cau\n",
    "    global TN_Cau\n",
    "    if row['race'] == \"Caucasian\":\n",
    "        if row[\"predicted\"] == 1 and row[\"ground_truth\"] == 0:\n",
    "            FP_Cau += 1\n",
    "        elif row[\"predicted\"] == 0 and row[\"ground_truth\"] == 0:\n",
    "            TN_Cau += 1\n",
    "sub.apply(func_White, axis=1)\n",
    "\n",
    "# FPR for Black:\n",
    "FP_Black = 0\n",
    "TN_Black = 0\n",
    "def func_Black(row):\n",
    "    global FP_Black\n",
    "    global TN_Black\n",
    "    if row['race'] == \"African-American\":\n",
    "        if row[\"predicted\"] == 1 and row[\"ground_truth\"] == 0:\n",
    "            FP_Black += 1\n",
    "        elif row[\"predicted\"] == 0 and row[\"ground_truth\"] == 0:\n",
    "            TN_Black += 1\n",
    "sub.apply(func_Black, axis=1)\n",
    "print(TN_Cau, TN_Black)\n",
    "print(FP_Cau, FP_Black)\n",
    "print(FP_Cau/(FP_Cau+TN_Cau), FP_Black/(FP_Black+TN_Black))\n"
   ],
   "metadata": {
    "collapsed": false,
    "ExecuteTime": {
     "end_time": "2024-01-26T23:10:59.365079Z",
     "start_time": "2024-01-26T23:10:59.334537Z"
    }
   },
   "id": "e6f2057d690c57d6",
   "execution_count": 103
  },
  {
   "cell_type": "code",
   "outputs": [],
   "source": [],
   "metadata": {
    "collapsed": false
   },
   "id": "3be4e39150cb2475"
  },
  {
   "cell_type": "code",
   "outputs": [
    {
     "name": "stdout",
     "output_type": "stream",
     "text": [
      "97 79\n",
      "41 96\n",
      "0.2971014492753623 0.5485714285714286\n",
      "51.5 45.5\n",
      "22.5 54.0\n",
      "0.30405405405405406 0.542713567839196\n"
     ]
    }
   ],
   "source": [
    "########################################### 0 - 599\n",
    "sub = timed_data[:600]\n",
    "# FPR for caucasian:\n",
    "FP_Cau = 0\n",
    "TN_Cau = 0\n",
    "def func_White(row):\n",
    "    global FP_Cau\n",
    "    global TN_Cau\n",
    "    if row['race'] == \"Caucasian\":\n",
    "        if row[\"predicted\"] == 1 and row[\"ground_truth\"] == 0:\n",
    "            FP_Cau += 1\n",
    "        elif row[\"predicted\"] == 0 and row[\"ground_truth\"] == 0:\n",
    "            TN_Cau += 1\n",
    "sub.apply(func_White, axis=1)\n",
    "\n",
    "# FPR for Black:\n",
    "FP_Black = 0\n",
    "TN_Black = 0\n",
    "def func_Black(row):\n",
    "    global FP_Black\n",
    "    global TN_Black\n",
    "    if row['race'] == \"African-American\":\n",
    "        if row[\"predicted\"] == 1 and row[\"ground_truth\"] == 0:\n",
    "            FP_Black += 1\n",
    "        elif row[\"predicted\"] == 0 and row[\"ground_truth\"] == 0:\n",
    "            TN_Black += 1\n",
    "sub.apply(func_Black, axis=1)\n",
    "print(TN_Cau, TN_Black)\n",
    "print(FP_Cau, FP_Black)\n",
    "print(FP_Cau/(FP_Cau+TN_Cau), FP_Black/(FP_Black+TN_Black))\n",
    "\n",
    "######################## 600 ##############\n",
    "\n",
    "FP_Black *= alpha\n",
    "TN_Black *= alpha\n",
    "FP_Cau *= alpha\n",
    "TN_Cau *= alpha\n",
    "\n",
    "sub = timed_data[600:631]\n",
    "sub.apply(func_White, axis=1)\n",
    "sub.apply(func_Black, axis=1)\n",
    "\n",
    "print(TN_Cau, TN_Black)\n",
    "print(FP_Cau, FP_Black)\n",
    "print(FP_Cau/(FP_Cau+TN_Cau), FP_Black/(FP_Black+TN_Black))\n",
    "\n",
    "######################## 601 - 616 ##############\n",
    "# \n",
    "# \n",
    "# sub = timed_data[601:602]\n",
    "# sub.apply(func_White, axis=1)\n",
    "# sub.apply(func_Black, axis=1)\n",
    "# print(FP_Cau, TN_Cau, FP_Cau/(FP_Cau+TN_Cau))\n",
    "# print(\"white delta = {}\".format(abs(threshold * TN_Cau - (1-threshold) * FP_Cau)))\n",
    "# print(FP_Black, TN_Black, FP_Black/(FP_Black+TN_Black))\n",
    "# print(\"black delta = {}\".format(abs(threshold * TN_Black - (1-threshold) * FP_Black)))"
   ],
   "metadata": {
    "collapsed": false,
    "ExecuteTime": {
     "end_time": "2024-01-26T23:27:00.443195Z",
     "start_time": "2024-01-26T23:27:00.410605Z"
    }
   },
   "id": "593ca7a6d8d77714",
   "execution_count": 115
  },
  {
   "cell_type": "code",
   "outputs": [],
   "source": [],
   "metadata": {
    "collapsed": false,
    "ExecuteTime": {
     "end_time": "2024-01-26T20:48:30.173615Z",
     "start_time": "2024-01-26T20:48:30.170178Z"
    }
   },
   "id": "7b9220db9ab7f924",
   "execution_count": 61
  },
  {
   "cell_type": "code",
   "outputs": [
    {
     "name": "stdout",
     "output_type": "stream",
     "text": [
      "0.3 97 14.549999999999999\n"
     ]
    }
   ],
   "source": [
    "print(0.3, 97, 0.3*97*0.5)"
   ],
   "metadata": {
    "collapsed": false,
    "ExecuteTime": {
     "end_time": "2024-01-26T23:50:01.160531Z",
     "start_time": "2024-01-26T23:50:01.147425Z"
    }
   },
   "id": "3ef71c36e550efb7",
   "execution_count": 118
  },
  {
   "cell_type": "code",
   "outputs": [
    {
     "name": "stdout",
     "output_type": "stream",
     "text": [
      "0.3 97 False\n"
     ]
    }
   ],
   "source": [
    "print(0.3, 97, 0.3*97*0.5 >= 14.55)"
   ],
   "metadata": {
    "collapsed": false,
    "ExecuteTime": {
     "end_time": "2024-01-26T23:50:16.764141Z",
     "start_time": "2024-01-26T23:50:16.746884Z"
    }
   },
   "id": "26d6876eb9317e7f",
   "execution_count": 119
  },
  {
   "cell_type": "code",
   "outputs": [],
   "source": [],
   "metadata": {
    "collapsed": false
   },
   "id": "4c605de44ccf97e5"
  },
  {
   "cell_type": "markdown",
   "source": [
    "# fp in data"
   ],
   "metadata": {
    "collapsed": false
   },
   "id": "e1237dc7fdf01c38"
  },
  {
   "cell_type": "code",
   "outputs": [
    {
     "name": "stdout",
     "output_type": "stream",
     "text": [
      "7214\n",
      "   id              name   first       last compas_screening_date   sex  \\\n",
      "0   1  miguel hernandez  miguel  hernandez            2013-08-14  Male   \n",
      "1   3       kevon dixon   kevon      dixon            2013-01-27  Male   \n",
      "2   4          ed philo      ed      philo            2013-04-14  Male   \n",
      "\n",
      "          dob  age          age_cat              race  ...  v_score_text  \\\n",
      "0  1947-04-18   69  Greater than 45             Other  ...           Low   \n",
      "1  1982-01-22   34          25 - 45  African-American  ...           Low   \n",
      "2  1991-05-14   24     Less than 25  African-American  ...           Low   \n",
      "\n",
      "   v_screening_date  in_custody  out_custody  priors_count.1  start  end  \\\n",
      "0        2013-08-14  2014-07-07   2014-07-14               0      0  327   \n",
      "1        2013-01-27  2013-01-26   2013-02-05               0      9  159   \n",
      "2        2013-04-14  2013-06-16   2013-06-16               4      0   63   \n",
      "\n",
      "  event predicted ground_truth  \n",
      "0     0         0            0  \n",
      "1     1         0            1  \n",
      "2     0         0            1  \n",
      "\n",
      "[3 rows x 54 columns]\n"
     ]
    }
   ],
   "source": [
    "timed_data = pd.read_csv('../../../data/compas/preprocessed/cox-parsed_7214rows_with_labels.csv')\n",
    "# get distribution of compas_screening_date\n",
    "timed_data['compas_screening_date'] = pd.to_datetime(timed_data['compas_screening_date'])\n",
    "print(len(timed_data))\n",
    "print(timed_data[:3])"
   ],
   "metadata": {
    "collapsed": false,
    "ExecuteTime": {
     "end_time": "2024-02-01T22:44:02.279737Z",
     "start_time": "2024-02-01T22:44:02.208916Z"
    }
   },
   "id": "4dc955f46c0de659",
   "execution_count": 5
  },
  {
   "cell_type": "code",
   "outputs": [
    {
     "name": "stdout",
     "output_type": "stream",
     "text": [
      "904\n",
      "num black = 504\n",
      "0 0 364 140\n",
      "num Caucasian = 291\n",
      "0 0 163 128\n",
      "0 0 571 333\n"
     ]
    }
   ],
   "source": [
    "timed_data = pd.read_csv('../../../data/compas/preprocessed/cox-parsed_7214rows_with_labels.csv')\n",
    "# get distribution of compas_screening_date\n",
    "timed_data['compas_screening_date'] = pd.to_datetime(timed_data['compas_screening_date'])\n",
    "timed_data = timed_data[timed_data[\"compas_screening_date\"] >=  \"2014-05-01\"]\n",
    "print(len(timed_data))\n",
    "black = timed_data[timed_data['race'] == 'African-American']\n",
    "# print(black[:3])\n",
    "print(\"num black = {}\".format(len(black)))\n",
    "black_fp = black[(black['predicted'] == 1) & (black['ground_truth'] == 0)]\n",
    "black_tn = black[(black['predicted'] == 0) & (black['ground_truth'] == 0)]\n",
    "black_tp = black[(black['predicted'] == 1) & (black['ground_truth'] == 1)]\n",
    "black_fn = black[(black['predicted'] == 0) & (black['ground_truth'] == 1)]\n",
    "print(len(black_fp), len(black_tn), len(black_tp), len(black_fn))\n",
    "\n",
    "caucasian = timed_data[timed_data['race'] == 'Caucasian']\n",
    "print(\"num Caucasian = {}\".format(len(caucasian)))\n",
    "caucasian_fp = caucasian[(caucasian['predicted'] == 1) & (caucasian['ground_truth'] == 0)]\n",
    "caucasian_tn = caucasian[(caucasian['predicted'] == 0) & (caucasian['ground_truth'] == 0)]\n",
    "caucasian_tp = caucasian[(caucasian['predicted'] == 1) & (caucasian['ground_truth'] == 1)]\n",
    "caucasian_fn = caucasian[(caucasian['predicted'] == 0) & (caucasian['ground_truth'] == 1)]\n",
    "print(len(caucasian_fp), len(caucasian_tn), len(caucasian_tp), len(caucasian_fn))\n",
    "\n",
    "data_fp = timed_data[(timed_data['predicted'] == 1) & (timed_data['ground_truth'] == 0)]\n",
    "data_tn = timed_data[(timed_data['predicted'] == 0) & (timed_data['ground_truth'] == 0)]\n",
    "data_tp = timed_data[(timed_data['predicted'] == 1) & (timed_data['ground_truth'] == 1)]\n",
    "data_fn = timed_data[(timed_data['predicted'] == 0) & (timed_data['ground_truth'] == 1)]\n",
    "print(len(data_fp), len(data_tn), len(data_tp), len(data_fn))\n"
   ],
   "metadata": {
    "collapsed": false,
    "ExecuteTime": {
     "end_time": "2024-02-01T23:04:34.218719Z",
     "start_time": "2024-02-01T23:04:34.142844Z"
    }
   },
   "id": "edfaa17d42d0ddf1",
   "execution_count": 10
  },
  {
   "cell_type": "code",
   "outputs": [
    {
     "name": "stdout",
     "output_type": "stream",
     "text": [
      "total num data in April:  103\n",
      "num black = 58\n",
      "fp, tn, tp, fn 0 1 38 19\n",
      "num Caucasian = 33\n",
      "fp, tn, tp, fn 1 0 13 19\n",
      "fp, tn, tp, fn 1 2 56 44\n"
     ]
    }
   ],
   "source": [
    "timed_data = pd.read_csv('../../../data/compas/preprocessed/cox-parsed_7214rows_with_labels.csv')\n",
    "# get distribution of compas_screening_date\n",
    "timed_data['compas_screening_date'] = pd.to_datetime(timed_data['compas_screening_date'])\n",
    "timed_data = timed_data[(timed_data[\"compas_screening_date\"] >=  \"2014-04-01\") & (timed_data[\"compas_screening_date\"] <=  \"2014-04-30\")]\n",
    "print(\"total num data in April: \", len(timed_data))\n",
    "\n",
    "black = timed_data[timed_data['race'] == 'African-American']\n",
    "# print(black[:3])\n",
    "print(\"num black = {}\".format(len(black)))\n",
    "black_fp = black[(black['predicted'] == 1) & (black['ground_truth'] == 0)]\n",
    "black_tn = black[(black['predicted'] == 0) & (black['ground_truth'] == 0)]\n",
    "black_tp = black[(black['predicted'] == 1) & (black['ground_truth'] == 1)]\n",
    "black_fn = black[(black['predicted'] == 0) & (black['ground_truth'] == 1)]\n",
    "print(\"fp, tn, tp, fn\", len(black_fp), len(black_tn), len(black_tp), len(black_fn))\n",
    "\n",
    "caucasian = timed_data[timed_data['race'] == 'Caucasian']\n",
    "print(\"num Caucasian = {}\".format(len(caucasian)))\n",
    "caucasian_fp = caucasian[(caucasian['predicted'] == 1) & (caucasian['ground_truth'] == 0)]\n",
    "caucasian_tn = caucasian[(caucasian['predicted'] == 0) & (caucasian['ground_truth'] == 0)]\n",
    "caucasian_tp = caucasian[(caucasian['predicted'] == 1) & (caucasian['ground_truth'] == 1)]\n",
    "caucasian_fn = caucasian[(caucasian['predicted'] == 0) & (caucasian['ground_truth'] == 1)]\n",
    "print(\"fp, tn, tp, fn\", len(caucasian_fp), len(caucasian_tn), len(caucasian_tp), len(caucasian_fn))\n",
    "\n",
    "\n",
    "data_fp = timed_data[(timed_data['predicted'] == 1) & (timed_data['ground_truth'] == 0)]\n",
    "data_tn = timed_data[(timed_data['predicted'] == 0) & (timed_data['ground_truth'] == 0)]\n",
    "data_tp = timed_data[(timed_data['predicted'] == 1) & (timed_data['ground_truth'] == 1)]\n",
    "data_fn = timed_data[(timed_data['predicted'] == 0) & (timed_data['ground_truth'] == 1)]\n",
    "print(\"fp, tn, tp, fn\", len(data_fp), len(data_tn), len(data_tp), len(data_fn))\n"
   ],
   "metadata": {
    "collapsed": false,
    "ExecuteTime": {
     "end_time": "2024-02-02T17:24:24.421200Z",
     "start_time": "2024-02-02T17:24:24.346998Z"
    }
   },
   "id": "4ebaca937723459",
   "execution_count": 26
  },
  {
   "cell_type": "code",
   "outputs": [],
   "source": [],
   "metadata": {
    "collapsed": false,
    "ExecuteTime": {
     "end_time": "2024-02-01T22:35:26.742802Z",
     "start_time": "2024-02-01T22:35:26.736945Z"
    }
   },
   "id": "6ba64435312101fc",
   "execution_count": 16
  },
  {
   "cell_type": "code",
   "outputs": [],
   "source": [],
   "metadata": {
    "collapsed": false
   },
   "id": "fa62336949e023b3"
  },
  {
   "cell_type": "markdown",
   "source": [
    "# white alpha change FPR"
   ],
   "metadata": {
    "collapsed": false
   },
   "id": "5bd31134d805014b"
  },
  {
   "cell_type": "code",
   "outputs": [
    {
     "name": "stdout",
     "output_type": "stream",
     "text": [
      "['Caucasian' 'African-American' 'Other' 'Hispanic' 'Asian'\n",
      " 'Native American']\n"
     ]
    }
   ],
   "source": [
    "from algorithm import FPR_workload as workload\n",
    "\n",
    "data = pd.read_csv('../../../data/compas/preprocessed/cox-parsed_7214rows_with_labels_sorted_by_dates.csv')\n",
    "print(data[\"race\"].unique())\n",
    "# get distribution of compas_screening_date\n",
    "data['compas_screening_date'] = pd.to_datetime(data['compas_screening_date'])\n",
    "# data['compas_screening_date'].hist()\n",
    "date_column = \"compas_screening_date\"\n",
    "time_window_str = \"1 month\"\n",
    "monitored_groups = [{\"race\": 'Caucasian'}, {\"race\": 'African-American'}, {\"race\": \"Asian\"}, {\"race\": \"Hispanic\"},\n",
    "                    {\"race\": \"Other\"}, {\"race\": \"Native American\"}]\n",
    "\n",
    "# alpha_list = [0.2, 0.4, 0.6, 0.8]\n",
    "alpha_list = [0.1, 0.3, 0.5, 0.7, 0.9, 1]\n",
    "\n",
    "black_time_decay_dif_alpha = []\n",
    "white_time_decay_dif_alpha = []\n",
    "hispanic_time_decay_dif_alpha = []\n",
    "\n",
    "for alpha in alpha_list:\n",
    "    # use CR for compas dataset, a time window = 1 month, record the result of each uf in each month and draw a plot\n",
    "    DFMonitor, uf_list_DF, fpr_list_DF, counter_list_TN_DF, counter_list_FP_DF = workload.traverse_data_DFMonitor(data,\n",
    "                                                                                                                  date_column,\n",
    "                                                                                                                  time_window_str,\n",
    "                                                                                                                  monitored_groups,\n",
    "                                                                                                                  threshold,\n",
    "                                                                                                                  alpha)\n",
    "    # draw chart of the first and second value in all lists in fpr_list and fpr_list1\n",
    "    # 'Caucasian' 'African-American' 'Other' 'Hispanic' 'Asian' 'Native American'\n",
    "    black_time_decay = [x[1] for x in fpr_list_DF]\n",
    "    white_time_decay = [x[0] for x in fpr_list_DF]\n",
    "    asian_time_decay = [x[2] for x in fpr_list_DF]\n",
    "    hispanic_time_decay = [x[3] for x in fpr_list_DF]\n",
    "\n",
    "    black_time_decay_dif_alpha.append(black_time_decay)\n",
    "    white_time_decay_dif_alpha.append(white_time_decay)\n",
    "    hispanic_time_decay_dif_alpha.append(hispanic_time_decay)\n"
   ],
   "metadata": {
    "collapsed": false,
    "ExecuteTime": {
     "end_time": "2024-02-02T16:21:39.963250Z",
     "start_time": "2024-02-02T16:21:38.067400Z"
    }
   },
   "id": "94a44261241631f7",
   "execution_count": 24
  },
  {
   "cell_type": "code",
   "outputs": [
    {
     "name": "stdout",
     "output_type": "stream",
     "text": [
      "alpha = 0.1, white fpr = [0.2065077072185426, 0.21114622254120544, 0.17763737111756053, 0.2645372368330309, 0.2645372368330309]\n",
      "alpha = 0.3, white fpr = [0.1999230454111389, 0.20765537278748522, 0.18508536579039417, 0.2082261070846105, 0.2082261070846105]\n",
      "alpha = 0.5, white fpr = [0.1997928243788196, 0.20512887805552496, 0.19113044113832348, 0.2005166759920958, 0.2005166759920958]\n",
      "alpha = 0.7, white fpr = [0.20814349649331315, 0.20909757479814078, 0.2001812593838646, 0.20396142835711503, 0.20396142835711506]\n",
      "alpha = 0.9, white fpr = [0.22721080838618127, 0.22548392720033608, 0.22033243624046842, 0.2214717524745432, 0.22147175247454323]\n",
      "alpha = 1, white fpr = [0.23888470233609646, 0.23725212464589235, 0.23402824478816409, 0.23454301075268819, 0.23454301075268819]\n"
     ]
    }
   ],
   "source": [
    "for i in range(len(alpha_list)):\n",
    "    print(\"alpha = {}, white fpr = {}\".format(alpha_list[i], white_time_decay_dif_alpha[i][12:17]))\n",
    " "
   ],
   "metadata": {
    "collapsed": false,
    "ExecuteTime": {
     "end_time": "2024-02-02T16:21:40.723516Z",
     "start_time": "2024-02-02T16:21:40.705149Z"
    }
   },
   "id": "2ea37c6506c88664",
   "execution_count": 25
  },
  {
   "cell_type": "code",
   "outputs": [],
   "source": [],
   "metadata": {
    "collapsed": false
   },
   "id": "8391d0e9759be957"
  }
 ],
 "metadata": {
  "kernelspec": {
   "display_name": "Python 3",
   "language": "python",
   "name": "python3"
  },
  "language_info": {
   "codemirror_mode": {
    "name": "ipython",
    "version": 2
   },
   "file_extension": ".py",
   "mimetype": "text/x-python",
   "name": "python",
   "nbconvert_exporter": "python",
   "pygments_lexer": "ipython2",
   "version": "2.7.6"
  }
 },
 "nbformat": 4,
 "nbformat_minor": 5
}
