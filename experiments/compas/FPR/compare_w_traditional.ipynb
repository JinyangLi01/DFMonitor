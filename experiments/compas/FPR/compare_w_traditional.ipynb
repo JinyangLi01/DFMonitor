{
 "cells": [
  {
   "cell_type": "code",
   "execution_count": 30,
   "id": "initial_id",
   "metadata": {
    "collapsed": true,
    "ExecuteTime": {
     "end_time": "2024-01-27T18:37:06.467851Z",
     "start_time": "2024-01-27T18:37:06.445678Z"
    }
   },
   "outputs": [
    {
     "name": "stdout",
     "output_type": "stream",
     "text": [
      "The autoreload extension is already loaded. To reload it, use:\n",
      "  %reload_ext autoreload\n"
     ]
    }
   ],
   "source": [
    "# First, install the autoreload extension\n",
    "%load_ext autoreload\n",
    "# Set autoreload to automatically reload modules\n",
    "%autoreload 2\n",
    "import pandas as pd\n",
    "import numpy as np\n",
    "import matplotlib.pyplot as plt\n",
    "from algorithm import FPR_workload as workload\n",
    "\n",
    "\n",
    "\n"
   ]
  },
  {
   "cell_type": "code",
   "outputs": [
    {
     "name": "stdout",
     "output_type": "stream",
     "text": [
      "['Caucasian' 'African-American' 'Other' 'Hispanic' 'Asian'\n",
      " 'Native American']\n"
     ]
    }
   ],
   "source": [
    "    \n",
    "data = pd.read_csv('../../../data/compas/preprocessed/cox-parsed_7214rows_with_labels_sorted_by_dates.csv')\n",
    "print(data[\"race\"].unique())\n",
    "# get distribution of compas_screening_date\n",
    "data['compas_screening_date'] = pd.to_datetime(data['compas_screening_date'])\n",
    "# data['compas_screening_date'].hist()\n",
    "date_column = \"compas_screening_date\"\n",
    "time_window_str = \"1 month\"\n",
    "monitored_groups = [{\"race\": 'Caucasian'}, {\"race\": 'African-American'}, {\"race\": \"Asian\"}, {\"race\": \"Hispanic\"}, {\"race\": \"Other\"}, {\"race\": \"Native American\"}]\n",
    "alpha = 0.5\n",
    "threshold = 0.3\n",
    "\n",
    "\n",
    "# use CR for compas dataset, a time window = 1 month, record the result of each uf in each month and draw a plot\n",
    "DFMonitor, uf_list, fpr_list, counter_list_TN, counter_list_FP = workload.traverse_data_DFMonitor(data, date_column, time_window_str, monitored_groups, threshold, alpha)\n"
   ],
   "metadata": {
    "collapsed": false,
    "ExecuteTime": {
     "end_time": "2024-01-27T18:37:08.487047Z",
     "start_time": "2024-01-27T18:37:08.141666Z"
    }
   },
   "id": "bfd4c5011d2c61af",
   "execution_count": 31
  },
  {
   "cell_type": "code",
   "outputs": [],
   "source": [],
   "metadata": {
    "collapsed": false,
    "ExecuteTime": {
     "end_time": "2024-01-27T18:37:09.408630Z",
     "start_time": "2024-01-27T18:37:09.404381Z"
    }
   },
   "id": "841de164b962b154",
   "execution_count": 31
  },
  {
   "cell_type": "code",
   "outputs": [
    {
     "data": {
      "text/plain": "[[0.2971014492753623,\n  0.5485714285714286,\n  0.3333333333333333,\n  0.2413793103448276,\n  0.2,\n  1.0],\n [0.3045267489711934,\n  0.5371428571428571,\n  0.16666666666666666,\n  0.24242424242424243,\n  0.14285714285714285,\n  0.3333333333333333],\n [0.28225806451612906,\n  0.5233463035019456,\n  0.125,\n  0.24210526315789474,\n  0.2,\n  0.25],\n [0.25996810207336524,\n  0.5067484662576687,\n  0.2,\n  0.22023809523809523,\n  0.20202020202020202,\n  0.3333333333333333],\n [0.2542372881355932,\n  0.5005973715651135,\n  0.2,\n  0.22162162162162163,\n  0.20588235294117646,\n  0.3333333333333333],\n [0.2536231884057971,\n  0.5017462165308498,\n  0.2,\n  0.22164948453608246,\n  0.205607476635514,\n  0.3333333333333333],\n [0.26348808030112925,\n  0.497,\n  0.18181818181818182,\n  0.22566371681415928,\n  0.1796875,\n  0.3333333333333333],\n [0.25346534653465347,\n  0.4835164835164835,\n  0.125,\n  0.20905923344947736,\n  0.16265060240963855,\n  0.3333333333333333],\n [0.2509157509157509,\n  0.4797347089167281,\n  0.1111111111111111,\n  0.2138157894736842,\n  0.14835164835164835,\n  0.375],\n [0.24143556280587275,\n  0.4660726525017135,\n  0.09523809523809523,\n  0.23076923076923078,\n  0.13861386138613863,\n  0.375],\n [0.23924528301886794,\n  0.4626582278481013,\n  0.09523809523809523,\n  0.22318840579710145,\n  0.1382488479262673,\n  0.375],\n [0.23450134770889489,\n  0.44829513694801565,\n  0.08695652173913043,\n  0.2169576059850374,\n  0.14754098360655737,\n  0.375],\n [0.23450134770889489,\n  0.4480446927374302,\n  0.08695652173913043,\n  0.21641791044776118,\n  0.14754098360655737,\n  0.375]]"
     },
     "execution_count": 32,
     "metadata": {},
     "output_type": "execute_result"
    }
   ],
   "source": [
    "fpr_list"
   ],
   "metadata": {
    "collapsed": false,
    "ExecuteTime": {
     "end_time": "2024-01-27T18:37:10.596759Z",
     "start_time": "2024-01-27T18:37:10.577354Z"
    }
   },
   "id": "4428cb830ad72c5f",
   "execution_count": 32
  },
  {
   "cell_type": "code",
   "outputs": [],
   "source": [
    "uf_list1, fpr_list1, counter_list_TN1, counter_list_FP1 = workload.FPR_traditional(data, date_column, time_window_str, monitored_groups, threshold)"
   ],
   "metadata": {
    "collapsed": false,
    "ExecuteTime": {
     "end_time": "2024-01-27T18:37:13.734412Z",
     "start_time": "2024-01-27T18:37:13.482378Z"
    }
   },
   "id": "d3022e843a8ea7df",
   "execution_count": 33
  },
  {
   "cell_type": "code",
   "outputs": [
    {
     "data": {
      "text/plain": "[[0.2971014492753623,\n  0.5485714285714286,\n  0.3333333333333333,\n  0.2413793103448276,\n  0.2,\n  1.0],\n [0.3142857142857143,\n  0.5257142857142857,\n  0.0,\n  0.23684210526315788,\n  0.09090909090909091,\n  0.0],\n [0.23846153846153847,\n  0.49390243902439024,\n  0.0,\n  0.2413793103448276,\n  0.30434782608695654,\n  0.0],\n [0.2265625,\n  0.47840531561461797,\n  0.5,\n  0.1917808219178082,\n  0.20588235294117646,\n  0.5],\n [0.09090909090909091,\n  0.2727272727272727,\n  None,\n  0.2222222222222222,\n  0.3333333333333333,\n  None],\n [0.24390243902439024,\n  0.5217391304347826,\n  None,\n  0.2222222222222222,\n  0.2,\n  None],\n [0.32710280373831774,\n  0.47183098591549294,\n  0.0,\n  0.25,\n  0.047619047619047616,\n  None],\n [0.215962441314554,\n  0.43636363636363634,\n  0.0,\n  0.14754098360655737,\n  0.10526315789473684,\n  None],\n [0.21951219512195122,\n  0.42857142857142855,\n  0.0,\n  0.29411764705882354,\n  0.0,\n  0.5],\n [0.16417910447761194,\n  0.2815533980582524,\n  0.0,\n  0.47619047619047616,\n  0.05,\n  None],\n [0.21212121212121213,\n  0.4214876033057851,\n  None,\n  0.09523809523809523,\n  0.13333333333333333,\n  None],\n [0.19375,\n  0.3397129186602871,\n  0.0,\n  0.17857142857142858,\n  0.2222222222222222,\n  None],\n [1.0, 0.0, None, 0.0, None, None]]"
     },
     "execution_count": 34,
     "metadata": {},
     "output_type": "execute_result"
    }
   ],
   "source": [
    "fpr_list1"
   ],
   "metadata": {
    "collapsed": false,
    "ExecuteTime": {
     "end_time": "2024-01-27T18:37:14.634815Z",
     "start_time": "2024-01-27T18:37:14.616771Z"
    }
   },
   "id": "f44df2a5b5df5500",
   "execution_count": 34
  },
  {
   "cell_type": "code",
   "outputs": [],
   "source": [],
   "metadata": {
    "collapsed": false
   },
   "id": "f8e9c35c6d09af38"
  }
 ],
 "metadata": {
  "kernelspec": {
   "display_name": "Python 3",
   "language": "python",
   "name": "python3"
  },
  "language_info": {
   "codemirror_mode": {
    "name": "ipython",
    "version": 2
   },
   "file_extension": ".py",
   "mimetype": "text/x-python",
   "name": "python",
   "nbconvert_exporter": "python",
   "pygments_lexer": "ipython2",
   "version": "2.7.6"
  }
 },
 "nbformat": 4,
 "nbformat_minor": 5
}
