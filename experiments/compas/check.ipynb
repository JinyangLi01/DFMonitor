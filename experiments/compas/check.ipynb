{
 "cells": [
  {
   "cell_type": "code",
   "execution_count": 91,
   "id": "initial_id",
   "metadata": {
    "collapsed": true,
    "ExecuteTime": {
     "end_time": "2024-01-26T23:05:43.998770Z",
     "start_time": "2024-01-26T23:05:43.981388Z"
    }
   },
   "outputs": [
    {
     "name": "stdout",
     "output_type": "stream",
     "text": [
      "The autoreload extension is already loaded. To reload it, use:\n",
      "  %reload_ext autoreload\n"
     ]
    }
   ],
   "source": [
    "# First, install the autoreload extension\n",
    "%load_ext autoreload\n",
    "# Set autoreload to automatically reload modules\n",
    "%autoreload 2\n",
    "import pandas as pd\n",
    "import numpy as np\n",
    "import matplotlib.pyplot as plt\n",
    "from algorithm import CR_0_20240118 as CR\n",
    "from algorithm import CR_baseline_0_20240118 as CR_baseline\n",
    "\n"
   ]
  },
  {
   "cell_type": "code",
   "outputs": [],
   "source": [
    "timed_data = pd.read_csv('../../data/compas/preprocessed/cox-parsed_7214rows_with_labels_sorted_by_dates.csv')\n",
    "# get distribution of compas_screening_date\n",
    "timed_data['compas_screening_date'] = pd.to_datetime(timed_data['compas_screening_date'])\n",
    "alpha = 0.5\n",
    "threshold = 0.3"
   ],
   "metadata": {
    "collapsed": false,
    "ExecuteTime": {
     "end_time": "2024-01-26T23:07:50.822373Z",
     "start_time": "2024-01-26T23:07:50.748245Z"
    }
   },
   "id": "80f95b7f21c5727f",
   "execution_count": 95
  },
  {
   "cell_type": "code",
   "outputs": [
    {
     "name": "stdout",
     "output_type": "stream",
     "text": [
      "97 79\n",
      "41 96\n",
      "0.2971014492753623 0.5485714285714286\n"
     ]
    }
   ],
   "source": [
    "########################################### 0 - 599\n",
    "sub = timed_data[:600]\n",
    "# FPR for caucasian:\n",
    "FP_Cau = 0\n",
    "TN_Cau = 0\n",
    "def func_White(row):\n",
    "    global FP_Cau\n",
    "    global TN_Cau\n",
    "    if row['race'] == \"Caucasian\":\n",
    "        if row[\"predicted\"] == 1 and row[\"ground_truth\"] == 0:\n",
    "            FP_Cau += 1\n",
    "        elif row[\"predicted\"] == 0 and row[\"ground_truth\"] == 0:\n",
    "            TN_Cau += 1\n",
    "sub.apply(func_White, axis=1)\n",
    "\n",
    "# FPR for Black:\n",
    "FP_Black = 0\n",
    "TN_Black = 0\n",
    "def func_Black(row):\n",
    "    global FP_Black\n",
    "    global TN_Black\n",
    "    if row['race'] == \"African-American\":\n",
    "        if row[\"predicted\"] == 1 and row[\"ground_truth\"] == 0:\n",
    "            FP_Black += 1\n",
    "        elif row[\"predicted\"] == 0 and row[\"ground_truth\"] == 0:\n",
    "            TN_Black += 1\n",
    "sub.apply(func_Black, axis=1)\n",
    "print(TN_Cau, TN_Black)\n",
    "print(FP_Cau, FP_Black)\n",
    "print(FP_Cau/(FP_Cau+TN_Cau), FP_Black/(FP_Black+TN_Black))\n"
   ],
   "metadata": {
    "collapsed": false,
    "ExecuteTime": {
     "end_time": "2024-01-26T23:10:59.365079Z",
     "start_time": "2024-01-26T23:10:59.334537Z"
    }
   },
   "id": "e6f2057d690c57d6",
   "execution_count": 103
  },
  {
   "cell_type": "code",
   "outputs": [],
   "source": [],
   "metadata": {
    "collapsed": false
   },
   "id": "3be4e39150cb2475"
  },
  {
   "cell_type": "code",
   "outputs": [
    {
     "name": "stdout",
     "output_type": "stream",
     "text": [
      "97 79\n",
      "41 96\n",
      "0.2971014492753623 0.5485714285714286\n",
      "51.5 45.5\n",
      "22.5 54.0\n",
      "0.30405405405405406 0.542713567839196\n"
     ]
    }
   ],
   "source": [
    "########################################### 0 - 599\n",
    "sub = timed_data[:600]\n",
    "# FPR for caucasian:\n",
    "FP_Cau = 0\n",
    "TN_Cau = 0\n",
    "def func_White(row):\n",
    "    global FP_Cau\n",
    "    global TN_Cau\n",
    "    if row['race'] == \"Caucasian\":\n",
    "        if row[\"predicted\"] == 1 and row[\"ground_truth\"] == 0:\n",
    "            FP_Cau += 1\n",
    "        elif row[\"predicted\"] == 0 and row[\"ground_truth\"] == 0:\n",
    "            TN_Cau += 1\n",
    "sub.apply(func_White, axis=1)\n",
    "\n",
    "# FPR for Black:\n",
    "FP_Black = 0\n",
    "TN_Black = 0\n",
    "def func_Black(row):\n",
    "    global FP_Black\n",
    "    global TN_Black\n",
    "    if row['race'] == \"African-American\":\n",
    "        if row[\"predicted\"] == 1 and row[\"ground_truth\"] == 0:\n",
    "            FP_Black += 1\n",
    "        elif row[\"predicted\"] == 0 and row[\"ground_truth\"] == 0:\n",
    "            TN_Black += 1\n",
    "sub.apply(func_Black, axis=1)\n",
    "print(TN_Cau, TN_Black)\n",
    "print(FP_Cau, FP_Black)\n",
    "print(FP_Cau/(FP_Cau+TN_Cau), FP_Black/(FP_Black+TN_Black))\n",
    "\n",
    "######################## 600 ##############\n",
    "\n",
    "FP_Black *= alpha\n",
    "TN_Black *= alpha\n",
    "FP_Cau *= alpha\n",
    "TN_Cau *= alpha\n",
    "\n",
    "sub = timed_data[600:631]\n",
    "sub.apply(func_White, axis=1)\n",
    "sub.apply(func_Black, axis=1)\n",
    "\n",
    "print(TN_Cau, TN_Black)\n",
    "print(FP_Cau, FP_Black)\n",
    "print(FP_Cau/(FP_Cau+TN_Cau), FP_Black/(FP_Black+TN_Black))\n",
    "\n",
    "######################## 601 - 616 ##############\n",
    "# \n",
    "# \n",
    "# sub = timed_data[601:602]\n",
    "# sub.apply(func_White, axis=1)\n",
    "# sub.apply(func_Black, axis=1)\n",
    "# print(FP_Cau, TN_Cau, FP_Cau/(FP_Cau+TN_Cau))\n",
    "# print(\"white delta = {}\".format(abs(threshold * TN_Cau - (1-threshold) * FP_Cau)))\n",
    "# print(FP_Black, TN_Black, FP_Black/(FP_Black+TN_Black))\n",
    "# print(\"black delta = {}\".format(abs(threshold * TN_Black - (1-threshold) * FP_Black)))"
   ],
   "metadata": {
    "collapsed": false,
    "ExecuteTime": {
     "end_time": "2024-01-26T23:27:00.443195Z",
     "start_time": "2024-01-26T23:27:00.410605Z"
    }
   },
   "id": "593ca7a6d8d77714",
   "execution_count": 115
  },
  {
   "cell_type": "code",
   "outputs": [],
   "source": [],
   "metadata": {
    "collapsed": false,
    "ExecuteTime": {
     "end_time": "2024-01-26T20:48:30.173615Z",
     "start_time": "2024-01-26T20:48:30.170178Z"
    }
   },
   "id": "7b9220db9ab7f924",
   "execution_count": 61
  },
  {
   "cell_type": "code",
   "outputs": [
    {
     "name": "stdout",
     "output_type": "stream",
     "text": [
      "0.3 97 14.549999999999999\n"
     ]
    }
   ],
   "source": [
    "print(0.3, 97, 0.3*97*0.5)"
   ],
   "metadata": {
    "collapsed": false,
    "ExecuteTime": {
     "end_time": "2024-01-26T23:50:01.160531Z",
     "start_time": "2024-01-26T23:50:01.147425Z"
    }
   },
   "id": "3ef71c36e550efb7",
   "execution_count": 118
  },
  {
   "cell_type": "code",
   "outputs": [
    {
     "name": "stdout",
     "output_type": "stream",
     "text": [
      "0.3 97 False\n"
     ]
    }
   ],
   "source": [
    "print(0.3, 97, 0.3*97*0.5 >= 14.55)"
   ],
   "metadata": {
    "collapsed": false,
    "ExecuteTime": {
     "end_time": "2024-01-26T23:50:16.764141Z",
     "start_time": "2024-01-26T23:50:16.746884Z"
    }
   },
   "id": "26d6876eb9317e7f",
   "execution_count": 119
  },
  {
   "cell_type": "code",
   "outputs": [],
   "source": [],
   "metadata": {
    "collapsed": false
   },
   "id": "4c605de44ccf97e5"
  }
 ],
 "metadata": {
  "kernelspec": {
   "display_name": "Python 3",
   "language": "python",
   "name": "python3"
  },
  "language_info": {
   "codemirror_mode": {
    "name": "ipython",
    "version": 2
   },
   "file_extension": ".py",
   "mimetype": "text/x-python",
   "name": "python",
   "nbconvert_exporter": "python",
   "pygments_lexer": "ipython2",
   "version": "2.7.6"
  }
 },
 "nbformat": 4,
 "nbformat_minor": 5
}
