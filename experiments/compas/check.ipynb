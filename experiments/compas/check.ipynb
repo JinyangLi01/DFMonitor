{
 "cells": [
  {
   "cell_type": "code",
   "execution_count": 1,
   "id": "initial_id",
   "metadata": {
    "collapsed": true,
    "ExecuteTime": {
     "end_time": "2024-01-25T16:04:09.759257Z",
     "start_time": "2024-01-25T16:04:08.690749Z"
    }
   },
   "outputs": [],
   "source": [
    "# First, install the autoreload extension\n",
    "%load_ext autoreload\n",
    "# Set autoreload to automatically reload modules\n",
    "%autoreload 2\n",
    "import pandas as pd\n",
    "import numpy as np\n",
    "import matplotlib.pyplot as plt\n",
    "from algorithm import CR_0_20240118 as CR\n",
    "from algorithm import CR_baseline_0_20240118 as CR_baseline\n",
    "\n"
   ]
  },
  {
   "cell_type": "code",
   "outputs": [],
   "source": [
    "timed_data = pd.read_csv('../../data/compas/preprocessed/cox-parsed_7214rows_with_labels_sorted_by_dates.csv')\n",
    "# get distribution of compas_screening_date\n",
    "timed_data['compas_screening_date'] = pd.to_datetime(timed_data['compas_screening_date'])"
   ],
   "metadata": {
    "collapsed": false,
    "ExecuteTime": {
     "end_time": "2024-01-25T16:04:11.990361Z",
     "start_time": "2024-01-25T16:04:11.851969Z"
    }
   },
   "id": "80f95b7f21c5727f",
   "execution_count": 2
  },
  {
   "cell_type": "code",
   "outputs": [],
   "source": [
    "\n",
    "monitored_groups = [{\"race\": 'African-American'}, {\"race\": 'Caucasian'}]\n",
    "alpha = 0.5\n",
    "threshold = 0.3\n",
    "time_window_str = '1 month'\n",
    "date_column = 'compas_screening_date'\n",
    "number, unit = time_window_str.split()\n",
    "# Apply the function to compute the window key for each row\n",
    "def compute_time_window_key(row, window_type):\n",
    "    if window_type == 'year':\n",
    "        return row.year\n",
    "    elif window_type == 'month':\n",
    "        return f\"{row.year}-{row.month}\"\n",
    "    elif window_type == 'week':\n",
    "        return f\"{row.year}-{row.week}\"\n",
    "    elif window_type == 'day':\n",
    "        return f\"{row.year}-{row.month}-{row.day}\"\n",
    "\n",
    "\n",
    "timed_data['window_key'] = timed_data[date_column].apply(compute_time_window_key, args=(unit,))\n",
    "# Initialize all rows as not the start of a new window\n",
    "timed_data['new_window'] = False\n",
    "# Determine the start of a new window for all rows except the first\n",
    "timed_data.loc[1:, 'new_window'] = timed_data['window_key'].iloc[1:] != timed_data['window_key'].shift(1).iloc[1:]\n",
    "\n",
    "\n",
    "counter_Caucasian = 0\n",
    "counter_African_American = 0\n",
    "total_counter = 0\n",
    "\n",
    "for index, row in timed_data.iterrows():\n",
    "    # if index==600 or index == 601:\n",
    "    #     print(counter_Caucasian/total_counter <= threshold, counter_African_American/total_counter <= threshold, counter_Caucasian, counter_African_American, total_counter, counter_Caucasian/total_counter, counter_African_American/total_counter)\n",
    "        \n",
    "    if row['new_window'] == True:\n",
    "        counter_Caucasian *= alpha\n",
    "        counter_African_American *= alpha\n",
    "        total_counter *= alpha\n",
    "    if row['race'] == 'Caucasian':\n",
    "        counter_Caucasian += 1\n",
    "    elif row['race'] == 'African-American':\n",
    "        counter_African_American += 1\n",
    "    total_counter += 1\n",
    "  \n",
    "\n",
    "\n"
   ],
   "metadata": {
    "collapsed": false,
    "ExecuteTime": {
     "end_time": "2024-01-25T16:04:12.840495Z",
     "start_time": "2024-01-25T16:04:12.630578Z"
    }
   },
   "id": "cca185245839dd5b",
   "execution_count": 3
  },
  {
   "cell_type": "code",
   "outputs": [],
   "source": [],
   "metadata": {
    "collapsed": false
   },
   "id": "593ca7a6d8d77714"
  }
 ],
 "metadata": {
  "kernelspec": {
   "display_name": "Python 3",
   "language": "python",
   "name": "python3"
  },
  "language_info": {
   "codemirror_mode": {
    "name": "ipython",
    "version": 2
   },
   "file_extension": ".py",
   "mimetype": "text/x-python",
   "name": "python",
   "nbconvert_exporter": "python",
   "pygments_lexer": "ipython2",
   "version": "2.7.6"
  }
 },
 "nbformat": 4,
 "nbformat_minor": 5
}
