{
 "cells": [
  {
   "cell_type": "code",
   "execution_count": null,
   "id": "initial_id",
   "metadata": {
    "collapsed": true
   },
   "outputs": [],
   "source": [
    ""
   ]
  },
  {
   "metadata": {},
   "cell_type": "markdown",
   "source": "# get next price movement data",
   "id": "caf2f44d488d73d4"
  },
  {
   "metadata": {
    "ExecuteTime": {
     "end_time": "2024-10-25T19:19:31.289363Z",
     "start_time": "2024-10-25T19:19:30.549596Z"
    }
   },
   "cell_type": "code",
   "source": [
    "import pandas as pd\n",
    "import numpy as np\n",
    "import matplotlib.pyplot as plt\n",
    "import seaborn as sns\n",
    "import csv\n",
    "\n",
    "data = pd.read_csv(\"xnas-itch-20241015_15-00--15-01.csv\")\n",
    "print(len(data))\n"
   ],
   "id": "58344b8247afa7db",
   "outputs": [
    {
     "name": "stdout",
     "output_type": "stream",
     "text": [
      "350787\n"
     ]
    }
   ],
   "execution_count": 1
  },
  {
   "metadata": {
    "ExecuteTime": {
     "end_time": "2024-10-25T20:36:50.614206Z",
     "start_time": "2024-10-25T20:36:05.280826Z"
    }
   },
   "cell_type": "code",
   "source": [
    "# get the next price movement data\n",
    "import pandas as pd\n",
    "\n",
    "# Assuming 'all_data' is your DataFrame and 'price' is the column for stock prices\n",
    "\n",
    "def func(filename):\n",
    "    data = pd.read_csv(filename)\n",
    "    # Calculate the price change by subtracting the current price from the next row's price\n",
    "    data['price_change'] = data['price'].shift(-1) - data['price']\n",
    "    \n",
    "    # Create a binary target: 1 if the next price is higher, 0 if it's lower or the same\n",
    "    data['next_price_direction'] = (data['price_change'] > 0).astype(int)\n",
    "    \n",
    "    # Drop rows where the target cannot be computed (i.e., last row)\n",
    "    data = data.dropna(subset=['price_change'])\n",
    "    \n",
    "    # Optionally, drop the price_change column if you don't need it further\n",
    "    data = data.drop(columns=['price_change'])\n",
    "    \n",
    "    # Display the resulting data\n",
    "    data[['ts_event', 'price', 'next_price_direction']].head()\n",
    "    data.to_csv(filename, index=False)\n",
    "    \n",
    "file = \"xnas-itch-20241015_14-00--14-15.csv\"\n",
    "func(file)\n"
   ],
   "id": "198410b5ffc2f856",
   "outputs": [],
   "execution_count": 21
  },
  {
   "metadata": {},
   "cell_type": "code",
   "outputs": [],
   "execution_count": null,
   "source": "",
   "id": "b8eb74730ba21f4a"
  },
  {
   "metadata": {},
   "cell_type": "markdown",
   "source": "# add sector attribute",
   "id": "4a44d2c97c9e1583"
  },
  {
   "metadata": {
    "ExecuteTime": {
     "end_time": "2024-10-25T20:37:38.471924Z",
     "start_time": "2024-10-25T20:36:50.671777Z"
    }
   },
   "cell_type": "code",
   "source": [
    "\n",
    "import pandas as pd\n",
    "\n",
    "# Assuming 'all_data' is your DataFrame and 'price' is the column for stock prices\n",
    "\n",
    "symbol_sector = pd.read_csv(\"../stocks_online_second/s&p100_sorted.csv\")\n",
    "\n",
    "def func(filename):\n",
    "    stock_data = pd.read_csv(filename)\n",
    "    \n",
    "    # Perform the merge on the 'symbol' column (assuming both DataFrames have a 'symbol' column)\n",
    "    merged_data = pd.merge(stock_data, symbol_sector[['symbol', 'sector']], on='symbol', how='left')\n",
    "    \n",
    "    # Now, merged_data contains all the columns from stock_data plus the 'sector' column from symbol_sector\n",
    "    \n",
    "    merged_data.to_csv(filename, index=False)\n",
    "    \n",
    "file = \"xnas-itch-20241015_14-00--14-15.csv\"\n",
    "func(file)\n"
   ],
   "id": "b8649a4c6422ea1",
   "outputs": [],
   "execution_count": 22
  },
  {
   "metadata": {},
   "cell_type": "code",
   "outputs": [],
   "execution_count": null,
   "source": "",
   "id": "75a46f66b26717db"
  },
  {
   "metadata": {},
   "cell_type": "markdown",
   "source": "# sort data by ts_event\n",
   "id": "8ff475b4ab9fea36"
  },
  {
   "metadata": {
    "ExecuteTime": {
     "end_time": "2024-10-25T20:38:41.284479Z",
     "start_time": "2024-10-25T20:37:38.500172Z"
    }
   },
   "cell_type": "code",
   "source": [
    "import pandas as pd\n",
    "\n",
    "file = \"xnas-itch-20241015_14-00--14-15.csv\"\n",
    "\n",
    "data = pd.read_csv(file)\n",
    "\n",
    "data = data.sort_values(by='ts_event')\n",
    "\n",
    "data.to_csv(file, index=False)"
   ],
   "id": "4e404e80c5f762fc",
   "outputs": [],
   "execution_count": 23
  },
  {
   "metadata": {},
   "cell_type": "code",
   "outputs": [],
   "execution_count": null,
   "source": "",
   "id": "4f92548ae423ba30"
  }
 ],
 "metadata": {
  "kernelspec": {
   "display_name": "Python 3",
   "language": "python",
   "name": "python3"
  },
  "language_info": {
   "codemirror_mode": {
    "name": "ipython",
    "version": 2
   },
   "file_extension": ".py",
   "mimetype": "text/x-python",
   "name": "python",
   "nbconvert_exporter": "python",
   "pygments_lexer": "ipython2",
   "version": "2.7.6"
  }
 },
 "nbformat": 4,
 "nbformat_minor": 5
}
