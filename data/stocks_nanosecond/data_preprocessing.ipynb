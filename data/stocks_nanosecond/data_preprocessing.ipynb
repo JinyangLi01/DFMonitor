{
 "cells": [
  {
   "cell_type": "code",
   "id": "initial_id",
   "metadata": {
    "collapsed": true,
    "ExecuteTime": {
     "end_time": "2024-10-25T18:44:01.559424Z",
     "start_time": "2024-10-25T18:44:01.523050Z"
    }
   },
   "source": [
    "import pandas as pd\n",
    "import numpy as np\n",
    "import csv\n",
    "import os\n",
    "import zstandard\n",
    "\n",
    "\n"
   ],
   "outputs": [],
   "execution_count": 1
  },
  {
   "metadata": {},
   "cell_type": "markdown",
   "source": "# data: Nasdaq TotalView-ITCH",
   "id": "7c30ea21cc88043b"
  },
  {
   "metadata": {
    "ExecuteTime": {
     "end_time": "2024-10-25T18:46:56.945880Z",
     "start_time": "2024-10-25T18:44:01.584876Z"
    }
   },
   "cell_type": "code",
   "source": [
    "all_data = pd.read_csv(\"xnas-itch-20241015.mbo.csv.zst\")\n",
    "print(len(all_data))"
   ],
   "id": "216ed6331b5d0175",
   "outputs": [
    {
     "name": "stdout",
     "output_type": "stream",
     "text": [
      "96538174\n"
     ]
    }
   ],
   "execution_count": 2
  },
  {
   "metadata": {
    "ExecuteTime": {
     "end_time": "2024-10-25T18:47:18.282924Z",
     "start_time": "2024-10-25T18:47:18.273131Z"
    }
   },
   "cell_type": "code",
   "source": "all_data.head()",
   "id": "de00387da946bb29",
   "outputs": [
    {
     "data": {
      "text/plain": [
       "                          ts_recv                        ts_event  rtype  \\\n",
       "0  2024-10-15T07:05:37.492151545Z  2024-10-15T07:05:37.491984996Z    160   \n",
       "1  2024-10-15T07:05:37.492326394Z  2024-10-15T07:05:37.492160041Z    160   \n",
       "2  2024-10-15T07:05:37.492771627Z  2024-10-15T07:05:37.492605093Z    160   \n",
       "3  2024-10-15T07:05:37.493527998Z  2024-10-15T07:05:37.493361823Z    160   \n",
       "4  2024-10-15T07:05:37.494476115Z  2024-10-15T07:05:37.494309484Z    160   \n",
       "\n",
       "   publisher_id  instrument_id action side  price  size  channel_id  order_id  \\\n",
       "0             2             38      R    N    NaN     0           0         0   \n",
       "1             2             54      R    N    NaN     0           0         0   \n",
       "2             2             86      R    N    NaN     0           0         0   \n",
       "3             2            168      R    N    NaN     0           0         0   \n",
       "4             2            226      R    N    NaN     0           0         0   \n",
       "\n",
       "   flags  ts_in_delta  sequence symbol  \n",
       "0      8            0         0   AAPL  \n",
       "1      8            0         0   ABBV  \n",
       "2      8            0         0    ABT  \n",
       "3      8            0         0    ACN  \n",
       "4      8            0         0   ADBE  "
      ],
      "text/html": [
       "<div>\n",
       "<style scoped>\n",
       "    .dataframe tbody tr th:only-of-type {\n",
       "        vertical-align: middle;\n",
       "    }\n",
       "\n",
       "    .dataframe tbody tr th {\n",
       "        vertical-align: top;\n",
       "    }\n",
       "\n",
       "    .dataframe thead th {\n",
       "        text-align: right;\n",
       "    }\n",
       "</style>\n",
       "<table border=\"1\" class=\"dataframe\">\n",
       "  <thead>\n",
       "    <tr style=\"text-align: right;\">\n",
       "      <th></th>\n",
       "      <th>ts_recv</th>\n",
       "      <th>ts_event</th>\n",
       "      <th>rtype</th>\n",
       "      <th>publisher_id</th>\n",
       "      <th>instrument_id</th>\n",
       "      <th>action</th>\n",
       "      <th>side</th>\n",
       "      <th>price</th>\n",
       "      <th>size</th>\n",
       "      <th>channel_id</th>\n",
       "      <th>order_id</th>\n",
       "      <th>flags</th>\n",
       "      <th>ts_in_delta</th>\n",
       "      <th>sequence</th>\n",
       "      <th>symbol</th>\n",
       "    </tr>\n",
       "  </thead>\n",
       "  <tbody>\n",
       "    <tr>\n",
       "      <th>0</th>\n",
       "      <td>2024-10-15T07:05:37.492151545Z</td>\n",
       "      <td>2024-10-15T07:05:37.491984996Z</td>\n",
       "      <td>160</td>\n",
       "      <td>2</td>\n",
       "      <td>38</td>\n",
       "      <td>R</td>\n",
       "      <td>N</td>\n",
       "      <td>NaN</td>\n",
       "      <td>0</td>\n",
       "      <td>0</td>\n",
       "      <td>0</td>\n",
       "      <td>8</td>\n",
       "      <td>0</td>\n",
       "      <td>0</td>\n",
       "      <td>AAPL</td>\n",
       "    </tr>\n",
       "    <tr>\n",
       "      <th>1</th>\n",
       "      <td>2024-10-15T07:05:37.492326394Z</td>\n",
       "      <td>2024-10-15T07:05:37.492160041Z</td>\n",
       "      <td>160</td>\n",
       "      <td>2</td>\n",
       "      <td>54</td>\n",
       "      <td>R</td>\n",
       "      <td>N</td>\n",
       "      <td>NaN</td>\n",
       "      <td>0</td>\n",
       "      <td>0</td>\n",
       "      <td>0</td>\n",
       "      <td>8</td>\n",
       "      <td>0</td>\n",
       "      <td>0</td>\n",
       "      <td>ABBV</td>\n",
       "    </tr>\n",
       "    <tr>\n",
       "      <th>2</th>\n",
       "      <td>2024-10-15T07:05:37.492771627Z</td>\n",
       "      <td>2024-10-15T07:05:37.492605093Z</td>\n",
       "      <td>160</td>\n",
       "      <td>2</td>\n",
       "      <td>86</td>\n",
       "      <td>R</td>\n",
       "      <td>N</td>\n",
       "      <td>NaN</td>\n",
       "      <td>0</td>\n",
       "      <td>0</td>\n",
       "      <td>0</td>\n",
       "      <td>8</td>\n",
       "      <td>0</td>\n",
       "      <td>0</td>\n",
       "      <td>ABT</td>\n",
       "    </tr>\n",
       "    <tr>\n",
       "      <th>3</th>\n",
       "      <td>2024-10-15T07:05:37.493527998Z</td>\n",
       "      <td>2024-10-15T07:05:37.493361823Z</td>\n",
       "      <td>160</td>\n",
       "      <td>2</td>\n",
       "      <td>168</td>\n",
       "      <td>R</td>\n",
       "      <td>N</td>\n",
       "      <td>NaN</td>\n",
       "      <td>0</td>\n",
       "      <td>0</td>\n",
       "      <td>0</td>\n",
       "      <td>8</td>\n",
       "      <td>0</td>\n",
       "      <td>0</td>\n",
       "      <td>ACN</td>\n",
       "    </tr>\n",
       "    <tr>\n",
       "      <th>4</th>\n",
       "      <td>2024-10-15T07:05:37.494476115Z</td>\n",
       "      <td>2024-10-15T07:05:37.494309484Z</td>\n",
       "      <td>160</td>\n",
       "      <td>2</td>\n",
       "      <td>226</td>\n",
       "      <td>R</td>\n",
       "      <td>N</td>\n",
       "      <td>NaN</td>\n",
       "      <td>0</td>\n",
       "      <td>0</td>\n",
       "      <td>0</td>\n",
       "      <td>8</td>\n",
       "      <td>0</td>\n",
       "      <td>0</td>\n",
       "      <td>ADBE</td>\n",
       "    </tr>\n",
       "  </tbody>\n",
       "</table>\n",
       "</div>"
      ]
     },
     "execution_count": 3,
     "metadata": {},
     "output_type": "execute_result"
    }
   ],
   "execution_count": 3
  },
  {
   "metadata": {
    "ExecuteTime": {
     "end_time": "2024-10-25T18:48:04.455109Z",
     "start_time": "2024-10-25T18:48:04.394845Z"
    }
   },
   "cell_type": "code",
   "source": "all_data.columns",
   "id": "b7b3476582c231b5",
   "outputs": [
    {
     "data": {
      "text/plain": [
       "Index(['ts_recv', 'ts_event', 'rtype', 'publisher_id', 'instrument_id',\n",
       "       'action', 'side', 'price', 'size', 'channel_id', 'order_id', 'flags',\n",
       "       'ts_in_delta', 'sequence', 'symbol'],\n",
       "      dtype='object')"
      ]
     },
     "execution_count": 4,
     "metadata": {},
     "output_type": "execute_result"
    }
   ],
   "execution_count": 4
  },
  {
   "metadata": {
    "ExecuteTime": {
     "end_time": "2024-10-25T18:48:30.259524Z",
     "start_time": "2024-10-25T18:48:11.180652Z"
    }
   },
   "cell_type": "code",
   "source": "all_data.describe()",
   "id": "1b4dd8d0c84dc03c",
   "outputs": [
    {
     "data": {
      "text/plain": [
       "            rtype  publisher_id  instrument_id         price          size  \\\n",
       "count  96538174.0    96538174.0   9.653817e+07  9.653812e+07  9.653817e+07   \n",
       "mean        160.0           2.0   7.765844e+03  2.062968e+02  9.149287e+01   \n",
       "std           0.0           0.0   6.070971e+03  4.006564e+02  2.262157e+03   \n",
       "min         160.0           2.0   3.800000e+01  1.000000e-04  0.000000e+00   \n",
       "25%         160.0           2.0   8.530000e+02  1.496700e+02  6.000000e+01   \n",
       "50%         160.0           2.0   7.152000e+03  1.740000e+02  1.000000e+02   \n",
       "75%         160.0           2.0   1.166700e+04  2.201000e+02  1.000000e+02   \n",
       "max         160.0           2.0   1.770900e+04  1.999990e+05  1.858729e+07   \n",
       "\n",
       "       channel_id      order_id         flags   ts_in_delta      sequence  \n",
       "count  96538174.0  9.653817e+07  9.653817e+07  9.653817e+07  9.653817e+07  \n",
       "mean          0.0  4.486379e+08  7.026012e+01  1.682105e+05  3.508281e+08  \n",
       "std           0.0  2.758354e+08  6.464096e+01  3.883706e+04  1.914023e+08  \n",
       "min           0.0  0.000000e+00  0.000000e+00  0.000000e+00  0.000000e+00  \n",
       "25%           0.0  2.225975e+08  0.000000e+00  1.659230e+05  1.866496e+08  \n",
       "50%           0.0  4.295145e+08  1.280000e+02  1.669550e+05  3.513972e+08  \n",
       "75%           0.0  6.495330e+08  1.300000e+02  1.682560e+05  5.129253e+08  \n",
       "max           0.0  1.167278e+09  1.300000e+02  7.159962e+07  6.902027e+08  "
      ],
      "text/html": [
       "<div>\n",
       "<style scoped>\n",
       "    .dataframe tbody tr th:only-of-type {\n",
       "        vertical-align: middle;\n",
       "    }\n",
       "\n",
       "    .dataframe tbody tr th {\n",
       "        vertical-align: top;\n",
       "    }\n",
       "\n",
       "    .dataframe thead th {\n",
       "        text-align: right;\n",
       "    }\n",
       "</style>\n",
       "<table border=\"1\" class=\"dataframe\">\n",
       "  <thead>\n",
       "    <tr style=\"text-align: right;\">\n",
       "      <th></th>\n",
       "      <th>rtype</th>\n",
       "      <th>publisher_id</th>\n",
       "      <th>instrument_id</th>\n",
       "      <th>price</th>\n",
       "      <th>size</th>\n",
       "      <th>channel_id</th>\n",
       "      <th>order_id</th>\n",
       "      <th>flags</th>\n",
       "      <th>ts_in_delta</th>\n",
       "      <th>sequence</th>\n",
       "    </tr>\n",
       "  </thead>\n",
       "  <tbody>\n",
       "    <tr>\n",
       "      <th>count</th>\n",
       "      <td>96538174.0</td>\n",
       "      <td>96538174.0</td>\n",
       "      <td>9.653817e+07</td>\n",
       "      <td>9.653812e+07</td>\n",
       "      <td>9.653817e+07</td>\n",
       "      <td>96538174.0</td>\n",
       "      <td>9.653817e+07</td>\n",
       "      <td>9.653817e+07</td>\n",
       "      <td>9.653817e+07</td>\n",
       "      <td>9.653817e+07</td>\n",
       "    </tr>\n",
       "    <tr>\n",
       "      <th>mean</th>\n",
       "      <td>160.0</td>\n",
       "      <td>2.0</td>\n",
       "      <td>7.765844e+03</td>\n",
       "      <td>2.062968e+02</td>\n",
       "      <td>9.149287e+01</td>\n",
       "      <td>0.0</td>\n",
       "      <td>4.486379e+08</td>\n",
       "      <td>7.026012e+01</td>\n",
       "      <td>1.682105e+05</td>\n",
       "      <td>3.508281e+08</td>\n",
       "    </tr>\n",
       "    <tr>\n",
       "      <th>std</th>\n",
       "      <td>0.0</td>\n",
       "      <td>0.0</td>\n",
       "      <td>6.070971e+03</td>\n",
       "      <td>4.006564e+02</td>\n",
       "      <td>2.262157e+03</td>\n",
       "      <td>0.0</td>\n",
       "      <td>2.758354e+08</td>\n",
       "      <td>6.464096e+01</td>\n",
       "      <td>3.883706e+04</td>\n",
       "      <td>1.914023e+08</td>\n",
       "    </tr>\n",
       "    <tr>\n",
       "      <th>min</th>\n",
       "      <td>160.0</td>\n",
       "      <td>2.0</td>\n",
       "      <td>3.800000e+01</td>\n",
       "      <td>1.000000e-04</td>\n",
       "      <td>0.000000e+00</td>\n",
       "      <td>0.0</td>\n",
       "      <td>0.000000e+00</td>\n",
       "      <td>0.000000e+00</td>\n",
       "      <td>0.000000e+00</td>\n",
       "      <td>0.000000e+00</td>\n",
       "    </tr>\n",
       "    <tr>\n",
       "      <th>25%</th>\n",
       "      <td>160.0</td>\n",
       "      <td>2.0</td>\n",
       "      <td>8.530000e+02</td>\n",
       "      <td>1.496700e+02</td>\n",
       "      <td>6.000000e+01</td>\n",
       "      <td>0.0</td>\n",
       "      <td>2.225975e+08</td>\n",
       "      <td>0.000000e+00</td>\n",
       "      <td>1.659230e+05</td>\n",
       "      <td>1.866496e+08</td>\n",
       "    </tr>\n",
       "    <tr>\n",
       "      <th>50%</th>\n",
       "      <td>160.0</td>\n",
       "      <td>2.0</td>\n",
       "      <td>7.152000e+03</td>\n",
       "      <td>1.740000e+02</td>\n",
       "      <td>1.000000e+02</td>\n",
       "      <td>0.0</td>\n",
       "      <td>4.295145e+08</td>\n",
       "      <td>1.280000e+02</td>\n",
       "      <td>1.669550e+05</td>\n",
       "      <td>3.513972e+08</td>\n",
       "    </tr>\n",
       "    <tr>\n",
       "      <th>75%</th>\n",
       "      <td>160.0</td>\n",
       "      <td>2.0</td>\n",
       "      <td>1.166700e+04</td>\n",
       "      <td>2.201000e+02</td>\n",
       "      <td>1.000000e+02</td>\n",
       "      <td>0.0</td>\n",
       "      <td>6.495330e+08</td>\n",
       "      <td>1.300000e+02</td>\n",
       "      <td>1.682560e+05</td>\n",
       "      <td>5.129253e+08</td>\n",
       "    </tr>\n",
       "    <tr>\n",
       "      <th>max</th>\n",
       "      <td>160.0</td>\n",
       "      <td>2.0</td>\n",
       "      <td>1.770900e+04</td>\n",
       "      <td>1.999990e+05</td>\n",
       "      <td>1.858729e+07</td>\n",
       "      <td>0.0</td>\n",
       "      <td>1.167278e+09</td>\n",
       "      <td>1.300000e+02</td>\n",
       "      <td>7.159962e+07</td>\n",
       "      <td>6.902027e+08</td>\n",
       "    </tr>\n",
       "  </tbody>\n",
       "</table>\n",
       "</div>"
      ]
     },
     "execution_count": 5,
     "metadata": {},
     "output_type": "execute_result"
    }
   ],
   "execution_count": 5
  },
  {
   "metadata": {
    "ExecuteTime": {
     "end_time": "2024-10-25T18:49:14.001299Z",
     "start_time": "2024-10-25T18:49:07.038590Z"
    }
   },
   "cell_type": "code",
   "source": "all_data[\"ts_event\"].min()\n",
   "id": "7fc0ecb084fb6947",
   "outputs": [
    {
     "data": {
      "text/plain": [
       "'2024-10-15T07:05:37.491984996Z'"
      ]
     },
     "execution_count": 6,
     "metadata": {},
     "output_type": "execute_result"
    }
   ],
   "execution_count": 6
  },
  {
   "metadata": {
    "ExecuteTime": {
     "end_time": "2024-10-25T18:49:18.326617Z",
     "start_time": "2024-10-25T18:49:14.091884Z"
    }
   },
   "cell_type": "code",
   "source": "all_data[\"ts_event\"].max()",
   "id": "12e87dba8a9ab968",
   "outputs": [
    {
     "data": {
      "text/plain": [
       "'2024-10-15T23:59:59.934554221Z'"
      ]
     },
     "execution_count": 7,
     "metadata": {},
     "output_type": "execute_result"
    }
   ],
   "execution_count": 7
  },
  {
   "metadata": {},
   "cell_type": "code",
   "outputs": [],
   "execution_count": null,
   "source": [
    "all_data[\"symbol\"].unique()\n",
    "# array(['JNJ', 'AMD', 'META', 'AMGN', 'GOOG', 'COST', 'TSLA', 'QCOM',\n",
    "#        'NFLX', 'UNH', 'MSFT', 'JPM', 'XOM', 'AMZN', 'MCD', 'BRK.B',\n",
    "#        'AAPL', 'HD', 'PG', 'CAT', 'AVGO', 'NVDA', 'NOW', 'LIN', 'GOOGL',\n",
    "#        'CSCO', 'DHR', 'TMO', 'UBER', 'V', 'PEP', 'IBM', 'PM', 'LLY',\n",
    "#        'AMAT', 'VZ', 'WFC', 'ABBV', 'ADBE', 'CVX', 'ORCL', 'TXN', 'MA',\n",
    "#        'BAC', 'MRK', 'ABT', 'CRM', 'KO', 'WMT'], dtype=object)"
   ],
   "id": "4a0847354f56ce0d"
  },
  {
   "metadata": {},
   "cell_type": "markdown",
   "source": "# get data from specific time frames",
   "id": "2b43e527ad574604"
  },
  {
   "metadata": {
    "ExecuteTime": {
     "end_time": "2024-10-25T20:21:26.300922Z",
     "start_time": "2024-10-25T20:19:37.959065Z"
    }
   },
   "cell_type": "code",
   "source": [
    "# Assuming your ts_event column is in string format, first convert it to datetime\n",
    "all_data['ts_event_datetime'] = pd.to_datetime(all_data['ts_event'])\n",
    "\n",
    "# Define the start and end times with the UTC timezone\n",
    "start_time = pd.Timestamp('2024-10-15 14:00:00', tz='UTC')\n",
    "end_time = pd.Timestamp('2024-10-15 14:15:00', tz='UTC')\n",
    "\n",
    "# Filter the data between 10am and 11am\n",
    "subdata = all_data[(all_data['ts_event_datetime'] >= start_time) & (all_data['ts_event_datetime'] < end_time)]\n",
    "\n",
    "# Display the filtered data\n",
    "print(len(subdata))\n",
    "\n",
    "\n"
   ],
   "id": "7647a82c413c2acf",
   "outputs": [
    {
     "name": "stdout",
     "output_type": "stream",
     "text": [
      "4795490\n"
     ]
    }
   ],
   "execution_count": 21
  },
  {
   "metadata": {
    "ExecuteTime": {
     "end_time": "2024-10-25T20:22:27.343327Z",
     "start_time": "2024-10-25T20:21:26.306903Z"
    }
   },
   "cell_type": "code",
   "source": "subdata.to_csv(\"xnas-itch-20241015_14-00--14-15.csv\", index=False)\n",
   "id": "7138100cd177fef1",
   "outputs": [],
   "execution_count": 22
  },
  {
   "metadata": {
    "ExecuteTime": {
     "end_time": "2024-10-25T19:12:01.707140Z",
     "start_time": "2024-10-25T19:12:01.688702Z"
    }
   },
   "cell_type": "code",
   "source": "",
   "id": "d942c9a0dc08fb8d",
   "outputs": [],
   "execution_count": null
  },
  {
   "metadata": {},
   "cell_type": "code",
   "outputs": [],
   "execution_count": null,
   "source": "",
   "id": "696e08ab6a6e8e1e"
  },
  {
   "metadata": {},
   "cell_type": "code",
   "outputs": [],
   "execution_count": null,
   "source": "",
   "id": "aea9d28ea3549e5b"
  },
  {
   "metadata": {},
   "cell_type": "code",
   "outputs": [],
   "execution_count": null,
   "source": "\n",
   "id": "26d9112ffb6d9c99"
  }
 ],
 "metadata": {
  "kernelspec": {
   "display_name": "venv",
   "language": "python",
   "name": "venv"
  },
  "language_info": {
   "codemirror_mode": {
    "name": "ipython",
    "version": 2
   },
   "file_extension": ".py",
   "mimetype": "text/x-python",
   "name": "python",
   "nbconvert_exporter": "python",
   "pygments_lexer": "ipython2",
   "version": "2.7.6"
  }
 },
 "nbformat": 4,
 "nbformat_minor": 5
}
