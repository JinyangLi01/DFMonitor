{
 "cells": [
  {
   "cell_type": "code",
   "execution_count": 1,
   "id": "initial_id",
   "metadata": {
    "collapsed": true,
    "ExecuteTime": {
     "end_time": "2024-02-05T01:54:19.929845Z",
     "start_time": "2024-02-05T01:54:19.168458Z"
    }
   },
   "outputs": [],
   "source": [
    "import pandas as pd\n",
    "import numpy as np\n",
    "import matplotlib.pyplot as plt"
   ]
  },
  {
   "cell_type": "code",
   "outputs": [
    {
     "name": "stdout",
     "output_type": "stream",
     "text": [
      "['Caucasian' 'African-American' 'Other' 'Hispanic' 'Asian'\n",
      " 'Native American']\n",
      "7214\n"
     ]
    }
   ],
   "source": [
    "\n",
    "data = pd.read_csv('../../../data/compas/preprocessed/cox-parsed_7214rows_with_labels_sorted_by_dates.csv')\n",
    "print(data[\"race\"].unique())\n",
    "print(len(data))"
   ],
   "metadata": {
    "collapsed": false,
    "ExecuteTime": {
     "end_time": "2024-02-05T01:54:21.682907Z",
     "start_time": "2024-02-05T01:54:21.615263Z"
    }
   },
   "id": "3eb1d3301d83b154",
   "execution_count": 2
  },
  {
   "cell_type": "code",
   "outputs": [
    {
     "name": "stdout",
     "output_type": "stream",
     "text": [
      "African-American    3696\n",
      "Caucasian           2454\n",
      "Hispanic             637\n",
      "Other                377\n",
      "Asian                 32\n",
      "Native American       18\n",
      "Name: race, dtype: int64\n"
     ]
    }
   ],
   "source": [
    "# number of different race\n",
    "print(data[\"race\"].value_counts())"
   ],
   "metadata": {
    "collapsed": false,
    "ExecuteTime": {
     "end_time": "2024-02-05T01:54:24.161487Z",
     "start_time": "2024-02-05T01:54:24.158443Z"
    }
   },
   "id": "a70f01a5b6666a81",
   "execution_count": 3
  },
  {
   "cell_type": "code",
   "outputs": [
    {
     "name": "stdout",
     "output_type": "stream",
     "text": [
      "2013-01-01 00:00:00 2014-12-31 00:00:00\n"
     ]
    }
   ],
   "source": [
    "data['compas_screening_date'] = pd.to_datetime(data['compas_screening_date'])\n",
    "\n",
    "print(data['compas_screening_date'].min(), data['compas_screening_date'].max())\n"
   ],
   "metadata": {
    "collapsed": false,
    "ExecuteTime": {
     "end_time": "2024-02-05T01:54:58.987889Z",
     "start_time": "2024-02-05T01:54:58.974828Z"
    }
   },
   "id": "c03fba638fe1e83c",
   "execution_count": 4
  },
  {
   "cell_type": "code",
   "outputs": [],
   "source": [],
   "metadata": {
    "collapsed": false
   },
   "id": "f2ef31b3fe2079aa"
  }
 ],
 "metadata": {
  "kernelspec": {
   "display_name": "Python 3",
   "language": "python",
   "name": "python3"
  },
  "language_info": {
   "codemirror_mode": {
    "name": "ipython",
    "version": 2
   },
   "file_extension": ".py",
   "mimetype": "text/x-python",
   "name": "python",
   "nbconvert_exporter": "python",
   "pygments_lexer": "ipython2",
   "version": "2.7.6"
  }
 },
 "nbformat": 4,
 "nbformat_minor": 5
}
