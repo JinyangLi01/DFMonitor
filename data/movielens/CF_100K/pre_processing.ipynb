{
 "cells": [
  {
   "cell_type": "code",
   "id": "initial_id",
   "metadata": {
    "collapsed": true,
    "ExecuteTime": {
     "end_time": "2024-04-25T17:56:54.219185Z",
     "start_time": "2024-04-25T17:56:53.112302Z"
    }
   },
   "source": [
    "import numpy as np\n",
    "import matplotlib.pyplot as plt\n",
    "import pandas as pd\n",
    "import sklearn.model_selection\n",
    "from sklearn.model_selection import train_test_split\n"
   ],
   "outputs": [],
   "execution_count": 2
  },
  {
   "cell_type": "code",
   "source": [
    "dataset = pd.read_csv('../ml-100k/u.data', sep='\\t', names=['user_id', 'item_id', 'rating', 'timestamp'])\n",
    "len(dataset)\n",
    "\n"
   ],
   "metadata": {
    "collapsed": false,
    "ExecuteTime": {
     "end_time": "2024-04-25T22:50:04.915994Z",
     "start_time": "2024-04-25T22:50:04.896388Z"
    }
   },
   "id": "2b5c28379cb5d892",
   "outputs": [
    {
     "data": {
      "text/plain": [
       "100000"
      ]
     },
     "execution_count": 28,
     "metadata": {},
     "output_type": "execute_result"
    }
   ],
   "execution_count": 28
  },
  {
   "cell_type": "code",
   "source": [
    "# rank records based on the timestamp\n",
    "dataset = dataset.sort_values(by='timestamp')\n",
    "dataset.head()\n"
   ],
   "metadata": {
    "collapsed": false,
    "ExecuteTime": {
     "end_time": "2024-04-25T22:50:09.790680Z",
     "start_time": "2024-04-25T22:50:09.771922Z"
    }
   },
   "id": "cc6194e1c5f62309",
   "outputs": [
    {
     "data": {
      "text/plain": [
       "       user_id  item_id  rating  timestamp\n",
       "214        259      255       4  874724710\n",
       "83965      259      286       4  874724727\n",
       "43027      259      298       4  874724754\n",
       "21396      259      185       4  874724781\n",
       "82655      259      173       4  874724843"
      ],
      "text/html": [
       "<div>\n",
       "<style scoped>\n",
       "    .dataframe tbody tr th:only-of-type {\n",
       "        vertical-align: middle;\n",
       "    }\n",
       "\n",
       "    .dataframe tbody tr th {\n",
       "        vertical-align: top;\n",
       "    }\n",
       "\n",
       "    .dataframe thead th {\n",
       "        text-align: right;\n",
       "    }\n",
       "</style>\n",
       "<table border=\"1\" class=\"dataframe\">\n",
       "  <thead>\n",
       "    <tr style=\"text-align: right;\">\n",
       "      <th></th>\n",
       "      <th>user_id</th>\n",
       "      <th>item_id</th>\n",
       "      <th>rating</th>\n",
       "      <th>timestamp</th>\n",
       "    </tr>\n",
       "  </thead>\n",
       "  <tbody>\n",
       "    <tr>\n",
       "      <th>214</th>\n",
       "      <td>259</td>\n",
       "      <td>255</td>\n",
       "      <td>4</td>\n",
       "      <td>874724710</td>\n",
       "    </tr>\n",
       "    <tr>\n",
       "      <th>83965</th>\n",
       "      <td>259</td>\n",
       "      <td>286</td>\n",
       "      <td>4</td>\n",
       "      <td>874724727</td>\n",
       "    </tr>\n",
       "    <tr>\n",
       "      <th>43027</th>\n",
       "      <td>259</td>\n",
       "      <td>298</td>\n",
       "      <td>4</td>\n",
       "      <td>874724754</td>\n",
       "    </tr>\n",
       "    <tr>\n",
       "      <th>21396</th>\n",
       "      <td>259</td>\n",
       "      <td>185</td>\n",
       "      <td>4</td>\n",
       "      <td>874724781</td>\n",
       "    </tr>\n",
       "    <tr>\n",
       "      <th>82655</th>\n",
       "      <td>259</td>\n",
       "      <td>173</td>\n",
       "      <td>4</td>\n",
       "      <td>874724843</td>\n",
       "    </tr>\n",
       "  </tbody>\n",
       "</table>\n",
       "</div>"
      ]
     },
     "execution_count": 29,
     "metadata": {},
     "output_type": "execute_result"
    }
   ],
   "execution_count": 29
  },
  {
   "cell_type": "code",
   "source": [
    "# save the sorted dataset\n",
    "dataset.to_csv('u_sorted.data', sep='\\t', index=False)"
   ],
   "metadata": {
    "collapsed": false,
    "ExecuteTime": {
     "end_time": "2024-04-25T22:50:18.160875Z",
     "start_time": "2024-04-25T22:50:18.048097Z"
    }
   },
   "id": "47ce547fcfdd78f5",
   "outputs": [],
   "execution_count": 30
  },
  {
   "cell_type": "code",
   "source": [
    "# load the sorted dataset\n",
    "dataset = pd.read_csv('u_sorted.data', sep='\\t', index_col=False)\n",
    "len(dataset)"
   ],
   "metadata": {
    "collapsed": false,
    "ExecuteTime": {
     "end_time": "2024-04-25T22:50:32.106173Z",
     "start_time": "2024-04-25T22:50:32.086463Z"
    }
   },
   "id": "c9e70e1ebcddf28f",
   "outputs": [
    {
     "data": {
      "text/plain": [
       "100000"
      ]
     },
     "execution_count": 31,
     "metadata": {},
     "output_type": "execute_result"
    }
   ],
   "execution_count": 31
  },
  {
   "cell_type": "code",
   "source": [
    "# since some users give ratings at the same time, we can't use timestamp\n",
    "# I will shuffle the datasetand assume a new timestamp for each record\n",
    "dataset = dataset.sample(frac=1).reset_index(drop=True)\n",
    "dataset.head()\n"
   ],
   "metadata": {
    "collapsed": false,
    "ExecuteTime": {
     "end_time": "2024-04-25T22:50:36.487792Z",
     "start_time": "2024-04-25T22:50:36.476040Z"
    }
   },
   "id": "fadf3d0a23bc9b1e",
   "outputs": [
    {
     "data": {
      "text/plain": [
       "   user_id  item_id  rating  timestamp\n",
       "0      293      193       3  888905990\n",
       "1      774      447       1  888557715\n",
       "2       55        7       3  878176047\n",
       "3      263       79       4  891298047\n",
       "4      774      758       1  888559036"
      ],
      "text/html": [
       "<div>\n",
       "<style scoped>\n",
       "    .dataframe tbody tr th:only-of-type {\n",
       "        vertical-align: middle;\n",
       "    }\n",
       "\n",
       "    .dataframe tbody tr th {\n",
       "        vertical-align: top;\n",
       "    }\n",
       "\n",
       "    .dataframe thead th {\n",
       "        text-align: right;\n",
       "    }\n",
       "</style>\n",
       "<table border=\"1\" class=\"dataframe\">\n",
       "  <thead>\n",
       "    <tr style=\"text-align: right;\">\n",
       "      <th></th>\n",
       "      <th>user_id</th>\n",
       "      <th>item_id</th>\n",
       "      <th>rating</th>\n",
       "      <th>timestamp</th>\n",
       "    </tr>\n",
       "  </thead>\n",
       "  <tbody>\n",
       "    <tr>\n",
       "      <th>0</th>\n",
       "      <td>293</td>\n",
       "      <td>193</td>\n",
       "      <td>3</td>\n",
       "      <td>888905990</td>\n",
       "    </tr>\n",
       "    <tr>\n",
       "      <th>1</th>\n",
       "      <td>774</td>\n",
       "      <td>447</td>\n",
       "      <td>1</td>\n",
       "      <td>888557715</td>\n",
       "    </tr>\n",
       "    <tr>\n",
       "      <th>2</th>\n",
       "      <td>55</td>\n",
       "      <td>7</td>\n",
       "      <td>3</td>\n",
       "      <td>878176047</td>\n",
       "    </tr>\n",
       "    <tr>\n",
       "      <th>3</th>\n",
       "      <td>263</td>\n",
       "      <td>79</td>\n",
       "      <td>4</td>\n",
       "      <td>891298047</td>\n",
       "    </tr>\n",
       "    <tr>\n",
       "      <th>4</th>\n",
       "      <td>774</td>\n",
       "      <td>758</td>\n",
       "      <td>1</td>\n",
       "      <td>888559036</td>\n",
       "    </tr>\n",
       "  </tbody>\n",
       "</table>\n",
       "</div>"
      ]
     },
     "execution_count": 32,
     "metadata": {},
     "output_type": "execute_result"
    }
   ],
   "execution_count": 32
  },
  {
   "cell_type": "code",
   "source": [
    "len(dataset)"
   ],
   "metadata": {
    "collapsed": false,
    "ExecuteTime": {
     "end_time": "2024-04-25T22:50:41.009198Z",
     "start_time": "2024-04-25T22:50:41.005065Z"
    }
   },
   "id": "aca67202ea214119",
   "outputs": [
    {
     "data": {
      "text/plain": [
       "100000"
      ]
     },
     "execution_count": 33,
     "metadata": {},
     "output_type": "execute_result"
    }
   ],
   "execution_count": 33
  },
  {
   "cell_type": "code",
   "source": [
    "# add a column for the new timestamp\n",
    "dataset['timestamp'] = np.arange(len(dataset))\n",
    "dataset.head()"
   ],
   "metadata": {
    "collapsed": false,
    "ExecuteTime": {
     "end_time": "2024-04-25T22:50:42.442965Z",
     "start_time": "2024-04-25T22:50:42.436263Z"
    }
   },
   "id": "c138d6be82c40dc4",
   "outputs": [
    {
     "data": {
      "text/plain": [
       "   user_id  item_id  rating  timestamp\n",
       "0      293      193       3          0\n",
       "1      774      447       1          1\n",
       "2       55        7       3          2\n",
       "3      263       79       4          3\n",
       "4      774      758       1          4"
      ],
      "text/html": [
       "<div>\n",
       "<style scoped>\n",
       "    .dataframe tbody tr th:only-of-type {\n",
       "        vertical-align: middle;\n",
       "    }\n",
       "\n",
       "    .dataframe tbody tr th {\n",
       "        vertical-align: top;\n",
       "    }\n",
       "\n",
       "    .dataframe thead th {\n",
       "        text-align: right;\n",
       "    }\n",
       "</style>\n",
       "<table border=\"1\" class=\"dataframe\">\n",
       "  <thead>\n",
       "    <tr style=\"text-align: right;\">\n",
       "      <th></th>\n",
       "      <th>user_id</th>\n",
       "      <th>item_id</th>\n",
       "      <th>rating</th>\n",
       "      <th>timestamp</th>\n",
       "    </tr>\n",
       "  </thead>\n",
       "  <tbody>\n",
       "    <tr>\n",
       "      <th>0</th>\n",
       "      <td>293</td>\n",
       "      <td>193</td>\n",
       "      <td>3</td>\n",
       "      <td>0</td>\n",
       "    </tr>\n",
       "    <tr>\n",
       "      <th>1</th>\n",
       "      <td>774</td>\n",
       "      <td>447</td>\n",
       "      <td>1</td>\n",
       "      <td>1</td>\n",
       "    </tr>\n",
       "    <tr>\n",
       "      <th>2</th>\n",
       "      <td>55</td>\n",
       "      <td>7</td>\n",
       "      <td>3</td>\n",
       "      <td>2</td>\n",
       "    </tr>\n",
       "    <tr>\n",
       "      <th>3</th>\n",
       "      <td>263</td>\n",
       "      <td>79</td>\n",
       "      <td>4</td>\n",
       "      <td>3</td>\n",
       "    </tr>\n",
       "    <tr>\n",
       "      <th>4</th>\n",
       "      <td>774</td>\n",
       "      <td>758</td>\n",
       "      <td>1</td>\n",
       "      <td>4</td>\n",
       "    </tr>\n",
       "  </tbody>\n",
       "</table>\n",
       "</div>"
      ]
     },
     "execution_count": 34,
     "metadata": {},
     "output_type": "execute_result"
    }
   ],
   "execution_count": 34
  },
  {
   "cell_type": "code",
   "source": [
    "# save the shuffled dataset\n",
    "dataset.to_csv('shuffle_assume_timestamp/u_shuffled.data', sep='\\t', index=False)\n"
   ],
   "metadata": {
    "collapsed": false,
    "ExecuteTime": {
     "end_time": "2024-04-25T22:50:44.793357Z",
     "start_time": "2024-04-25T22:50:44.684813Z"
    }
   },
   "id": "9d5f27c95c9a1e6a",
   "outputs": [],
   "execution_count": 35
  },
  {
   "cell_type": "code",
   "source": [
    "# load the shuffled dataset\n",
    "dataset = pd.read_csv('shuffle_assume_timestamp/u_shuffled.data', sep='\\s+', index_col=False)\n"
   ],
   "metadata": {
    "collapsed": false,
    "ExecuteTime": {
     "end_time": "2024-04-25T22:50:46.718904Z",
     "start_time": "2024-04-25T22:50:46.691842Z"
    }
   },
   "id": "cff9c86689ef5a47",
   "outputs": [],
   "execution_count": 36
  },
  {
   "cell_type": "code",
   "source": "print(len(dataset))",
   "metadata": {
    "collapsed": false,
    "ExecuteTime": {
     "end_time": "2024-04-25T22:50:48.002022Z",
     "start_time": "2024-04-25T22:50:47.998224Z"
    }
   },
   "id": "5f4f63efcadb146a",
   "outputs": [
    {
     "name": "stdout",
     "output_type": "stream",
     "text": [
      "100000\n"
     ]
    }
   ],
   "execution_count": 37
  },
  {
   "cell_type": "code",
   "source": [
    "\n",
    "\n",
    "# assume there are 10 time windows\n",
    "n_windows = 10\n",
    "window_size = len(dataset) // n_windows\n",
    "print(window_size)\n",
    "# split the dataset into 10 time windows in order\n",
    "# then for each time window, split it into training and testing set by 80% and 20%\n",
    "# save the training and testing set into files\n",
    "\n",
    "for i in range(0, n_windows):\n",
    "    start = i * window_size\n",
    "    end = (i + 1) * window_size\n",
    "    print(start, end)\n",
    "    dataset[:end].to_csv('shuffle_assume_timestamp/u' + str(i) + '.data', sep='\\t', index=False)\n",
    "    # train, test = train_test_split(dataset[start:end], test_size=0.2)\n",
    "    # train.to_csv('shuffle_assume_timestamp/u' + str(i) + '_train.data', sep='\\t', index=False)\n",
    "    # test.to_csv('shuffle_assume_timestamp/u' + str(i) + '_test.data', sep='\\t', index=False)\n",
    "    \n",
    "\n",
    "\n"
   ],
   "metadata": {
    "collapsed": false,
    "ExecuteTime": {
     "end_time": "2024-04-25T22:51:31.909152Z",
     "start_time": "2024-04-25T22:51:31.435758Z"
    }
   },
   "id": "6544115fdbb7cf00",
   "outputs": [
    {
     "name": "stdout",
     "output_type": "stream",
     "text": [
      "9000\n",
      "0 9000\n",
      "9000 18000\n",
      "18000 27000\n",
      "27000 36000\n",
      "36000 45000\n",
      "45000 54000\n",
      "54000 63000\n",
      "63000 72000\n",
      "72000 81000\n",
      "81000 90000\n"
     ]
    }
   ],
   "execution_count": 40
  },
  {
   "cell_type": "code",
   "source": [
    "# read u9 data and print length\n",
    "dataset = pd.read_csv('shuffle_assume_timestamp/u8.data', sep='\\t', index_col=False)\n",
    "print(len(dataset))"
   ],
   "metadata": {
    "collapsed": false,
    "ExecuteTime": {
     "end_time": "2024-04-25T22:50:58.537113Z",
     "start_time": "2024-04-25T22:50:58.513130Z"
    }
   },
   "id": "b98f0f5d8da03f82",
   "outputs": [
    {
     "name": "stdout",
     "output_type": "stream",
     "text": [
      "90000\n"
     ]
    }
   ],
   "execution_count": 39
  },
  {
   "cell_type": "code",
   "outputs": [],
   "source": [],
   "metadata": {
    "collapsed": false
   },
   "id": "6059b5bea04df608",
   "execution_count": null
  }
 ],
 "metadata": {
  "kernelspec": {
   "display_name": "Python 3",
   "language": "python",
   "name": "python3"
  },
  "language_info": {
   "codemirror_mode": {
    "name": "ipython",
    "version": 2
   },
   "file_extension": ".py",
   "mimetype": "text/x-python",
   "name": "python",
   "nbconvert_exporter": "python",
   "pygments_lexer": "ipython2",
   "version": "2.7.6"
  }
 },
 "nbformat": 4,
 "nbformat_minor": 5
}
