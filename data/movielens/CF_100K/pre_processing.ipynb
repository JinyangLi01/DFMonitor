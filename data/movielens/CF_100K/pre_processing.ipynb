{
 "cells": [
  {
   "cell_type": "code",
   "id": "initial_id",
   "metadata": {
    "collapsed": true,
    "ExecuteTime": {
     "end_time": "2024-04-25T17:56:54.219185Z",
     "start_time": "2024-04-25T17:56:53.112302Z"
    }
   },
   "source": [
    "import numpy as np\n",
    "import matplotlib.pyplot as plt\n",
    "import pandas as pd\n",
    "import sklearn.model_selection\n",
    "from sklearn.model_selection import train_test_split\n"
   ],
   "outputs": [],
   "execution_count": 2
  },
  {
   "cell_type": "code",
   "outputs": [
    {
     "data": {
      "text/plain": "   user_id  item_id  rating  timestamp\n0      196      242       3  881250949\n1      186      302       3  891717742\n2       22      377       1  878887116\n3      244       51       2  880606923\n4      166      346       1  886397596",
      "text/html": "<div>\n<style scoped>\n    .dataframe tbody tr th:only-of-type {\n        vertical-align: middle;\n    }\n\n    .dataframe tbody tr th {\n        vertical-align: top;\n    }\n\n    .dataframe thead th {\n        text-align: right;\n    }\n</style>\n<table border=\"1\" class=\"dataframe\">\n  <thead>\n    <tr style=\"text-align: right;\">\n      <th></th>\n      <th>user_id</th>\n      <th>item_id</th>\n      <th>rating</th>\n      <th>timestamp</th>\n    </tr>\n  </thead>\n  <tbody>\n    <tr>\n      <th>0</th>\n      <td>196</td>\n      <td>242</td>\n      <td>3</td>\n      <td>881250949</td>\n    </tr>\n    <tr>\n      <th>1</th>\n      <td>186</td>\n      <td>302</td>\n      <td>3</td>\n      <td>891717742</td>\n    </tr>\n    <tr>\n      <th>2</th>\n      <td>22</td>\n      <td>377</td>\n      <td>1</td>\n      <td>878887116</td>\n    </tr>\n    <tr>\n      <th>3</th>\n      <td>244</td>\n      <td>51</td>\n      <td>2</td>\n      <td>880606923</td>\n    </tr>\n    <tr>\n      <th>4</th>\n      <td>166</td>\n      <td>346</td>\n      <td>1</td>\n      <td>886397596</td>\n    </tr>\n  </tbody>\n</table>\n</div>"
     },
     "execution_count": 27,
     "metadata": {},
     "output_type": "execute_result"
    }
   ],
   "source": [
    "dataset = pd.read_csv('../ml-100k/u.data', sep='\\t', names=['user_id', 'item_id', 'rating', 'timestamp'])\n",
    "dataset.head()\n",
    "\n"
   ],
   "metadata": {
    "collapsed": false,
    "ExecuteTime": {
     "end_time": "2024-04-24T23:59:40.307499Z",
     "start_time": "2024-04-24T23:59:40.285281Z"
    }
   },
   "id": "2b5c28379cb5d892",
   "execution_count": 27
  },
  {
   "cell_type": "code",
   "outputs": [
    {
     "data": {
      "text/plain": "       user_id  item_id  rating  timestamp\n214        259      255       4  874724710\n83965      259      286       4  874724727\n43027      259      298       4  874724754\n21396      259      185       4  874724781\n82655      259      173       4  874724843",
      "text/html": "<div>\n<style scoped>\n    .dataframe tbody tr th:only-of-type {\n        vertical-align: middle;\n    }\n\n    .dataframe tbody tr th {\n        vertical-align: top;\n    }\n\n    .dataframe thead th {\n        text-align: right;\n    }\n</style>\n<table border=\"1\" class=\"dataframe\">\n  <thead>\n    <tr style=\"text-align: right;\">\n      <th></th>\n      <th>user_id</th>\n      <th>item_id</th>\n      <th>rating</th>\n      <th>timestamp</th>\n    </tr>\n  </thead>\n  <tbody>\n    <tr>\n      <th>214</th>\n      <td>259</td>\n      <td>255</td>\n      <td>4</td>\n      <td>874724710</td>\n    </tr>\n    <tr>\n      <th>83965</th>\n      <td>259</td>\n      <td>286</td>\n      <td>4</td>\n      <td>874724727</td>\n    </tr>\n    <tr>\n      <th>43027</th>\n      <td>259</td>\n      <td>298</td>\n      <td>4</td>\n      <td>874724754</td>\n    </tr>\n    <tr>\n      <th>21396</th>\n      <td>259</td>\n      <td>185</td>\n      <td>4</td>\n      <td>874724781</td>\n    </tr>\n    <tr>\n      <th>82655</th>\n      <td>259</td>\n      <td>173</td>\n      <td>4</td>\n      <td>874724843</td>\n    </tr>\n  </tbody>\n</table>\n</div>"
     },
     "execution_count": 28,
     "metadata": {},
     "output_type": "execute_result"
    }
   ],
   "source": [
    "# rank records based on the timestamp\n",
    "dataset = dataset.sort_values(by='timestamp')\n",
    "dataset.head()\n"
   ],
   "metadata": {
    "collapsed": false,
    "ExecuteTime": {
     "end_time": "2024-04-24T23:59:41.160757Z",
     "start_time": "2024-04-24T23:59:41.143739Z"
    }
   },
   "id": "cc6194e1c5f62309",
   "execution_count": 28
  },
  {
   "cell_type": "code",
   "outputs": [],
   "source": [
    "# save the sorted dataset\n",
    "dataset.to_csv('u_sorted.data', sep='\\t', index=False)"
   ],
   "metadata": {
    "collapsed": false,
    "ExecuteTime": {
     "end_time": "2024-04-25T00:03:02.930709Z",
     "start_time": "2024-04-25T00:03:02.815699Z"
    }
   },
   "id": "47ce547fcfdd78f5",
   "execution_count": 29
  },
  {
   "cell_type": "code",
   "outputs": [
    {
     "data": {
      "text/plain": "     user_id item_id rating  timestamp\n1000     195     779      2  874825826\n1001     195     771      2  874825826\n1002     195    1415      1  874825827\n1003     756     258      3  874826502\n1004     756     300      4  874826502\n...      ...     ...    ...        ...\n1995      21     370      1  874951293\n1996      21     424      1  874951293\n1997      21     767      1  874951314\n1998      21     758      1  874951314\n1999      21     992      2  874951349\n\n[1000 rows x 4 columns]",
      "text/html": "<div>\n<style scoped>\n    .dataframe tbody tr th:only-of-type {\n        vertical-align: middle;\n    }\n\n    .dataframe tbody tr th {\n        vertical-align: top;\n    }\n\n    .dataframe thead th {\n        text-align: right;\n    }\n</style>\n<table border=\"1\" class=\"dataframe\">\n  <thead>\n    <tr style=\"text-align: right;\">\n      <th></th>\n      <th>user_id</th>\n      <th>item_id</th>\n      <th>rating</th>\n      <th>timestamp</th>\n    </tr>\n  </thead>\n  <tbody>\n    <tr>\n      <th>1000</th>\n      <td>195</td>\n      <td>779</td>\n      <td>2</td>\n      <td>874825826</td>\n    </tr>\n    <tr>\n      <th>1001</th>\n      <td>195</td>\n      <td>771</td>\n      <td>2</td>\n      <td>874825826</td>\n    </tr>\n    <tr>\n      <th>1002</th>\n      <td>195</td>\n      <td>1415</td>\n      <td>1</td>\n      <td>874825827</td>\n    </tr>\n    <tr>\n      <th>1003</th>\n      <td>756</td>\n      <td>258</td>\n      <td>3</td>\n      <td>874826502</td>\n    </tr>\n    <tr>\n      <th>1004</th>\n      <td>756</td>\n      <td>300</td>\n      <td>4</td>\n      <td>874826502</td>\n    </tr>\n    <tr>\n      <th>...</th>\n      <td>...</td>\n      <td>...</td>\n      <td>...</td>\n      <td>...</td>\n    </tr>\n    <tr>\n      <th>1995</th>\n      <td>21</td>\n      <td>370</td>\n      <td>1</td>\n      <td>874951293</td>\n    </tr>\n    <tr>\n      <th>1996</th>\n      <td>21</td>\n      <td>424</td>\n      <td>1</td>\n      <td>874951293</td>\n    </tr>\n    <tr>\n      <th>1997</th>\n      <td>21</td>\n      <td>767</td>\n      <td>1</td>\n      <td>874951314</td>\n    </tr>\n    <tr>\n      <th>1998</th>\n      <td>21</td>\n      <td>758</td>\n      <td>1</td>\n      <td>874951314</td>\n    </tr>\n    <tr>\n      <th>1999</th>\n      <td>21</td>\n      <td>992</td>\n      <td>2</td>\n      <td>874951349</td>\n    </tr>\n  </tbody>\n</table>\n<p>1000 rows × 4 columns</p>\n</div>"
     },
     "execution_count": 30,
     "metadata": {},
     "output_type": "execute_result"
    }
   ],
   "source": [
    "# load the sorted dataset\n",
    "dataset = pd.read_csv('u_sorted.data', sep='\\t', names=['user_id', 'item_id', 'rating', 'timestamp'], index_col=False)\n",
    "dataset[1000:2000]"
   ],
   "metadata": {
    "collapsed": false,
    "ExecuteTime": {
     "end_time": "2024-04-25T00:03:03.393756Z",
     "start_time": "2024-04-25T00:03:03.339669Z"
    }
   },
   "id": "c9e70e1ebcddf28f",
   "execution_count": 30
  },
  {
   "cell_type": "code",
   "outputs": [
    {
     "data": {
      "text/plain": "  user_id item_id rating  timestamp\n0     517      25      2  892659923\n1     222     448      3  878183565\n2     320     433      4  884751730\n3     385     194      3  879441538\n4      92     115      3  875654125",
      "text/html": "<div>\n<style scoped>\n    .dataframe tbody tr th:only-of-type {\n        vertical-align: middle;\n    }\n\n    .dataframe tbody tr th {\n        vertical-align: top;\n    }\n\n    .dataframe thead th {\n        text-align: right;\n    }\n</style>\n<table border=\"1\" class=\"dataframe\">\n  <thead>\n    <tr style=\"text-align: right;\">\n      <th></th>\n      <th>user_id</th>\n      <th>item_id</th>\n      <th>rating</th>\n      <th>timestamp</th>\n    </tr>\n  </thead>\n  <tbody>\n    <tr>\n      <th>0</th>\n      <td>517</td>\n      <td>25</td>\n      <td>2</td>\n      <td>892659923</td>\n    </tr>\n    <tr>\n      <th>1</th>\n      <td>222</td>\n      <td>448</td>\n      <td>3</td>\n      <td>878183565</td>\n    </tr>\n    <tr>\n      <th>2</th>\n      <td>320</td>\n      <td>433</td>\n      <td>4</td>\n      <td>884751730</td>\n    </tr>\n    <tr>\n      <th>3</th>\n      <td>385</td>\n      <td>194</td>\n      <td>3</td>\n      <td>879441538</td>\n    </tr>\n    <tr>\n      <th>4</th>\n      <td>92</td>\n      <td>115</td>\n      <td>3</td>\n      <td>875654125</td>\n    </tr>\n  </tbody>\n</table>\n</div>"
     },
     "execution_count": 31,
     "metadata": {},
     "output_type": "execute_result"
    }
   ],
   "source": [
    "# since some users give ratings at the same time, we can't use timestamp\n",
    "# I will shuffle the datasetand assume a new timestamp for each record\n",
    "dataset = dataset.sample(frac=1).reset_index(drop=True)\n",
    "dataset.head()\n"
   ],
   "metadata": {
    "collapsed": false,
    "ExecuteTime": {
     "end_time": "2024-04-25T00:03:28.989375Z",
     "start_time": "2024-04-25T00:03:28.971906Z"
    }
   },
   "id": "fadf3d0a23bc9b1e",
   "execution_count": 31
  },
  {
   "cell_type": "code",
   "outputs": [
    {
     "data": {
      "text/plain": "100001"
     },
     "execution_count": 32,
     "metadata": {},
     "output_type": "execute_result"
    }
   ],
   "source": [
    "len(dataset)"
   ],
   "metadata": {
    "collapsed": false,
    "ExecuteTime": {
     "end_time": "2024-04-25T00:03:31.411394Z",
     "start_time": "2024-04-25T00:03:31.406277Z"
    }
   },
   "id": "aca67202ea214119",
   "execution_count": 32
  },
  {
   "cell_type": "code",
   "outputs": [
    {
     "data": {
      "text/plain": "  user_id item_id rating  timestamp\n0     517      25      2          0\n1     222     448      3          1\n2     320     433      4          2\n3     385     194      3          3\n4      92     115      3          4",
      "text/html": "<div>\n<style scoped>\n    .dataframe tbody tr th:only-of-type {\n        vertical-align: middle;\n    }\n\n    .dataframe tbody tr th {\n        vertical-align: top;\n    }\n\n    .dataframe thead th {\n        text-align: right;\n    }\n</style>\n<table border=\"1\" class=\"dataframe\">\n  <thead>\n    <tr style=\"text-align: right;\">\n      <th></th>\n      <th>user_id</th>\n      <th>item_id</th>\n      <th>rating</th>\n      <th>timestamp</th>\n    </tr>\n  </thead>\n  <tbody>\n    <tr>\n      <th>0</th>\n      <td>517</td>\n      <td>25</td>\n      <td>2</td>\n      <td>0</td>\n    </tr>\n    <tr>\n      <th>1</th>\n      <td>222</td>\n      <td>448</td>\n      <td>3</td>\n      <td>1</td>\n    </tr>\n    <tr>\n      <th>2</th>\n      <td>320</td>\n      <td>433</td>\n      <td>4</td>\n      <td>2</td>\n    </tr>\n    <tr>\n      <th>3</th>\n      <td>385</td>\n      <td>194</td>\n      <td>3</td>\n      <td>3</td>\n    </tr>\n    <tr>\n      <th>4</th>\n      <td>92</td>\n      <td>115</td>\n      <td>3</td>\n      <td>4</td>\n    </tr>\n  </tbody>\n</table>\n</div>"
     },
     "execution_count": 33,
     "metadata": {},
     "output_type": "execute_result"
    }
   ],
   "source": [
    "# add a column for the new timestamp\n",
    "dataset['timestamp'] = np.arange(len(dataset))\n",
    "dataset.head()"
   ],
   "metadata": {
    "collapsed": false,
    "ExecuteTime": {
     "end_time": "2024-04-25T00:03:47.931343Z",
     "start_time": "2024-04-25T00:03:47.924727Z"
    }
   },
   "id": "c138d6be82c40dc4",
   "execution_count": 33
  },
  {
   "cell_type": "code",
   "outputs": [],
   "source": [
    "# save the shuffled dataset\n",
    "dataset.to_csv('shuffle_assume_timestamp/u_shuffled.data', sep='\\t', index=False)\n"
   ],
   "metadata": {
    "collapsed": false,
    "ExecuteTime": {
     "end_time": "2024-04-25T00:03:53.585444Z",
     "start_time": "2024-04-25T00:03:53.464837Z"
    }
   },
   "id": "9d5f27c95c9a1e6a",
   "execution_count": 34
  },
  {
   "cell_type": "code",
   "source": [
    "# load the shuffled dataset\n",
    "dataset = pd.read_csv('shuffle_assume_timestamp/u_shuffled.data', sep='\\s+', index_col=False)\n"
   ],
   "metadata": {
    "collapsed": false,
    "ExecuteTime": {
     "end_time": "2024-04-25T18:11:48.599930Z",
     "start_time": "2024-04-25T18:11:48.557692Z"
    }
   },
   "id": "cff9c86689ef5a47",
   "outputs": [],
   "execution_count": 15
  },
  {
   "cell_type": "code",
   "source": [
    "dataset.head()"
   ],
   "metadata": {
    "collapsed": false,
    "ExecuteTime": {
     "end_time": "2024-04-25T18:11:56.222165Z",
     "start_time": "2024-04-25T18:11:56.215176Z"
    }
   },
   "id": "5f4f63efcadb146a",
   "outputs": [
    {
     "data": {
      "text/plain": [
       "  user_id movie_id rating  timestamp\n",
       "0     517       25      2          0\n",
       "1     222      448      3          1\n",
       "2     320      433      4          2\n",
       "3     385      194      3          3\n",
       "4      92      115      3          4"
      ],
      "text/html": [
       "<div>\n",
       "<style scoped>\n",
       "    .dataframe tbody tr th:only-of-type {\n",
       "        vertical-align: middle;\n",
       "    }\n",
       "\n",
       "    .dataframe tbody tr th {\n",
       "        vertical-align: top;\n",
       "    }\n",
       "\n",
       "    .dataframe thead th {\n",
       "        text-align: right;\n",
       "    }\n",
       "</style>\n",
       "<table border=\"1\" class=\"dataframe\">\n",
       "  <thead>\n",
       "    <tr style=\"text-align: right;\">\n",
       "      <th></th>\n",
       "      <th>user_id</th>\n",
       "      <th>movie_id</th>\n",
       "      <th>rating</th>\n",
       "      <th>timestamp</th>\n",
       "    </tr>\n",
       "  </thead>\n",
       "  <tbody>\n",
       "    <tr>\n",
       "      <th>0</th>\n",
       "      <td>517</td>\n",
       "      <td>25</td>\n",
       "      <td>2</td>\n",
       "      <td>0</td>\n",
       "    </tr>\n",
       "    <tr>\n",
       "      <th>1</th>\n",
       "      <td>222</td>\n",
       "      <td>448</td>\n",
       "      <td>3</td>\n",
       "      <td>1</td>\n",
       "    </tr>\n",
       "    <tr>\n",
       "      <th>2</th>\n",
       "      <td>320</td>\n",
       "      <td>433</td>\n",
       "      <td>4</td>\n",
       "      <td>2</td>\n",
       "    </tr>\n",
       "    <tr>\n",
       "      <th>3</th>\n",
       "      <td>385</td>\n",
       "      <td>194</td>\n",
       "      <td>3</td>\n",
       "      <td>3</td>\n",
       "    </tr>\n",
       "    <tr>\n",
       "      <th>4</th>\n",
       "      <td>92</td>\n",
       "      <td>115</td>\n",
       "      <td>3</td>\n",
       "      <td>4</td>\n",
       "    </tr>\n",
       "  </tbody>\n",
       "</table>\n",
       "</div>"
      ]
     },
     "execution_count": 16,
     "metadata": {},
     "output_type": "execute_result"
    }
   ],
   "execution_count": 16
  },
  {
   "cell_type": "code",
   "source": [
    "\n",
    "\n",
    "# assume there are 10 time windows\n",
    "n_windows = 10\n",
    "window_size = len(dataset) // n_windows\n",
    "# split the dataset into 10 time windows in order\n",
    "# then for each time window, split it into training and testing set by 80% and 20%\n",
    "# save the training and testing set into files\n",
    "\n",
    "for i in range(n_windows):\n",
    "    start = i * window_size\n",
    "    end = (i + 1) * window_size\n",
    "    dataset[:end].to_csv('shuffle_assume_timestamp/u' + str(i) + '.data', sep='\\t', index=False)\n",
    "    # train, test = train_test_split(dataset[start:end], test_size=0.2)\n",
    "    # train.to_csv('shuffle_assume_timestamp/u' + str(i) + '_train.data', sep='\\t', index=False)\n",
    "    # test.to_csv('shuffle_assume_timestamp/u' + str(i) + '_test.data', sep='\\t', index=False)\n",
    "    \n",
    "\n",
    "\n"
   ],
   "metadata": {
    "collapsed": false,
    "ExecuteTime": {
     "end_time": "2024-04-25T18:12:10.916342Z",
     "start_time": "2024-04-25T18:12:10.366145Z"
    }
   },
   "id": "6544115fdbb7cf00",
   "outputs": [],
   "execution_count": 17
  },
  {
   "cell_type": "code",
   "outputs": [],
   "source": [],
   "metadata": {
    "collapsed": false,
    "ExecuteTime": {
     "end_time": "2024-04-25T00:23:26.849685Z",
     "start_time": "2024-04-25T00:23:26.847421Z"
    }
   },
   "id": "b98f0f5d8da03f82",
   "execution_count": 39
  },
  {
   "cell_type": "code",
   "outputs": [],
   "source": [],
   "metadata": {
    "collapsed": false
   },
   "id": "6059b5bea04df608",
   "execution_count": null
  }
 ],
 "metadata": {
  "kernelspec": {
   "display_name": "Python 3",
   "language": "python",
   "name": "python3"
  },
  "language_info": {
   "codemirror_mode": {
    "name": "ipython",
    "version": 2
   },
   "file_extension": ".py",
   "mimetype": "text/x-python",
   "name": "python",
   "nbconvert_exporter": "python",
   "pygments_lexer": "ipython2",
   "version": "2.7.6"
  }
 },
 "nbformat": 4,
 "nbformat_minor": 5
}
