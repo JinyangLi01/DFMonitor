{
 "cells": [
  {
   "cell_type": "code",
   "execution_count": 1,
   "id": "initial_id",
   "metadata": {
    "collapsed": true,
    "ExecuteTime": {
     "end_time": "2024-02-18T16:42:24.471345Z",
     "start_time": "2024-02-18T16:42:24.126252Z"
    }
   },
   "outputs": [
    {
     "name": "stderr",
     "output_type": "stream",
     "text": [
      "/Users/jinyangli/OngoingProjects/Project4/DFMonitor/.venv/lib/python3.9/site-packages/urllib3/__init__.py:34: NotOpenSSLWarning: urllib3 v2 only supports OpenSSL 1.1.1+, currently the 'ssl' module is compiled with 'LibreSSL 2.8.3'. See: https://github.com/urllib3/urllib3/issues/3020\n",
      "  warnings.warn(\n"
     ]
    }
   ],
   "source": [
    "from __future__ import annotations\n",
    "\n",
    "from typing import Optional\n",
    "# autoreload modules when code changes\n",
    "%load_ext autoreload\n",
    "%autoreload 2\n",
    "\n",
    "import get_gender\n",
    "import pandas as pd\n"
   ]
  },
  {
   "cell_type": "markdown",
   "source": [
    "# predict gender of US names for 1880 - 2020"
   ],
   "metadata": {
    "collapsed": false
   },
   "id": "23975347adf63528"
  },
  {
   "cell_type": "code",
   "outputs": [
    {
     "data": {
      "text/plain": "   year     name   percent   sex predicted_gender\n0  1880     John  0.081541  male             male\n1  1880  William  0.080511  male             male\n2  1880    James  0.050057  male             male\n3  1880  Charles  0.045167  male             male\n4  1880   George  0.043292  male             male",
      "text/html": "<div>\n<style scoped>\n    .dataframe tbody tr th:only-of-type {\n        vertical-align: middle;\n    }\n\n    .dataframe tbody tr th {\n        vertical-align: top;\n    }\n\n    .dataframe thead th {\n        text-align: right;\n    }\n</style>\n<table border=\"1\" class=\"dataframe\">\n  <thead>\n    <tr style=\"text-align: right;\">\n      <th></th>\n      <th>year</th>\n      <th>name</th>\n      <th>percent</th>\n      <th>sex</th>\n      <th>predicted_gender</th>\n    </tr>\n  </thead>\n  <tbody>\n    <tr>\n      <th>0</th>\n      <td>1880</td>\n      <td>John</td>\n      <td>0.081541</td>\n      <td>male</td>\n      <td>male</td>\n    </tr>\n    <tr>\n      <th>1</th>\n      <td>1880</td>\n      <td>William</td>\n      <td>0.080511</td>\n      <td>male</td>\n      <td>male</td>\n    </tr>\n    <tr>\n      <th>2</th>\n      <td>1880</td>\n      <td>James</td>\n      <td>0.050057</td>\n      <td>male</td>\n      <td>male</td>\n    </tr>\n    <tr>\n      <th>3</th>\n      <td>1880</td>\n      <td>Charles</td>\n      <td>0.045167</td>\n      <td>male</td>\n      <td>male</td>\n    </tr>\n    <tr>\n      <th>4</th>\n      <td>1880</td>\n      <td>George</td>\n      <td>0.043292</td>\n      <td>male</td>\n      <td>male</td>\n    </tr>\n  </tbody>\n</table>\n</div>"
     },
     "execution_count": 2,
     "metadata": {},
     "output_type": "execute_result"
    }
   ],
   "source": [
    "data = pd.read_csv(\"baby_names_1880_2020_predicted.csv\")\n",
    "data.head()\n"
   ],
   "metadata": {
    "collapsed": false,
    "ExecuteTime": {
     "end_time": "2024-02-18T16:42:26.638839Z",
     "start_time": "2024-02-18T16:42:26.497135Z"
    }
   },
   "id": "50b7058fd5872db1",
   "execution_count": 2
  },
  {
   "cell_type": "code",
   "outputs": [
    {
     "name": "stdout",
     "output_type": "stream",
     "text": [
      "   year     name   percent   sex predicted_gender\n",
      "0  1880     John  0.081541  male             male\n",
      "1  1880  William  0.080511  male             male\n",
      "2  1880    James  0.050057  male             male\n",
      "3  1880  Charles  0.045167  male             male\n",
      "4  1880   George  0.043292  male             male\n"
     ]
    }
   ],
   "source": [
    "import pandas as pd\n",
    "from genderize import Genderize\n",
    "\n",
    "# Your Genderize API key\n",
    "api_key = '1c13aa6f943ac21b16232d1691bb6e53'\n",
    "\n",
    "# Initialize Genderize with your API key\n",
    "genderize = Genderize(api_key=api_key)\n",
    "\n",
    "# Use list comprehension to query Genderize for each name and get the gender\n",
    "# It's efficient to send names in batches if you have a lot\n",
    "genders = [genderize.get([na], country_id='US')[0]['gender'] for na in data['name']]\n",
    "\n",
    "# Add the genders as a new column to the dataframe\n",
    "data['predicted_gender'] = genders\n",
    "print(data.head())\n",
    "data.to_csv(\"baby_names_1880_2020_US_predicted.csv\", index=False)\n"
   ],
   "metadata": {
    "collapsed": false,
    "ExecuteTime": {
     "end_time": "2024-02-18T23:21:25.123703Z",
     "start_time": "2024-02-18T16:42:27.305367Z"
    }
   },
   "id": "860aea38b26dddf2",
   "execution_count": 3
  },
  {
   "cell_type": "code",
   "outputs": [],
   "source": [],
   "metadata": {
    "collapsed": false
   },
   "id": "8500e26e6cc0e45e"
  }
 ],
 "metadata": {
  "kernelspec": {
   "name": "venv",
   "language": "python",
   "display_name": "PythonDFMonitor (venv)"
  },
  "language_info": {
   "codemirror_mode": {
    "name": "ipython",
    "version": 2
   },
   "file_extension": ".py",
   "mimetype": "text/x-python",
   "name": "python",
   "nbconvert_exporter": "python",
   "pygments_lexer": "ipython2",
   "version": "2.7.6"
  }
 },
 "nbformat": 4,
 "nbformat_minor": 5
}
