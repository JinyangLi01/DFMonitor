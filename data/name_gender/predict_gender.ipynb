{
 "cells": [
  {
   "cell_type": "code",
   "execution_count": 16,
   "id": "initial_id",
   "metadata": {
    "collapsed": true,
    "ExecuteTime": {
     "end_time": "2024-01-25T15:51:51.341488Z",
     "start_time": "2024-01-25T15:51:51.329169Z"
    }
   },
   "outputs": [
    {
     "name": "stdout",
     "output_type": "stream",
     "text": [
      "The autoreload extension is already loaded. To reload it, use:\n",
      "  %reload_ext autoreload\n"
     ]
    }
   ],
   "source": [
    "from __future__ import annotations\n",
    "\n",
    "from typing import Optional\n",
    "# autoreload modules when code changes\n",
    "%load_ext autoreload\n",
    "%autoreload 2\n",
    "\n",
    "import get_gender\n",
    "import pandas as pd\n"
   ]
  },
  {
   "cell_type": "code",
   "outputs": [
    {
     "name": "stdout",
     "output_type": "stream",
     "text": [
      "   year     name   percent  sex\n",
      "0  1880     John  0.081541  boy\n",
      "1  1880  William  0.080511  boy\n",
      "2  1880    James  0.050057  boy\n",
      "3  1880  Charles  0.045167  boy\n",
      "4  1880   George  0.043292  boy\n"
     ]
    }
   ],
   "source": [
    "names = pd.read_csv(\"baby-names.csv\")\n",
    "print(names.head())"
   ],
   "metadata": {
    "collapsed": false,
    "ExecuteTime": {
     "end_time": "2024-01-25T15:51:52.009206Z",
     "start_time": "2024-01-25T15:51:51.943806Z"
    }
   },
   "id": "5401a87c3deef7b7",
   "execution_count": 17
  },
  {
   "cell_type": "code",
   "outputs": [],
   "source": [],
   "metadata": {
    "collapsed": false,
    "ExecuteTime": {
     "end_time": "2024-01-25T15:51:52.949625Z",
     "start_time": "2024-01-25T15:51:52.945577Z"
    }
   },
   "id": "f3c8445085e20e75",
   "execution_count": 17
  },
  {
   "cell_type": "code",
   "outputs": [],
   "source": [
    "import pandas as pd\n",
    "from genderize import Genderize\n",
    "\n",
    "# Your Genderize API key\n",
    "api_key = '1c13aa6f943ac21b16232d1691bb6e53'\n",
    "\n",
    "# Initialize Genderize with your API key\n",
    "genderize = Genderize(api_key=api_key)\n",
    "\n",
    "# Use list comprehension to query Genderize for each name and get the gender\n",
    "# It's efficient to send names in batches if you have a lot\n",
    "genders = [genderize.get([na])[0]['gender'] for na in names['name']]\n",
    "\n",
    "# Add the genders as a new column to the dataframe\n",
    "names['predicted_gender'] = genders\n",
    "\n",
    "names.to_csv(\"baby-names_predicted.csv\", index=False)\n"
   ],
   "metadata": {
    "collapsed": false,
    "ExecuteTime": {
     "end_time": "2024-01-25T20:02:42.960618Z",
     "start_time": "2024-01-25T15:51:53.486906Z"
    }
   },
   "id": "4c1c0df654cd6d24",
   "execution_count": 18
  },
  {
   "cell_type": "code",
   "outputs": [],
   "source": [],
   "metadata": {
    "collapsed": false
   },
   "id": "1e475593e3d02342"
  },
  {
   "cell_type": "code",
   "outputs": [
    {
     "ename": "GenderizeException",
     "evalue": "('Request limit reached', 429, {'Server': 'nginx/1.16.1', 'Date': 'Thu, 25 Jan 2024 03:48:00 GMT', 'Content-Type': 'application/json', 'Content-Length': '33', 'Connection': 'keep-alive', 'access-control-allow-credentials': 'true', 'access-control-allow-origin': '*', 'access-control-expose-headers': 'x-rate-limit-limit,x-rate-limit-remaining,x-rate-limit-reset', 'cache-control': 'max-age=0, private, must-revalidate', 'x-rate-limit-limit': '100', 'x-rate-limit-remaining': '0', 'x-rate-limit-reset': '72720', 'x-request-id': 'F616ddrGYZIJPRcDIf_i'})",
     "output_type": "error",
     "traceback": [
      "\u001B[0;31m---------------------------------------------------------------------------\u001B[0m",
      "\u001B[0;31mGenderizeException\u001B[0m                        Traceback (most recent call last)",
      "Cell \u001B[0;32mIn[5], line 2\u001B[0m\n\u001B[1;32m      1\u001B[0m \u001B[38;5;28;01mfrom\u001B[39;00m \u001B[38;5;21;01mgenderize\u001B[39;00m \u001B[38;5;28;01mimport\u001B[39;00m Genderize\n\u001B[0;32m----> 2\u001B[0m \u001B[38;5;28mprint\u001B[39m(\u001B[43mGenderize\u001B[49m\u001B[43m(\u001B[49m\u001B[43m)\u001B[49m\u001B[38;5;241;43m.\u001B[39;49m\u001B[43mget\u001B[49m\u001B[43m(\u001B[49m\u001B[43m[\u001B[49m\u001B[38;5;124;43m'\u001B[39;49m\u001B[38;5;124;43mJames\u001B[39;49m\u001B[38;5;124;43m'\u001B[39;49m\u001B[43m,\u001B[49m\u001B[43m \u001B[49m\u001B[38;5;124;43m'\u001B[39;49m\u001B[38;5;124;43mEva\u001B[39;49m\u001B[38;5;124;43m'\u001B[39;49m\u001B[43m,\u001B[49m\u001B[43m \u001B[49m\u001B[38;5;124;43m'\u001B[39;49m\u001B[38;5;124;43mThunderhorse\u001B[39;49m\u001B[38;5;124;43m'\u001B[39;49m\u001B[43m]\u001B[49m\u001B[43m)\u001B[49m)\n",
      "File \u001B[0;32m~/OngoingProjects/Project4/DFMonitor/.venv/lib/python3.9/site-packages/genderize/__init__.py:96\u001B[0m, in \u001B[0;36mGenderize.get\u001B[0;34m(self, names, country_id, language_id, retheader)\u001B[0m\n\u001B[1;32m     66\u001B[0m \u001B[38;5;28;01mdef\u001B[39;00m \u001B[38;5;21mget\u001B[39m(\u001B[38;5;28mself\u001B[39m, names, country_id\u001B[38;5;241m=\u001B[39m\u001B[38;5;28;01mNone\u001B[39;00m, language_id\u001B[38;5;241m=\u001B[39m\u001B[38;5;28;01mNone\u001B[39;00m, retheader\u001B[38;5;241m=\u001B[39m\u001B[38;5;28;01mFalse\u001B[39;00m):\n\u001B[1;32m     67\u001B[0m \u001B[38;5;250m    \u001B[39m\u001B[38;5;124;03m\"\"\"\u001B[39;00m\n\u001B[1;32m     68\u001B[0m \u001B[38;5;124;03m    Look up gender for a list of names.\u001B[39;00m\n\u001B[1;32m     69\u001B[0m \u001B[38;5;124;03m    Can optionally refine search with locale info.\u001B[39;00m\n\u001B[0;32m   (...)\u001B[0m\n\u001B[1;32m     94\u001B[0m \u001B[38;5;124;03m    :raises GenderizeException: if API server returns HTTP error code.\u001B[39;00m\n\u001B[1;32m     95\u001B[0m \u001B[38;5;124;03m    \"\"\"\u001B[39;00m\n\u001B[0;32m---> 96\u001B[0m     responses \u001B[38;5;241m=\u001B[39m [\n\u001B[1;32m     97\u001B[0m         \u001B[38;5;28mself\u001B[39m\u001B[38;5;241m.\u001B[39m_get_chunk(name_chunk, country_id, language_id)\n\u001B[1;32m     98\u001B[0m         \u001B[38;5;28;01mfor\u001B[39;00m name_chunk\n\u001B[1;32m     99\u001B[0m         \u001B[38;5;129;01min\u001B[39;00m _chunked(names, Genderize\u001B[38;5;241m.\u001B[39mBATCH_SIZE)\n\u001B[1;32m    100\u001B[0m     ]\n\u001B[1;32m    101\u001B[0m     data \u001B[38;5;241m=\u001B[39m \u001B[38;5;28mlist\u001B[39m(chain\u001B[38;5;241m.\u001B[39mfrom_iterable(\n\u001B[1;32m    102\u001B[0m         response\u001B[38;5;241m.\u001B[39mdata \u001B[38;5;28;01mfor\u001B[39;00m response \u001B[38;5;129;01min\u001B[39;00m responses\n\u001B[1;32m    103\u001B[0m     ))\n\u001B[1;32m    104\u001B[0m     \u001B[38;5;28;01mif\u001B[39;00m retheader:\n",
      "File \u001B[0;32m~/OngoingProjects/Project4/DFMonitor/.venv/lib/python3.9/site-packages/genderize/__init__.py:97\u001B[0m, in \u001B[0;36m<listcomp>\u001B[0;34m(.0)\u001B[0m\n\u001B[1;32m     66\u001B[0m \u001B[38;5;28;01mdef\u001B[39;00m \u001B[38;5;21mget\u001B[39m(\u001B[38;5;28mself\u001B[39m, names, country_id\u001B[38;5;241m=\u001B[39m\u001B[38;5;28;01mNone\u001B[39;00m, language_id\u001B[38;5;241m=\u001B[39m\u001B[38;5;28;01mNone\u001B[39;00m, retheader\u001B[38;5;241m=\u001B[39m\u001B[38;5;28;01mFalse\u001B[39;00m):\n\u001B[1;32m     67\u001B[0m \u001B[38;5;250m    \u001B[39m\u001B[38;5;124;03m\"\"\"\u001B[39;00m\n\u001B[1;32m     68\u001B[0m \u001B[38;5;124;03m    Look up gender for a list of names.\u001B[39;00m\n\u001B[1;32m     69\u001B[0m \u001B[38;5;124;03m    Can optionally refine search with locale info.\u001B[39;00m\n\u001B[0;32m   (...)\u001B[0m\n\u001B[1;32m     94\u001B[0m \u001B[38;5;124;03m    :raises GenderizeException: if API server returns HTTP error code.\u001B[39;00m\n\u001B[1;32m     95\u001B[0m \u001B[38;5;124;03m    \"\"\"\u001B[39;00m\n\u001B[1;32m     96\u001B[0m     responses \u001B[38;5;241m=\u001B[39m [\n\u001B[0;32m---> 97\u001B[0m         \u001B[38;5;28;43mself\u001B[39;49m\u001B[38;5;241;43m.\u001B[39;49m\u001B[43m_get_chunk\u001B[49m\u001B[43m(\u001B[49m\u001B[43mname_chunk\u001B[49m\u001B[43m,\u001B[49m\u001B[43m \u001B[49m\u001B[43mcountry_id\u001B[49m\u001B[43m,\u001B[49m\u001B[43m \u001B[49m\u001B[43mlanguage_id\u001B[49m\u001B[43m)\u001B[49m\n\u001B[1;32m     98\u001B[0m         \u001B[38;5;28;01mfor\u001B[39;00m name_chunk\n\u001B[1;32m     99\u001B[0m         \u001B[38;5;129;01min\u001B[39;00m _chunked(names, Genderize\u001B[38;5;241m.\u001B[39mBATCH_SIZE)\n\u001B[1;32m    100\u001B[0m     ]\n\u001B[1;32m    101\u001B[0m     data \u001B[38;5;241m=\u001B[39m \u001B[38;5;28mlist\u001B[39m(chain\u001B[38;5;241m.\u001B[39mfrom_iterable(\n\u001B[1;32m    102\u001B[0m         response\u001B[38;5;241m.\u001B[39mdata \u001B[38;5;28;01mfor\u001B[39;00m response \u001B[38;5;129;01min\u001B[39;00m responses\n\u001B[1;32m    103\u001B[0m     ))\n\u001B[1;32m    104\u001B[0m     \u001B[38;5;28;01mif\u001B[39;00m retheader:\n",
      "File \u001B[0;32m~/OngoingProjects/Project4/DFMonitor/.venv/lib/python3.9/site-packages/genderize/__init__.py:149\u001B[0m, in \u001B[0;36mGenderize._get_chunk\u001B[0;34m(self, name_chunk, country_id, language_id)\u001B[0m\n\u001B[1;32m    147\u001B[0m     \u001B[38;5;28;01mreturn\u001B[39;00m _GenderizeResponse(data\u001B[38;5;241m=\u001B[39mdecoded, headers\u001B[38;5;241m=\u001B[39mresponse\u001B[38;5;241m.\u001B[39mheaders)\n\u001B[1;32m    148\u001B[0m \u001B[38;5;28;01melse\u001B[39;00m:\n\u001B[0;32m--> 149\u001B[0m     \u001B[38;5;28;01mraise\u001B[39;00m GenderizeException(\n\u001B[1;32m    150\u001B[0m         decoded[\u001B[38;5;124m'\u001B[39m\u001B[38;5;124merror\u001B[39m\u001B[38;5;124m'\u001B[39m],\n\u001B[1;32m    151\u001B[0m         response\u001B[38;5;241m.\u001B[39mstatus_code,\n\u001B[1;32m    152\u001B[0m         response\u001B[38;5;241m.\u001B[39mheaders)\n",
      "\u001B[0;31mGenderizeException\u001B[0m: ('Request limit reached', 429, {'Server': 'nginx/1.16.1', 'Date': 'Thu, 25 Jan 2024 03:48:00 GMT', 'Content-Type': 'application/json', 'Content-Length': '33', 'Connection': 'keep-alive', 'access-control-allow-credentials': 'true', 'access-control-allow-origin': '*', 'access-control-expose-headers': 'x-rate-limit-limit,x-rate-limit-remaining,x-rate-limit-reset', 'cache-control': 'max-age=0, private, must-revalidate', 'x-rate-limit-limit': '100', 'x-rate-limit-remaining': '0', 'x-rate-limit-reset': '72720', 'x-request-id': 'F616ddrGYZIJPRcDIf_i'})"
     ]
    }
   ],
   "source": [
    "from genderize import Genderize\n",
    "print(Genderize().get(['James', 'Eva', 'Thunderhorse']))"
   ],
   "metadata": {
    "collapsed": false,
    "ExecuteTime": {
     "end_time": "2024-01-25T03:48:00.454426Z",
     "start_time": "2024-01-25T03:48:00.249175Z"
    }
   },
   "id": "b23e7923fa8b8c8b",
   "execution_count": 5
  },
  {
   "cell_type": "code",
   "outputs": [
    {
     "name": "stdout",
     "output_type": "stream",
     "text": [
      "\r\n",
      "     active environment : base\r\n",
      "    active env location : /Users/jinyangli/opt/anaconda3\r\n",
      "            shell level : 1\r\n",
      "       user config file : /Users/jinyangli/.condarc\r\n",
      " populated config files : /Users/jinyangli/.condarc\r\n",
      "          conda version : 23.1.0\r\n",
      "    conda-build version : 3.22.0\r\n",
      "         python version : 3.9.13.final.0\r\n",
      "       virtual packages : __archspec=1=x86_64\r\n",
      "                          __osx=10.16=0\r\n",
      "                          __unix=0=0\r\n",
      "       base environment : /Users/jinyangli/opt/anaconda3  (writable)\r\n",
      "      conda av data dir : /Users/jinyangli/opt/anaconda3/etc/conda\r\n",
      "  conda av metadata url : None\r\n",
      "           channel URLs : https://repo.anaconda.com/pkgs/main/osx-64\r\n",
      "                          https://repo.anaconda.com/pkgs/main/noarch\r\n",
      "                          https://repo.anaconda.com/pkgs/r/osx-64\r\n",
      "                          https://repo.anaconda.com/pkgs/r/noarch\r\n",
      "          package cache : /Users/jinyangli/opt/anaconda3/pkgs\r\n",
      "                          /Users/jinyangli/.conda/pkgs\r\n",
      "       envs directories : /Users/jinyangli/opt/anaconda3/envs\r\n",
      "                          /Users/jinyangli/.conda/envs\r\n",
      "               platform : osx-64\r\n",
      "             user-agent : conda/23.1.0 requests/2.28.1 CPython/3.9.13 Darwin/23.2.0 OSX/10.16\r\n",
      "                UID:GID : 501:20\r\n",
      "             netrc file : None\r\n",
      "           offline mode : False\r\n",
      "\r\n"
     ]
    }
   ],
   "source": [
    "!conda info"
   ],
   "metadata": {
    "collapsed": false,
    "ExecuteTime": {
     "end_time": "2024-01-25T03:47:13.150251Z",
     "start_time": "2024-01-25T03:47:11.933Z"
    }
   },
   "id": "d95ae2ed27b7ed53",
   "execution_count": 14
  },
  {
   "cell_type": "code",
   "outputs": [
    {
     "name": "stdout",
     "output_type": "stream",
     "text": [
      "/Users/jinyangli/OngoingProjects/Project3/Galaxy/ImageDatasetCoverage-galaxy/venv/bin/python\n"
     ]
    }
   ],
   "source": [
    "import sys\n",
    "print(sys.executable)\n"
   ],
   "metadata": {
    "collapsed": false,
    "ExecuteTime": {
     "end_time": "2024-01-25T03:47:13.219801Z",
     "start_time": "2024-01-25T03:47:13.187471Z"
    }
   },
   "id": "39cd1faa291b1c45",
   "execution_count": 15
  },
  {
   "cell_type": "code",
   "outputs": [
    {
     "name": "stdout",
     "output_type": "stream",
     "text": [
      "Requirement already satisfied: ipykernel in /Users/jinyangli/OngoingProjects/Project4/DFMonitor/.venv/lib/python3.9/site-packages (6.29.0)\r\n",
      "Requirement already satisfied: appnope in /Users/jinyangli/OngoingProjects/Project4/DFMonitor/.venv/lib/python3.9/site-packages (from ipykernel) (0.1.3)\r\n",
      "Requirement already satisfied: comm>=0.1.1 in /Users/jinyangli/OngoingProjects/Project4/DFMonitor/.venv/lib/python3.9/site-packages (from ipykernel) (0.2.1)\r\n",
      "Requirement already satisfied: debugpy>=1.6.5 in /Users/jinyangli/OngoingProjects/Project4/DFMonitor/.venv/lib/python3.9/site-packages (from ipykernel) (1.8.0)\r\n",
      "Requirement already satisfied: ipython>=7.23.1 in /Users/jinyangli/OngoingProjects/Project4/DFMonitor/.venv/lib/python3.9/site-packages (from ipykernel) (8.18.1)\r\n",
      "Requirement already satisfied: jupyter-client>=6.1.12 in /Users/jinyangli/OngoingProjects/Project4/DFMonitor/.venv/lib/python3.9/site-packages (from ipykernel) (8.6.0)\r\n",
      "Requirement already satisfied: jupyter-core!=5.0.*,>=4.12 in /Users/jinyangli/OngoingProjects/Project4/DFMonitor/.venv/lib/python3.9/site-packages (from ipykernel) (5.7.1)\r\n",
      "Requirement already satisfied: matplotlib-inline>=0.1 in /Users/jinyangli/OngoingProjects/Project4/DFMonitor/.venv/lib/python3.9/site-packages (from ipykernel) (0.1.6)\r\n",
      "Requirement already satisfied: nest-asyncio in /Users/jinyangli/OngoingProjects/Project4/DFMonitor/.venv/lib/python3.9/site-packages (from ipykernel) (1.6.0)\r\n",
      "Requirement already satisfied: packaging in /Users/jinyangli/OngoingProjects/Project4/DFMonitor/.venv/lib/python3.9/site-packages (from ipykernel) (23.2)\r\n",
      "Requirement already satisfied: psutil in /Users/jinyangli/OngoingProjects/Project4/DFMonitor/.venv/lib/python3.9/site-packages (from ipykernel) (5.9.8)\r\n",
      "Requirement already satisfied: pyzmq>=24 in /Users/jinyangli/OngoingProjects/Project4/DFMonitor/.venv/lib/python3.9/site-packages (from ipykernel) (25.1.2)\r\n",
      "Requirement already satisfied: tornado>=6.1 in /Users/jinyangli/OngoingProjects/Project4/DFMonitor/.venv/lib/python3.9/site-packages (from ipykernel) (6.4)\r\n",
      "Requirement already satisfied: traitlets>=5.4.0 in /Users/jinyangli/OngoingProjects/Project4/DFMonitor/.venv/lib/python3.9/site-packages (from ipykernel) (5.14.1)\r\n",
      "Requirement already satisfied: decorator in /Users/jinyangli/OngoingProjects/Project4/DFMonitor/.venv/lib/python3.9/site-packages (from ipython>=7.23.1->ipykernel) (5.1.1)\r\n",
      "Requirement already satisfied: jedi>=0.16 in /Users/jinyangli/OngoingProjects/Project4/DFMonitor/.venv/lib/python3.9/site-packages (from ipython>=7.23.1->ipykernel) (0.19.1)\r\n",
      "Requirement already satisfied: prompt-toolkit<3.1.0,>=3.0.41 in /Users/jinyangli/OngoingProjects/Project4/DFMonitor/.venv/lib/python3.9/site-packages (from ipython>=7.23.1->ipykernel) (3.0.43)\r\n",
      "Requirement already satisfied: pygments>=2.4.0 in /Users/jinyangli/OngoingProjects/Project4/DFMonitor/.venv/lib/python3.9/site-packages (from ipython>=7.23.1->ipykernel) (2.17.2)\r\n",
      "Requirement already satisfied: stack-data in /Users/jinyangli/OngoingProjects/Project4/DFMonitor/.venv/lib/python3.9/site-packages (from ipython>=7.23.1->ipykernel) (0.6.3)\r\n",
      "Requirement already satisfied: typing-extensions in /Users/jinyangli/OngoingProjects/Project4/DFMonitor/.venv/lib/python3.9/site-packages (from ipython>=7.23.1->ipykernel) (4.9.0)\r\n",
      "Requirement already satisfied: exceptiongroup in /Users/jinyangli/OngoingProjects/Project4/DFMonitor/.venv/lib/python3.9/site-packages (from ipython>=7.23.1->ipykernel) (1.2.0)\r\n",
      "Requirement already satisfied: pexpect>4.3 in /Users/jinyangli/OngoingProjects/Project4/DFMonitor/.venv/lib/python3.9/site-packages (from ipython>=7.23.1->ipykernel) (4.9.0)\r\n",
      "Requirement already satisfied: importlib-metadata>=4.8.3 in /Users/jinyangli/OngoingProjects/Project4/DFMonitor/.venv/lib/python3.9/site-packages (from jupyter-client>=6.1.12->ipykernel) (7.0.1)\r\n",
      "Requirement already satisfied: python-dateutil>=2.8.2 in /Users/jinyangli/OngoingProjects/Project4/DFMonitor/.venv/lib/python3.9/site-packages (from jupyter-client>=6.1.12->ipykernel) (2.8.2)\r\n",
      "Requirement already satisfied: platformdirs>=2.5 in /Users/jinyangli/OngoingProjects/Project4/DFMonitor/.venv/lib/python3.9/site-packages (from jupyter-core!=5.0.*,>=4.12->ipykernel) (4.1.0)\r\n",
      "Requirement already satisfied: zipp>=0.5 in /Users/jinyangli/OngoingProjects/Project4/DFMonitor/.venv/lib/python3.9/site-packages (from importlib-metadata>=4.8.3->jupyter-client>=6.1.12->ipykernel) (3.17.0)\r\n",
      "Requirement already satisfied: parso<0.9.0,>=0.8.3 in /Users/jinyangli/OngoingProjects/Project4/DFMonitor/.venv/lib/python3.9/site-packages (from jedi>=0.16->ipython>=7.23.1->ipykernel) (0.8.3)\r\n",
      "Requirement already satisfied: ptyprocess>=0.5 in /Users/jinyangli/OngoingProjects/Project4/DFMonitor/.venv/lib/python3.9/site-packages (from pexpect>4.3->ipython>=7.23.1->ipykernel) (0.7.0)\r\n",
      "Requirement already satisfied: wcwidth in /Users/jinyangli/OngoingProjects/Project4/DFMonitor/.venv/lib/python3.9/site-packages (from prompt-toolkit<3.1.0,>=3.0.41->ipython>=7.23.1->ipykernel) (0.2.13)\r\n",
      "Requirement already satisfied: six>=1.5 in /Users/jinyangli/OngoingProjects/Project4/DFMonitor/.venv/lib/python3.9/site-packages (from python-dateutil>=2.8.2->jupyter-client>=6.1.12->ipykernel) (1.16.0)\r\n",
      "Requirement already satisfied: executing>=1.2.0 in /Users/jinyangli/OngoingProjects/Project4/DFMonitor/.venv/lib/python3.9/site-packages (from stack-data->ipython>=7.23.1->ipykernel) (2.0.1)\r\n",
      "Requirement already satisfied: asttokens>=2.1.0 in /Users/jinyangli/OngoingProjects/Project4/DFMonitor/.venv/lib/python3.9/site-packages (from stack-data->ipython>=7.23.1->ipykernel) (2.4.1)\r\n",
      "Requirement already satisfied: pure-eval in /Users/jinyangli/OngoingProjects/Project4/DFMonitor/.venv/lib/python3.9/site-packages (from stack-data->ipython>=7.23.1->ipykernel) (0.2.2)\r\n",
      "\r\n",
      "\u001B[1m[\u001B[0m\u001B[34;49mnotice\u001B[0m\u001B[1;39;49m]\u001B[0m\u001B[39;49m A new release of pip is available: \u001B[0m\u001B[31;49m23.2.1\u001B[0m\u001B[39;49m -> \u001B[0m\u001B[32;49m23.3.2\u001B[0m\r\n",
      "\u001B[1m[\u001B[0m\u001B[34;49mnotice\u001B[0m\u001B[1;39;49m]\u001B[0m\u001B[39;49m To update, run: \u001B[0m\u001B[32;49mpip install --upgrade pip\u001B[0m\r\n",
      "Installed kernelspec venv in /Users/jinyangli/Library/Jupyter/kernels/venv\r\n"
     ]
    }
   ],
   "source": [
    "!pip install ipykernel\n",
    "!python -m ipykernel install --user --name=venv --display-name \"PythonDFMonitor (venv)\"\n"
   ],
   "metadata": {
    "collapsed": false,
    "ExecuteTime": {
     "end_time": "2024-01-25T03:44:55.679451Z",
     "start_time": "2024-01-25T03:44:54.282084Z"
    }
   },
   "id": "84f813db69ffa91e",
   "execution_count": 10
  },
  {
   "cell_type": "code",
   "outputs": [],
   "source": [],
   "metadata": {
    "collapsed": false
   },
   "id": "234a193d8d9b4e32"
  },
  {
   "cell_type": "code",
   "outputs": [],
   "source": [],
   "metadata": {
    "collapsed": false
   },
   "id": "40e7d2be8c67a132"
  },
  {
   "cell_type": "code",
   "outputs": [
    {
     "name": "stdout",
     "output_type": "stream",
     "text": [
      "[{'count': 1204083, 'name': 'James', 'gender': 'male', 'probability': 1.0}, {'count': 413170, 'name': 'Eva', 'gender': 'female', 'probability': 0.99}, {'count': 2, 'name': 'Thunderhorse', 'gender': 'female', 'probability': 0.5}]\n"
     ]
    }
   ],
   "source": [
    "from genderize import Genderize, GenderizeException\n",
    "import time\n",
    "\n",
    "names = ['James', 'Eva', 'Thunderhorse']\n",
    "\n",
    "try:\n",
    "    genderize = Genderize(api_key='1c13aa6f943ac21b16232d1691bb6e53')\n",
    "    results = genderize.get(names)\n",
    "    print(results)\n",
    "except GenderizeException as e:\n",
    "    if '429' in str(e):\n",
    "        print(\"Request limit reached. Please try again later.\")\n",
    "    else:\n",
    "        print(f\"An error occurred: {e}\")\n"
   ],
   "metadata": {
    "collapsed": false,
    "ExecuteTime": {
     "end_time": "2024-01-25T15:43:29.407Z",
     "start_time": "2024-01-25T15:43:29.223900Z"
    }
   },
   "id": "8e041790e774688a",
   "execution_count": 8
  },
  {
   "cell_type": "code",
   "outputs": [],
   "source": [],
   "metadata": {
    "collapsed": false
   },
   "id": "487abe2d62993ad6"
  }
 ],
 "metadata": {
  "kernelspec": {
   "name": "venv",
   "language": "python",
   "display_name": "venv"
  },
  "language_info": {
   "codemirror_mode": {
    "name": "ipython",
    "version": 2
   },
   "file_extension": ".py",
   "mimetype": "text/x-python",
   "name": "python",
   "nbconvert_exporter": "python",
   "pygments_lexer": "ipython2",
   "version": "2.7.6"
  }
 },
 "nbformat": 4,
 "nbformat_minor": 5
}
