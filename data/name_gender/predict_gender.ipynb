{
 "cells": [
  {
   "cell_type": "code",
   "execution_count": 1,
   "id": "initial_id",
   "metadata": {
    "collapsed": true,
    "ExecuteTime": {
     "end_time": "2024-01-31T21:02:13.689348Z",
     "start_time": "2024-01-31T21:02:11.087768Z"
    }
   },
   "outputs": [
    {
     "name": "stderr",
     "output_type": "stream",
     "text": [
      "/Users/jinyangli/OngoingProjects/Project4/DFMonitor/.venv/lib/python3.9/site-packages/urllib3/__init__.py:34: NotOpenSSLWarning: urllib3 v2 only supports OpenSSL 1.1.1+, currently the 'ssl' module is compiled with 'LibreSSL 2.8.3'. See: https://github.com/urllib3/urllib3/issues/3020\n",
      "  warnings.warn(\n"
     ]
    }
   ],
   "source": [
    "from __future__ import annotations\n",
    "\n",
    "from typing import Optional\n",
    "# autoreload modules when code changes\n",
    "%load_ext autoreload\n",
    "%autoreload 2\n",
    "\n",
    "import get_gender\n",
    "import pandas as pd\n"
   ]
  },
  {
   "cell_type": "code",
   "outputs": [
    {
     "name": "stdout",
     "output_type": "stream",
     "text": [
      "   year     name   percent  sex predicted_gender\n",
      "0  1880     John  0.081541  boy             male\n",
      "1  1880  William  0.080511  boy             male\n",
      "2  1880    James  0.050057  boy             male\n",
      "3  1880  Charles  0.045167  boy             male\n",
      "4  1880   George  0.043292  boy             male\n"
     ]
    }
   ],
   "source": [
    "names = pd.read_csv(\"baby-names_predicted.csv\")\n",
    "print(names.head())"
   ],
   "metadata": {
    "collapsed": false,
    "ExecuteTime": {
     "end_time": "2024-01-31T21:02:33.813344Z",
     "start_time": "2024-01-31T21:02:33.728930Z"
    }
   },
   "id": "5401a87c3deef7b7",
   "execution_count": 3
  },
  {
   "cell_type": "code",
   "outputs": [
    {
     "name": "stdout",
     "output_type": "stream",
     "text": [
      "        year  name  fraction  sex  rank\n",
      "272000  year  name  fraction  sex  rank\n",
      "272001  1880  John  0.081546    m     1\n",
      "272002  1880  Mary  0.072383    f     1\n"
     ]
    },
    {
     "name": "stderr",
     "output_type": "stream",
     "text": [
      "/var/folders/sy/m1107g5j24x3w6mcyb9njvyw0000gn/T/ipykernel_62732/3929779133.py:1: DtypeWarning: Columns (0,2,4) have mixed types. Specify dtype option on import or set low_memory=False.\n",
      "  data2020 = pd.read_csv(\"baby_names_1880_2020.csv\")\n"
     ]
    }
   ],
   "source": [
    "data2020 = pd.read_csv(\"baby_names_1880_2020.csv\")\n",
    "print(data2020[272000:272003])\n"
   ],
   "metadata": {
    "collapsed": false,
    "ExecuteTime": {
     "end_time": "2024-01-31T21:13:42.397888Z",
     "start_time": "2024-01-31T21:13:42.241165Z"
    }
   },
   "id": "29ddd848e8dbe475",
   "execution_count": 7
  },
  {
   "cell_type": "code",
   "outputs": [
    {
     "data": {
      "text/plain": "        year     name  fraction sex rank\n272001  1880     John  0.081546   m    1\n272002  1880     Mary  0.072383   f    1\n272003  1880  William  0.080507   m    2\n272004  1880     Anna  0.026679   f    2\n272005  1880    James   0.05006   m    3",
      "text/html": "<div>\n<style scoped>\n    .dataframe tbody tr th:only-of-type {\n        vertical-align: middle;\n    }\n\n    .dataframe tbody tr th {\n        vertical-align: top;\n    }\n\n    .dataframe thead th {\n        text-align: right;\n    }\n</style>\n<table border=\"1\" class=\"dataframe\">\n  <thead>\n    <tr style=\"text-align: right;\">\n      <th></th>\n      <th>year</th>\n      <th>name</th>\n      <th>fraction</th>\n      <th>sex</th>\n      <th>rank</th>\n    </tr>\n  </thead>\n  <tbody>\n    <tr>\n      <th>272001</th>\n      <td>1880</td>\n      <td>John</td>\n      <td>0.081546</td>\n      <td>m</td>\n      <td>1</td>\n    </tr>\n    <tr>\n      <th>272002</th>\n      <td>1880</td>\n      <td>Mary</td>\n      <td>0.072383</td>\n      <td>f</td>\n      <td>1</td>\n    </tr>\n    <tr>\n      <th>272003</th>\n      <td>1880</td>\n      <td>William</td>\n      <td>0.080507</td>\n      <td>m</td>\n      <td>2</td>\n    </tr>\n    <tr>\n      <th>272004</th>\n      <td>1880</td>\n      <td>Anna</td>\n      <td>0.026679</td>\n      <td>f</td>\n      <td>2</td>\n    </tr>\n    <tr>\n      <th>272005</th>\n      <td>1880</td>\n      <td>James</td>\n      <td>0.05006</td>\n      <td>m</td>\n      <td>3</td>\n    </tr>\n  </tbody>\n</table>\n</div>"
     },
     "execution_count": 8,
     "metadata": {},
     "output_type": "execute_result"
    }
   ],
   "source": [
    "data2020 = data2020[272001:]\n",
    "data2020.head()"
   ],
   "metadata": {
    "collapsed": false,
    "ExecuteTime": {
     "end_time": "2024-01-31T21:14:01.894265Z",
     "start_time": "2024-01-31T21:14:01.881447Z"
    }
   },
   "id": "59bfa779a378bcf6",
   "execution_count": 8
  },
  {
   "cell_type": "code",
   "outputs": [
    {
     "data": {
      "text/plain": "   year     name  fraction sex rank\n0  1880     John  0.081546   m    1\n1  1880     Mary  0.072383   f    1\n2  1880  William  0.080507   m    2\n3  1880     Anna  0.026679   f    2\n4  1880    James   0.05006   m    3",
      "text/html": "<div>\n<style scoped>\n    .dataframe tbody tr th:only-of-type {\n        vertical-align: middle;\n    }\n\n    .dataframe tbody tr th {\n        vertical-align: top;\n    }\n\n    .dataframe thead th {\n        text-align: right;\n    }\n</style>\n<table border=\"1\" class=\"dataframe\">\n  <thead>\n    <tr style=\"text-align: right;\">\n      <th></th>\n      <th>year</th>\n      <th>name</th>\n      <th>fraction</th>\n      <th>sex</th>\n      <th>rank</th>\n    </tr>\n  </thead>\n  <tbody>\n    <tr>\n      <th>0</th>\n      <td>1880</td>\n      <td>John</td>\n      <td>0.081546</td>\n      <td>m</td>\n      <td>1</td>\n    </tr>\n    <tr>\n      <th>1</th>\n      <td>1880</td>\n      <td>Mary</td>\n      <td>0.072383</td>\n      <td>f</td>\n      <td>1</td>\n    </tr>\n    <tr>\n      <th>2</th>\n      <td>1880</td>\n      <td>William</td>\n      <td>0.080507</td>\n      <td>m</td>\n      <td>2</td>\n    </tr>\n    <tr>\n      <th>3</th>\n      <td>1880</td>\n      <td>Anna</td>\n      <td>0.026679</td>\n      <td>f</td>\n      <td>2</td>\n    </tr>\n    <tr>\n      <th>4</th>\n      <td>1880</td>\n      <td>James</td>\n      <td>0.05006</td>\n      <td>m</td>\n      <td>3</td>\n    </tr>\n  </tbody>\n</table>\n</div>"
     },
     "execution_count": 9,
     "metadata": {},
     "output_type": "execute_result"
    }
   ],
   "source": [
    "data2020 = data2020.reset_index(drop=True)\n",
    "data2020.head()"
   ],
   "metadata": {
    "collapsed": false,
    "ExecuteTime": {
     "end_time": "2024-01-31T21:48:01.846328Z",
     "start_time": "2024-01-31T21:48:01.804589Z"
    }
   },
   "id": "d6ae97abd4c0a691",
   "execution_count": 9
  },
  {
   "cell_type": "code",
   "outputs": [
    {
     "data": {
      "text/plain": "281992"
     },
     "execution_count": 10,
     "metadata": {},
     "output_type": "execute_result"
    }
   ],
   "source": [
    "len(data2020)"
   ],
   "metadata": {
    "collapsed": false,
    "ExecuteTime": {
     "end_time": "2024-01-31T21:48:15.355810Z",
     "start_time": "2024-01-31T21:48:15.346564Z"
    }
   },
   "id": "c65adde5a95b197b",
   "execution_count": 10
  },
  {
   "cell_type": "code",
   "outputs": [],
   "source": [],
   "metadata": {
    "collapsed": false
   },
   "id": "3dc6eba560244ed1"
  },
  {
   "cell_type": "code",
   "outputs": [],
   "source": [],
   "metadata": {
    "collapsed": false
   },
   "id": "c057779f93bffd89"
  },
  {
   "cell_type": "code",
   "outputs": [],
   "source": [],
   "metadata": {
    "collapsed": false
   },
   "id": "ea7f3b53ee864875"
  },
  {
   "cell_type": "code",
   "outputs": [
    {
     "data": {
      "text/plain": "   year     name  fraction sex  rank\n0  1880     John  0.081546   m     1\n1  1880     Mary  0.072383   f     1\n2  1880  William  0.080507   m     2\n3  1880     Anna  0.026679   f     2\n4  1880    James  0.050060   m     3",
      "text/html": "<div>\n<style scoped>\n    .dataframe tbody tr th:only-of-type {\n        vertical-align: middle;\n    }\n\n    .dataframe tbody tr th {\n        vertical-align: top;\n    }\n\n    .dataframe thead th {\n        text-align: right;\n    }\n</style>\n<table border=\"1\" class=\"dataframe\">\n  <thead>\n    <tr style=\"text-align: right;\">\n      <th></th>\n      <th>year</th>\n      <th>name</th>\n      <th>fraction</th>\n      <th>sex</th>\n      <th>rank</th>\n    </tr>\n  </thead>\n  <tbody>\n    <tr>\n      <th>0</th>\n      <td>1880</td>\n      <td>John</td>\n      <td>0.081546</td>\n      <td>m</td>\n      <td>1</td>\n    </tr>\n    <tr>\n      <th>1</th>\n      <td>1880</td>\n      <td>Mary</td>\n      <td>0.072383</td>\n      <td>f</td>\n      <td>1</td>\n    </tr>\n    <tr>\n      <th>2</th>\n      <td>1880</td>\n      <td>William</td>\n      <td>0.080507</td>\n      <td>m</td>\n      <td>2</td>\n    </tr>\n    <tr>\n      <th>3</th>\n      <td>1880</td>\n      <td>Anna</td>\n      <td>0.026679</td>\n      <td>f</td>\n      <td>2</td>\n    </tr>\n    <tr>\n      <th>4</th>\n      <td>1880</td>\n      <td>James</td>\n      <td>0.050060</td>\n      <td>m</td>\n      <td>3</td>\n    </tr>\n  </tbody>\n</table>\n</div>"
     },
     "execution_count": 15,
     "metadata": {},
     "output_type": "execute_result"
    }
   ],
   "source": [
    "data2020 = pd.read_csv(\"baby_names_1880_2020.csv\")\n",
    "data2020.head()\n"
   ],
   "metadata": {
    "collapsed": false,
    "ExecuteTime": {
     "end_time": "2024-01-31T21:57:37.377804Z",
     "start_time": "2024-01-31T21:57:37.307563Z"
    }
   },
   "id": "d7f8a45ff7f360f2",
   "execution_count": 15
  },
  {
   "cell_type": "code",
   "outputs": [],
   "source": [
    "prediction = pd.read_csv(\"baby-names_predicted.csv\")\n"
   ],
   "metadata": {
    "collapsed": false,
    "ExecuteTime": {
     "end_time": "2024-01-31T21:58:49.240081Z",
     "start_time": "2024-01-31T21:58:49.160268Z"
    }
   },
   "id": "92850ed00d574768",
   "execution_count": 18
  },
  {
   "cell_type": "code",
   "outputs": [
    {
     "data": {
      "text/plain": "   year     name   percent  sex predicted_gender\n0  1880     John  0.081541  boy             male\n1  1880  William  0.080511  boy             male\n2  1880    James  0.050057  boy             male\n3  1880  Charles  0.045167  boy             male\n4  1880   George  0.043292  boy             male",
      "text/html": "<div>\n<style scoped>\n    .dataframe tbody tr th:only-of-type {\n        vertical-align: middle;\n    }\n\n    .dataframe tbody tr th {\n        vertical-align: top;\n    }\n\n    .dataframe thead th {\n        text-align: right;\n    }\n</style>\n<table border=\"1\" class=\"dataframe\">\n  <thead>\n    <tr style=\"text-align: right;\">\n      <th></th>\n      <th>year</th>\n      <th>name</th>\n      <th>percent</th>\n      <th>sex</th>\n      <th>predicted_gender</th>\n    </tr>\n  </thead>\n  <tbody>\n    <tr>\n      <th>0</th>\n      <td>1880</td>\n      <td>John</td>\n      <td>0.081541</td>\n      <td>boy</td>\n      <td>male</td>\n    </tr>\n    <tr>\n      <th>1</th>\n      <td>1880</td>\n      <td>William</td>\n      <td>0.080511</td>\n      <td>boy</td>\n      <td>male</td>\n    </tr>\n    <tr>\n      <th>2</th>\n      <td>1880</td>\n      <td>James</td>\n      <td>0.050057</td>\n      <td>boy</td>\n      <td>male</td>\n    </tr>\n    <tr>\n      <th>3</th>\n      <td>1880</td>\n      <td>Charles</td>\n      <td>0.045167</td>\n      <td>boy</td>\n      <td>male</td>\n    </tr>\n    <tr>\n      <th>4</th>\n      <td>1880</td>\n      <td>George</td>\n      <td>0.043292</td>\n      <td>boy</td>\n      <td>male</td>\n    </tr>\n  </tbody>\n</table>\n</div>"
     },
     "execution_count": 20,
     "metadata": {},
     "output_type": "execute_result"
    }
   ],
   "source": [
    "prediction.head()"
   ],
   "metadata": {
    "collapsed": false,
    "ExecuteTime": {
     "end_time": "2024-01-31T22:02:18.128317Z",
     "start_time": "2024-01-31T22:02:18.108062Z"
    }
   },
   "id": "10295679bda9ef00",
   "execution_count": 20
  },
  {
   "cell_type": "code",
   "outputs": [
    {
     "data": {
      "text/plain": "   year     name  fraction sex  rank predicted_gender\n0  1880     John  0.081546   m     1             male\n1  1880     John  0.081546   m     1             male\n2  1880     Mary  0.072383   f     1           female\n3  1880     Mary  0.072383   f     1           female\n4  1880  William  0.080507   m     2             male",
      "text/html": "<div>\n<style scoped>\n    .dataframe tbody tr th:only-of-type {\n        vertical-align: middle;\n    }\n\n    .dataframe tbody tr th {\n        vertical-align: top;\n    }\n\n    .dataframe thead th {\n        text-align: right;\n    }\n</style>\n<table border=\"1\" class=\"dataframe\">\n  <thead>\n    <tr style=\"text-align: right;\">\n      <th></th>\n      <th>year</th>\n      <th>name</th>\n      <th>fraction</th>\n      <th>sex</th>\n      <th>rank</th>\n      <th>predicted_gender</th>\n    </tr>\n  </thead>\n  <tbody>\n    <tr>\n      <th>0</th>\n      <td>1880</td>\n      <td>John</td>\n      <td>0.081546</td>\n      <td>m</td>\n      <td>1</td>\n      <td>male</td>\n    </tr>\n    <tr>\n      <th>1</th>\n      <td>1880</td>\n      <td>John</td>\n      <td>0.081546</td>\n      <td>m</td>\n      <td>1</td>\n      <td>male</td>\n    </tr>\n    <tr>\n      <th>2</th>\n      <td>1880</td>\n      <td>Mary</td>\n      <td>0.072383</td>\n      <td>f</td>\n      <td>1</td>\n      <td>female</td>\n    </tr>\n    <tr>\n      <th>3</th>\n      <td>1880</td>\n      <td>Mary</td>\n      <td>0.072383</td>\n      <td>f</td>\n      <td>1</td>\n      <td>female</td>\n    </tr>\n    <tr>\n      <th>4</th>\n      <td>1880</td>\n      <td>William</td>\n      <td>0.080507</td>\n      <td>m</td>\n      <td>2</td>\n      <td>male</td>\n    </tr>\n  </tbody>\n</table>\n</div>"
     },
     "execution_count": 21,
     "metadata": {},
     "output_type": "execute_result"
    }
   ],
   "source": [
    "merged = pd.merge(data2020, prediction[['name', 'year', 'predicted_gender']], on=['name', 'year'], how='left')\n",
    "merged.head()"
   ],
   "metadata": {
    "collapsed": false,
    "ExecuteTime": {
     "end_time": "2024-01-31T22:02:19.632106Z",
     "start_time": "2024-01-31T22:02:19.551728Z"
    }
   },
   "id": "12168c600cfaf836",
   "execution_count": 21
  },
  {
   "cell_type": "code",
   "outputs": [
    {
     "data": {
      "text/plain": "309791"
     },
     "execution_count": 22,
     "metadata": {},
     "output_type": "execute_result"
    }
   ],
   "source": [
    "len(merged)"
   ],
   "metadata": {
    "collapsed": false,
    "ExecuteTime": {
     "end_time": "2024-01-31T22:02:38.077202Z",
     "start_time": "2024-01-31T22:02:38.067375Z"
    }
   },
   "id": "61c6721d6ded4a68",
   "execution_count": 22
  },
  {
   "cell_type": "code",
   "outputs": [
    {
     "data": {
      "text/plain": "        year       name  fraction sex  rank predicted_gender\n300000  2016      Rylee  0.001535   f   105              NaN\n300001  2016   Santiago  0.001837   m   106              NaN\n300002  2016  Valentina  0.001508   f   106              NaN\n300003  2016   Harrison  0.001809   m   107              NaN\n300004  2016     Everly  0.001497   f   107              NaN\n...      ...        ...       ...  ..   ...              ...\n309786  2020   Mazikeen  0.000144   f   998              NaN\n309787  2020    Rogelio  0.000115   m   999              NaN\n309788  2020      Belle  0.000144   f   999              NaN\n309789  2020    Ephraim  0.000114   m  1000              NaN\n309790  2020    Kadence  0.000144   f  1000              NaN\n\n[9791 rows x 6 columns]",
      "text/html": "<div>\n<style scoped>\n    .dataframe tbody tr th:only-of-type {\n        vertical-align: middle;\n    }\n\n    .dataframe tbody tr th {\n        vertical-align: top;\n    }\n\n    .dataframe thead th {\n        text-align: right;\n    }\n</style>\n<table border=\"1\" class=\"dataframe\">\n  <thead>\n    <tr style=\"text-align: right;\">\n      <th></th>\n      <th>year</th>\n      <th>name</th>\n      <th>fraction</th>\n      <th>sex</th>\n      <th>rank</th>\n      <th>predicted_gender</th>\n    </tr>\n  </thead>\n  <tbody>\n    <tr>\n      <th>300000</th>\n      <td>2016</td>\n      <td>Rylee</td>\n      <td>0.001535</td>\n      <td>f</td>\n      <td>105</td>\n      <td>NaN</td>\n    </tr>\n    <tr>\n      <th>300001</th>\n      <td>2016</td>\n      <td>Santiago</td>\n      <td>0.001837</td>\n      <td>m</td>\n      <td>106</td>\n      <td>NaN</td>\n    </tr>\n    <tr>\n      <th>300002</th>\n      <td>2016</td>\n      <td>Valentina</td>\n      <td>0.001508</td>\n      <td>f</td>\n      <td>106</td>\n      <td>NaN</td>\n    </tr>\n    <tr>\n      <th>300003</th>\n      <td>2016</td>\n      <td>Harrison</td>\n      <td>0.001809</td>\n      <td>m</td>\n      <td>107</td>\n      <td>NaN</td>\n    </tr>\n    <tr>\n      <th>300004</th>\n      <td>2016</td>\n      <td>Everly</td>\n      <td>0.001497</td>\n      <td>f</td>\n      <td>107</td>\n      <td>NaN</td>\n    </tr>\n    <tr>\n      <th>...</th>\n      <td>...</td>\n      <td>...</td>\n      <td>...</td>\n      <td>...</td>\n      <td>...</td>\n      <td>...</td>\n    </tr>\n    <tr>\n      <th>309786</th>\n      <td>2020</td>\n      <td>Mazikeen</td>\n      <td>0.000144</td>\n      <td>f</td>\n      <td>998</td>\n      <td>NaN</td>\n    </tr>\n    <tr>\n      <th>309787</th>\n      <td>2020</td>\n      <td>Rogelio</td>\n      <td>0.000115</td>\n      <td>m</td>\n      <td>999</td>\n      <td>NaN</td>\n    </tr>\n    <tr>\n      <th>309788</th>\n      <td>2020</td>\n      <td>Belle</td>\n      <td>0.000144</td>\n      <td>f</td>\n      <td>999</td>\n      <td>NaN</td>\n    </tr>\n    <tr>\n      <th>309789</th>\n      <td>2020</td>\n      <td>Ephraim</td>\n      <td>0.000114</td>\n      <td>m</td>\n      <td>1000</td>\n      <td>NaN</td>\n    </tr>\n    <tr>\n      <th>309790</th>\n      <td>2020</td>\n      <td>Kadence</td>\n      <td>0.000144</td>\n      <td>f</td>\n      <td>1000</td>\n      <td>NaN</td>\n    </tr>\n  </tbody>\n</table>\n<p>9791 rows × 6 columns</p>\n</div>"
     },
     "execution_count": 23,
     "metadata": {},
     "output_type": "execute_result"
    }
   ],
   "source": [
    "merged[300000:]"
   ],
   "metadata": {
    "collapsed": false,
    "ExecuteTime": {
     "end_time": "2024-01-31T22:04:19.123907Z",
     "start_time": "2024-01-31T22:04:19.105303Z"
    }
   },
   "id": "a4ab5772e66f015e",
   "execution_count": 23
  },
  {
   "cell_type": "code",
   "outputs": [],
   "source": [],
   "metadata": {
    "collapsed": false
   },
   "id": "2c3027d035105a00"
  },
  {
   "cell_type": "code",
   "outputs": [],
   "source": [],
   "metadata": {
    "collapsed": false
   },
   "id": "773e8b13f8cd1851"
  },
  {
   "cell_type": "code",
   "outputs": [],
   "source": [
    "import pandas as pd\n",
    "from genderize import Genderize\n",
    "\n",
    "# Your Genderize API key\n",
    "api_key = '1c13aa6f943ac21b16232d1691bb6e53'\n",
    "\n",
    "# Initialize Genderize with your API key\n",
    "genderize = Genderize(api_key=api_key)\n",
    "\n",
    "# Use list comprehension to query Genderize for each name and get the gender\n",
    "# It's efficient to send names in batches if you have a lot\n",
    "genders = [genderize.get([na])[0]['gender'] for na in names['name']]\n",
    "\n",
    "# Add the genders as a new column to the dataframe\n",
    "names['predicted_gender'] = genders\n",
    "\n",
    "names.to_csv(\"baby-names_predicted.csv\", index=False)\n"
   ],
   "metadata": {
    "collapsed": false,
    "ExecuteTime": {
     "end_time": "2024-01-25T20:02:42.960618Z",
     "start_time": "2024-01-25T15:51:53.486906Z"
    }
   },
   "id": "4c1c0df654cd6d24",
   "execution_count": 18
  },
  {
   "cell_type": "code",
   "outputs": [],
   "source": [],
   "metadata": {
    "collapsed": false
   },
   "id": "1e475593e3d02342"
  },
  {
   "cell_type": "code",
   "outputs": [
    {
     "ename": "GenderizeException",
     "evalue": "('Request limit reached', 429, {'Server': 'nginx/1.16.1', 'Date': 'Thu, 25 Jan 2024 03:48:00 GMT', 'Content-Type': 'application/json', 'Content-Length': '33', 'Connection': 'keep-alive', 'access-control-allow-credentials': 'true', 'access-control-allow-origin': '*', 'access-control-expose-headers': 'x-rate-limit-limit,x-rate-limit-remaining,x-rate-limit-reset', 'cache-control': 'max-age=0, private, must-revalidate', 'x-rate-limit-limit': '100', 'x-rate-limit-remaining': '0', 'x-rate-limit-reset': '72720', 'x-request-id': 'F616ddrGYZIJPRcDIf_i'})",
     "output_type": "error",
     "traceback": [
      "\u001B[0;31m---------------------------------------------------------------------------\u001B[0m",
      "\u001B[0;31mGenderizeException\u001B[0m                        Traceback (most recent call last)",
      "Cell \u001B[0;32mIn[5], line 2\u001B[0m\n\u001B[1;32m      1\u001B[0m \u001B[38;5;28;01mfrom\u001B[39;00m \u001B[38;5;21;01mgenderize\u001B[39;00m \u001B[38;5;28;01mimport\u001B[39;00m Genderize\n\u001B[0;32m----> 2\u001B[0m \u001B[38;5;28mprint\u001B[39m(\u001B[43mGenderize\u001B[49m\u001B[43m(\u001B[49m\u001B[43m)\u001B[49m\u001B[38;5;241;43m.\u001B[39;49m\u001B[43mget\u001B[49m\u001B[43m(\u001B[49m\u001B[43m[\u001B[49m\u001B[38;5;124;43m'\u001B[39;49m\u001B[38;5;124;43mJames\u001B[39;49m\u001B[38;5;124;43m'\u001B[39;49m\u001B[43m,\u001B[49m\u001B[43m \u001B[49m\u001B[38;5;124;43m'\u001B[39;49m\u001B[38;5;124;43mEva\u001B[39;49m\u001B[38;5;124;43m'\u001B[39;49m\u001B[43m,\u001B[49m\u001B[43m \u001B[49m\u001B[38;5;124;43m'\u001B[39;49m\u001B[38;5;124;43mThunderhorse\u001B[39;49m\u001B[38;5;124;43m'\u001B[39;49m\u001B[43m]\u001B[49m\u001B[43m)\u001B[49m)\n",
      "File \u001B[0;32m~/OngoingProjects/Project4/DFMonitor/.venv/lib/python3.9/site-packages/genderize/__init__.py:96\u001B[0m, in \u001B[0;36mGenderize.get\u001B[0;34m(self, names, country_id, language_id, retheader)\u001B[0m\n\u001B[1;32m     66\u001B[0m \u001B[38;5;28;01mdef\u001B[39;00m \u001B[38;5;21mget\u001B[39m(\u001B[38;5;28mself\u001B[39m, names, country_id\u001B[38;5;241m=\u001B[39m\u001B[38;5;28;01mNone\u001B[39;00m, language_id\u001B[38;5;241m=\u001B[39m\u001B[38;5;28;01mNone\u001B[39;00m, retheader\u001B[38;5;241m=\u001B[39m\u001B[38;5;28;01mFalse\u001B[39;00m):\n\u001B[1;32m     67\u001B[0m \u001B[38;5;250m    \u001B[39m\u001B[38;5;124;03m\"\"\"\u001B[39;00m\n\u001B[1;32m     68\u001B[0m \u001B[38;5;124;03m    Look up gender for a list of names.\u001B[39;00m\n\u001B[1;32m     69\u001B[0m \u001B[38;5;124;03m    Can optionally refine search with locale info.\u001B[39;00m\n\u001B[0;32m   (...)\u001B[0m\n\u001B[1;32m     94\u001B[0m \u001B[38;5;124;03m    :raises GenderizeException: if API server returns HTTP error code.\u001B[39;00m\n\u001B[1;32m     95\u001B[0m \u001B[38;5;124;03m    \"\"\"\u001B[39;00m\n\u001B[0;32m---> 96\u001B[0m     responses \u001B[38;5;241m=\u001B[39m [\n\u001B[1;32m     97\u001B[0m         \u001B[38;5;28mself\u001B[39m\u001B[38;5;241m.\u001B[39m_get_chunk(name_chunk, country_id, language_id)\n\u001B[1;32m     98\u001B[0m         \u001B[38;5;28;01mfor\u001B[39;00m name_chunk\n\u001B[1;32m     99\u001B[0m         \u001B[38;5;129;01min\u001B[39;00m _chunked(names, Genderize\u001B[38;5;241m.\u001B[39mBATCH_SIZE)\n\u001B[1;32m    100\u001B[0m     ]\n\u001B[1;32m    101\u001B[0m     data \u001B[38;5;241m=\u001B[39m \u001B[38;5;28mlist\u001B[39m(chain\u001B[38;5;241m.\u001B[39mfrom_iterable(\n\u001B[1;32m    102\u001B[0m         response\u001B[38;5;241m.\u001B[39mdata \u001B[38;5;28;01mfor\u001B[39;00m response \u001B[38;5;129;01min\u001B[39;00m responses\n\u001B[1;32m    103\u001B[0m     ))\n\u001B[1;32m    104\u001B[0m     \u001B[38;5;28;01mif\u001B[39;00m retheader:\n",
      "File \u001B[0;32m~/OngoingProjects/Project4/DFMonitor/.venv/lib/python3.9/site-packages/genderize/__init__.py:97\u001B[0m, in \u001B[0;36m<listcomp>\u001B[0;34m(.0)\u001B[0m\n\u001B[1;32m     66\u001B[0m \u001B[38;5;28;01mdef\u001B[39;00m \u001B[38;5;21mget\u001B[39m(\u001B[38;5;28mself\u001B[39m, names, country_id\u001B[38;5;241m=\u001B[39m\u001B[38;5;28;01mNone\u001B[39;00m, language_id\u001B[38;5;241m=\u001B[39m\u001B[38;5;28;01mNone\u001B[39;00m, retheader\u001B[38;5;241m=\u001B[39m\u001B[38;5;28;01mFalse\u001B[39;00m):\n\u001B[1;32m     67\u001B[0m \u001B[38;5;250m    \u001B[39m\u001B[38;5;124;03m\"\"\"\u001B[39;00m\n\u001B[1;32m     68\u001B[0m \u001B[38;5;124;03m    Look up gender for a list of names.\u001B[39;00m\n\u001B[1;32m     69\u001B[0m \u001B[38;5;124;03m    Can optionally refine search with locale info.\u001B[39;00m\n\u001B[0;32m   (...)\u001B[0m\n\u001B[1;32m     94\u001B[0m \u001B[38;5;124;03m    :raises GenderizeException: if API server returns HTTP error code.\u001B[39;00m\n\u001B[1;32m     95\u001B[0m \u001B[38;5;124;03m    \"\"\"\u001B[39;00m\n\u001B[1;32m     96\u001B[0m     responses \u001B[38;5;241m=\u001B[39m [\n\u001B[0;32m---> 97\u001B[0m         \u001B[38;5;28;43mself\u001B[39;49m\u001B[38;5;241;43m.\u001B[39;49m\u001B[43m_get_chunk\u001B[49m\u001B[43m(\u001B[49m\u001B[43mname_chunk\u001B[49m\u001B[43m,\u001B[49m\u001B[43m \u001B[49m\u001B[43mcountry_id\u001B[49m\u001B[43m,\u001B[49m\u001B[43m \u001B[49m\u001B[43mlanguage_id\u001B[49m\u001B[43m)\u001B[49m\n\u001B[1;32m     98\u001B[0m         \u001B[38;5;28;01mfor\u001B[39;00m name_chunk\n\u001B[1;32m     99\u001B[0m         \u001B[38;5;129;01min\u001B[39;00m _chunked(names, Genderize\u001B[38;5;241m.\u001B[39mBATCH_SIZE)\n\u001B[1;32m    100\u001B[0m     ]\n\u001B[1;32m    101\u001B[0m     data \u001B[38;5;241m=\u001B[39m \u001B[38;5;28mlist\u001B[39m(chain\u001B[38;5;241m.\u001B[39mfrom_iterable(\n\u001B[1;32m    102\u001B[0m         response\u001B[38;5;241m.\u001B[39mdata \u001B[38;5;28;01mfor\u001B[39;00m response \u001B[38;5;129;01min\u001B[39;00m responses\n\u001B[1;32m    103\u001B[0m     ))\n\u001B[1;32m    104\u001B[0m     \u001B[38;5;28;01mif\u001B[39;00m retheader:\n",
      "File \u001B[0;32m~/OngoingProjects/Project4/DFMonitor/.venv/lib/python3.9/site-packages/genderize/__init__.py:149\u001B[0m, in \u001B[0;36mGenderize._get_chunk\u001B[0;34m(self, name_chunk, country_id, language_id)\u001B[0m\n\u001B[1;32m    147\u001B[0m     \u001B[38;5;28;01mreturn\u001B[39;00m _GenderizeResponse(data\u001B[38;5;241m=\u001B[39mdecoded, headers\u001B[38;5;241m=\u001B[39mresponse\u001B[38;5;241m.\u001B[39mheaders)\n\u001B[1;32m    148\u001B[0m \u001B[38;5;28;01melse\u001B[39;00m:\n\u001B[0;32m--> 149\u001B[0m     \u001B[38;5;28;01mraise\u001B[39;00m GenderizeException(\n\u001B[1;32m    150\u001B[0m         decoded[\u001B[38;5;124m'\u001B[39m\u001B[38;5;124merror\u001B[39m\u001B[38;5;124m'\u001B[39m],\n\u001B[1;32m    151\u001B[0m         response\u001B[38;5;241m.\u001B[39mstatus_code,\n\u001B[1;32m    152\u001B[0m         response\u001B[38;5;241m.\u001B[39mheaders)\n",
      "\u001B[0;31mGenderizeException\u001B[0m: ('Request limit reached', 429, {'Server': 'nginx/1.16.1', 'Date': 'Thu, 25 Jan 2024 03:48:00 GMT', 'Content-Type': 'application/json', 'Content-Length': '33', 'Connection': 'keep-alive', 'access-control-allow-credentials': 'true', 'access-control-allow-origin': '*', 'access-control-expose-headers': 'x-rate-limit-limit,x-rate-limit-remaining,x-rate-limit-reset', 'cache-control': 'max-age=0, private, must-revalidate', 'x-rate-limit-limit': '100', 'x-rate-limit-remaining': '0', 'x-rate-limit-reset': '72720', 'x-request-id': 'F616ddrGYZIJPRcDIf_i'})"
     ]
    }
   ],
   "source": [
    "from genderize import Genderize\n",
    "print(Genderize().get(['James', 'Eva', 'Thunderhorse']))"
   ],
   "metadata": {
    "collapsed": false,
    "ExecuteTime": {
     "end_time": "2024-01-25T03:48:00.454426Z",
     "start_time": "2024-01-25T03:48:00.249175Z"
    }
   },
   "id": "b23e7923fa8b8c8b",
   "execution_count": 5
  },
  {
   "cell_type": "code",
   "outputs": [
    {
     "name": "stdout",
     "output_type": "stream",
     "text": [
      "\r\n",
      "     active environment : base\r\n",
      "    active env location : /Users/jinyangli/opt/anaconda3\r\n",
      "            shell level : 1\r\n",
      "       user config file : /Users/jinyangli/.condarc\r\n",
      " populated config files : /Users/jinyangli/.condarc\r\n",
      "          conda version : 23.1.0\r\n",
      "    conda-build version : 3.22.0\r\n",
      "         python version : 3.9.13.final.0\r\n",
      "       virtual packages : __archspec=1=x86_64\r\n",
      "                          __osx=10.16=0\r\n",
      "                          __unix=0=0\r\n",
      "       base environment : /Users/jinyangli/opt/anaconda3  (writable)\r\n",
      "      conda av data dir : /Users/jinyangli/opt/anaconda3/etc/conda\r\n",
      "  conda av metadata url : None\r\n",
      "           channel URLs : https://repo.anaconda.com/pkgs/main/osx-64\r\n",
      "                          https://repo.anaconda.com/pkgs/main/noarch\r\n",
      "                          https://repo.anaconda.com/pkgs/r/osx-64\r\n",
      "                          https://repo.anaconda.com/pkgs/r/noarch\r\n",
      "          package cache : /Users/jinyangli/opt/anaconda3/pkgs\r\n",
      "                          /Users/jinyangli/.conda/pkgs\r\n",
      "       envs directories : /Users/jinyangli/opt/anaconda3/envs\r\n",
      "                          /Users/jinyangli/.conda/envs\r\n",
      "               platform : osx-64\r\n",
      "             user-agent : conda/23.1.0 requests/2.28.1 CPython/3.9.13 Darwin/23.2.0 OSX/10.16\r\n",
      "                UID:GID : 501:20\r\n",
      "             netrc file : None\r\n",
      "           offline mode : False\r\n",
      "\r\n"
     ]
    }
   ],
   "source": [
    "!conda info"
   ],
   "metadata": {
    "collapsed": false,
    "ExecuteTime": {
     "end_time": "2024-01-25T03:47:13.150251Z",
     "start_time": "2024-01-25T03:47:11.933Z"
    }
   },
   "id": "d95ae2ed27b7ed53",
   "execution_count": 14
  },
  {
   "cell_type": "code",
   "outputs": [
    {
     "name": "stdout",
     "output_type": "stream",
     "text": [
      "/Users/jinyangli/OngoingProjects/Project3/Galaxy/ImageDatasetCoverage-galaxy/venv/bin/python\n"
     ]
    }
   ],
   "source": [
    "import sys\n",
    "print(sys.executable)\n"
   ],
   "metadata": {
    "collapsed": false,
    "ExecuteTime": {
     "end_time": "2024-01-25T03:47:13.219801Z",
     "start_time": "2024-01-25T03:47:13.187471Z"
    }
   },
   "id": "39cd1faa291b1c45",
   "execution_count": 15
  },
  {
   "cell_type": "code",
   "outputs": [
    {
     "name": "stdout",
     "output_type": "stream",
     "text": [
      "Requirement already satisfied: ipykernel in /Users/jinyangli/OngoingProjects/Project4/DFMonitor/.venv/lib/python3.9/site-packages (6.29.0)\r\n",
      "Requirement already satisfied: appnope in /Users/jinyangli/OngoingProjects/Project4/DFMonitor/.venv/lib/python3.9/site-packages (from ipykernel) (0.1.3)\r\n",
      "Requirement already satisfied: comm>=0.1.1 in /Users/jinyangli/OngoingProjects/Project4/DFMonitor/.venv/lib/python3.9/site-packages (from ipykernel) (0.2.1)\r\n",
      "Requirement already satisfied: debugpy>=1.6.5 in /Users/jinyangli/OngoingProjects/Project4/DFMonitor/.venv/lib/python3.9/site-packages (from ipykernel) (1.8.0)\r\n",
      "Requirement already satisfied: ipython>=7.23.1 in /Users/jinyangli/OngoingProjects/Project4/DFMonitor/.venv/lib/python3.9/site-packages (from ipykernel) (8.18.1)\r\n",
      "Requirement already satisfied: jupyter-client>=6.1.12 in /Users/jinyangli/OngoingProjects/Project4/DFMonitor/.venv/lib/python3.9/site-packages (from ipykernel) (8.6.0)\r\n",
      "Requirement already satisfied: jupyter-core!=5.0.*,>=4.12 in /Users/jinyangli/OngoingProjects/Project4/DFMonitor/.venv/lib/python3.9/site-packages (from ipykernel) (5.7.1)\r\n",
      "Requirement already satisfied: matplotlib-inline>=0.1 in /Users/jinyangli/OngoingProjects/Project4/DFMonitor/.venv/lib/python3.9/site-packages (from ipykernel) (0.1.6)\r\n",
      "Requirement already satisfied: nest-asyncio in /Users/jinyangli/OngoingProjects/Project4/DFMonitor/.venv/lib/python3.9/site-packages (from ipykernel) (1.6.0)\r\n",
      "Requirement already satisfied: packaging in /Users/jinyangli/OngoingProjects/Project4/DFMonitor/.venv/lib/python3.9/site-packages (from ipykernel) (23.2)\r\n",
      "Requirement already satisfied: psutil in /Users/jinyangli/OngoingProjects/Project4/DFMonitor/.venv/lib/python3.9/site-packages (from ipykernel) (5.9.8)\r\n",
      "Requirement already satisfied: pyzmq>=24 in /Users/jinyangli/OngoingProjects/Project4/DFMonitor/.venv/lib/python3.9/site-packages (from ipykernel) (25.1.2)\r\n",
      "Requirement already satisfied: tornado>=6.1 in /Users/jinyangli/OngoingProjects/Project4/DFMonitor/.venv/lib/python3.9/site-packages (from ipykernel) (6.4)\r\n",
      "Requirement already satisfied: traitlets>=5.4.0 in /Users/jinyangli/OngoingProjects/Project4/DFMonitor/.venv/lib/python3.9/site-packages (from ipykernel) (5.14.1)\r\n",
      "Requirement already satisfied: decorator in /Users/jinyangli/OngoingProjects/Project4/DFMonitor/.venv/lib/python3.9/site-packages (from ipython>=7.23.1->ipykernel) (5.1.1)\r\n",
      "Requirement already satisfied: jedi>=0.16 in /Users/jinyangli/OngoingProjects/Project4/DFMonitor/.venv/lib/python3.9/site-packages (from ipython>=7.23.1->ipykernel) (0.19.1)\r\n",
      "Requirement already satisfied: prompt-toolkit<3.1.0,>=3.0.41 in /Users/jinyangli/OngoingProjects/Project4/DFMonitor/.venv/lib/python3.9/site-packages (from ipython>=7.23.1->ipykernel) (3.0.43)\r\n",
      "Requirement already satisfied: pygments>=2.4.0 in /Users/jinyangli/OngoingProjects/Project4/DFMonitor/.venv/lib/python3.9/site-packages (from ipython>=7.23.1->ipykernel) (2.17.2)\r\n",
      "Requirement already satisfied: stack-data in /Users/jinyangli/OngoingProjects/Project4/DFMonitor/.venv/lib/python3.9/site-packages (from ipython>=7.23.1->ipykernel) (0.6.3)\r\n",
      "Requirement already satisfied: typing-extensions in /Users/jinyangli/OngoingProjects/Project4/DFMonitor/.venv/lib/python3.9/site-packages (from ipython>=7.23.1->ipykernel) (4.9.0)\r\n",
      "Requirement already satisfied: exceptiongroup in /Users/jinyangli/OngoingProjects/Project4/DFMonitor/.venv/lib/python3.9/site-packages (from ipython>=7.23.1->ipykernel) (1.2.0)\r\n",
      "Requirement already satisfied: pexpect>4.3 in /Users/jinyangli/OngoingProjects/Project4/DFMonitor/.venv/lib/python3.9/site-packages (from ipython>=7.23.1->ipykernel) (4.9.0)\r\n",
      "Requirement already satisfied: importlib-metadata>=4.8.3 in /Users/jinyangli/OngoingProjects/Project4/DFMonitor/.venv/lib/python3.9/site-packages (from jupyter-client>=6.1.12->ipykernel) (7.0.1)\r\n",
      "Requirement already satisfied: python-dateutil>=2.8.2 in /Users/jinyangli/OngoingProjects/Project4/DFMonitor/.venv/lib/python3.9/site-packages (from jupyter-client>=6.1.12->ipykernel) (2.8.2)\r\n",
      "Requirement already satisfied: platformdirs>=2.5 in /Users/jinyangli/OngoingProjects/Project4/DFMonitor/.venv/lib/python3.9/site-packages (from jupyter-core!=5.0.*,>=4.12->ipykernel) (4.1.0)\r\n",
      "Requirement already satisfied: zipp>=0.5 in /Users/jinyangli/OngoingProjects/Project4/DFMonitor/.venv/lib/python3.9/site-packages (from importlib-metadata>=4.8.3->jupyter-client>=6.1.12->ipykernel) (3.17.0)\r\n",
      "Requirement already satisfied: parso<0.9.0,>=0.8.3 in /Users/jinyangli/OngoingProjects/Project4/DFMonitor/.venv/lib/python3.9/site-packages (from jedi>=0.16->ipython>=7.23.1->ipykernel) (0.8.3)\r\n",
      "Requirement already satisfied: ptyprocess>=0.5 in /Users/jinyangli/OngoingProjects/Project4/DFMonitor/.venv/lib/python3.9/site-packages (from pexpect>4.3->ipython>=7.23.1->ipykernel) (0.7.0)\r\n",
      "Requirement already satisfied: wcwidth in /Users/jinyangli/OngoingProjects/Project4/DFMonitor/.venv/lib/python3.9/site-packages (from prompt-toolkit<3.1.0,>=3.0.41->ipython>=7.23.1->ipykernel) (0.2.13)\r\n",
      "Requirement already satisfied: six>=1.5 in /Users/jinyangli/OngoingProjects/Project4/DFMonitor/.venv/lib/python3.9/site-packages (from python-dateutil>=2.8.2->jupyter-client>=6.1.12->ipykernel) (1.16.0)\r\n",
      "Requirement already satisfied: executing>=1.2.0 in /Users/jinyangli/OngoingProjects/Project4/DFMonitor/.venv/lib/python3.9/site-packages (from stack-data->ipython>=7.23.1->ipykernel) (2.0.1)\r\n",
      "Requirement already satisfied: asttokens>=2.1.0 in /Users/jinyangli/OngoingProjects/Project4/DFMonitor/.venv/lib/python3.9/site-packages (from stack-data->ipython>=7.23.1->ipykernel) (2.4.1)\r\n",
      "Requirement already satisfied: pure-eval in /Users/jinyangli/OngoingProjects/Project4/DFMonitor/.venv/lib/python3.9/site-packages (from stack-data->ipython>=7.23.1->ipykernel) (0.2.2)\r\n",
      "\r\n",
      "\u001B[1m[\u001B[0m\u001B[34;49mnotice\u001B[0m\u001B[1;39;49m]\u001B[0m\u001B[39;49m A new release of pip is available: \u001B[0m\u001B[31;49m23.2.1\u001B[0m\u001B[39;49m -> \u001B[0m\u001B[32;49m23.3.2\u001B[0m\r\n",
      "\u001B[1m[\u001B[0m\u001B[34;49mnotice\u001B[0m\u001B[1;39;49m]\u001B[0m\u001B[39;49m To update, run: \u001B[0m\u001B[32;49mpip install --upgrade pip\u001B[0m\r\n",
      "Installed kernelspec venv in /Users/jinyangli/Library/Jupyter/kernels/venv\r\n"
     ]
    }
   ],
   "source": [
    "!pip install ipykernel\n",
    "!python -m ipykernel install --user --name=venv --display-name \"PythonDFMonitor (venv)\"\n"
   ],
   "metadata": {
    "collapsed": false,
    "ExecuteTime": {
     "end_time": "2024-01-25T03:44:55.679451Z",
     "start_time": "2024-01-25T03:44:54.282084Z"
    }
   },
   "id": "84f813db69ffa91e",
   "execution_count": 10
  },
  {
   "cell_type": "code",
   "outputs": [],
   "source": [],
   "metadata": {
    "collapsed": false
   },
   "id": "234a193d8d9b4e32"
  },
  {
   "cell_type": "code",
   "outputs": [],
   "source": [],
   "metadata": {
    "collapsed": false
   },
   "id": "40e7d2be8c67a132"
  },
  {
   "cell_type": "code",
   "outputs": [
    {
     "name": "stdout",
     "output_type": "stream",
     "text": [
      "[{'count': 1204083, 'name': 'James', 'gender': 'male', 'probability': 1.0}, {'count': 413170, 'name': 'Eva', 'gender': 'female', 'probability': 0.99}, {'count': 2, 'name': 'Thunderhorse', 'gender': 'female', 'probability': 0.5}]\n"
     ]
    }
   ],
   "source": [
    "from genderize import Genderize, GenderizeException\n",
    "import time\n",
    "\n",
    "names = ['James', 'Eva', 'Thunderhorse']\n",
    "\n",
    "try:\n",
    "    genderize = Genderize(api_key='1c13aa6f943ac21b16232d1691bb6e53')\n",
    "    results = genderize.get(names)\n",
    "    print(results)\n",
    "except GenderizeException as e:\n",
    "    if '429' in str(e):\n",
    "        print(\"Request limit reached. Please try again later.\")\n",
    "    else:\n",
    "        print(f\"An error occurred: {e}\")\n"
   ],
   "metadata": {
    "collapsed": false,
    "ExecuteTime": {
     "end_time": "2024-01-25T15:43:29.407Z",
     "start_time": "2024-01-25T15:43:29.223900Z"
    }
   },
   "id": "8e041790e774688a",
   "execution_count": 8
  },
  {
   "cell_type": "code",
   "outputs": [],
   "source": [],
   "metadata": {
    "collapsed": false
   },
   "id": "487abe2d62993ad6"
  }
 ],
 "metadata": {
  "kernelspec": {
   "name": "venv",
   "language": "python",
   "display_name": "venv"
  },
  "language_info": {
   "codemirror_mode": {
    "name": "ipython",
    "version": 2
   },
   "file_extension": ".py",
   "mimetype": "text/x-python",
   "name": "python",
   "nbconvert_exporter": "python",
   "pygments_lexer": "ipython2",
   "version": "2.7.6"
  }
 },
 "nbformat": 4,
 "nbformat_minor": 5
}
