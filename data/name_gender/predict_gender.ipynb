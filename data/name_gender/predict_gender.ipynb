{
 "cells": [
  {
   "cell_type": "code",
   "execution_count": 1,
   "id": "initial_id",
   "metadata": {
    "collapsed": true,
    "ExecuteTime": {
     "end_time": "2024-02-06T18:51:54.285291Z",
     "start_time": "2024-02-06T18:51:54.242361Z"
    }
   },
   "outputs": [
    {
     "name": "stderr",
     "output_type": "stream",
     "text": [
      "/Users/jinyangli/OngoingProjects/Project4/DFMonitor/.venv/lib/python3.9/site-packages/urllib3/__init__.py:34: NotOpenSSLWarning: urllib3 v2 only supports OpenSSL 1.1.1+, currently the 'ssl' module is compiled with 'LibreSSL 2.8.3'. See: https://github.com/urllib3/urllib3/issues/3020\n",
      "  warnings.warn(\n"
     ]
    }
   ],
   "source": [
    "from __future__ import annotations\n",
    "\n",
    "from typing import Optional\n",
    "# autoreload modules when code changes\n",
    "%load_ext autoreload\n",
    "%autoreload 2\n",
    "\n",
    "import get_gender\n",
    "import pandas as pd\n"
   ]
  },
  {
   "cell_type": "code",
   "outputs": [
    {
     "name": "stdout",
     "output_type": "stream",
     "text": [
      "   year     name   percent  sex predicted_gender\n",
      "0  1880     John  0.081541  boy             male\n",
      "1  1880  William  0.080511  boy             male\n",
      "2  1880    James  0.050057  boy             male\n",
      "3  1880  Charles  0.045167  boy             male\n",
      "4  1880   George  0.043292  boy             male\n",
      "258000\n"
     ]
    }
   ],
   "source": [
    "prediction = pd.read_csv(\"baby-names_predicted.csv\")\n",
    "print(prediction.head())\n",
    "print(len(prediction))\n",
    "prediction1 = prediction[prediction[\"year\"] == 1900]"
   ],
   "metadata": {
    "collapsed": false,
    "ExecuteTime": {
     "end_time": "2024-02-02T21:45:18.264239Z",
     "start_time": "2024-02-02T21:45:18.192538Z"
    }
   },
   "id": "5401a87c3deef7b7",
   "execution_count": 3
  },
  {
   "cell_type": "code",
   "outputs": [
    {
     "data": {
      "text/plain": "24000"
     },
     "execution_count": 4,
     "metadata": {},
     "output_type": "execute_result"
    }
   ],
   "source": [
    "data2020 = pd.read_csv(\"baby_names_1880_2020.csv\")\n",
    "sub = data2020[(data2020[\"year\"] > 2008) & (data2020[\"year\"] < 2021)]\n",
    "len(sub)"
   ],
   "metadata": {
    "collapsed": false,
    "ExecuteTime": {
     "end_time": "2024-02-02T21:45:18.757006Z",
     "start_time": "2024-02-02T21:45:18.689782Z"
    }
   },
   "id": "29ddd848e8dbe475",
   "execution_count": 4
  },
  {
   "cell_type": "code",
   "outputs": [],
   "source": [
    "sub.to_csv(\"baby_names_2009_2020.csv\", index=False)"
   ],
   "metadata": {
    "collapsed": false,
    "ExecuteTime": {
     "end_time": "2024-02-02T21:45:20.021760Z",
     "start_time": "2024-02-02T21:45:19.980465Z"
    }
   },
   "id": "4b9ebc57e14465ba",
   "execution_count": 5
  },
  {
   "cell_type": "code",
   "outputs": [
    {
     "data": {
      "text/plain": "   year      name  fraction sex  rank\n0  2009     Jacob  0.009992   m     1\n1  2009  Isabella  0.011023   f     1\n2  2009     Ethan  0.009362   m     2\n3  2009      Emma  0.008846   f     2\n4  2009   Michael  0.008938   m     3",
      "text/html": "<div>\n<style scoped>\n    .dataframe tbody tr th:only-of-type {\n        vertical-align: middle;\n    }\n\n    .dataframe tbody tr th {\n        vertical-align: top;\n    }\n\n    .dataframe thead th {\n        text-align: right;\n    }\n</style>\n<table border=\"1\" class=\"dataframe\">\n  <thead>\n    <tr style=\"text-align: right;\">\n      <th></th>\n      <th>year</th>\n      <th>name</th>\n      <th>fraction</th>\n      <th>sex</th>\n      <th>rank</th>\n    </tr>\n  </thead>\n  <tbody>\n    <tr>\n      <th>0</th>\n      <td>2009</td>\n      <td>Jacob</td>\n      <td>0.009992</td>\n      <td>m</td>\n      <td>1</td>\n    </tr>\n    <tr>\n      <th>1</th>\n      <td>2009</td>\n      <td>Isabella</td>\n      <td>0.011023</td>\n      <td>f</td>\n      <td>1</td>\n    </tr>\n    <tr>\n      <th>2</th>\n      <td>2009</td>\n      <td>Ethan</td>\n      <td>0.009362</td>\n      <td>m</td>\n      <td>2</td>\n    </tr>\n    <tr>\n      <th>3</th>\n      <td>2009</td>\n      <td>Emma</td>\n      <td>0.008846</td>\n      <td>f</td>\n      <td>2</td>\n    </tr>\n    <tr>\n      <th>4</th>\n      <td>2009</td>\n      <td>Michael</td>\n      <td>0.008938</td>\n      <td>m</td>\n      <td>3</td>\n    </tr>\n  </tbody>\n</table>\n</div>"
     },
     "execution_count": 6,
     "metadata": {},
     "output_type": "execute_result"
    }
   ],
   "source": [
    "sub = pd.read_csv(\"baby_names_2009_2020.csv\")\n",
    "sub.head()\n"
   ],
   "metadata": {
    "collapsed": false,
    "ExecuteTime": {
     "end_time": "2024-02-02T21:45:20.558669Z",
     "start_time": "2024-02-02T21:45:20.522786Z"
    }
   },
   "id": "32e1ba2864e2fd33",
   "execution_count": 6
  },
  {
   "cell_type": "code",
   "outputs": [
    {
     "ename": "ReadTimeout",
     "evalue": "HTTPSConnectionPool(host='api.genderize.io', port=443): Read timed out. (read timeout=30.0)",
     "output_type": "error",
     "traceback": [
      "\u001B[0;31m---------------------------------------------------------------------------\u001B[0m",
      "\u001B[0;31mtimeout\u001B[0m                                   Traceback (most recent call last)",
      "File \u001B[0;32m~/OngoingProjects/Project4/DFMonitor/.venv/lib/python3.9/site-packages/urllib3/connectionpool.py:536\u001B[0m, in \u001B[0;36mHTTPConnectionPool._make_request\u001B[0;34m(self, conn, method, url, body, headers, retries, timeout, chunked, response_conn, preload_content, decode_content, enforce_content_length)\u001B[0m\n\u001B[1;32m    535\u001B[0m \u001B[38;5;28;01mtry\u001B[39;00m:\n\u001B[0;32m--> 536\u001B[0m     response \u001B[38;5;241m=\u001B[39m \u001B[43mconn\u001B[49m\u001B[38;5;241;43m.\u001B[39;49m\u001B[43mgetresponse\u001B[49m\u001B[43m(\u001B[49m\u001B[43m)\u001B[49m\n\u001B[1;32m    537\u001B[0m \u001B[38;5;28;01mexcept\u001B[39;00m (BaseSSLError, \u001B[38;5;167;01mOSError\u001B[39;00m) \u001B[38;5;28;01mas\u001B[39;00m e:\n",
      "File \u001B[0;32m~/OngoingProjects/Project4/DFMonitor/.venv/lib/python3.9/site-packages/urllib3/connection.py:461\u001B[0m, in \u001B[0;36mHTTPConnection.getresponse\u001B[0;34m(self)\u001B[0m\n\u001B[1;32m    460\u001B[0m \u001B[38;5;66;03m# Get the response from http.client.HTTPConnection\u001B[39;00m\n\u001B[0;32m--> 461\u001B[0m httplib_response \u001B[38;5;241m=\u001B[39m \u001B[38;5;28;43msuper\u001B[39;49m\u001B[43m(\u001B[49m\u001B[43m)\u001B[49m\u001B[38;5;241;43m.\u001B[39;49m\u001B[43mgetresponse\u001B[49m\u001B[43m(\u001B[49m\u001B[43m)\u001B[49m\n\u001B[1;32m    463\u001B[0m \u001B[38;5;28;01mtry\u001B[39;00m:\n",
      "File \u001B[0;32m/Library/Developer/CommandLineTools/Library/Frameworks/Python3.framework/Versions/3.9/lib/python3.9/http/client.py:1349\u001B[0m, in \u001B[0;36mHTTPConnection.getresponse\u001B[0;34m(self)\u001B[0m\n\u001B[1;32m   1348\u001B[0m \u001B[38;5;28;01mtry\u001B[39;00m:\n\u001B[0;32m-> 1349\u001B[0m     \u001B[43mresponse\u001B[49m\u001B[38;5;241;43m.\u001B[39;49m\u001B[43mbegin\u001B[49m\u001B[43m(\u001B[49m\u001B[43m)\u001B[49m\n\u001B[1;32m   1350\u001B[0m \u001B[38;5;28;01mexcept\u001B[39;00m \u001B[38;5;167;01mConnectionError\u001B[39;00m:\n",
      "File \u001B[0;32m/Library/Developer/CommandLineTools/Library/Frameworks/Python3.framework/Versions/3.9/lib/python3.9/http/client.py:316\u001B[0m, in \u001B[0;36mHTTPResponse.begin\u001B[0;34m(self)\u001B[0m\n\u001B[1;32m    315\u001B[0m \u001B[38;5;28;01mwhile\u001B[39;00m \u001B[38;5;28;01mTrue\u001B[39;00m:\n\u001B[0;32m--> 316\u001B[0m     version, status, reason \u001B[38;5;241m=\u001B[39m \u001B[38;5;28;43mself\u001B[39;49m\u001B[38;5;241;43m.\u001B[39;49m\u001B[43m_read_status\u001B[49m\u001B[43m(\u001B[49m\u001B[43m)\u001B[49m\n\u001B[1;32m    317\u001B[0m     \u001B[38;5;28;01mif\u001B[39;00m status \u001B[38;5;241m!=\u001B[39m CONTINUE:\n",
      "File \u001B[0;32m/Library/Developer/CommandLineTools/Library/Frameworks/Python3.framework/Versions/3.9/lib/python3.9/http/client.py:277\u001B[0m, in \u001B[0;36mHTTPResponse._read_status\u001B[0;34m(self)\u001B[0m\n\u001B[1;32m    276\u001B[0m \u001B[38;5;28;01mdef\u001B[39;00m \u001B[38;5;21m_read_status\u001B[39m(\u001B[38;5;28mself\u001B[39m):\n\u001B[0;32m--> 277\u001B[0m     line \u001B[38;5;241m=\u001B[39m \u001B[38;5;28mstr\u001B[39m(\u001B[38;5;28;43mself\u001B[39;49m\u001B[38;5;241;43m.\u001B[39;49m\u001B[43mfp\u001B[49m\u001B[38;5;241;43m.\u001B[39;49m\u001B[43mreadline\u001B[49m\u001B[43m(\u001B[49m\u001B[43m_MAXLINE\u001B[49m\u001B[43m \u001B[49m\u001B[38;5;241;43m+\u001B[39;49m\u001B[43m \u001B[49m\u001B[38;5;241;43m1\u001B[39;49m\u001B[43m)\u001B[49m, \u001B[38;5;124m\"\u001B[39m\u001B[38;5;124miso-8859-1\u001B[39m\u001B[38;5;124m\"\u001B[39m)\n\u001B[1;32m    278\u001B[0m     \u001B[38;5;28;01mif\u001B[39;00m \u001B[38;5;28mlen\u001B[39m(line) \u001B[38;5;241m>\u001B[39m _MAXLINE:\n",
      "File \u001B[0;32m/Library/Developer/CommandLineTools/Library/Frameworks/Python3.framework/Versions/3.9/lib/python3.9/socket.py:704\u001B[0m, in \u001B[0;36mSocketIO.readinto\u001B[0;34m(self, b)\u001B[0m\n\u001B[1;32m    703\u001B[0m \u001B[38;5;28;01mtry\u001B[39;00m:\n\u001B[0;32m--> 704\u001B[0m     \u001B[38;5;28;01mreturn\u001B[39;00m \u001B[38;5;28;43mself\u001B[39;49m\u001B[38;5;241;43m.\u001B[39;49m\u001B[43m_sock\u001B[49m\u001B[38;5;241;43m.\u001B[39;49m\u001B[43mrecv_into\u001B[49m\u001B[43m(\u001B[49m\u001B[43mb\u001B[49m\u001B[43m)\u001B[49m\n\u001B[1;32m    705\u001B[0m \u001B[38;5;28;01mexcept\u001B[39;00m timeout:\n",
      "File \u001B[0;32m/Library/Developer/CommandLineTools/Library/Frameworks/Python3.framework/Versions/3.9/lib/python3.9/ssl.py:1241\u001B[0m, in \u001B[0;36mSSLSocket.recv_into\u001B[0;34m(self, buffer, nbytes, flags)\u001B[0m\n\u001B[1;32m   1238\u001B[0m         \u001B[38;5;28;01mraise\u001B[39;00m \u001B[38;5;167;01mValueError\u001B[39;00m(\n\u001B[1;32m   1239\u001B[0m           \u001B[38;5;124m\"\u001B[39m\u001B[38;5;124mnon-zero flags not allowed in calls to recv_into() on \u001B[39m\u001B[38;5;132;01m%s\u001B[39;00m\u001B[38;5;124m\"\u001B[39m \u001B[38;5;241m%\u001B[39m\n\u001B[1;32m   1240\u001B[0m           \u001B[38;5;28mself\u001B[39m\u001B[38;5;241m.\u001B[39m\u001B[38;5;18m__class__\u001B[39m)\n\u001B[0;32m-> 1241\u001B[0m     \u001B[38;5;28;01mreturn\u001B[39;00m \u001B[38;5;28;43mself\u001B[39;49m\u001B[38;5;241;43m.\u001B[39;49m\u001B[43mread\u001B[49m\u001B[43m(\u001B[49m\u001B[43mnbytes\u001B[49m\u001B[43m,\u001B[49m\u001B[43m \u001B[49m\u001B[43mbuffer\u001B[49m\u001B[43m)\u001B[49m\n\u001B[1;32m   1242\u001B[0m \u001B[38;5;28;01melse\u001B[39;00m:\n",
      "File \u001B[0;32m/Library/Developer/CommandLineTools/Library/Frameworks/Python3.framework/Versions/3.9/lib/python3.9/ssl.py:1099\u001B[0m, in \u001B[0;36mSSLSocket.read\u001B[0;34m(self, len, buffer)\u001B[0m\n\u001B[1;32m   1098\u001B[0m \u001B[38;5;28;01mif\u001B[39;00m buffer \u001B[38;5;129;01mis\u001B[39;00m \u001B[38;5;129;01mnot\u001B[39;00m \u001B[38;5;28;01mNone\u001B[39;00m:\n\u001B[0;32m-> 1099\u001B[0m     \u001B[38;5;28;01mreturn\u001B[39;00m \u001B[38;5;28;43mself\u001B[39;49m\u001B[38;5;241;43m.\u001B[39;49m\u001B[43m_sslobj\u001B[49m\u001B[38;5;241;43m.\u001B[39;49m\u001B[43mread\u001B[49m\u001B[43m(\u001B[49m\u001B[38;5;28;43mlen\u001B[39;49m\u001B[43m,\u001B[49m\u001B[43m \u001B[49m\u001B[43mbuffer\u001B[49m\u001B[43m)\u001B[49m\n\u001B[1;32m   1100\u001B[0m \u001B[38;5;28;01melse\u001B[39;00m:\n",
      "\u001B[0;31mtimeout\u001B[0m: The read operation timed out",
      "\nThe above exception was the direct cause of the following exception:\n",
      "\u001B[0;31mReadTimeoutError\u001B[0m                          Traceback (most recent call last)",
      "File \u001B[0;32m~/OngoingProjects/Project4/DFMonitor/.venv/lib/python3.9/site-packages/requests/adapters.py:486\u001B[0m, in \u001B[0;36mHTTPAdapter.send\u001B[0;34m(self, request, stream, timeout, verify, cert, proxies)\u001B[0m\n\u001B[1;32m    485\u001B[0m \u001B[38;5;28;01mtry\u001B[39;00m:\n\u001B[0;32m--> 486\u001B[0m     resp \u001B[38;5;241m=\u001B[39m \u001B[43mconn\u001B[49m\u001B[38;5;241;43m.\u001B[39;49m\u001B[43murlopen\u001B[49m\u001B[43m(\u001B[49m\n\u001B[1;32m    487\u001B[0m \u001B[43m        \u001B[49m\u001B[43mmethod\u001B[49m\u001B[38;5;241;43m=\u001B[39;49m\u001B[43mrequest\u001B[49m\u001B[38;5;241;43m.\u001B[39;49m\u001B[43mmethod\u001B[49m\u001B[43m,\u001B[49m\n\u001B[1;32m    488\u001B[0m \u001B[43m        \u001B[49m\u001B[43murl\u001B[49m\u001B[38;5;241;43m=\u001B[39;49m\u001B[43murl\u001B[49m\u001B[43m,\u001B[49m\n\u001B[1;32m    489\u001B[0m \u001B[43m        \u001B[49m\u001B[43mbody\u001B[49m\u001B[38;5;241;43m=\u001B[39;49m\u001B[43mrequest\u001B[49m\u001B[38;5;241;43m.\u001B[39;49m\u001B[43mbody\u001B[49m\u001B[43m,\u001B[49m\n\u001B[1;32m    490\u001B[0m \u001B[43m        \u001B[49m\u001B[43mheaders\u001B[49m\u001B[38;5;241;43m=\u001B[39;49m\u001B[43mrequest\u001B[49m\u001B[38;5;241;43m.\u001B[39;49m\u001B[43mheaders\u001B[49m\u001B[43m,\u001B[49m\n\u001B[1;32m    491\u001B[0m \u001B[43m        \u001B[49m\u001B[43mredirect\u001B[49m\u001B[38;5;241;43m=\u001B[39;49m\u001B[38;5;28;43;01mFalse\u001B[39;49;00m\u001B[43m,\u001B[49m\n\u001B[1;32m    492\u001B[0m \u001B[43m        \u001B[49m\u001B[43massert_same_host\u001B[49m\u001B[38;5;241;43m=\u001B[39;49m\u001B[38;5;28;43;01mFalse\u001B[39;49;00m\u001B[43m,\u001B[49m\n\u001B[1;32m    493\u001B[0m \u001B[43m        \u001B[49m\u001B[43mpreload_content\u001B[49m\u001B[38;5;241;43m=\u001B[39;49m\u001B[38;5;28;43;01mFalse\u001B[39;49;00m\u001B[43m,\u001B[49m\n\u001B[1;32m    494\u001B[0m \u001B[43m        \u001B[49m\u001B[43mdecode_content\u001B[49m\u001B[38;5;241;43m=\u001B[39;49m\u001B[38;5;28;43;01mFalse\u001B[39;49;00m\u001B[43m,\u001B[49m\n\u001B[1;32m    495\u001B[0m \u001B[43m        \u001B[49m\u001B[43mretries\u001B[49m\u001B[38;5;241;43m=\u001B[39;49m\u001B[38;5;28;43mself\u001B[39;49m\u001B[38;5;241;43m.\u001B[39;49m\u001B[43mmax_retries\u001B[49m\u001B[43m,\u001B[49m\n\u001B[1;32m    496\u001B[0m \u001B[43m        \u001B[49m\u001B[43mtimeout\u001B[49m\u001B[38;5;241;43m=\u001B[39;49m\u001B[43mtimeout\u001B[49m\u001B[43m,\u001B[49m\n\u001B[1;32m    497\u001B[0m \u001B[43m        \u001B[49m\u001B[43mchunked\u001B[49m\u001B[38;5;241;43m=\u001B[39;49m\u001B[43mchunked\u001B[49m\u001B[43m,\u001B[49m\n\u001B[1;32m    498\u001B[0m \u001B[43m    \u001B[49m\u001B[43m)\u001B[49m\n\u001B[1;32m    500\u001B[0m \u001B[38;5;28;01mexcept\u001B[39;00m (ProtocolError, \u001B[38;5;167;01mOSError\u001B[39;00m) \u001B[38;5;28;01mas\u001B[39;00m err:\n",
      "File \u001B[0;32m~/OngoingProjects/Project4/DFMonitor/.venv/lib/python3.9/site-packages/urllib3/connectionpool.py:844\u001B[0m, in \u001B[0;36mHTTPConnectionPool.urlopen\u001B[0;34m(self, method, url, body, headers, retries, redirect, assert_same_host, timeout, pool_timeout, release_conn, chunked, body_pos, preload_content, decode_content, **response_kw)\u001B[0m\n\u001B[1;32m    842\u001B[0m     new_e \u001B[38;5;241m=\u001B[39m ProtocolError(\u001B[38;5;124m\"\u001B[39m\u001B[38;5;124mConnection aborted.\u001B[39m\u001B[38;5;124m\"\u001B[39m, new_e)\n\u001B[0;32m--> 844\u001B[0m retries \u001B[38;5;241m=\u001B[39m \u001B[43mretries\u001B[49m\u001B[38;5;241;43m.\u001B[39;49m\u001B[43mincrement\u001B[49m\u001B[43m(\u001B[49m\n\u001B[1;32m    845\u001B[0m \u001B[43m    \u001B[49m\u001B[43mmethod\u001B[49m\u001B[43m,\u001B[49m\u001B[43m \u001B[49m\u001B[43murl\u001B[49m\u001B[43m,\u001B[49m\u001B[43m \u001B[49m\u001B[43merror\u001B[49m\u001B[38;5;241;43m=\u001B[39;49m\u001B[43mnew_e\u001B[49m\u001B[43m,\u001B[49m\u001B[43m \u001B[49m\u001B[43m_pool\u001B[49m\u001B[38;5;241;43m=\u001B[39;49m\u001B[38;5;28;43mself\u001B[39;49m\u001B[43m,\u001B[49m\u001B[43m \u001B[49m\u001B[43m_stacktrace\u001B[49m\u001B[38;5;241;43m=\u001B[39;49m\u001B[43msys\u001B[49m\u001B[38;5;241;43m.\u001B[39;49m\u001B[43mexc_info\u001B[49m\u001B[43m(\u001B[49m\u001B[43m)\u001B[49m\u001B[43m[\u001B[49m\u001B[38;5;241;43m2\u001B[39;49m\u001B[43m]\u001B[49m\n\u001B[1;32m    846\u001B[0m \u001B[43m\u001B[49m\u001B[43m)\u001B[49m\n\u001B[1;32m    847\u001B[0m retries\u001B[38;5;241m.\u001B[39msleep()\n",
      "File \u001B[0;32m~/OngoingProjects/Project4/DFMonitor/.venv/lib/python3.9/site-packages/urllib3/util/retry.py:470\u001B[0m, in \u001B[0;36mRetry.increment\u001B[0;34m(self, method, url, response, error, _pool, _stacktrace)\u001B[0m\n\u001B[1;32m    469\u001B[0m \u001B[38;5;28;01mif\u001B[39;00m read \u001B[38;5;129;01mis\u001B[39;00m \u001B[38;5;28;01mFalse\u001B[39;00m \u001B[38;5;129;01mor\u001B[39;00m method \u001B[38;5;129;01mis\u001B[39;00m \u001B[38;5;28;01mNone\u001B[39;00m \u001B[38;5;129;01mor\u001B[39;00m \u001B[38;5;129;01mnot\u001B[39;00m \u001B[38;5;28mself\u001B[39m\u001B[38;5;241m.\u001B[39m_is_method_retryable(method):\n\u001B[0;32m--> 470\u001B[0m     \u001B[38;5;28;01mraise\u001B[39;00m \u001B[43mreraise\u001B[49m\u001B[43m(\u001B[49m\u001B[38;5;28;43mtype\u001B[39;49m\u001B[43m(\u001B[49m\u001B[43merror\u001B[49m\u001B[43m)\u001B[49m\u001B[43m,\u001B[49m\u001B[43m \u001B[49m\u001B[43merror\u001B[49m\u001B[43m,\u001B[49m\u001B[43m \u001B[49m\u001B[43m_stacktrace\u001B[49m\u001B[43m)\u001B[49m\n\u001B[1;32m    471\u001B[0m \u001B[38;5;28;01melif\u001B[39;00m read \u001B[38;5;129;01mis\u001B[39;00m \u001B[38;5;129;01mnot\u001B[39;00m \u001B[38;5;28;01mNone\u001B[39;00m:\n",
      "File \u001B[0;32m~/OngoingProjects/Project4/DFMonitor/.venv/lib/python3.9/site-packages/urllib3/util/util.py:39\u001B[0m, in \u001B[0;36mreraise\u001B[0;34m(tp, value, tb)\u001B[0m\n\u001B[1;32m     38\u001B[0m         \u001B[38;5;28;01mraise\u001B[39;00m value\u001B[38;5;241m.\u001B[39mwith_traceback(tb)\n\u001B[0;32m---> 39\u001B[0m     \u001B[38;5;28;01mraise\u001B[39;00m value\n\u001B[1;32m     40\u001B[0m \u001B[38;5;28;01mfinally\u001B[39;00m:\n",
      "File \u001B[0;32m~/OngoingProjects/Project4/DFMonitor/.venv/lib/python3.9/site-packages/urllib3/connectionpool.py:790\u001B[0m, in \u001B[0;36mHTTPConnectionPool.urlopen\u001B[0;34m(self, method, url, body, headers, retries, redirect, assert_same_host, timeout, pool_timeout, release_conn, chunked, body_pos, preload_content, decode_content, **response_kw)\u001B[0m\n\u001B[1;32m    789\u001B[0m \u001B[38;5;66;03m# Make the request on the HTTPConnection object\u001B[39;00m\n\u001B[0;32m--> 790\u001B[0m response \u001B[38;5;241m=\u001B[39m \u001B[38;5;28;43mself\u001B[39;49m\u001B[38;5;241;43m.\u001B[39;49m\u001B[43m_make_request\u001B[49m\u001B[43m(\u001B[49m\n\u001B[1;32m    791\u001B[0m \u001B[43m    \u001B[49m\u001B[43mconn\u001B[49m\u001B[43m,\u001B[49m\n\u001B[1;32m    792\u001B[0m \u001B[43m    \u001B[49m\u001B[43mmethod\u001B[49m\u001B[43m,\u001B[49m\n\u001B[1;32m    793\u001B[0m \u001B[43m    \u001B[49m\u001B[43murl\u001B[49m\u001B[43m,\u001B[49m\n\u001B[1;32m    794\u001B[0m \u001B[43m    \u001B[49m\u001B[43mtimeout\u001B[49m\u001B[38;5;241;43m=\u001B[39;49m\u001B[43mtimeout_obj\u001B[49m\u001B[43m,\u001B[49m\n\u001B[1;32m    795\u001B[0m \u001B[43m    \u001B[49m\u001B[43mbody\u001B[49m\u001B[38;5;241;43m=\u001B[39;49m\u001B[43mbody\u001B[49m\u001B[43m,\u001B[49m\n\u001B[1;32m    796\u001B[0m \u001B[43m    \u001B[49m\u001B[43mheaders\u001B[49m\u001B[38;5;241;43m=\u001B[39;49m\u001B[43mheaders\u001B[49m\u001B[43m,\u001B[49m\n\u001B[1;32m    797\u001B[0m \u001B[43m    \u001B[49m\u001B[43mchunked\u001B[49m\u001B[38;5;241;43m=\u001B[39;49m\u001B[43mchunked\u001B[49m\u001B[43m,\u001B[49m\n\u001B[1;32m    798\u001B[0m \u001B[43m    \u001B[49m\u001B[43mretries\u001B[49m\u001B[38;5;241;43m=\u001B[39;49m\u001B[43mretries\u001B[49m\u001B[43m,\u001B[49m\n\u001B[1;32m    799\u001B[0m \u001B[43m    \u001B[49m\u001B[43mresponse_conn\u001B[49m\u001B[38;5;241;43m=\u001B[39;49m\u001B[43mresponse_conn\u001B[49m\u001B[43m,\u001B[49m\n\u001B[1;32m    800\u001B[0m \u001B[43m    \u001B[49m\u001B[43mpreload_content\u001B[49m\u001B[38;5;241;43m=\u001B[39;49m\u001B[43mpreload_content\u001B[49m\u001B[43m,\u001B[49m\n\u001B[1;32m    801\u001B[0m \u001B[43m    \u001B[49m\u001B[43mdecode_content\u001B[49m\u001B[38;5;241;43m=\u001B[39;49m\u001B[43mdecode_content\u001B[49m\u001B[43m,\u001B[49m\n\u001B[1;32m    802\u001B[0m \u001B[43m    \u001B[49m\u001B[38;5;241;43m*\u001B[39;49m\u001B[38;5;241;43m*\u001B[39;49m\u001B[43mresponse_kw\u001B[49m\u001B[43m,\u001B[49m\n\u001B[1;32m    803\u001B[0m \u001B[43m\u001B[49m\u001B[43m)\u001B[49m\n\u001B[1;32m    805\u001B[0m \u001B[38;5;66;03m# Everything went great!\u001B[39;00m\n",
      "File \u001B[0;32m~/OngoingProjects/Project4/DFMonitor/.venv/lib/python3.9/site-packages/urllib3/connectionpool.py:538\u001B[0m, in \u001B[0;36mHTTPConnectionPool._make_request\u001B[0;34m(self, conn, method, url, body, headers, retries, timeout, chunked, response_conn, preload_content, decode_content, enforce_content_length)\u001B[0m\n\u001B[1;32m    537\u001B[0m \u001B[38;5;28;01mexcept\u001B[39;00m (BaseSSLError, \u001B[38;5;167;01mOSError\u001B[39;00m) \u001B[38;5;28;01mas\u001B[39;00m e:\n\u001B[0;32m--> 538\u001B[0m     \u001B[38;5;28;43mself\u001B[39;49m\u001B[38;5;241;43m.\u001B[39;49m\u001B[43m_raise_timeout\u001B[49m\u001B[43m(\u001B[49m\u001B[43merr\u001B[49m\u001B[38;5;241;43m=\u001B[39;49m\u001B[43me\u001B[49m\u001B[43m,\u001B[49m\u001B[43m \u001B[49m\u001B[43murl\u001B[49m\u001B[38;5;241;43m=\u001B[39;49m\u001B[43murl\u001B[49m\u001B[43m,\u001B[49m\u001B[43m \u001B[49m\u001B[43mtimeout_value\u001B[49m\u001B[38;5;241;43m=\u001B[39;49m\u001B[43mread_timeout\u001B[49m\u001B[43m)\u001B[49m\n\u001B[1;32m    539\u001B[0m     \u001B[38;5;28;01mraise\u001B[39;00m\n",
      "File \u001B[0;32m~/OngoingProjects/Project4/DFMonitor/.venv/lib/python3.9/site-packages/urllib3/connectionpool.py:370\u001B[0m, in \u001B[0;36mHTTPConnectionPool._raise_timeout\u001B[0;34m(self, err, url, timeout_value)\u001B[0m\n\u001B[1;32m    369\u001B[0m \u001B[38;5;28;01mif\u001B[39;00m \u001B[38;5;28misinstance\u001B[39m(err, SocketTimeout):\n\u001B[0;32m--> 370\u001B[0m     \u001B[38;5;28;01mraise\u001B[39;00m ReadTimeoutError(\n\u001B[1;32m    371\u001B[0m         \u001B[38;5;28mself\u001B[39m, url, \u001B[38;5;124mf\u001B[39m\u001B[38;5;124m\"\u001B[39m\u001B[38;5;124mRead timed out. (read timeout=\u001B[39m\u001B[38;5;132;01m{\u001B[39;00mtimeout_value\u001B[38;5;132;01m}\u001B[39;00m\u001B[38;5;124m)\u001B[39m\u001B[38;5;124m\"\u001B[39m\n\u001B[1;32m    372\u001B[0m     ) \u001B[38;5;28;01mfrom\u001B[39;00m \u001B[38;5;21;01merr\u001B[39;00m\n\u001B[1;32m    374\u001B[0m \u001B[38;5;66;03m# See the above comment about EAGAIN in Python 3.\u001B[39;00m\n",
      "\u001B[0;31mReadTimeoutError\u001B[0m: HTTPSConnectionPool(host='api.genderize.io', port=443): Read timed out. (read timeout=30.0)",
      "\nDuring handling of the above exception, another exception occurred:\n",
      "\u001B[0;31mReadTimeout\u001B[0m                               Traceback (most recent call last)",
      "Cell \u001B[0;32mIn[7], line 12\u001B[0m\n\u001B[1;32m      8\u001B[0m genderize \u001B[38;5;241m=\u001B[39m Genderize(api_key\u001B[38;5;241m=\u001B[39mapi_key)\n\u001B[1;32m     10\u001B[0m \u001B[38;5;66;03m# Use list comprehension to query Genderize for each name and get the gender\u001B[39;00m\n\u001B[1;32m     11\u001B[0m \u001B[38;5;66;03m# It's efficient to send names in batches if you have a lot\u001B[39;00m\n\u001B[0;32m---> 12\u001B[0m genders \u001B[38;5;241m=\u001B[39m [genderize\u001B[38;5;241m.\u001B[39mget([na])[\u001B[38;5;241m0\u001B[39m][\u001B[38;5;124m'\u001B[39m\u001B[38;5;124mgender\u001B[39m\u001B[38;5;124m'\u001B[39m] \u001B[38;5;28;01mfor\u001B[39;00m na \u001B[38;5;129;01min\u001B[39;00m sub[\u001B[38;5;124m'\u001B[39m\u001B[38;5;124mname\u001B[39m\u001B[38;5;124m'\u001B[39m]]\n\u001B[1;32m     14\u001B[0m \u001B[38;5;66;03m# Add the genders as a new column to the dataframe\u001B[39;00m\n\u001B[1;32m     15\u001B[0m sub[\u001B[38;5;124m'\u001B[39m\u001B[38;5;124mpredicted_gender\u001B[39m\u001B[38;5;124m'\u001B[39m] \u001B[38;5;241m=\u001B[39m genders\n",
      "Cell \u001B[0;32mIn[7], line 12\u001B[0m, in \u001B[0;36m<listcomp>\u001B[0;34m(.0)\u001B[0m\n\u001B[1;32m      8\u001B[0m genderize \u001B[38;5;241m=\u001B[39m Genderize(api_key\u001B[38;5;241m=\u001B[39mapi_key)\n\u001B[1;32m     10\u001B[0m \u001B[38;5;66;03m# Use list comprehension to query Genderize for each name and get the gender\u001B[39;00m\n\u001B[1;32m     11\u001B[0m \u001B[38;5;66;03m# It's efficient to send names in batches if you have a lot\u001B[39;00m\n\u001B[0;32m---> 12\u001B[0m genders \u001B[38;5;241m=\u001B[39m [\u001B[43mgenderize\u001B[49m\u001B[38;5;241;43m.\u001B[39;49m\u001B[43mget\u001B[49m\u001B[43m(\u001B[49m\u001B[43m[\u001B[49m\u001B[43mna\u001B[49m\u001B[43m]\u001B[49m\u001B[43m)\u001B[49m[\u001B[38;5;241m0\u001B[39m][\u001B[38;5;124m'\u001B[39m\u001B[38;5;124mgender\u001B[39m\u001B[38;5;124m'\u001B[39m] \u001B[38;5;28;01mfor\u001B[39;00m na \u001B[38;5;129;01min\u001B[39;00m sub[\u001B[38;5;124m'\u001B[39m\u001B[38;5;124mname\u001B[39m\u001B[38;5;124m'\u001B[39m]]\n\u001B[1;32m     14\u001B[0m \u001B[38;5;66;03m# Add the genders as a new column to the dataframe\u001B[39;00m\n\u001B[1;32m     15\u001B[0m sub[\u001B[38;5;124m'\u001B[39m\u001B[38;5;124mpredicted_gender\u001B[39m\u001B[38;5;124m'\u001B[39m] \u001B[38;5;241m=\u001B[39m genders\n",
      "File \u001B[0;32m~/OngoingProjects/Project4/DFMonitor/.venv/lib/python3.9/site-packages/genderize/__init__.py:96\u001B[0m, in \u001B[0;36mGenderize.get\u001B[0;34m(self, names, country_id, language_id, retheader)\u001B[0m\n\u001B[1;32m     66\u001B[0m \u001B[38;5;28;01mdef\u001B[39;00m \u001B[38;5;21mget\u001B[39m(\u001B[38;5;28mself\u001B[39m, names, country_id\u001B[38;5;241m=\u001B[39m\u001B[38;5;28;01mNone\u001B[39;00m, language_id\u001B[38;5;241m=\u001B[39m\u001B[38;5;28;01mNone\u001B[39;00m, retheader\u001B[38;5;241m=\u001B[39m\u001B[38;5;28;01mFalse\u001B[39;00m):\n\u001B[1;32m     67\u001B[0m \u001B[38;5;250m    \u001B[39m\u001B[38;5;124;03m\"\"\"\u001B[39;00m\n\u001B[1;32m     68\u001B[0m \u001B[38;5;124;03m    Look up gender for a list of names.\u001B[39;00m\n\u001B[1;32m     69\u001B[0m \u001B[38;5;124;03m    Can optionally refine search with locale info.\u001B[39;00m\n\u001B[0;32m   (...)\u001B[0m\n\u001B[1;32m     94\u001B[0m \u001B[38;5;124;03m    :raises GenderizeException: if API server returns HTTP error code.\u001B[39;00m\n\u001B[1;32m     95\u001B[0m \u001B[38;5;124;03m    \"\"\"\u001B[39;00m\n\u001B[0;32m---> 96\u001B[0m     responses \u001B[38;5;241m=\u001B[39m [\n\u001B[1;32m     97\u001B[0m         \u001B[38;5;28mself\u001B[39m\u001B[38;5;241m.\u001B[39m_get_chunk(name_chunk, country_id, language_id)\n\u001B[1;32m     98\u001B[0m         \u001B[38;5;28;01mfor\u001B[39;00m name_chunk\n\u001B[1;32m     99\u001B[0m         \u001B[38;5;129;01min\u001B[39;00m _chunked(names, Genderize\u001B[38;5;241m.\u001B[39mBATCH_SIZE)\n\u001B[1;32m    100\u001B[0m     ]\n\u001B[1;32m    101\u001B[0m     data \u001B[38;5;241m=\u001B[39m \u001B[38;5;28mlist\u001B[39m(chain\u001B[38;5;241m.\u001B[39mfrom_iterable(\n\u001B[1;32m    102\u001B[0m         response\u001B[38;5;241m.\u001B[39mdata \u001B[38;5;28;01mfor\u001B[39;00m response \u001B[38;5;129;01min\u001B[39;00m responses\n\u001B[1;32m    103\u001B[0m     ))\n\u001B[1;32m    104\u001B[0m     \u001B[38;5;28;01mif\u001B[39;00m retheader:\n",
      "File \u001B[0;32m~/OngoingProjects/Project4/DFMonitor/.venv/lib/python3.9/site-packages/genderize/__init__.py:97\u001B[0m, in \u001B[0;36m<listcomp>\u001B[0;34m(.0)\u001B[0m\n\u001B[1;32m     66\u001B[0m \u001B[38;5;28;01mdef\u001B[39;00m \u001B[38;5;21mget\u001B[39m(\u001B[38;5;28mself\u001B[39m, names, country_id\u001B[38;5;241m=\u001B[39m\u001B[38;5;28;01mNone\u001B[39;00m, language_id\u001B[38;5;241m=\u001B[39m\u001B[38;5;28;01mNone\u001B[39;00m, retheader\u001B[38;5;241m=\u001B[39m\u001B[38;5;28;01mFalse\u001B[39;00m):\n\u001B[1;32m     67\u001B[0m \u001B[38;5;250m    \u001B[39m\u001B[38;5;124;03m\"\"\"\u001B[39;00m\n\u001B[1;32m     68\u001B[0m \u001B[38;5;124;03m    Look up gender for a list of names.\u001B[39;00m\n\u001B[1;32m     69\u001B[0m \u001B[38;5;124;03m    Can optionally refine search with locale info.\u001B[39;00m\n\u001B[0;32m   (...)\u001B[0m\n\u001B[1;32m     94\u001B[0m \u001B[38;5;124;03m    :raises GenderizeException: if API server returns HTTP error code.\u001B[39;00m\n\u001B[1;32m     95\u001B[0m \u001B[38;5;124;03m    \"\"\"\u001B[39;00m\n\u001B[1;32m     96\u001B[0m     responses \u001B[38;5;241m=\u001B[39m [\n\u001B[0;32m---> 97\u001B[0m         \u001B[38;5;28;43mself\u001B[39;49m\u001B[38;5;241;43m.\u001B[39;49m\u001B[43m_get_chunk\u001B[49m\u001B[43m(\u001B[49m\u001B[43mname_chunk\u001B[49m\u001B[43m,\u001B[49m\u001B[43m \u001B[49m\u001B[43mcountry_id\u001B[49m\u001B[43m,\u001B[49m\u001B[43m \u001B[49m\u001B[43mlanguage_id\u001B[49m\u001B[43m)\u001B[49m\n\u001B[1;32m     98\u001B[0m         \u001B[38;5;28;01mfor\u001B[39;00m name_chunk\n\u001B[1;32m     99\u001B[0m         \u001B[38;5;129;01min\u001B[39;00m _chunked(names, Genderize\u001B[38;5;241m.\u001B[39mBATCH_SIZE)\n\u001B[1;32m    100\u001B[0m     ]\n\u001B[1;32m    101\u001B[0m     data \u001B[38;5;241m=\u001B[39m \u001B[38;5;28mlist\u001B[39m(chain\u001B[38;5;241m.\u001B[39mfrom_iterable(\n\u001B[1;32m    102\u001B[0m         response\u001B[38;5;241m.\u001B[39mdata \u001B[38;5;28;01mfor\u001B[39;00m response \u001B[38;5;129;01min\u001B[39;00m responses\n\u001B[1;32m    103\u001B[0m     ))\n\u001B[1;32m    104\u001B[0m     \u001B[38;5;28;01mif\u001B[39;00m retheader:\n",
      "File \u001B[0;32m~/OngoingProjects/Project4/DFMonitor/.venv/lib/python3.9/site-packages/genderize/__init__.py:128\u001B[0m, in \u001B[0;36mGenderize._get_chunk\u001B[0;34m(self, name_chunk, country_id, language_id)\u001B[0m\n\u001B[1;32m    125\u001B[0m \u001B[38;5;28;01mif\u001B[39;00m language_id:\n\u001B[1;32m    126\u001B[0m     params\u001B[38;5;241m.\u001B[39mappend((\u001B[38;5;124m'\u001B[39m\u001B[38;5;124mlanguage_id\u001B[39m\u001B[38;5;124m'\u001B[39m, language_id))\n\u001B[0;32m--> 128\u001B[0m response \u001B[38;5;241m=\u001B[39m \u001B[38;5;28;43mself\u001B[39;49m\u001B[38;5;241;43m.\u001B[39;49m\u001B[43msession\u001B[49m\u001B[38;5;241;43m.\u001B[39;49m\u001B[43mget\u001B[49m\u001B[43m(\u001B[49m\n\u001B[1;32m    129\u001B[0m \u001B[43m    \u001B[49m\u001B[38;5;124;43m'\u001B[39;49m\u001B[38;5;124;43mhttps://api.genderize.io/\u001B[39;49m\u001B[38;5;124;43m'\u001B[39;49m\u001B[43m,\u001B[49m\n\u001B[1;32m    130\u001B[0m \u001B[43m    \u001B[49m\u001B[43mparams\u001B[49m\u001B[38;5;241;43m=\u001B[39;49m\u001B[43mparams\u001B[49m\u001B[43m,\u001B[49m\n\u001B[1;32m    131\u001B[0m \u001B[43m    \u001B[49m\u001B[43mtimeout\u001B[49m\u001B[38;5;241;43m=\u001B[39;49m\u001B[38;5;28;43mself\u001B[39;49m\u001B[38;5;241;43m.\u001B[39;49m\u001B[43mtimeout\u001B[49m\u001B[43m)\u001B[49m\n\u001B[1;32m    133\u001B[0m \u001B[38;5;28;01mif\u001B[39;00m \u001B[38;5;124m'\u001B[39m\u001B[38;5;124mapplication/json\u001B[39m\u001B[38;5;124m'\u001B[39m \u001B[38;5;129;01mnot\u001B[39;00m \u001B[38;5;129;01min\u001B[39;00m response\u001B[38;5;241m.\u001B[39mheaders\u001B[38;5;241m.\u001B[39mget(\u001B[38;5;124m'\u001B[39m\u001B[38;5;124mcontent-type\u001B[39m\u001B[38;5;124m'\u001B[39m, \u001B[38;5;124m'\u001B[39m\u001B[38;5;124m'\u001B[39m):\n\u001B[1;32m    134\u001B[0m     status \u001B[38;5;241m=\u001B[39m \u001B[38;5;124m\"\u001B[39m\u001B[38;5;124mserver responded with \u001B[39m\u001B[38;5;132;01m{http_code}\u001B[39;00m\u001B[38;5;124m: \u001B[39m\u001B[38;5;132;01m{reason}\u001B[39;00m\u001B[38;5;124m\"\u001B[39m\u001B[38;5;241m.\u001B[39mformat(\n\u001B[1;32m    135\u001B[0m         http_code\u001B[38;5;241m=\u001B[39mresponse\u001B[38;5;241m.\u001B[39mstatus_code, reason\u001B[38;5;241m=\u001B[39mresponse\u001B[38;5;241m.\u001B[39mreason)\n",
      "File \u001B[0;32m~/OngoingProjects/Project4/DFMonitor/.venv/lib/python3.9/site-packages/requests/sessions.py:602\u001B[0m, in \u001B[0;36mSession.get\u001B[0;34m(self, url, **kwargs)\u001B[0m\n\u001B[1;32m    594\u001B[0m \u001B[38;5;250m\u001B[39m\u001B[38;5;124mr\u001B[39m\u001B[38;5;124;03m\"\"\"Sends a GET request. Returns :class:`Response` object.\u001B[39;00m\n\u001B[1;32m    595\u001B[0m \n\u001B[1;32m    596\u001B[0m \u001B[38;5;124;03m:param url: URL for the new :class:`Request` object.\u001B[39;00m\n\u001B[1;32m    597\u001B[0m \u001B[38;5;124;03m:param \\*\\*kwargs: Optional arguments that ``request`` takes.\u001B[39;00m\n\u001B[1;32m    598\u001B[0m \u001B[38;5;124;03m:rtype: requests.Response\u001B[39;00m\n\u001B[1;32m    599\u001B[0m \u001B[38;5;124;03m\"\"\"\u001B[39;00m\n\u001B[1;32m    601\u001B[0m kwargs\u001B[38;5;241m.\u001B[39msetdefault(\u001B[38;5;124m\"\u001B[39m\u001B[38;5;124mallow_redirects\u001B[39m\u001B[38;5;124m\"\u001B[39m, \u001B[38;5;28;01mTrue\u001B[39;00m)\n\u001B[0;32m--> 602\u001B[0m \u001B[38;5;28;01mreturn\u001B[39;00m \u001B[38;5;28;43mself\u001B[39;49m\u001B[38;5;241;43m.\u001B[39;49m\u001B[43mrequest\u001B[49m\u001B[43m(\u001B[49m\u001B[38;5;124;43m\"\u001B[39;49m\u001B[38;5;124;43mGET\u001B[39;49m\u001B[38;5;124;43m\"\u001B[39;49m\u001B[43m,\u001B[49m\u001B[43m \u001B[49m\u001B[43murl\u001B[49m\u001B[43m,\u001B[49m\u001B[43m \u001B[49m\u001B[38;5;241;43m*\u001B[39;49m\u001B[38;5;241;43m*\u001B[39;49m\u001B[43mkwargs\u001B[49m\u001B[43m)\u001B[49m\n",
      "File \u001B[0;32m~/OngoingProjects/Project4/DFMonitor/.venv/lib/python3.9/site-packages/requests/sessions.py:589\u001B[0m, in \u001B[0;36mSession.request\u001B[0;34m(self, method, url, params, data, headers, cookies, files, auth, timeout, allow_redirects, proxies, hooks, stream, verify, cert, json)\u001B[0m\n\u001B[1;32m    584\u001B[0m send_kwargs \u001B[38;5;241m=\u001B[39m {\n\u001B[1;32m    585\u001B[0m     \u001B[38;5;124m\"\u001B[39m\u001B[38;5;124mtimeout\u001B[39m\u001B[38;5;124m\"\u001B[39m: timeout,\n\u001B[1;32m    586\u001B[0m     \u001B[38;5;124m\"\u001B[39m\u001B[38;5;124mallow_redirects\u001B[39m\u001B[38;5;124m\"\u001B[39m: allow_redirects,\n\u001B[1;32m    587\u001B[0m }\n\u001B[1;32m    588\u001B[0m send_kwargs\u001B[38;5;241m.\u001B[39mupdate(settings)\n\u001B[0;32m--> 589\u001B[0m resp \u001B[38;5;241m=\u001B[39m \u001B[38;5;28;43mself\u001B[39;49m\u001B[38;5;241;43m.\u001B[39;49m\u001B[43msend\u001B[49m\u001B[43m(\u001B[49m\u001B[43mprep\u001B[49m\u001B[43m,\u001B[49m\u001B[43m \u001B[49m\u001B[38;5;241;43m*\u001B[39;49m\u001B[38;5;241;43m*\u001B[39;49m\u001B[43msend_kwargs\u001B[49m\u001B[43m)\u001B[49m\n\u001B[1;32m    591\u001B[0m \u001B[38;5;28;01mreturn\u001B[39;00m resp\n",
      "File \u001B[0;32m~/OngoingProjects/Project4/DFMonitor/.venv/lib/python3.9/site-packages/requests/sessions.py:703\u001B[0m, in \u001B[0;36mSession.send\u001B[0;34m(self, request, **kwargs)\u001B[0m\n\u001B[1;32m    700\u001B[0m start \u001B[38;5;241m=\u001B[39m preferred_clock()\n\u001B[1;32m    702\u001B[0m \u001B[38;5;66;03m# Send the request\u001B[39;00m\n\u001B[0;32m--> 703\u001B[0m r \u001B[38;5;241m=\u001B[39m \u001B[43madapter\u001B[49m\u001B[38;5;241;43m.\u001B[39;49m\u001B[43msend\u001B[49m\u001B[43m(\u001B[49m\u001B[43mrequest\u001B[49m\u001B[43m,\u001B[49m\u001B[43m \u001B[49m\u001B[38;5;241;43m*\u001B[39;49m\u001B[38;5;241;43m*\u001B[39;49m\u001B[43mkwargs\u001B[49m\u001B[43m)\u001B[49m\n\u001B[1;32m    705\u001B[0m \u001B[38;5;66;03m# Total elapsed time of the request (approximately)\u001B[39;00m\n\u001B[1;32m    706\u001B[0m elapsed \u001B[38;5;241m=\u001B[39m preferred_clock() \u001B[38;5;241m-\u001B[39m start\n",
      "File \u001B[0;32m~/OngoingProjects/Project4/DFMonitor/.venv/lib/python3.9/site-packages/requests/adapters.py:532\u001B[0m, in \u001B[0;36mHTTPAdapter.send\u001B[0;34m(self, request, stream, timeout, verify, cert, proxies)\u001B[0m\n\u001B[1;32m    530\u001B[0m     \u001B[38;5;28;01mraise\u001B[39;00m SSLError(e, request\u001B[38;5;241m=\u001B[39mrequest)\n\u001B[1;32m    531\u001B[0m \u001B[38;5;28;01melif\u001B[39;00m \u001B[38;5;28misinstance\u001B[39m(e, ReadTimeoutError):\n\u001B[0;32m--> 532\u001B[0m     \u001B[38;5;28;01mraise\u001B[39;00m ReadTimeout(e, request\u001B[38;5;241m=\u001B[39mrequest)\n\u001B[1;32m    533\u001B[0m \u001B[38;5;28;01melif\u001B[39;00m \u001B[38;5;28misinstance\u001B[39m(e, _InvalidHeader):\n\u001B[1;32m    534\u001B[0m     \u001B[38;5;28;01mraise\u001B[39;00m InvalidHeader(e, request\u001B[38;5;241m=\u001B[39mrequest)\n",
      "\u001B[0;31mReadTimeout\u001B[0m: HTTPSConnectionPool(host='api.genderize.io', port=443): Read timed out. (read timeout=30.0)"
     ]
    }
   ],
   "source": [
    "import pandas as pd\n",
    "from genderize import Genderize\n",
    "\n",
    "# Your Genderize API key\n",
    "api_key = '1c13aa6f943ac21b16232d1691bb6e53'\n",
    "\n",
    "# Initialize Genderize with your API key\n",
    "genderize = Genderize(api_key=api_key)\n",
    "\n",
    "# Use list comprehension to query Genderize for each name and get the gender\n",
    "# It's efficient to send names in batches if you have a lot\n",
    "genders = [genderize.get([na])[0]['gender'] for na in sub['name']]\n",
    "\n",
    "# Add the genders as a new column to the dataframe\n",
    "sub['predicted_gender'] = genders\n",
    "print(sub.head())\n"
   ],
   "metadata": {
    "collapsed": false,
    "ExecuteTime": {
     "end_time": "2024-02-02T22:45:16.765199Z",
     "start_time": "2024-02-02T21:45:21.294274Z"
    }
   },
   "id": "6aa51f6c3edc5212",
   "execution_count": 7
  },
  {
   "cell_type": "code",
   "outputs": [],
   "source": [
    "sub.to_csv(\"baby_names_2009_2020_predicted.csv\", index=False)"
   ],
   "metadata": {
    "collapsed": false,
    "ExecuteTime": {
     "start_time": "2024-02-02T22:45:16.764831Z"
    }
   },
   "id": "7192812df3e2fc78"
  },
  {
   "cell_type": "code",
   "outputs": [],
   "source": [
    "print(sub.head())"
   ],
   "metadata": {
    "collapsed": false,
    "ExecuteTime": {
     "end_time": "2024-02-02T22:45:16.771325Z",
     "start_time": "2024-02-02T22:45:16.765573Z"
    }
   },
   "id": "23a59357cfdf3324",
   "execution_count": null
  },
  {
   "cell_type": "code",
   "outputs": [
    {
     "name": "stdout",
     "output_type": "stream",
     "text": [
      "   year      name  fraction sex  rank predicted_gender\n",
      "0  2009     Jacob  0.009992   m     1             male\n",
      "1  2009  Isabella  0.011023   f     1           female\n",
      "2  2009     Ethan  0.009362   m     2             male\n",
      "3  2009      Emma  0.008846   f     2           female\n",
      "4  2009   Michael  0.008938   m     3             male\n"
     ]
    }
   ],
   "source": [
    "data = pd.read_csv(\"baby_names_2009_2020_predicted.csv\")\n",
    "print(data.head())"
   ],
   "metadata": {
    "collapsed": false,
    "ExecuteTime": {
     "end_time": "2024-02-06T18:52:28.389779Z",
     "start_time": "2024-02-06T18:52:28.270084Z"
    }
   },
   "id": "80ab4a66581d8677",
   "execution_count": 2
  },
  {
   "cell_type": "code",
   "outputs": [
    {
     "data": {
      "text/plain": "   year      name  fraction sex predicted_gender\n0  2009     Jacob  0.009992   m             male\n1  2009  Isabella  0.011023   f           female\n2  2009     Ethan  0.009362   m             male\n3  2009      Emma  0.008846   f           female\n4  2009   Michael  0.008938   m             male",
      "text/html": "<div>\n<style scoped>\n    .dataframe tbody tr th:only-of-type {\n        vertical-align: middle;\n    }\n\n    .dataframe tbody tr th {\n        vertical-align: top;\n    }\n\n    .dataframe thead th {\n        text-align: right;\n    }\n</style>\n<table border=\"1\" class=\"dataframe\">\n  <thead>\n    <tr style=\"text-align: right;\">\n      <th></th>\n      <th>year</th>\n      <th>name</th>\n      <th>fraction</th>\n      <th>sex</th>\n      <th>predicted_gender</th>\n    </tr>\n  </thead>\n  <tbody>\n    <tr>\n      <th>0</th>\n      <td>2009</td>\n      <td>Jacob</td>\n      <td>0.009992</td>\n      <td>m</td>\n      <td>male</td>\n    </tr>\n    <tr>\n      <th>1</th>\n      <td>2009</td>\n      <td>Isabella</td>\n      <td>0.011023</td>\n      <td>f</td>\n      <td>female</td>\n    </tr>\n    <tr>\n      <th>2</th>\n      <td>2009</td>\n      <td>Ethan</td>\n      <td>0.009362</td>\n      <td>m</td>\n      <td>male</td>\n    </tr>\n    <tr>\n      <th>3</th>\n      <td>2009</td>\n      <td>Emma</td>\n      <td>0.008846</td>\n      <td>f</td>\n      <td>female</td>\n    </tr>\n    <tr>\n      <th>4</th>\n      <td>2009</td>\n      <td>Michael</td>\n      <td>0.008938</td>\n      <td>m</td>\n      <td>male</td>\n    </tr>\n  </tbody>\n</table>\n</div>"
     },
     "execution_count": 3,
     "metadata": {},
     "output_type": "execute_result"
    }
   ],
   "source": [
    "data.drop(columns=[\"rank\"], inplace=True)\n",
    "data.head()\n"
   ],
   "metadata": {
    "collapsed": false,
    "ExecuteTime": {
     "end_time": "2024-02-06T18:52:51.195527Z",
     "start_time": "2024-02-06T18:52:51.168842Z"
    }
   },
   "id": "d946ff9aa84145fc",
   "execution_count": 3
  },
  {
   "cell_type": "code",
   "outputs": [],
   "source": [
    "# change sex column from m f to male female\n",
    "data['sex'] = data['sex'].replace({'m': 'male', 'f': 'female'})\n",
    "\n"
   ],
   "metadata": {
    "collapsed": false
   },
   "id": "a2b448df02674b41"
  },
  {
   "cell_type": "code",
   "outputs": [],
   "source": [],
   "metadata": {
    "collapsed": false
   },
   "id": "7cf4ab856b621b9"
  },
  {
   "cell_type": "code",
   "outputs": [
    {
     "data": {
      "text/plain": "   year     name   percent  sex predicted_gender\n0  1880     John  0.081541  boy             male\n1  1880  William  0.080511  boy             male\n2  1880    James  0.050057  boy             male\n3  1880  Charles  0.045167  boy             male\n4  1880   George  0.043292  boy             male",
      "text/html": "<div>\n<style scoped>\n    .dataframe tbody tr th:only-of-type {\n        vertical-align: middle;\n    }\n\n    .dataframe tbody tr th {\n        vertical-align: top;\n    }\n\n    .dataframe thead th {\n        text-align: right;\n    }\n</style>\n<table border=\"1\" class=\"dataframe\">\n  <thead>\n    <tr style=\"text-align: right;\">\n      <th></th>\n      <th>year</th>\n      <th>name</th>\n      <th>percent</th>\n      <th>sex</th>\n      <th>predicted_gender</th>\n    </tr>\n  </thead>\n  <tbody>\n    <tr>\n      <th>0</th>\n      <td>1880</td>\n      <td>John</td>\n      <td>0.081541</td>\n      <td>boy</td>\n      <td>male</td>\n    </tr>\n    <tr>\n      <th>1</th>\n      <td>1880</td>\n      <td>William</td>\n      <td>0.080511</td>\n      <td>boy</td>\n      <td>male</td>\n    </tr>\n    <tr>\n      <th>2</th>\n      <td>1880</td>\n      <td>James</td>\n      <td>0.050057</td>\n      <td>boy</td>\n      <td>male</td>\n    </tr>\n    <tr>\n      <th>3</th>\n      <td>1880</td>\n      <td>Charles</td>\n      <td>0.045167</td>\n      <td>boy</td>\n      <td>male</td>\n    </tr>\n    <tr>\n      <th>4</th>\n      <td>1880</td>\n      <td>George</td>\n      <td>0.043292</td>\n      <td>boy</td>\n      <td>male</td>\n    </tr>\n  </tbody>\n</table>\n</div>"
     },
     "execution_count": 45,
     "metadata": {},
     "output_type": "execute_result"
    }
   ],
   "source": [
    "prediction = pd.read_csv(\"baby-names_predicted.csv\")\n",
    "prediction.head()"
   ],
   "metadata": {
    "collapsed": false,
    "ExecuteTime": {
     "end_time": "2024-01-31T22:55:29.643935Z",
     "start_time": "2024-01-31T22:55:29.552961Z"
    }
   },
   "id": "eaf152f0a4594f18",
   "execution_count": 45
  },
  {
   "cell_type": "code",
   "outputs": [],
   "source": [],
   "metadata": {
    "collapsed": false
   },
   "id": "6526287a7eadfbf7"
  },
  {
   "cell_type": "code",
   "outputs": [
    {
     "data": {
      "text/plain": "        year     name  fraction sex rank\n272001  1880     John  0.081546   m    1\n272002  1880     Mary  0.072383   f    1\n272003  1880  William  0.080507   m    2\n272004  1880     Anna  0.026679   f    2\n272005  1880    James   0.05006   m    3",
      "text/html": "<div>\n<style scoped>\n    .dataframe tbody tr th:only-of-type {\n        vertical-align: middle;\n    }\n\n    .dataframe tbody tr th {\n        vertical-align: top;\n    }\n\n    .dataframe thead th {\n        text-align: right;\n    }\n</style>\n<table border=\"1\" class=\"dataframe\">\n  <thead>\n    <tr style=\"text-align: right;\">\n      <th></th>\n      <th>year</th>\n      <th>name</th>\n      <th>fraction</th>\n      <th>sex</th>\n      <th>rank</th>\n    </tr>\n  </thead>\n  <tbody>\n    <tr>\n      <th>272001</th>\n      <td>1880</td>\n      <td>John</td>\n      <td>0.081546</td>\n      <td>m</td>\n      <td>1</td>\n    </tr>\n    <tr>\n      <th>272002</th>\n      <td>1880</td>\n      <td>Mary</td>\n      <td>0.072383</td>\n      <td>f</td>\n      <td>1</td>\n    </tr>\n    <tr>\n      <th>272003</th>\n      <td>1880</td>\n      <td>William</td>\n      <td>0.080507</td>\n      <td>m</td>\n      <td>2</td>\n    </tr>\n    <tr>\n      <th>272004</th>\n      <td>1880</td>\n      <td>Anna</td>\n      <td>0.026679</td>\n      <td>f</td>\n      <td>2</td>\n    </tr>\n    <tr>\n      <th>272005</th>\n      <td>1880</td>\n      <td>James</td>\n      <td>0.05006</td>\n      <td>m</td>\n      <td>3</td>\n    </tr>\n  </tbody>\n</table>\n</div>"
     },
     "execution_count": 8,
     "metadata": {},
     "output_type": "execute_result"
    }
   ],
   "source": [
    "data2020 = data2020[272001:]\n",
    "data2020.head()"
   ],
   "metadata": {
    "collapsed": false,
    "ExecuteTime": {
     "end_time": "2024-01-31T21:14:01.894265Z",
     "start_time": "2024-01-31T21:14:01.881447Z"
    }
   },
   "id": "59bfa779a378bcf6",
   "execution_count": 8
  },
  {
   "cell_type": "code",
   "outputs": [
    {
     "data": {
      "text/plain": "   year     name  fraction sex rank\n0  1880     John  0.081546   m    1\n1  1880     Mary  0.072383   f    1\n2  1880  William  0.080507   m    2\n3  1880     Anna  0.026679   f    2\n4  1880    James   0.05006   m    3",
      "text/html": "<div>\n<style scoped>\n    .dataframe tbody tr th:only-of-type {\n        vertical-align: middle;\n    }\n\n    .dataframe tbody tr th {\n        vertical-align: top;\n    }\n\n    .dataframe thead th {\n        text-align: right;\n    }\n</style>\n<table border=\"1\" class=\"dataframe\">\n  <thead>\n    <tr style=\"text-align: right;\">\n      <th></th>\n      <th>year</th>\n      <th>name</th>\n      <th>fraction</th>\n      <th>sex</th>\n      <th>rank</th>\n    </tr>\n  </thead>\n  <tbody>\n    <tr>\n      <th>0</th>\n      <td>1880</td>\n      <td>John</td>\n      <td>0.081546</td>\n      <td>m</td>\n      <td>1</td>\n    </tr>\n    <tr>\n      <th>1</th>\n      <td>1880</td>\n      <td>Mary</td>\n      <td>0.072383</td>\n      <td>f</td>\n      <td>1</td>\n    </tr>\n    <tr>\n      <th>2</th>\n      <td>1880</td>\n      <td>William</td>\n      <td>0.080507</td>\n      <td>m</td>\n      <td>2</td>\n    </tr>\n    <tr>\n      <th>3</th>\n      <td>1880</td>\n      <td>Anna</td>\n      <td>0.026679</td>\n      <td>f</td>\n      <td>2</td>\n    </tr>\n    <tr>\n      <th>4</th>\n      <td>1880</td>\n      <td>James</td>\n      <td>0.05006</td>\n      <td>m</td>\n      <td>3</td>\n    </tr>\n  </tbody>\n</table>\n</div>"
     },
     "execution_count": 9,
     "metadata": {},
     "output_type": "execute_result"
    }
   ],
   "source": [
    "data2020 = data2020.reset_index(drop=True)\n",
    "data2020.head()"
   ],
   "metadata": {
    "collapsed": false,
    "ExecuteTime": {
     "end_time": "2024-01-31T21:48:01.846328Z",
     "start_time": "2024-01-31T21:48:01.804589Z"
    }
   },
   "id": "d6ae97abd4c0a691",
   "execution_count": 9
  },
  {
   "cell_type": "code",
   "outputs": [
    {
     "data": {
      "text/plain": "281992"
     },
     "execution_count": 10,
     "metadata": {},
     "output_type": "execute_result"
    }
   ],
   "source": [
    "len(data2020)"
   ],
   "metadata": {
    "collapsed": false,
    "ExecuteTime": {
     "end_time": "2024-01-31T21:48:15.355810Z",
     "start_time": "2024-01-31T21:48:15.346564Z"
    }
   },
   "id": "c65adde5a95b197b",
   "execution_count": 10
  },
  {
   "cell_type": "code",
   "outputs": [],
   "source": [],
   "metadata": {
    "collapsed": false
   },
   "id": "3dc6eba560244ed1"
  },
  {
   "cell_type": "code",
   "outputs": [],
   "source": [],
   "metadata": {
    "collapsed": false
   },
   "id": "c057779f93bffd89"
  },
  {
   "cell_type": "code",
   "outputs": [],
   "source": [],
   "metadata": {
    "collapsed": false
   },
   "id": "ea7f3b53ee864875"
  },
  {
   "cell_type": "code",
   "outputs": [
    {
     "data": {
      "text/plain": "   year     name  fraction sex  rank\n0  1880     John  0.081546   m     1\n1  1880     Mary  0.072383   f     1\n2  1880  William  0.080507   m     2\n3  1880     Anna  0.026679   f     2\n4  1880    James  0.050060   m     3",
      "text/html": "<div>\n<style scoped>\n    .dataframe tbody tr th:only-of-type {\n        vertical-align: middle;\n    }\n\n    .dataframe tbody tr th {\n        vertical-align: top;\n    }\n\n    .dataframe thead th {\n        text-align: right;\n    }\n</style>\n<table border=\"1\" class=\"dataframe\">\n  <thead>\n    <tr style=\"text-align: right;\">\n      <th></th>\n      <th>year</th>\n      <th>name</th>\n      <th>fraction</th>\n      <th>sex</th>\n      <th>rank</th>\n    </tr>\n  </thead>\n  <tbody>\n    <tr>\n      <th>0</th>\n      <td>1880</td>\n      <td>John</td>\n      <td>0.081546</td>\n      <td>m</td>\n      <td>1</td>\n    </tr>\n    <tr>\n      <th>1</th>\n      <td>1880</td>\n      <td>Mary</td>\n      <td>0.072383</td>\n      <td>f</td>\n      <td>1</td>\n    </tr>\n    <tr>\n      <th>2</th>\n      <td>1880</td>\n      <td>William</td>\n      <td>0.080507</td>\n      <td>m</td>\n      <td>2</td>\n    </tr>\n    <tr>\n      <th>3</th>\n      <td>1880</td>\n      <td>Anna</td>\n      <td>0.026679</td>\n      <td>f</td>\n      <td>2</td>\n    </tr>\n    <tr>\n      <th>4</th>\n      <td>1880</td>\n      <td>James</td>\n      <td>0.050060</td>\n      <td>m</td>\n      <td>3</td>\n    </tr>\n  </tbody>\n</table>\n</div>"
     },
     "execution_count": 15,
     "metadata": {},
     "output_type": "execute_result"
    }
   ],
   "source": [
    "data2020 = pd.read_csv(\"baby_names_1880_2020.csv\")\n",
    "data2020.head()\n"
   ],
   "metadata": {
    "collapsed": false,
    "ExecuteTime": {
     "end_time": "2024-01-31T21:57:37.377804Z",
     "start_time": "2024-01-31T21:57:37.307563Z"
    }
   },
   "id": "d7f8a45ff7f360f2",
   "execution_count": 15
  },
  {
   "cell_type": "code",
   "outputs": [],
   "source": [
    "prediction = pd.read_csv(\"baby-names_predicted.csv\")\n"
   ],
   "metadata": {
    "collapsed": false,
    "ExecuteTime": {
     "end_time": "2024-01-31T21:58:49.240081Z",
     "start_time": "2024-01-31T21:58:49.160268Z"
    }
   },
   "id": "92850ed00d574768",
   "execution_count": 18
  },
  {
   "cell_type": "code",
   "outputs": [
    {
     "data": {
      "text/plain": "   year     name   percent  sex predicted_gender\n0  1880     John  0.081541  boy             male\n1  1880  William  0.080511  boy             male\n2  1880    James  0.050057  boy             male\n3  1880  Charles  0.045167  boy             male\n4  1880   George  0.043292  boy             male",
      "text/html": "<div>\n<style scoped>\n    .dataframe tbody tr th:only-of-type {\n        vertical-align: middle;\n    }\n\n    .dataframe tbody tr th {\n        vertical-align: top;\n    }\n\n    .dataframe thead th {\n        text-align: right;\n    }\n</style>\n<table border=\"1\" class=\"dataframe\">\n  <thead>\n    <tr style=\"text-align: right;\">\n      <th></th>\n      <th>year</th>\n      <th>name</th>\n      <th>percent</th>\n      <th>sex</th>\n      <th>predicted_gender</th>\n    </tr>\n  </thead>\n  <tbody>\n    <tr>\n      <th>0</th>\n      <td>1880</td>\n      <td>John</td>\n      <td>0.081541</td>\n      <td>boy</td>\n      <td>male</td>\n    </tr>\n    <tr>\n      <th>1</th>\n      <td>1880</td>\n      <td>William</td>\n      <td>0.080511</td>\n      <td>boy</td>\n      <td>male</td>\n    </tr>\n    <tr>\n      <th>2</th>\n      <td>1880</td>\n      <td>James</td>\n      <td>0.050057</td>\n      <td>boy</td>\n      <td>male</td>\n    </tr>\n    <tr>\n      <th>3</th>\n      <td>1880</td>\n      <td>Charles</td>\n      <td>0.045167</td>\n      <td>boy</td>\n      <td>male</td>\n    </tr>\n    <tr>\n      <th>4</th>\n      <td>1880</td>\n      <td>George</td>\n      <td>0.043292</td>\n      <td>boy</td>\n      <td>male</td>\n    </tr>\n  </tbody>\n</table>\n</div>"
     },
     "execution_count": 20,
     "metadata": {},
     "output_type": "execute_result"
    }
   ],
   "source": [
    "prediction.head()"
   ],
   "metadata": {
    "collapsed": false,
    "ExecuteTime": {
     "end_time": "2024-01-31T22:02:18.128317Z",
     "start_time": "2024-01-31T22:02:18.108062Z"
    }
   },
   "id": "10295679bda9ef00",
   "execution_count": 20
  },
  {
   "cell_type": "code",
   "outputs": [
    {
     "data": {
      "text/plain": "   year     name  fraction sex  rank predicted_gender\n0  1880     John  0.081546   m     1             male\n1  1880     John  0.081546   m     1             male\n2  1880     Mary  0.072383   f     1           female\n3  1880     Mary  0.072383   f     1           female\n4  1880  William  0.080507   m     2             male",
      "text/html": "<div>\n<style scoped>\n    .dataframe tbody tr th:only-of-type {\n        vertical-align: middle;\n    }\n\n    .dataframe tbody tr th {\n        vertical-align: top;\n    }\n\n    .dataframe thead th {\n        text-align: right;\n    }\n</style>\n<table border=\"1\" class=\"dataframe\">\n  <thead>\n    <tr style=\"text-align: right;\">\n      <th></th>\n      <th>year</th>\n      <th>name</th>\n      <th>fraction</th>\n      <th>sex</th>\n      <th>rank</th>\n      <th>predicted_gender</th>\n    </tr>\n  </thead>\n  <tbody>\n    <tr>\n      <th>0</th>\n      <td>1880</td>\n      <td>John</td>\n      <td>0.081546</td>\n      <td>m</td>\n      <td>1</td>\n      <td>male</td>\n    </tr>\n    <tr>\n      <th>1</th>\n      <td>1880</td>\n      <td>John</td>\n      <td>0.081546</td>\n      <td>m</td>\n      <td>1</td>\n      <td>male</td>\n    </tr>\n    <tr>\n      <th>2</th>\n      <td>1880</td>\n      <td>Mary</td>\n      <td>0.072383</td>\n      <td>f</td>\n      <td>1</td>\n      <td>female</td>\n    </tr>\n    <tr>\n      <th>3</th>\n      <td>1880</td>\n      <td>Mary</td>\n      <td>0.072383</td>\n      <td>f</td>\n      <td>1</td>\n      <td>female</td>\n    </tr>\n    <tr>\n      <th>4</th>\n      <td>1880</td>\n      <td>William</td>\n      <td>0.080507</td>\n      <td>m</td>\n      <td>2</td>\n      <td>male</td>\n    </tr>\n  </tbody>\n</table>\n</div>"
     },
     "execution_count": 21,
     "metadata": {},
     "output_type": "execute_result"
    }
   ],
   "source": [
    "merged = pd.merge(data2020, prediction[['name', 'year', 'predicted_gender']], on=['name', 'year'], how='left')\n",
    "merged.head()"
   ],
   "metadata": {
    "collapsed": false,
    "ExecuteTime": {
     "end_time": "2024-01-31T22:02:19.632106Z",
     "start_time": "2024-01-31T22:02:19.551728Z"
    }
   },
   "id": "12168c600cfaf836",
   "execution_count": 21
  },
  {
   "cell_type": "code",
   "outputs": [
    {
     "data": {
      "text/plain": "309791"
     },
     "execution_count": 22,
     "metadata": {},
     "output_type": "execute_result"
    }
   ],
   "source": [
    "len(merged)"
   ],
   "metadata": {
    "collapsed": false,
    "ExecuteTime": {
     "end_time": "2024-01-31T22:02:38.077202Z",
     "start_time": "2024-01-31T22:02:38.067375Z"
    }
   },
   "id": "61c6721d6ded4a68",
   "execution_count": 22
  },
  {
   "cell_type": "code",
   "outputs": [
    {
     "data": {
      "text/plain": "        year       name  fraction sex  rank predicted_gender\n300000  2016      Rylee  0.001535   f   105              NaN\n300001  2016   Santiago  0.001837   m   106              NaN\n300002  2016  Valentina  0.001508   f   106              NaN\n300003  2016   Harrison  0.001809   m   107              NaN\n300004  2016     Everly  0.001497   f   107              NaN\n...      ...        ...       ...  ..   ...              ...\n309786  2020   Mazikeen  0.000144   f   998              NaN\n309787  2020    Rogelio  0.000115   m   999              NaN\n309788  2020      Belle  0.000144   f   999              NaN\n309789  2020    Ephraim  0.000114   m  1000              NaN\n309790  2020    Kadence  0.000144   f  1000              NaN\n\n[9791 rows x 6 columns]",
      "text/html": "<div>\n<style scoped>\n    .dataframe tbody tr th:only-of-type {\n        vertical-align: middle;\n    }\n\n    .dataframe tbody tr th {\n        vertical-align: top;\n    }\n\n    .dataframe thead th {\n        text-align: right;\n    }\n</style>\n<table border=\"1\" class=\"dataframe\">\n  <thead>\n    <tr style=\"text-align: right;\">\n      <th></th>\n      <th>year</th>\n      <th>name</th>\n      <th>fraction</th>\n      <th>sex</th>\n      <th>rank</th>\n      <th>predicted_gender</th>\n    </tr>\n  </thead>\n  <tbody>\n    <tr>\n      <th>300000</th>\n      <td>2016</td>\n      <td>Rylee</td>\n      <td>0.001535</td>\n      <td>f</td>\n      <td>105</td>\n      <td>NaN</td>\n    </tr>\n    <tr>\n      <th>300001</th>\n      <td>2016</td>\n      <td>Santiago</td>\n      <td>0.001837</td>\n      <td>m</td>\n      <td>106</td>\n      <td>NaN</td>\n    </tr>\n    <tr>\n      <th>300002</th>\n      <td>2016</td>\n      <td>Valentina</td>\n      <td>0.001508</td>\n      <td>f</td>\n      <td>106</td>\n      <td>NaN</td>\n    </tr>\n    <tr>\n      <th>300003</th>\n      <td>2016</td>\n      <td>Harrison</td>\n      <td>0.001809</td>\n      <td>m</td>\n      <td>107</td>\n      <td>NaN</td>\n    </tr>\n    <tr>\n      <th>300004</th>\n      <td>2016</td>\n      <td>Everly</td>\n      <td>0.001497</td>\n      <td>f</td>\n      <td>107</td>\n      <td>NaN</td>\n    </tr>\n    <tr>\n      <th>...</th>\n      <td>...</td>\n      <td>...</td>\n      <td>...</td>\n      <td>...</td>\n      <td>...</td>\n      <td>...</td>\n    </tr>\n    <tr>\n      <th>309786</th>\n      <td>2020</td>\n      <td>Mazikeen</td>\n      <td>0.000144</td>\n      <td>f</td>\n      <td>998</td>\n      <td>NaN</td>\n    </tr>\n    <tr>\n      <th>309787</th>\n      <td>2020</td>\n      <td>Rogelio</td>\n      <td>0.000115</td>\n      <td>m</td>\n      <td>999</td>\n      <td>NaN</td>\n    </tr>\n    <tr>\n      <th>309788</th>\n      <td>2020</td>\n      <td>Belle</td>\n      <td>0.000144</td>\n      <td>f</td>\n      <td>999</td>\n      <td>NaN</td>\n    </tr>\n    <tr>\n      <th>309789</th>\n      <td>2020</td>\n      <td>Ephraim</td>\n      <td>0.000114</td>\n      <td>m</td>\n      <td>1000</td>\n      <td>NaN</td>\n    </tr>\n    <tr>\n      <th>309790</th>\n      <td>2020</td>\n      <td>Kadence</td>\n      <td>0.000144</td>\n      <td>f</td>\n      <td>1000</td>\n      <td>NaN</td>\n    </tr>\n  </tbody>\n</table>\n<p>9791 rows × 6 columns</p>\n</div>"
     },
     "execution_count": 23,
     "metadata": {},
     "output_type": "execute_result"
    }
   ],
   "source": [
    "merged[300000:]"
   ],
   "metadata": {
    "collapsed": false,
    "ExecuteTime": {
     "end_time": "2024-01-31T22:04:19.123907Z",
     "start_time": "2024-01-31T22:04:19.105303Z"
    }
   },
   "id": "a4ab5772e66f015e",
   "execution_count": 23
  },
  {
   "cell_type": "code",
   "outputs": [
    {
     "data": {
      "text/plain": "2103"
     },
     "execution_count": 26,
     "metadata": {},
     "output_type": "execute_result"
    }
   ],
   "source": [
    "first_nan_index = (merged['predicted_gender'].isna()).idxmax()\n",
    "first_nan_index\n"
   ],
   "metadata": {
    "collapsed": false,
    "ExecuteTime": {
     "end_time": "2024-01-31T22:15:12.159574Z",
     "start_time": "2024-01-31T22:15:12.143437Z"
    }
   },
   "id": "2c3027d035105a00",
   "execution_count": 26
  },
  {
   "cell_type": "code",
   "outputs": [
    {
     "data": {
      "text/plain": "309791"
     },
     "execution_count": 28,
     "metadata": {},
     "output_type": "execute_result"
    }
   ],
   "source": [
    "len(merged['name'].isna())"
   ],
   "metadata": {
    "collapsed": false,
    "ExecuteTime": {
     "end_time": "2024-01-31T22:16:19.317500Z",
     "start_time": "2024-01-31T22:16:19.294818Z"
    }
   },
   "id": "bdab77b670ad0084",
   "execution_count": 28
  },
  {
   "cell_type": "code",
   "outputs": [],
   "source": [],
   "metadata": {
    "collapsed": false
   },
   "id": "5b3ccadd9e75bb41"
  },
  {
   "cell_type": "code",
   "outputs": [],
   "source": [],
   "metadata": {
    "collapsed": false
   },
   "id": "a23fe43c9e47635d"
  },
  {
   "cell_type": "code",
   "outputs": [],
   "source": [],
   "metadata": {
    "collapsed": false
   },
   "id": "773e8b13f8cd1851"
  },
  {
   "cell_type": "code",
   "outputs": [],
   "source": [
    "import pandas as pd\n",
    "from genderize import Genderize\n",
    "\n",
    "# Your Genderize API key\n",
    "api_key = '1c13aa6f943ac21b16232d1691bb6e53'\n",
    "\n",
    "# Initialize Genderize with your API key\n",
    "genderize = Genderize(api_key=api_key)\n",
    "\n",
    "# Use list comprehension to query Genderize for each name and get the gender\n",
    "# It's efficient to send names in batches if you have a lot\n",
    "genders = [genderize.get([na])[0]['gender'] for na in names['name']]\n",
    "\n",
    "# Add the genders as a new column to the dataframe\n",
    "names['predicted_gender'] = genders\n",
    "\n",
    "names.to_csv(\"baby-names_predicted.csv\", index=False)\n"
   ],
   "metadata": {
    "collapsed": false,
    "ExecuteTime": {
     "end_time": "2024-01-25T20:02:42.960618Z",
     "start_time": "2024-01-25T15:51:53.486906Z"
    }
   },
   "id": "4c1c0df654cd6d24",
   "execution_count": 18
  },
  {
   "cell_type": "code",
   "outputs": [],
   "source": [],
   "metadata": {
    "collapsed": false
   },
   "id": "1e475593e3d02342"
  },
  {
   "cell_type": "code",
   "outputs": [
    {
     "ename": "GenderizeException",
     "evalue": "('Request limit reached', 429, {'Server': 'nginx/1.16.1', 'Date': 'Thu, 25 Jan 2024 03:48:00 GMT', 'Content-Type': 'application/json', 'Content-Length': '33', 'Connection': 'keep-alive', 'access-control-allow-credentials': 'true', 'access-control-allow-origin': '*', 'access-control-expose-headers': 'x-rate-limit-limit,x-rate-limit-remaining,x-rate-limit-reset', 'cache-control': 'max-age=0, private, must-revalidate', 'x-rate-limit-limit': '100', 'x-rate-limit-remaining': '0', 'x-rate-limit-reset': '72720', 'x-request-id': 'F616ddrGYZIJPRcDIf_i'})",
     "output_type": "error",
     "traceback": [
      "\u001B[0;31m---------------------------------------------------------------------------\u001B[0m",
      "\u001B[0;31mGenderizeException\u001B[0m                        Traceback (most recent call last)",
      "Cell \u001B[0;32mIn[5], line 2\u001B[0m\n\u001B[1;32m      1\u001B[0m \u001B[38;5;28;01mfrom\u001B[39;00m \u001B[38;5;21;01mgenderize\u001B[39;00m \u001B[38;5;28;01mimport\u001B[39;00m Genderize\n\u001B[0;32m----> 2\u001B[0m \u001B[38;5;28mprint\u001B[39m(\u001B[43mGenderize\u001B[49m\u001B[43m(\u001B[49m\u001B[43m)\u001B[49m\u001B[38;5;241;43m.\u001B[39;49m\u001B[43mget\u001B[49m\u001B[43m(\u001B[49m\u001B[43m[\u001B[49m\u001B[38;5;124;43m'\u001B[39;49m\u001B[38;5;124;43mJames\u001B[39;49m\u001B[38;5;124;43m'\u001B[39;49m\u001B[43m,\u001B[49m\u001B[43m \u001B[49m\u001B[38;5;124;43m'\u001B[39;49m\u001B[38;5;124;43mEva\u001B[39;49m\u001B[38;5;124;43m'\u001B[39;49m\u001B[43m,\u001B[49m\u001B[43m \u001B[49m\u001B[38;5;124;43m'\u001B[39;49m\u001B[38;5;124;43mThunderhorse\u001B[39;49m\u001B[38;5;124;43m'\u001B[39;49m\u001B[43m]\u001B[49m\u001B[43m)\u001B[49m)\n",
      "File \u001B[0;32m~/OngoingProjects/Project4/DFMonitor/.venv/lib/python3.9/site-packages/genderize/__init__.py:96\u001B[0m, in \u001B[0;36mGenderize.get\u001B[0;34m(self, names, country_id, language_id, retheader)\u001B[0m\n\u001B[1;32m     66\u001B[0m \u001B[38;5;28;01mdef\u001B[39;00m \u001B[38;5;21mget\u001B[39m(\u001B[38;5;28mself\u001B[39m, names, country_id\u001B[38;5;241m=\u001B[39m\u001B[38;5;28;01mNone\u001B[39;00m, language_id\u001B[38;5;241m=\u001B[39m\u001B[38;5;28;01mNone\u001B[39;00m, retheader\u001B[38;5;241m=\u001B[39m\u001B[38;5;28;01mFalse\u001B[39;00m):\n\u001B[1;32m     67\u001B[0m \u001B[38;5;250m    \u001B[39m\u001B[38;5;124;03m\"\"\"\u001B[39;00m\n\u001B[1;32m     68\u001B[0m \u001B[38;5;124;03m    Look up gender for a list of names.\u001B[39;00m\n\u001B[1;32m     69\u001B[0m \u001B[38;5;124;03m    Can optionally refine search with locale info.\u001B[39;00m\n\u001B[0;32m   (...)\u001B[0m\n\u001B[1;32m     94\u001B[0m \u001B[38;5;124;03m    :raises GenderizeException: if API server returns HTTP error code.\u001B[39;00m\n\u001B[1;32m     95\u001B[0m \u001B[38;5;124;03m    \"\"\"\u001B[39;00m\n\u001B[0;32m---> 96\u001B[0m     responses \u001B[38;5;241m=\u001B[39m [\n\u001B[1;32m     97\u001B[0m         \u001B[38;5;28mself\u001B[39m\u001B[38;5;241m.\u001B[39m_get_chunk(name_chunk, country_id, language_id)\n\u001B[1;32m     98\u001B[0m         \u001B[38;5;28;01mfor\u001B[39;00m name_chunk\n\u001B[1;32m     99\u001B[0m         \u001B[38;5;129;01min\u001B[39;00m _chunked(names, Genderize\u001B[38;5;241m.\u001B[39mBATCH_SIZE)\n\u001B[1;32m    100\u001B[0m     ]\n\u001B[1;32m    101\u001B[0m     data \u001B[38;5;241m=\u001B[39m \u001B[38;5;28mlist\u001B[39m(chain\u001B[38;5;241m.\u001B[39mfrom_iterable(\n\u001B[1;32m    102\u001B[0m         response\u001B[38;5;241m.\u001B[39mdata \u001B[38;5;28;01mfor\u001B[39;00m response \u001B[38;5;129;01min\u001B[39;00m responses\n\u001B[1;32m    103\u001B[0m     ))\n\u001B[1;32m    104\u001B[0m     \u001B[38;5;28;01mif\u001B[39;00m retheader:\n",
      "File \u001B[0;32m~/OngoingProjects/Project4/DFMonitor/.venv/lib/python3.9/site-packages/genderize/__init__.py:97\u001B[0m, in \u001B[0;36m<listcomp>\u001B[0;34m(.0)\u001B[0m\n\u001B[1;32m     66\u001B[0m \u001B[38;5;28;01mdef\u001B[39;00m \u001B[38;5;21mget\u001B[39m(\u001B[38;5;28mself\u001B[39m, names, country_id\u001B[38;5;241m=\u001B[39m\u001B[38;5;28;01mNone\u001B[39;00m, language_id\u001B[38;5;241m=\u001B[39m\u001B[38;5;28;01mNone\u001B[39;00m, retheader\u001B[38;5;241m=\u001B[39m\u001B[38;5;28;01mFalse\u001B[39;00m):\n\u001B[1;32m     67\u001B[0m \u001B[38;5;250m    \u001B[39m\u001B[38;5;124;03m\"\"\"\u001B[39;00m\n\u001B[1;32m     68\u001B[0m \u001B[38;5;124;03m    Look up gender for a list of names.\u001B[39;00m\n\u001B[1;32m     69\u001B[0m \u001B[38;5;124;03m    Can optionally refine search with locale info.\u001B[39;00m\n\u001B[0;32m   (...)\u001B[0m\n\u001B[1;32m     94\u001B[0m \u001B[38;5;124;03m    :raises GenderizeException: if API server returns HTTP error code.\u001B[39;00m\n\u001B[1;32m     95\u001B[0m \u001B[38;5;124;03m    \"\"\"\u001B[39;00m\n\u001B[1;32m     96\u001B[0m     responses \u001B[38;5;241m=\u001B[39m [\n\u001B[0;32m---> 97\u001B[0m         \u001B[38;5;28;43mself\u001B[39;49m\u001B[38;5;241;43m.\u001B[39;49m\u001B[43m_get_chunk\u001B[49m\u001B[43m(\u001B[49m\u001B[43mname_chunk\u001B[49m\u001B[43m,\u001B[49m\u001B[43m \u001B[49m\u001B[43mcountry_id\u001B[49m\u001B[43m,\u001B[49m\u001B[43m \u001B[49m\u001B[43mlanguage_id\u001B[49m\u001B[43m)\u001B[49m\n\u001B[1;32m     98\u001B[0m         \u001B[38;5;28;01mfor\u001B[39;00m name_chunk\n\u001B[1;32m     99\u001B[0m         \u001B[38;5;129;01min\u001B[39;00m _chunked(names, Genderize\u001B[38;5;241m.\u001B[39mBATCH_SIZE)\n\u001B[1;32m    100\u001B[0m     ]\n\u001B[1;32m    101\u001B[0m     data \u001B[38;5;241m=\u001B[39m \u001B[38;5;28mlist\u001B[39m(chain\u001B[38;5;241m.\u001B[39mfrom_iterable(\n\u001B[1;32m    102\u001B[0m         response\u001B[38;5;241m.\u001B[39mdata \u001B[38;5;28;01mfor\u001B[39;00m response \u001B[38;5;129;01min\u001B[39;00m responses\n\u001B[1;32m    103\u001B[0m     ))\n\u001B[1;32m    104\u001B[0m     \u001B[38;5;28;01mif\u001B[39;00m retheader:\n",
      "File \u001B[0;32m~/OngoingProjects/Project4/DFMonitor/.venv/lib/python3.9/site-packages/genderize/__init__.py:149\u001B[0m, in \u001B[0;36mGenderize._get_chunk\u001B[0;34m(self, name_chunk, country_id, language_id)\u001B[0m\n\u001B[1;32m    147\u001B[0m     \u001B[38;5;28;01mreturn\u001B[39;00m _GenderizeResponse(data\u001B[38;5;241m=\u001B[39mdecoded, headers\u001B[38;5;241m=\u001B[39mresponse\u001B[38;5;241m.\u001B[39mheaders)\n\u001B[1;32m    148\u001B[0m \u001B[38;5;28;01melse\u001B[39;00m:\n\u001B[0;32m--> 149\u001B[0m     \u001B[38;5;28;01mraise\u001B[39;00m GenderizeException(\n\u001B[1;32m    150\u001B[0m         decoded[\u001B[38;5;124m'\u001B[39m\u001B[38;5;124merror\u001B[39m\u001B[38;5;124m'\u001B[39m],\n\u001B[1;32m    151\u001B[0m         response\u001B[38;5;241m.\u001B[39mstatus_code,\n\u001B[1;32m    152\u001B[0m         response\u001B[38;5;241m.\u001B[39mheaders)\n",
      "\u001B[0;31mGenderizeException\u001B[0m: ('Request limit reached', 429, {'Server': 'nginx/1.16.1', 'Date': 'Thu, 25 Jan 2024 03:48:00 GMT', 'Content-Type': 'application/json', 'Content-Length': '33', 'Connection': 'keep-alive', 'access-control-allow-credentials': 'true', 'access-control-allow-origin': '*', 'access-control-expose-headers': 'x-rate-limit-limit,x-rate-limit-remaining,x-rate-limit-reset', 'cache-control': 'max-age=0, private, must-revalidate', 'x-rate-limit-limit': '100', 'x-rate-limit-remaining': '0', 'x-rate-limit-reset': '72720', 'x-request-id': 'F616ddrGYZIJPRcDIf_i'})"
     ]
    }
   ],
   "source": [
    "from genderize import Genderize\n",
    "print(Genderize().get(['James', 'Eva', 'Thunderhorse']))"
   ],
   "metadata": {
    "collapsed": false,
    "ExecuteTime": {
     "end_time": "2024-01-25T03:48:00.454426Z",
     "start_time": "2024-01-25T03:48:00.249175Z"
    }
   },
   "id": "b23e7923fa8b8c8b",
   "execution_count": 5
  },
  {
   "cell_type": "code",
   "outputs": [
    {
     "name": "stdout",
     "output_type": "stream",
     "text": [
      "\r\n",
      "     active environment : base\r\n",
      "    active env location : /Users/jinyangli/opt/anaconda3\r\n",
      "            shell level : 1\r\n",
      "       user config file : /Users/jinyangli/.condarc\r\n",
      " populated config files : /Users/jinyangli/.condarc\r\n",
      "          conda version : 23.1.0\r\n",
      "    conda-build version : 3.22.0\r\n",
      "         python version : 3.9.13.final.0\r\n",
      "       virtual packages : __archspec=1=x86_64\r\n",
      "                          __osx=10.16=0\r\n",
      "                          __unix=0=0\r\n",
      "       base environment : /Users/jinyangli/opt/anaconda3  (writable)\r\n",
      "      conda av data dir : /Users/jinyangli/opt/anaconda3/etc/conda\r\n",
      "  conda av metadata url : None\r\n",
      "           channel URLs : https://repo.anaconda.com/pkgs/main/osx-64\r\n",
      "                          https://repo.anaconda.com/pkgs/main/noarch\r\n",
      "                          https://repo.anaconda.com/pkgs/r/osx-64\r\n",
      "                          https://repo.anaconda.com/pkgs/r/noarch\r\n",
      "          package cache : /Users/jinyangli/opt/anaconda3/pkgs\r\n",
      "                          /Users/jinyangli/.conda/pkgs\r\n",
      "       envs directories : /Users/jinyangli/opt/anaconda3/envs\r\n",
      "                          /Users/jinyangli/.conda/envs\r\n",
      "               platform : osx-64\r\n",
      "             user-agent : conda/23.1.0 requests/2.28.1 CPython/3.9.13 Darwin/23.2.0 OSX/10.16\r\n",
      "                UID:GID : 501:20\r\n",
      "             netrc file : None\r\n",
      "           offline mode : False\r\n",
      "\r\n"
     ]
    }
   ],
   "source": [
    "!conda info"
   ],
   "metadata": {
    "collapsed": false,
    "ExecuteTime": {
     "end_time": "2024-01-25T03:47:13.150251Z",
     "start_time": "2024-01-25T03:47:11.933Z"
    }
   },
   "id": "d95ae2ed27b7ed53",
   "execution_count": 14
  },
  {
   "cell_type": "code",
   "outputs": [
    {
     "name": "stdout",
     "output_type": "stream",
     "text": [
      "/Users/jinyangli/OngoingProjects/Project3/Galaxy/ImageDatasetCoverage-galaxy/venv/bin/python\n"
     ]
    }
   ],
   "source": [
    "import sys\n",
    "print(sys.executable)\n"
   ],
   "metadata": {
    "collapsed": false,
    "ExecuteTime": {
     "end_time": "2024-01-25T03:47:13.219801Z",
     "start_time": "2024-01-25T03:47:13.187471Z"
    }
   },
   "id": "39cd1faa291b1c45",
   "execution_count": 15
  },
  {
   "cell_type": "code",
   "outputs": [
    {
     "name": "stdout",
     "output_type": "stream",
     "text": [
      "Requirement already satisfied: ipykernel in /Users/jinyangli/OngoingProjects/Project4/DFMonitor/.venv/lib/python3.9/site-packages (6.29.0)\r\n",
      "Requirement already satisfied: appnope in /Users/jinyangli/OngoingProjects/Project4/DFMonitor/.venv/lib/python3.9/site-packages (from ipykernel) (0.1.3)\r\n",
      "Requirement already satisfied: comm>=0.1.1 in /Users/jinyangli/OngoingProjects/Project4/DFMonitor/.venv/lib/python3.9/site-packages (from ipykernel) (0.2.1)\r\n",
      "Requirement already satisfied: debugpy>=1.6.5 in /Users/jinyangli/OngoingProjects/Project4/DFMonitor/.venv/lib/python3.9/site-packages (from ipykernel) (1.8.0)\r\n",
      "Requirement already satisfied: ipython>=7.23.1 in /Users/jinyangli/OngoingProjects/Project4/DFMonitor/.venv/lib/python3.9/site-packages (from ipykernel) (8.18.1)\r\n",
      "Requirement already satisfied: jupyter-client>=6.1.12 in /Users/jinyangli/OngoingProjects/Project4/DFMonitor/.venv/lib/python3.9/site-packages (from ipykernel) (8.6.0)\r\n",
      "Requirement already satisfied: jupyter-core!=5.0.*,>=4.12 in /Users/jinyangli/OngoingProjects/Project4/DFMonitor/.venv/lib/python3.9/site-packages (from ipykernel) (5.7.1)\r\n",
      "Requirement already satisfied: matplotlib-inline>=0.1 in /Users/jinyangli/OngoingProjects/Project4/DFMonitor/.venv/lib/python3.9/site-packages (from ipykernel) (0.1.6)\r\n",
      "Requirement already satisfied: nest-asyncio in /Users/jinyangli/OngoingProjects/Project4/DFMonitor/.venv/lib/python3.9/site-packages (from ipykernel) (1.6.0)\r\n",
      "Requirement already satisfied: packaging in /Users/jinyangli/OngoingProjects/Project4/DFMonitor/.venv/lib/python3.9/site-packages (from ipykernel) (23.2)\r\n",
      "Requirement already satisfied: psutil in /Users/jinyangli/OngoingProjects/Project4/DFMonitor/.venv/lib/python3.9/site-packages (from ipykernel) (5.9.8)\r\n",
      "Requirement already satisfied: pyzmq>=24 in /Users/jinyangli/OngoingProjects/Project4/DFMonitor/.venv/lib/python3.9/site-packages (from ipykernel) (25.1.2)\r\n",
      "Requirement already satisfied: tornado>=6.1 in /Users/jinyangli/OngoingProjects/Project4/DFMonitor/.venv/lib/python3.9/site-packages (from ipykernel) (6.4)\r\n",
      "Requirement already satisfied: traitlets>=5.4.0 in /Users/jinyangli/OngoingProjects/Project4/DFMonitor/.venv/lib/python3.9/site-packages (from ipykernel) (5.14.1)\r\n",
      "Requirement already satisfied: decorator in /Users/jinyangli/OngoingProjects/Project4/DFMonitor/.venv/lib/python3.9/site-packages (from ipython>=7.23.1->ipykernel) (5.1.1)\r\n",
      "Requirement already satisfied: jedi>=0.16 in /Users/jinyangli/OngoingProjects/Project4/DFMonitor/.venv/lib/python3.9/site-packages (from ipython>=7.23.1->ipykernel) (0.19.1)\r\n",
      "Requirement already satisfied: prompt-toolkit<3.1.0,>=3.0.41 in /Users/jinyangli/OngoingProjects/Project4/DFMonitor/.venv/lib/python3.9/site-packages (from ipython>=7.23.1->ipykernel) (3.0.43)\r\n",
      "Requirement already satisfied: pygments>=2.4.0 in /Users/jinyangli/OngoingProjects/Project4/DFMonitor/.venv/lib/python3.9/site-packages (from ipython>=7.23.1->ipykernel) (2.17.2)\r\n",
      "Requirement already satisfied: stack-data in /Users/jinyangli/OngoingProjects/Project4/DFMonitor/.venv/lib/python3.9/site-packages (from ipython>=7.23.1->ipykernel) (0.6.3)\r\n",
      "Requirement already satisfied: typing-extensions in /Users/jinyangli/OngoingProjects/Project4/DFMonitor/.venv/lib/python3.9/site-packages (from ipython>=7.23.1->ipykernel) (4.9.0)\r\n",
      "Requirement already satisfied: exceptiongroup in /Users/jinyangli/OngoingProjects/Project4/DFMonitor/.venv/lib/python3.9/site-packages (from ipython>=7.23.1->ipykernel) (1.2.0)\r\n",
      "Requirement already satisfied: pexpect>4.3 in /Users/jinyangli/OngoingProjects/Project4/DFMonitor/.venv/lib/python3.9/site-packages (from ipython>=7.23.1->ipykernel) (4.9.0)\r\n",
      "Requirement already satisfied: importlib-metadata>=4.8.3 in /Users/jinyangli/OngoingProjects/Project4/DFMonitor/.venv/lib/python3.9/site-packages (from jupyter-client>=6.1.12->ipykernel) (7.0.1)\r\n",
      "Requirement already satisfied: python-dateutil>=2.8.2 in /Users/jinyangli/OngoingProjects/Project4/DFMonitor/.venv/lib/python3.9/site-packages (from jupyter-client>=6.1.12->ipykernel) (2.8.2)\r\n",
      "Requirement already satisfied: platformdirs>=2.5 in /Users/jinyangli/OngoingProjects/Project4/DFMonitor/.venv/lib/python3.9/site-packages (from jupyter-core!=5.0.*,>=4.12->ipykernel) (4.1.0)\r\n",
      "Requirement already satisfied: zipp>=0.5 in /Users/jinyangli/OngoingProjects/Project4/DFMonitor/.venv/lib/python3.9/site-packages (from importlib-metadata>=4.8.3->jupyter-client>=6.1.12->ipykernel) (3.17.0)\r\n",
      "Requirement already satisfied: parso<0.9.0,>=0.8.3 in /Users/jinyangli/OngoingProjects/Project4/DFMonitor/.venv/lib/python3.9/site-packages (from jedi>=0.16->ipython>=7.23.1->ipykernel) (0.8.3)\r\n",
      "Requirement already satisfied: ptyprocess>=0.5 in /Users/jinyangli/OngoingProjects/Project4/DFMonitor/.venv/lib/python3.9/site-packages (from pexpect>4.3->ipython>=7.23.1->ipykernel) (0.7.0)\r\n",
      "Requirement already satisfied: wcwidth in /Users/jinyangli/OngoingProjects/Project4/DFMonitor/.venv/lib/python3.9/site-packages (from prompt-toolkit<3.1.0,>=3.0.41->ipython>=7.23.1->ipykernel) (0.2.13)\r\n",
      "Requirement already satisfied: six>=1.5 in /Users/jinyangli/OngoingProjects/Project4/DFMonitor/.venv/lib/python3.9/site-packages (from python-dateutil>=2.8.2->jupyter-client>=6.1.12->ipykernel) (1.16.0)\r\n",
      "Requirement already satisfied: executing>=1.2.0 in /Users/jinyangli/OngoingProjects/Project4/DFMonitor/.venv/lib/python3.9/site-packages (from stack-data->ipython>=7.23.1->ipykernel) (2.0.1)\r\n",
      "Requirement already satisfied: asttokens>=2.1.0 in /Users/jinyangli/OngoingProjects/Project4/DFMonitor/.venv/lib/python3.9/site-packages (from stack-data->ipython>=7.23.1->ipykernel) (2.4.1)\r\n",
      "Requirement already satisfied: pure-eval in /Users/jinyangli/OngoingProjects/Project4/DFMonitor/.venv/lib/python3.9/site-packages (from stack-data->ipython>=7.23.1->ipykernel) (0.2.2)\r\n",
      "\r\n",
      "\u001B[1m[\u001B[0m\u001B[34;49mnotice\u001B[0m\u001B[1;39;49m]\u001B[0m\u001B[39;49m A new release of pip is available: \u001B[0m\u001B[31;49m23.2.1\u001B[0m\u001B[39;49m -> \u001B[0m\u001B[32;49m23.3.2\u001B[0m\r\n",
      "\u001B[1m[\u001B[0m\u001B[34;49mnotice\u001B[0m\u001B[1;39;49m]\u001B[0m\u001B[39;49m To update, run: \u001B[0m\u001B[32;49mpip install --upgrade pip\u001B[0m\r\n",
      "Installed kernelspec venv in /Users/jinyangli/Library/Jupyter/kernels/venv\r\n"
     ]
    }
   ],
   "source": [
    "!pip install ipykernel\n",
    "!python -m ipykernel install --user --name=venv --display-name \"PythonDFMonitor (venv)\"\n"
   ],
   "metadata": {
    "collapsed": false,
    "ExecuteTime": {
     "end_time": "2024-01-25T03:44:55.679451Z",
     "start_time": "2024-01-25T03:44:54.282084Z"
    }
   },
   "id": "84f813db69ffa91e",
   "execution_count": 10
  },
  {
   "cell_type": "code",
   "outputs": [],
   "source": [],
   "metadata": {
    "collapsed": false
   },
   "id": "234a193d8d9b4e32"
  },
  {
   "cell_type": "code",
   "outputs": [],
   "source": [],
   "metadata": {
    "collapsed": false
   },
   "id": "40e7d2be8c67a132"
  },
  {
   "cell_type": "code",
   "outputs": [
    {
     "name": "stdout",
     "output_type": "stream",
     "text": [
      "[{'count': 1204083, 'name': 'James', 'gender': 'male', 'probability': 1.0}, {'count': 413170, 'name': 'Eva', 'gender': 'female', 'probability': 0.99}, {'count': 2, 'name': 'Thunderhorse', 'gender': 'female', 'probability': 0.5}]\n"
     ]
    }
   ],
   "source": [
    "from genderize import Genderize, GenderizeException\n",
    "import time\n",
    "\n",
    "names = ['James', 'Eva', 'Thunderhorse']\n",
    "\n",
    "try:\n",
    "    genderize = Genderize(api_key='1c13aa6f943ac21b16232d1691bb6e53')\n",
    "    results = genderize.get(names)\n",
    "    print(results)\n",
    "except GenderizeException as e:\n",
    "    if '429' in str(e):\n",
    "        print(\"Request limit reached. Please try again later.\")\n",
    "    else:\n",
    "        print(f\"An error occurred: {e}\")\n"
   ],
   "metadata": {
    "collapsed": false,
    "ExecuteTime": {
     "end_time": "2024-01-25T15:43:29.407Z",
     "start_time": "2024-01-25T15:43:29.223900Z"
    }
   },
   "id": "8e041790e774688a",
   "execution_count": 8
  },
  {
   "cell_type": "code",
   "outputs": [],
   "source": [],
   "metadata": {
    "collapsed": false
   },
   "id": "487abe2d62993ad6"
  }
 ],
 "metadata": {
  "kernelspec": {
   "name": "venv",
   "language": "python",
   "display_name": "venv"
  },
  "language_info": {
   "codemirror_mode": {
    "name": "ipython",
    "version": 2
   },
   "file_extension": ".py",
   "mimetype": "text/x-python",
   "name": "python",
   "nbconvert_exporter": "python",
   "pygments_lexer": "ipython2",
   "version": "2.7.6"
  }
 },
 "nbformat": 4,
 "nbformat_minor": 5
}
